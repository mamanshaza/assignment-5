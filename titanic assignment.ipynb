{
 "cells": [
  {
   "cell_type": "code",
   "execution_count": 159,
   "id": "3981bdd3",
   "metadata": {},
   "outputs": [],
   "source": [
    "import pandas as pd\n",
    "import numpy as np\n",
    "import plotly.express as px\n"
   ]
  },
  {
   "cell_type": "code",
   "execution_count": 160,
   "id": "6a255efa",
   "metadata": {},
   "outputs": [
    {
     "data": {
      "text/html": [
       "<div>\n",
       "<style scoped>\n",
       "    .dataframe tbody tr th:only-of-type {\n",
       "        vertical-align: middle;\n",
       "    }\n",
       "\n",
       "    .dataframe tbody tr th {\n",
       "        vertical-align: top;\n",
       "    }\n",
       "\n",
       "    .dataframe thead th {\n",
       "        text-align: right;\n",
       "    }\n",
       "</style>\n",
       "<table border=\"1\" class=\"dataframe\">\n",
       "  <thead>\n",
       "    <tr style=\"text-align: right;\">\n",
       "      <th></th>\n",
       "      <th>PassengerId</th>\n",
       "      <th>Survived</th>\n",
       "      <th>Pclass</th>\n",
       "      <th>Name</th>\n",
       "      <th>Sex</th>\n",
       "      <th>Age</th>\n",
       "      <th>SibSp</th>\n",
       "      <th>Parch</th>\n",
       "      <th>Ticket</th>\n",
       "      <th>Fare</th>\n",
       "      <th>Cabin</th>\n",
       "      <th>Embarked</th>\n",
       "    </tr>\n",
       "  </thead>\n",
       "  <tbody>\n",
       "    <tr>\n",
       "      <th>0</th>\n",
       "      <td>1</td>\n",
       "      <td>0</td>\n",
       "      <td>3</td>\n",
       "      <td>Braund, Mr. Owen Harris</td>\n",
       "      <td>male</td>\n",
       "      <td>22.0</td>\n",
       "      <td>1</td>\n",
       "      <td>0</td>\n",
       "      <td>A/5 21171</td>\n",
       "      <td>7.2500</td>\n",
       "      <td>NaN</td>\n",
       "      <td>S</td>\n",
       "    </tr>\n",
       "    <tr>\n",
       "      <th>1</th>\n",
       "      <td>2</td>\n",
       "      <td>1</td>\n",
       "      <td>1</td>\n",
       "      <td>Cumings, Mrs. John Bradley (Florence Briggs Th...</td>\n",
       "      <td>female</td>\n",
       "      <td>38.0</td>\n",
       "      <td>1</td>\n",
       "      <td>0</td>\n",
       "      <td>PC 17599</td>\n",
       "      <td>71.2833</td>\n",
       "      <td>C85</td>\n",
       "      <td>C</td>\n",
       "    </tr>\n",
       "    <tr>\n",
       "      <th>2</th>\n",
       "      <td>3</td>\n",
       "      <td>1</td>\n",
       "      <td>3</td>\n",
       "      <td>Heikkinen, Miss. Laina</td>\n",
       "      <td>female</td>\n",
       "      <td>26.0</td>\n",
       "      <td>0</td>\n",
       "      <td>0</td>\n",
       "      <td>STON/O2. 3101282</td>\n",
       "      <td>7.9250</td>\n",
       "      <td>NaN</td>\n",
       "      <td>S</td>\n",
       "    </tr>\n",
       "    <tr>\n",
       "      <th>3</th>\n",
       "      <td>4</td>\n",
       "      <td>1</td>\n",
       "      <td>1</td>\n",
       "      <td>Futrelle, Mrs. Jacques Heath (Lily May Peel)</td>\n",
       "      <td>female</td>\n",
       "      <td>35.0</td>\n",
       "      <td>1</td>\n",
       "      <td>0</td>\n",
       "      <td>113803</td>\n",
       "      <td>53.1000</td>\n",
       "      <td>C123</td>\n",
       "      <td>S</td>\n",
       "    </tr>\n",
       "    <tr>\n",
       "      <th>4</th>\n",
       "      <td>5</td>\n",
       "      <td>0</td>\n",
       "      <td>3</td>\n",
       "      <td>Allen, Mr. William Henry</td>\n",
       "      <td>male</td>\n",
       "      <td>35.0</td>\n",
       "      <td>0</td>\n",
       "      <td>0</td>\n",
       "      <td>373450</td>\n",
       "      <td>8.0500</td>\n",
       "      <td>NaN</td>\n",
       "      <td>S</td>\n",
       "    </tr>\n",
       "  </tbody>\n",
       "</table>\n",
       "</div>"
      ],
      "text/plain": [
       "   PassengerId  Survived  Pclass  \\\n",
       "0            1         0       3   \n",
       "1            2         1       1   \n",
       "2            3         1       3   \n",
       "3            4         1       1   \n",
       "4            5         0       3   \n",
       "\n",
       "                                                Name     Sex   Age  SibSp  \\\n",
       "0                            Braund, Mr. Owen Harris    male  22.0      1   \n",
       "1  Cumings, Mrs. John Bradley (Florence Briggs Th...  female  38.0      1   \n",
       "2                             Heikkinen, Miss. Laina  female  26.0      0   \n",
       "3       Futrelle, Mrs. Jacques Heath (Lily May Peel)  female  35.0      1   \n",
       "4                           Allen, Mr. William Henry    male  35.0      0   \n",
       "\n",
       "   Parch            Ticket     Fare Cabin Embarked  \n",
       "0      0         A/5 21171   7.2500   NaN        S  \n",
       "1      0          PC 17599  71.2833   C85        C  \n",
       "2      0  STON/O2. 3101282   7.9250   NaN        S  \n",
       "3      0            113803  53.1000  C123        S  \n",
       "4      0            373450   8.0500   NaN        S  "
      ]
     },
     "execution_count": 160,
     "metadata": {},
     "output_type": "execute_result"
    }
   ],
   "source": [
    "df = pd.read_csv('Titanic Data.csv')\n",
    "df.head()"
   ]
  },
  {
   "cell_type": "code",
   "execution_count": 161,
   "id": "5b60517c",
   "metadata": {},
   "outputs": [
    {
     "data": {
      "text/plain": [
       "(891, 12)"
      ]
     },
     "execution_count": 161,
     "metadata": {},
     "output_type": "execute_result"
    }
   ],
   "source": [
    "df.shape"
   ]
  },
  {
   "cell_type": "code",
   "execution_count": 162,
   "id": "4b8a368c",
   "metadata": {},
   "outputs": [
    {
     "data": {
      "text/html": [
       "<div>\n",
       "<style scoped>\n",
       "    .dataframe tbody tr th:only-of-type {\n",
       "        vertical-align: middle;\n",
       "    }\n",
       "\n",
       "    .dataframe tbody tr th {\n",
       "        vertical-align: top;\n",
       "    }\n",
       "\n",
       "    .dataframe thead th {\n",
       "        text-align: right;\n",
       "    }\n",
       "</style>\n",
       "<table border=\"1\" class=\"dataframe\">\n",
       "  <thead>\n",
       "    <tr style=\"text-align: right;\">\n",
       "      <th></th>\n",
       "      <th>PassengerId</th>\n",
       "      <th>Survived</th>\n",
       "      <th>Pclass</th>\n",
       "      <th>Age</th>\n",
       "      <th>SibSp</th>\n",
       "      <th>Parch</th>\n",
       "      <th>Fare</th>\n",
       "    </tr>\n",
       "  </thead>\n",
       "  <tbody>\n",
       "    <tr>\n",
       "      <th>count</th>\n",
       "      <td>891.000000</td>\n",
       "      <td>891.000000</td>\n",
       "      <td>891.000000</td>\n",
       "      <td>714.000000</td>\n",
       "      <td>891.000000</td>\n",
       "      <td>891.000000</td>\n",
       "      <td>891.000000</td>\n",
       "    </tr>\n",
       "    <tr>\n",
       "      <th>mean</th>\n",
       "      <td>446.000000</td>\n",
       "      <td>0.383838</td>\n",
       "      <td>2.308642</td>\n",
       "      <td>29.699118</td>\n",
       "      <td>0.523008</td>\n",
       "      <td>0.381594</td>\n",
       "      <td>32.204208</td>\n",
       "    </tr>\n",
       "    <tr>\n",
       "      <th>std</th>\n",
       "      <td>257.353842</td>\n",
       "      <td>0.486592</td>\n",
       "      <td>0.836071</td>\n",
       "      <td>14.526497</td>\n",
       "      <td>1.102743</td>\n",
       "      <td>0.806057</td>\n",
       "      <td>49.693429</td>\n",
       "    </tr>\n",
       "    <tr>\n",
       "      <th>min</th>\n",
       "      <td>1.000000</td>\n",
       "      <td>0.000000</td>\n",
       "      <td>1.000000</td>\n",
       "      <td>0.420000</td>\n",
       "      <td>0.000000</td>\n",
       "      <td>0.000000</td>\n",
       "      <td>0.000000</td>\n",
       "    </tr>\n",
       "    <tr>\n",
       "      <th>25%</th>\n",
       "      <td>223.500000</td>\n",
       "      <td>0.000000</td>\n",
       "      <td>2.000000</td>\n",
       "      <td>20.125000</td>\n",
       "      <td>0.000000</td>\n",
       "      <td>0.000000</td>\n",
       "      <td>7.910400</td>\n",
       "    </tr>\n",
       "    <tr>\n",
       "      <th>50%</th>\n",
       "      <td>446.000000</td>\n",
       "      <td>0.000000</td>\n",
       "      <td>3.000000</td>\n",
       "      <td>28.000000</td>\n",
       "      <td>0.000000</td>\n",
       "      <td>0.000000</td>\n",
       "      <td>14.454200</td>\n",
       "    </tr>\n",
       "    <tr>\n",
       "      <th>75%</th>\n",
       "      <td>668.500000</td>\n",
       "      <td>1.000000</td>\n",
       "      <td>3.000000</td>\n",
       "      <td>38.000000</td>\n",
       "      <td>1.000000</td>\n",
       "      <td>0.000000</td>\n",
       "      <td>31.000000</td>\n",
       "    </tr>\n",
       "    <tr>\n",
       "      <th>max</th>\n",
       "      <td>891.000000</td>\n",
       "      <td>1.000000</td>\n",
       "      <td>3.000000</td>\n",
       "      <td>80.000000</td>\n",
       "      <td>8.000000</td>\n",
       "      <td>6.000000</td>\n",
       "      <td>512.329200</td>\n",
       "    </tr>\n",
       "  </tbody>\n",
       "</table>\n",
       "</div>"
      ],
      "text/plain": [
       "       PassengerId    Survived      Pclass         Age       SibSp  \\\n",
       "count   891.000000  891.000000  891.000000  714.000000  891.000000   \n",
       "mean    446.000000    0.383838    2.308642   29.699118    0.523008   \n",
       "std     257.353842    0.486592    0.836071   14.526497    1.102743   \n",
       "min       1.000000    0.000000    1.000000    0.420000    0.000000   \n",
       "25%     223.500000    0.000000    2.000000   20.125000    0.000000   \n",
       "50%     446.000000    0.000000    3.000000   28.000000    0.000000   \n",
       "75%     668.500000    1.000000    3.000000   38.000000    1.000000   \n",
       "max     891.000000    1.000000    3.000000   80.000000    8.000000   \n",
       "\n",
       "            Parch        Fare  \n",
       "count  891.000000  891.000000  \n",
       "mean     0.381594   32.204208  \n",
       "std      0.806057   49.693429  \n",
       "min      0.000000    0.000000  \n",
       "25%      0.000000    7.910400  \n",
       "50%      0.000000   14.454200  \n",
       "75%      0.000000   31.000000  \n",
       "max      6.000000  512.329200  "
      ]
     },
     "execution_count": 162,
     "metadata": {},
     "output_type": "execute_result"
    }
   ],
   "source": [
    "df.describe()"
   ]
  },
  {
   "cell_type": "code",
   "execution_count": 163,
   "id": "f276eda8",
   "metadata": {},
   "outputs": [
    {
     "name": "stdout",
     "output_type": "stream",
     "text": [
      "<class 'pandas.core.frame.DataFrame'>\n",
      "RangeIndex: 891 entries, 0 to 890\n",
      "Data columns (total 12 columns):\n",
      " #   Column       Non-Null Count  Dtype  \n",
      "---  ------       --------------  -----  \n",
      " 0   PassengerId  891 non-null    int64  \n",
      " 1   Survived     891 non-null    int64  \n",
      " 2   Pclass       891 non-null    int64  \n",
      " 3   Name         891 non-null    object \n",
      " 4   Sex          891 non-null    object \n",
      " 5   Age          714 non-null    float64\n",
      " 6   SibSp        891 non-null    int64  \n",
      " 7   Parch        891 non-null    int64  \n",
      " 8   Ticket       891 non-null    object \n",
      " 9   Fare         891 non-null    float64\n",
      " 10  Cabin        204 non-null    object \n",
      " 11  Embarked     889 non-null    object \n",
      "dtypes: float64(2), int64(5), object(5)\n",
      "memory usage: 83.7+ KB\n"
     ]
    }
   ],
   "source": [
    "df.info()"
   ]
  },
  {
   "cell_type": "code",
   "execution_count": 164,
   "id": "a971b880",
   "metadata": {},
   "outputs": [
    {
     "name": "stdout",
     "output_type": "stream",
     "text": [
      "PassengerId      0\n",
      "Survived         0\n",
      "Pclass           0\n",
      "Name             0\n",
      "Sex              0\n",
      "Age            177\n",
      "SibSp            0\n",
      "Parch            0\n",
      "Ticket           0\n",
      "Fare             0\n",
      "Cabin          687\n",
      "Embarked         2\n",
      "dtype: int64\n"
     ]
    }
   ],
   "source": [
    "print(df.isnull().sum())\n"
   ]
  },
  {
   "cell_type": "code",
   "execution_count": 165,
   "id": "7ea59ca4",
   "metadata": {},
   "outputs": [],
   "source": [
    "df['Age']=df['Age'].fillna((df['Age'].mean()))"
   ]
  },
  {
   "cell_type": "code",
   "execution_count": 166,
   "id": "4145e85a",
   "metadata": {},
   "outputs": [],
   "source": [
    "df['Embarked'].fillna('S', inplace=True)"
   ]
  },
  {
   "cell_type": "code",
   "execution_count": 167,
   "id": "aa40722a",
   "metadata": {},
   "outputs": [
    {
     "name": "stdout",
     "output_type": "stream",
     "text": [
      "<class 'pandas.core.frame.DataFrame'>\n",
      "RangeIndex: 891 entries, 0 to 890\n",
      "Data columns (total 9 columns):\n",
      " #   Column       Non-Null Count  Dtype  \n",
      "---  ------       --------------  -----  \n",
      " 0   PassengerId  891 non-null    int64  \n",
      " 1   Survived     891 non-null    int64  \n",
      " 2   Pclass       891 non-null    int64  \n",
      " 3   Sex          891 non-null    object \n",
      " 4   Age          891 non-null    float64\n",
      " 5   SibSp        891 non-null    int64  \n",
      " 6   Parch        891 non-null    int64  \n",
      " 7   Fare         891 non-null    float64\n",
      " 8   Embarked     891 non-null    object \n",
      "dtypes: float64(2), int64(5), object(2)\n",
      "memory usage: 62.8+ KB\n"
     ]
    }
   ],
   "source": [
    "#Remove un-wanted columns\n",
    "#Since the Cabin, Name and Ticket numbers are not required in this analysis I will remove them to improve the speed of processing the dataframe.\n",
    "\n",
    "# dropping columns Cabin, Name and Ticket\n",
    "df = df.drop(['Cabin','Name','Ticket'], axis=1)\n",
    "df.info()"
   ]
  },
  {
   "cell_type": "code",
   "execution_count": 168,
   "id": "c0afd05a",
   "metadata": {},
   "outputs": [
    {
     "name": "stdout",
     "output_type": "stream",
     "text": [
      "PassengerId    0\n",
      "Survived       0\n",
      "Pclass         0\n",
      "Sex            0\n",
      "Age            0\n",
      "SibSp          0\n",
      "Parch          0\n",
      "Fare           0\n",
      "Embarked       0\n",
      "dtype: int64\n"
     ]
    }
   ],
   "source": [
    "print(df.isnull().sum())"
   ]
  },
  {
   "cell_type": "code",
   "execution_count": 169,
   "id": "3d304f64",
   "metadata": {},
   "outputs": [
    {
     "data": {
      "text/html": [
       "<div>\n",
       "<style scoped>\n",
       "    .dataframe tbody tr th:only-of-type {\n",
       "        vertical-align: middle;\n",
       "    }\n",
       "\n",
       "    .dataframe tbody tr th {\n",
       "        vertical-align: top;\n",
       "    }\n",
       "\n",
       "    .dataframe thead th {\n",
       "        text-align: right;\n",
       "    }\n",
       "</style>\n",
       "<table border=\"1\" class=\"dataframe\">\n",
       "  <thead>\n",
       "    <tr style=\"text-align: right;\">\n",
       "      <th></th>\n",
       "      <th>PassengerId</th>\n",
       "      <th>Survived</th>\n",
       "      <th>Pclass</th>\n",
       "      <th>Sex</th>\n",
       "      <th>Age</th>\n",
       "      <th>SibSp</th>\n",
       "      <th>Parch</th>\n",
       "      <th>Fare</th>\n",
       "      <th>Embarked</th>\n",
       "    </tr>\n",
       "  </thead>\n",
       "  <tbody>\n",
       "    <tr>\n",
       "      <th>0</th>\n",
       "      <td>1</td>\n",
       "      <td>0</td>\n",
       "      <td>3</td>\n",
       "      <td>male</td>\n",
       "      <td>22.0</td>\n",
       "      <td>1</td>\n",
       "      <td>0</td>\n",
       "      <td>7.2500</td>\n",
       "      <td>S</td>\n",
       "    </tr>\n",
       "    <tr>\n",
       "      <th>1</th>\n",
       "      <td>2</td>\n",
       "      <td>1</td>\n",
       "      <td>1</td>\n",
       "      <td>female</td>\n",
       "      <td>38.0</td>\n",
       "      <td>1</td>\n",
       "      <td>0</td>\n",
       "      <td>71.2833</td>\n",
       "      <td>C</td>\n",
       "    </tr>\n",
       "    <tr>\n",
       "      <th>2</th>\n",
       "      <td>3</td>\n",
       "      <td>1</td>\n",
       "      <td>3</td>\n",
       "      <td>female</td>\n",
       "      <td>26.0</td>\n",
       "      <td>0</td>\n",
       "      <td>0</td>\n",
       "      <td>7.9250</td>\n",
       "      <td>S</td>\n",
       "    </tr>\n",
       "    <tr>\n",
       "      <th>3</th>\n",
       "      <td>4</td>\n",
       "      <td>1</td>\n",
       "      <td>1</td>\n",
       "      <td>female</td>\n",
       "      <td>35.0</td>\n",
       "      <td>1</td>\n",
       "      <td>0</td>\n",
       "      <td>53.1000</td>\n",
       "      <td>S</td>\n",
       "    </tr>\n",
       "    <tr>\n",
       "      <th>4</th>\n",
       "      <td>5</td>\n",
       "      <td>0</td>\n",
       "      <td>3</td>\n",
       "      <td>male</td>\n",
       "      <td>35.0</td>\n",
       "      <td>0</td>\n",
       "      <td>0</td>\n",
       "      <td>8.0500</td>\n",
       "      <td>S</td>\n",
       "    </tr>\n",
       "  </tbody>\n",
       "</table>\n",
       "</div>"
      ],
      "text/plain": [
       "   PassengerId  Survived  Pclass     Sex   Age  SibSp  Parch     Fare Embarked\n",
       "0            1         0       3    male  22.0      1      0   7.2500        S\n",
       "1            2         1       1  female  38.0      1      0  71.2833        C\n",
       "2            3         1       3  female  26.0      0      0   7.9250        S\n",
       "3            4         1       1  female  35.0      1      0  53.1000        S\n",
       "4            5         0       3    male  35.0      0      0   8.0500        S"
      ]
     },
     "execution_count": 169,
     "metadata": {},
     "output_type": "execute_result"
    }
   ],
   "source": [
    "df.head()"
   ]
  },
  {
   "cell_type": "code",
   "execution_count": 170,
   "id": "06b95052",
   "metadata": {},
   "outputs": [
    {
     "data": {
      "application/vnd.plotly.v1+json": {
       "config": {
        "plotlyServerURL": "https://plot.ly"
       },
       "data": [
        {
         "alignmentgroup": "True",
         "bingroup": "x",
         "hovertemplate": "Age=%{x}<br>count=%{y}<extra></extra>",
         "legendgroup": "",
         "marker": {
          "color": "#636efa",
          "pattern": {
           "shape": ""
          }
         },
         "name": "",
         "nbinsx": 20,
         "offsetgroup": "",
         "orientation": "v",
         "showlegend": false,
         "type": "histogram",
         "x": [
          22,
          38,
          26,
          35,
          35,
          29.69911764705882,
          54,
          2,
          27,
          14,
          4,
          58,
          20,
          39,
          14,
          55,
          2,
          29.69911764705882,
          31,
          29.69911764705882,
          35,
          34,
          15,
          28,
          8,
          38,
          29.69911764705882,
          19,
          29.69911764705882,
          29.69911764705882,
          40,
          29.69911764705882,
          29.69911764705882,
          66,
          28,
          42,
          29.69911764705882,
          21,
          18,
          14,
          40,
          27,
          29.69911764705882,
          3,
          19,
          29.69911764705882,
          29.69911764705882,
          29.69911764705882,
          29.69911764705882,
          18,
          7,
          21,
          49,
          29,
          65,
          29.69911764705882,
          21,
          28.5,
          5,
          11,
          22,
          38,
          45,
          4,
          29.69911764705882,
          29.69911764705882,
          29,
          19,
          17,
          26,
          32,
          16,
          21,
          26,
          32,
          25,
          29.69911764705882,
          29.69911764705882,
          0.83,
          30,
          22,
          29,
          29.69911764705882,
          28,
          17,
          33,
          16,
          29.69911764705882,
          23,
          24,
          29,
          20,
          46,
          26,
          59,
          29.69911764705882,
          71,
          23,
          34,
          34,
          28,
          29.69911764705882,
          21,
          33,
          37,
          28,
          21,
          29.69911764705882,
          38,
          29.69911764705882,
          47,
          14.5,
          22,
          20,
          17,
          21,
          70.5,
          29,
          24,
          2,
          21,
          29.69911764705882,
          32.5,
          32.5,
          54,
          12,
          29.69911764705882,
          24,
          29.69911764705882,
          45,
          33,
          20,
          47,
          29,
          25,
          23,
          19,
          37,
          16,
          24,
          29.69911764705882,
          22,
          24,
          19,
          18,
          19,
          27,
          9,
          36.5,
          42,
          51,
          22,
          55.5,
          40.5,
          29.69911764705882,
          51,
          16,
          30,
          29.69911764705882,
          29.69911764705882,
          44,
          40,
          26,
          17,
          1,
          9,
          29.69911764705882,
          45,
          29.69911764705882,
          28,
          61,
          4,
          1,
          21,
          56,
          18,
          29.69911764705882,
          50,
          30,
          36,
          29.69911764705882,
          29.69911764705882,
          9,
          1,
          4,
          29.69911764705882,
          29.69911764705882,
          45,
          40,
          36,
          32,
          19,
          19,
          3,
          44,
          58,
          29.69911764705882,
          42,
          29.69911764705882,
          24,
          28,
          29.69911764705882,
          34,
          45.5,
          18,
          2,
          32,
          26,
          16,
          40,
          24,
          35,
          22,
          30,
          29.69911764705882,
          31,
          27,
          42,
          32,
          30,
          16,
          27,
          51,
          29.69911764705882,
          38,
          22,
          19,
          20.5,
          18,
          29.69911764705882,
          35,
          29,
          59,
          5,
          24,
          29.69911764705882,
          44,
          8,
          19,
          33,
          29.69911764705882,
          29.69911764705882,
          29,
          22,
          30,
          44,
          25,
          24,
          37,
          54,
          29.69911764705882,
          29,
          62,
          30,
          41,
          29,
          29.69911764705882,
          30,
          35,
          50,
          29.69911764705882,
          3,
          52,
          40,
          29.69911764705882,
          36,
          16,
          25,
          58,
          35,
          29.69911764705882,
          25,
          41,
          37,
          29.69911764705882,
          63,
          45,
          29.69911764705882,
          7,
          35,
          65,
          28,
          16,
          19,
          29.69911764705882,
          33,
          30,
          22,
          42,
          22,
          26,
          19,
          36,
          24,
          24,
          29.69911764705882,
          23.5,
          2,
          29.69911764705882,
          50,
          29.69911764705882,
          29.69911764705882,
          19,
          29.69911764705882,
          29.69911764705882,
          0.92,
          29.69911764705882,
          17,
          30,
          30,
          24,
          18,
          26,
          28,
          43,
          26,
          24,
          54,
          31,
          40,
          22,
          27,
          30,
          22,
          29.69911764705882,
          36,
          61,
          36,
          31,
          16,
          29.69911764705882,
          45.5,
          38,
          16,
          29.69911764705882,
          29.69911764705882,
          29,
          41,
          45,
          45,
          2,
          24,
          28,
          25,
          36,
          24,
          40,
          29.69911764705882,
          3,
          42,
          23,
          29.69911764705882,
          15,
          25,
          29.69911764705882,
          28,
          22,
          38,
          29.69911764705882,
          29.69911764705882,
          40,
          29,
          45,
          35,
          29.69911764705882,
          30,
          60,
          29.69911764705882,
          29.69911764705882,
          24,
          25,
          18,
          19,
          22,
          3,
          29.69911764705882,
          22,
          27,
          20,
          19,
          42,
          1,
          32,
          35,
          29.69911764705882,
          18,
          1,
          36,
          29.69911764705882,
          17,
          36,
          21,
          28,
          23,
          24,
          22,
          31,
          46,
          23,
          28,
          39,
          26,
          21,
          28,
          20,
          34,
          51,
          3,
          21,
          29.69911764705882,
          29.69911764705882,
          29.69911764705882,
          33,
          29.69911764705882,
          44,
          29.69911764705882,
          34,
          18,
          30,
          10,
          29.69911764705882,
          21,
          29,
          28,
          18,
          29.69911764705882,
          28,
          19,
          29.69911764705882,
          32,
          28,
          29.69911764705882,
          42,
          17,
          50,
          14,
          21,
          24,
          64,
          31,
          45,
          20,
          25,
          28,
          29.69911764705882,
          4,
          13,
          34,
          5,
          52,
          36,
          29.69911764705882,
          30,
          49,
          29.69911764705882,
          29,
          65,
          29.69911764705882,
          50,
          29.69911764705882,
          48,
          34,
          47,
          48,
          29.69911764705882,
          38,
          29.69911764705882,
          56,
          29.69911764705882,
          0.75,
          29.69911764705882,
          38,
          33,
          23,
          22,
          29.69911764705882,
          34,
          29,
          22,
          2,
          9,
          29.69911764705882,
          50,
          63,
          25,
          29.69911764705882,
          35,
          58,
          30,
          9,
          29.69911764705882,
          21,
          55,
          71,
          21,
          29.69911764705882,
          54,
          29.69911764705882,
          25,
          24,
          17,
          21,
          29.69911764705882,
          37,
          16,
          18,
          33,
          29.69911764705882,
          28,
          26,
          29,
          29.69911764705882,
          36,
          54,
          24,
          47,
          34,
          29.69911764705882,
          36,
          32,
          30,
          22,
          29.69911764705882,
          44,
          29.69911764705882,
          40.5,
          50,
          29.69911764705882,
          39,
          23,
          2,
          29.69911764705882,
          17,
          29.69911764705882,
          30,
          7,
          45,
          30,
          29.69911764705882,
          22,
          36,
          9,
          11,
          32,
          50,
          64,
          19,
          29.69911764705882,
          33,
          8,
          17,
          27,
          29.69911764705882,
          22,
          22,
          62,
          48,
          29.69911764705882,
          39,
          36,
          29.69911764705882,
          40,
          28,
          29.69911764705882,
          29.69911764705882,
          24,
          19,
          29,
          29.69911764705882,
          32,
          62,
          53,
          36,
          29.69911764705882,
          16,
          19,
          34,
          39,
          29.69911764705882,
          32,
          25,
          39,
          54,
          36,
          29.69911764705882,
          18,
          47,
          60,
          22,
          29.69911764705882,
          35,
          52,
          47,
          29.69911764705882,
          37,
          36,
          29.69911764705882,
          49,
          29.69911764705882,
          49,
          24,
          29.69911764705882,
          29.69911764705882,
          44,
          35,
          36,
          30,
          27,
          22,
          40,
          39,
          29.69911764705882,
          29.69911764705882,
          29.69911764705882,
          35,
          24,
          34,
          26,
          4,
          26,
          27,
          42,
          20,
          21,
          21,
          61,
          57,
          21,
          26,
          29.69911764705882,
          80,
          51,
          32,
          29.69911764705882,
          9,
          28,
          32,
          31,
          41,
          29.69911764705882,
          20,
          24,
          2,
          29.69911764705882,
          0.75,
          48,
          19,
          56,
          29.69911764705882,
          23,
          29.69911764705882,
          18,
          21,
          29.69911764705882,
          18,
          24,
          29.69911764705882,
          32,
          23,
          58,
          50,
          40,
          47,
          36,
          20,
          32,
          25,
          29.69911764705882,
          43,
          29.69911764705882,
          40,
          31,
          70,
          31,
          29.69911764705882,
          18,
          24.5,
          18,
          43,
          36,
          29.69911764705882,
          27,
          20,
          14,
          60,
          25,
          14,
          19,
          18,
          15,
          31,
          4,
          29.69911764705882,
          25,
          60,
          52,
          44,
          29.69911764705882,
          49,
          42,
          18,
          35,
          18,
          25,
          26,
          39,
          45,
          42,
          22,
          29.69911764705882,
          24,
          29.69911764705882,
          48,
          29,
          52,
          19,
          38,
          27,
          29.69911764705882,
          33,
          6,
          17,
          34,
          50,
          27,
          20,
          30,
          29.69911764705882,
          25,
          25,
          29,
          11,
          29.69911764705882,
          23,
          23,
          28.5,
          48,
          35,
          29.69911764705882,
          29.69911764705882,
          29.69911764705882,
          36,
          21,
          24,
          31,
          70,
          16,
          30,
          19,
          31,
          4,
          6,
          33,
          23,
          48,
          0.67,
          28,
          18,
          34,
          33,
          29.69911764705882,
          41,
          20,
          36,
          16,
          51,
          29.69911764705882,
          30.5,
          29.69911764705882,
          32,
          24,
          48,
          57,
          29.69911764705882,
          54,
          18,
          29.69911764705882,
          5,
          29.69911764705882,
          43,
          13,
          17,
          29,
          29.69911764705882,
          25,
          25,
          18,
          8,
          1,
          46,
          29.69911764705882,
          16,
          29.69911764705882,
          29.69911764705882,
          25,
          39,
          49,
          31,
          30,
          30,
          34,
          31,
          11,
          0.42,
          27,
          31,
          39,
          18,
          39,
          33,
          26,
          39,
          35,
          6,
          30.5,
          29.69911764705882,
          23,
          31,
          43,
          10,
          52,
          27,
          38,
          27,
          2,
          29.69911764705882,
          29.69911764705882,
          1,
          29.69911764705882,
          62,
          15,
          0.83,
          29.69911764705882,
          23,
          18,
          39,
          21,
          29.69911764705882,
          32,
          29.69911764705882,
          20,
          16,
          30,
          34.5,
          17,
          42,
          29.69911764705882,
          35,
          28,
          29.69911764705882,
          4,
          74,
          9,
          16,
          44,
          18,
          45,
          51,
          24,
          29.69911764705882,
          41,
          21,
          48,
          29.69911764705882,
          24,
          42,
          27,
          31,
          29.69911764705882,
          4,
          26,
          47,
          33,
          47,
          28,
          15,
          20,
          19,
          29.69911764705882,
          56,
          25,
          33,
          22,
          28,
          25,
          39,
          27,
          19,
          29.69911764705882,
          26,
          32
         ],
         "xaxis": "x",
         "yaxis": "y"
        }
       ],
       "layout": {
        "barmode": "relative",
        "legend": {
         "tracegroupgap": 0
        },
        "template": {
         "data": {
          "bar": [
           {
            "error_x": {
             "color": "#2a3f5f"
            },
            "error_y": {
             "color": "#2a3f5f"
            },
            "marker": {
             "line": {
              "color": "#E5ECF6",
              "width": 0.5
             },
             "pattern": {
              "fillmode": "overlay",
              "size": 10,
              "solidity": 0.2
             }
            },
            "type": "bar"
           }
          ],
          "barpolar": [
           {
            "marker": {
             "line": {
              "color": "#E5ECF6",
              "width": 0.5
             },
             "pattern": {
              "fillmode": "overlay",
              "size": 10,
              "solidity": 0.2
             }
            },
            "type": "barpolar"
           }
          ],
          "carpet": [
           {
            "aaxis": {
             "endlinecolor": "#2a3f5f",
             "gridcolor": "white",
             "linecolor": "white",
             "minorgridcolor": "white",
             "startlinecolor": "#2a3f5f"
            },
            "baxis": {
             "endlinecolor": "#2a3f5f",
             "gridcolor": "white",
             "linecolor": "white",
             "minorgridcolor": "white",
             "startlinecolor": "#2a3f5f"
            },
            "type": "carpet"
           }
          ],
          "choropleth": [
           {
            "colorbar": {
             "outlinewidth": 0,
             "ticks": ""
            },
            "type": "choropleth"
           }
          ],
          "contour": [
           {
            "colorbar": {
             "outlinewidth": 0,
             "ticks": ""
            },
            "colorscale": [
             [
              0,
              "#0d0887"
             ],
             [
              0.1111111111111111,
              "#46039f"
             ],
             [
              0.2222222222222222,
              "#7201a8"
             ],
             [
              0.3333333333333333,
              "#9c179e"
             ],
             [
              0.4444444444444444,
              "#bd3786"
             ],
             [
              0.5555555555555556,
              "#d8576b"
             ],
             [
              0.6666666666666666,
              "#ed7953"
             ],
             [
              0.7777777777777778,
              "#fb9f3a"
             ],
             [
              0.8888888888888888,
              "#fdca26"
             ],
             [
              1,
              "#f0f921"
             ]
            ],
            "type": "contour"
           }
          ],
          "contourcarpet": [
           {
            "colorbar": {
             "outlinewidth": 0,
             "ticks": ""
            },
            "type": "contourcarpet"
           }
          ],
          "heatmap": [
           {
            "colorbar": {
             "outlinewidth": 0,
             "ticks": ""
            },
            "colorscale": [
             [
              0,
              "#0d0887"
             ],
             [
              0.1111111111111111,
              "#46039f"
             ],
             [
              0.2222222222222222,
              "#7201a8"
             ],
             [
              0.3333333333333333,
              "#9c179e"
             ],
             [
              0.4444444444444444,
              "#bd3786"
             ],
             [
              0.5555555555555556,
              "#d8576b"
             ],
             [
              0.6666666666666666,
              "#ed7953"
             ],
             [
              0.7777777777777778,
              "#fb9f3a"
             ],
             [
              0.8888888888888888,
              "#fdca26"
             ],
             [
              1,
              "#f0f921"
             ]
            ],
            "type": "heatmap"
           }
          ],
          "heatmapgl": [
           {
            "colorbar": {
             "outlinewidth": 0,
             "ticks": ""
            },
            "colorscale": [
             [
              0,
              "#0d0887"
             ],
             [
              0.1111111111111111,
              "#46039f"
             ],
             [
              0.2222222222222222,
              "#7201a8"
             ],
             [
              0.3333333333333333,
              "#9c179e"
             ],
             [
              0.4444444444444444,
              "#bd3786"
             ],
             [
              0.5555555555555556,
              "#d8576b"
             ],
             [
              0.6666666666666666,
              "#ed7953"
             ],
             [
              0.7777777777777778,
              "#fb9f3a"
             ],
             [
              0.8888888888888888,
              "#fdca26"
             ],
             [
              1,
              "#f0f921"
             ]
            ],
            "type": "heatmapgl"
           }
          ],
          "histogram": [
           {
            "marker": {
             "pattern": {
              "fillmode": "overlay",
              "size": 10,
              "solidity": 0.2
             }
            },
            "type": "histogram"
           }
          ],
          "histogram2d": [
           {
            "colorbar": {
             "outlinewidth": 0,
             "ticks": ""
            },
            "colorscale": [
             [
              0,
              "#0d0887"
             ],
             [
              0.1111111111111111,
              "#46039f"
             ],
             [
              0.2222222222222222,
              "#7201a8"
             ],
             [
              0.3333333333333333,
              "#9c179e"
             ],
             [
              0.4444444444444444,
              "#bd3786"
             ],
             [
              0.5555555555555556,
              "#d8576b"
             ],
             [
              0.6666666666666666,
              "#ed7953"
             ],
             [
              0.7777777777777778,
              "#fb9f3a"
             ],
             [
              0.8888888888888888,
              "#fdca26"
             ],
             [
              1,
              "#f0f921"
             ]
            ],
            "type": "histogram2d"
           }
          ],
          "histogram2dcontour": [
           {
            "colorbar": {
             "outlinewidth": 0,
             "ticks": ""
            },
            "colorscale": [
             [
              0,
              "#0d0887"
             ],
             [
              0.1111111111111111,
              "#46039f"
             ],
             [
              0.2222222222222222,
              "#7201a8"
             ],
             [
              0.3333333333333333,
              "#9c179e"
             ],
             [
              0.4444444444444444,
              "#bd3786"
             ],
             [
              0.5555555555555556,
              "#d8576b"
             ],
             [
              0.6666666666666666,
              "#ed7953"
             ],
             [
              0.7777777777777778,
              "#fb9f3a"
             ],
             [
              0.8888888888888888,
              "#fdca26"
             ],
             [
              1,
              "#f0f921"
             ]
            ],
            "type": "histogram2dcontour"
           }
          ],
          "mesh3d": [
           {
            "colorbar": {
             "outlinewidth": 0,
             "ticks": ""
            },
            "type": "mesh3d"
           }
          ],
          "parcoords": [
           {
            "line": {
             "colorbar": {
              "outlinewidth": 0,
              "ticks": ""
             }
            },
            "type": "parcoords"
           }
          ],
          "pie": [
           {
            "automargin": true,
            "type": "pie"
           }
          ],
          "scatter": [
           {
            "marker": {
             "colorbar": {
              "outlinewidth": 0,
              "ticks": ""
             }
            },
            "type": "scatter"
           }
          ],
          "scatter3d": [
           {
            "line": {
             "colorbar": {
              "outlinewidth": 0,
              "ticks": ""
             }
            },
            "marker": {
             "colorbar": {
              "outlinewidth": 0,
              "ticks": ""
             }
            },
            "type": "scatter3d"
           }
          ],
          "scattercarpet": [
           {
            "marker": {
             "colorbar": {
              "outlinewidth": 0,
              "ticks": ""
             }
            },
            "type": "scattercarpet"
           }
          ],
          "scattergeo": [
           {
            "marker": {
             "colorbar": {
              "outlinewidth": 0,
              "ticks": ""
             }
            },
            "type": "scattergeo"
           }
          ],
          "scattergl": [
           {
            "marker": {
             "colorbar": {
              "outlinewidth": 0,
              "ticks": ""
             }
            },
            "type": "scattergl"
           }
          ],
          "scattermapbox": [
           {
            "marker": {
             "colorbar": {
              "outlinewidth": 0,
              "ticks": ""
             }
            },
            "type": "scattermapbox"
           }
          ],
          "scatterpolar": [
           {
            "marker": {
             "colorbar": {
              "outlinewidth": 0,
              "ticks": ""
             }
            },
            "type": "scatterpolar"
           }
          ],
          "scatterpolargl": [
           {
            "marker": {
             "colorbar": {
              "outlinewidth": 0,
              "ticks": ""
             }
            },
            "type": "scatterpolargl"
           }
          ],
          "scatterternary": [
           {
            "marker": {
             "colorbar": {
              "outlinewidth": 0,
              "ticks": ""
             }
            },
            "type": "scatterternary"
           }
          ],
          "surface": [
           {
            "colorbar": {
             "outlinewidth": 0,
             "ticks": ""
            },
            "colorscale": [
             [
              0,
              "#0d0887"
             ],
             [
              0.1111111111111111,
              "#46039f"
             ],
             [
              0.2222222222222222,
              "#7201a8"
             ],
             [
              0.3333333333333333,
              "#9c179e"
             ],
             [
              0.4444444444444444,
              "#bd3786"
             ],
             [
              0.5555555555555556,
              "#d8576b"
             ],
             [
              0.6666666666666666,
              "#ed7953"
             ],
             [
              0.7777777777777778,
              "#fb9f3a"
             ],
             [
              0.8888888888888888,
              "#fdca26"
             ],
             [
              1,
              "#f0f921"
             ]
            ],
            "type": "surface"
           }
          ],
          "table": [
           {
            "cells": {
             "fill": {
              "color": "#EBF0F8"
             },
             "line": {
              "color": "white"
             }
            },
            "header": {
             "fill": {
              "color": "#C8D4E3"
             },
             "line": {
              "color": "white"
             }
            },
            "type": "table"
           }
          ]
         },
         "layout": {
          "annotationdefaults": {
           "arrowcolor": "#2a3f5f",
           "arrowhead": 0,
           "arrowwidth": 1
          },
          "autotypenumbers": "strict",
          "coloraxis": {
           "colorbar": {
            "outlinewidth": 0,
            "ticks": ""
           }
          },
          "colorscale": {
           "diverging": [
            [
             0,
             "#8e0152"
            ],
            [
             0.1,
             "#c51b7d"
            ],
            [
             0.2,
             "#de77ae"
            ],
            [
             0.3,
             "#f1b6da"
            ],
            [
             0.4,
             "#fde0ef"
            ],
            [
             0.5,
             "#f7f7f7"
            ],
            [
             0.6,
             "#e6f5d0"
            ],
            [
             0.7,
             "#b8e186"
            ],
            [
             0.8,
             "#7fbc41"
            ],
            [
             0.9,
             "#4d9221"
            ],
            [
             1,
             "#276419"
            ]
           ],
           "sequential": [
            [
             0,
             "#0d0887"
            ],
            [
             0.1111111111111111,
             "#46039f"
            ],
            [
             0.2222222222222222,
             "#7201a8"
            ],
            [
             0.3333333333333333,
             "#9c179e"
            ],
            [
             0.4444444444444444,
             "#bd3786"
            ],
            [
             0.5555555555555556,
             "#d8576b"
            ],
            [
             0.6666666666666666,
             "#ed7953"
            ],
            [
             0.7777777777777778,
             "#fb9f3a"
            ],
            [
             0.8888888888888888,
             "#fdca26"
            ],
            [
             1,
             "#f0f921"
            ]
           ],
           "sequentialminus": [
            [
             0,
             "#0d0887"
            ],
            [
             0.1111111111111111,
             "#46039f"
            ],
            [
             0.2222222222222222,
             "#7201a8"
            ],
            [
             0.3333333333333333,
             "#9c179e"
            ],
            [
             0.4444444444444444,
             "#bd3786"
            ],
            [
             0.5555555555555556,
             "#d8576b"
            ],
            [
             0.6666666666666666,
             "#ed7953"
            ],
            [
             0.7777777777777778,
             "#fb9f3a"
            ],
            [
             0.8888888888888888,
             "#fdca26"
            ],
            [
             1,
             "#f0f921"
            ]
           ]
          },
          "colorway": [
           "#636efa",
           "#EF553B",
           "#00cc96",
           "#ab63fa",
           "#FFA15A",
           "#19d3f3",
           "#FF6692",
           "#B6E880",
           "#FF97FF",
           "#FECB52"
          ],
          "font": {
           "color": "#2a3f5f"
          },
          "geo": {
           "bgcolor": "white",
           "lakecolor": "white",
           "landcolor": "#E5ECF6",
           "showlakes": true,
           "showland": true,
           "subunitcolor": "white"
          },
          "hoverlabel": {
           "align": "left"
          },
          "hovermode": "closest",
          "mapbox": {
           "style": "light"
          },
          "paper_bgcolor": "white",
          "plot_bgcolor": "#E5ECF6",
          "polar": {
           "angularaxis": {
            "gridcolor": "white",
            "linecolor": "white",
            "ticks": ""
           },
           "bgcolor": "#E5ECF6",
           "radialaxis": {
            "gridcolor": "white",
            "linecolor": "white",
            "ticks": ""
           }
          },
          "scene": {
           "xaxis": {
            "backgroundcolor": "#E5ECF6",
            "gridcolor": "white",
            "gridwidth": 2,
            "linecolor": "white",
            "showbackground": true,
            "ticks": "",
            "zerolinecolor": "white"
           },
           "yaxis": {
            "backgroundcolor": "#E5ECF6",
            "gridcolor": "white",
            "gridwidth": 2,
            "linecolor": "white",
            "showbackground": true,
            "ticks": "",
            "zerolinecolor": "white"
           },
           "zaxis": {
            "backgroundcolor": "#E5ECF6",
            "gridcolor": "white",
            "gridwidth": 2,
            "linecolor": "white",
            "showbackground": true,
            "ticks": "",
            "zerolinecolor": "white"
           }
          },
          "shapedefaults": {
           "line": {
            "color": "#2a3f5f"
           }
          },
          "ternary": {
           "aaxis": {
            "gridcolor": "white",
            "linecolor": "white",
            "ticks": ""
           },
           "baxis": {
            "gridcolor": "white",
            "linecolor": "white",
            "ticks": ""
           },
           "bgcolor": "#E5ECF6",
           "caxis": {
            "gridcolor": "white",
            "linecolor": "white",
            "ticks": ""
           }
          },
          "title": {
           "x": 0.05
          },
          "xaxis": {
           "automargin": true,
           "gridcolor": "white",
           "linecolor": "white",
           "ticks": "",
           "title": {
            "standoff": 15
           },
           "zerolinecolor": "white",
           "zerolinewidth": 2
          },
          "yaxis": {
           "automargin": true,
           "gridcolor": "white",
           "linecolor": "white",
           "ticks": "",
           "title": {
            "standoff": 15
           },
           "zerolinecolor": "white",
           "zerolinewidth": 2
          }
         }
        },
        "title": {
         "text": "Age distribution"
        },
        "xaxis": {
         "anchor": "y",
         "domain": [
          0,
          1
         ],
         "title": {
          "text": "Age"
         }
        },
        "yaxis": {
         "anchor": "x",
         "domain": [
          0,
          1
         ],
         "title": {
          "text": "count"
         }
        }
       }
      },
      "text/html": [
       "<div>                            <div id=\"ef9f7e37-3a9c-4815-b313-6a6bec18fe73\" class=\"plotly-graph-div\" style=\"height:525px; width:100%;\"></div>            <script type=\"text/javascript\">                require([\"plotly\"], function(Plotly) {                    window.PLOTLYENV=window.PLOTLYENV || {};                                    if (document.getElementById(\"ef9f7e37-3a9c-4815-b313-6a6bec18fe73\")) {                    Plotly.newPlot(                        \"ef9f7e37-3a9c-4815-b313-6a6bec18fe73\",                        [{\"alignmentgroup\":\"True\",\"bingroup\":\"x\",\"hovertemplate\":\"Age=%{x}<br>count=%{y}<extra></extra>\",\"legendgroup\":\"\",\"marker\":{\"color\":\"#636efa\",\"pattern\":{\"shape\":\"\"}},\"name\":\"\",\"nbinsx\":20,\"offsetgroup\":\"\",\"orientation\":\"v\",\"showlegend\":false,\"x\":[22.0,38.0,26.0,35.0,35.0,29.69911764705882,54.0,2.0,27.0,14.0,4.0,58.0,20.0,39.0,14.0,55.0,2.0,29.69911764705882,31.0,29.69911764705882,35.0,34.0,15.0,28.0,8.0,38.0,29.69911764705882,19.0,29.69911764705882,29.69911764705882,40.0,29.69911764705882,29.69911764705882,66.0,28.0,42.0,29.69911764705882,21.0,18.0,14.0,40.0,27.0,29.69911764705882,3.0,19.0,29.69911764705882,29.69911764705882,29.69911764705882,29.69911764705882,18.0,7.0,21.0,49.0,29.0,65.0,29.69911764705882,21.0,28.5,5.0,11.0,22.0,38.0,45.0,4.0,29.69911764705882,29.69911764705882,29.0,19.0,17.0,26.0,32.0,16.0,21.0,26.0,32.0,25.0,29.69911764705882,29.69911764705882,0.83,30.0,22.0,29.0,29.69911764705882,28.0,17.0,33.0,16.0,29.69911764705882,23.0,24.0,29.0,20.0,46.0,26.0,59.0,29.69911764705882,71.0,23.0,34.0,34.0,28.0,29.69911764705882,21.0,33.0,37.0,28.0,21.0,29.69911764705882,38.0,29.69911764705882,47.0,14.5,22.0,20.0,17.0,21.0,70.5,29.0,24.0,2.0,21.0,29.69911764705882,32.5,32.5,54.0,12.0,29.69911764705882,24.0,29.69911764705882,45.0,33.0,20.0,47.0,29.0,25.0,23.0,19.0,37.0,16.0,24.0,29.69911764705882,22.0,24.0,19.0,18.0,19.0,27.0,9.0,36.5,42.0,51.0,22.0,55.5,40.5,29.69911764705882,51.0,16.0,30.0,29.69911764705882,29.69911764705882,44.0,40.0,26.0,17.0,1.0,9.0,29.69911764705882,45.0,29.69911764705882,28.0,61.0,4.0,1.0,21.0,56.0,18.0,29.69911764705882,50.0,30.0,36.0,29.69911764705882,29.69911764705882,9.0,1.0,4.0,29.69911764705882,29.69911764705882,45.0,40.0,36.0,32.0,19.0,19.0,3.0,44.0,58.0,29.69911764705882,42.0,29.69911764705882,24.0,28.0,29.69911764705882,34.0,45.5,18.0,2.0,32.0,26.0,16.0,40.0,24.0,35.0,22.0,30.0,29.69911764705882,31.0,27.0,42.0,32.0,30.0,16.0,27.0,51.0,29.69911764705882,38.0,22.0,19.0,20.5,18.0,29.69911764705882,35.0,29.0,59.0,5.0,24.0,29.69911764705882,44.0,8.0,19.0,33.0,29.69911764705882,29.69911764705882,29.0,22.0,30.0,44.0,25.0,24.0,37.0,54.0,29.69911764705882,29.0,62.0,30.0,41.0,29.0,29.69911764705882,30.0,35.0,50.0,29.69911764705882,3.0,52.0,40.0,29.69911764705882,36.0,16.0,25.0,58.0,35.0,29.69911764705882,25.0,41.0,37.0,29.69911764705882,63.0,45.0,29.69911764705882,7.0,35.0,65.0,28.0,16.0,19.0,29.69911764705882,33.0,30.0,22.0,42.0,22.0,26.0,19.0,36.0,24.0,24.0,29.69911764705882,23.5,2.0,29.69911764705882,50.0,29.69911764705882,29.69911764705882,19.0,29.69911764705882,29.69911764705882,0.92,29.69911764705882,17.0,30.0,30.0,24.0,18.0,26.0,28.0,43.0,26.0,24.0,54.0,31.0,40.0,22.0,27.0,30.0,22.0,29.69911764705882,36.0,61.0,36.0,31.0,16.0,29.69911764705882,45.5,38.0,16.0,29.69911764705882,29.69911764705882,29.0,41.0,45.0,45.0,2.0,24.0,28.0,25.0,36.0,24.0,40.0,29.69911764705882,3.0,42.0,23.0,29.69911764705882,15.0,25.0,29.69911764705882,28.0,22.0,38.0,29.69911764705882,29.69911764705882,40.0,29.0,45.0,35.0,29.69911764705882,30.0,60.0,29.69911764705882,29.69911764705882,24.0,25.0,18.0,19.0,22.0,3.0,29.69911764705882,22.0,27.0,20.0,19.0,42.0,1.0,32.0,35.0,29.69911764705882,18.0,1.0,36.0,29.69911764705882,17.0,36.0,21.0,28.0,23.0,24.0,22.0,31.0,46.0,23.0,28.0,39.0,26.0,21.0,28.0,20.0,34.0,51.0,3.0,21.0,29.69911764705882,29.69911764705882,29.69911764705882,33.0,29.69911764705882,44.0,29.69911764705882,34.0,18.0,30.0,10.0,29.69911764705882,21.0,29.0,28.0,18.0,29.69911764705882,28.0,19.0,29.69911764705882,32.0,28.0,29.69911764705882,42.0,17.0,50.0,14.0,21.0,24.0,64.0,31.0,45.0,20.0,25.0,28.0,29.69911764705882,4.0,13.0,34.0,5.0,52.0,36.0,29.69911764705882,30.0,49.0,29.69911764705882,29.0,65.0,29.69911764705882,50.0,29.69911764705882,48.0,34.0,47.0,48.0,29.69911764705882,38.0,29.69911764705882,56.0,29.69911764705882,0.75,29.69911764705882,38.0,33.0,23.0,22.0,29.69911764705882,34.0,29.0,22.0,2.0,9.0,29.69911764705882,50.0,63.0,25.0,29.69911764705882,35.0,58.0,30.0,9.0,29.69911764705882,21.0,55.0,71.0,21.0,29.69911764705882,54.0,29.69911764705882,25.0,24.0,17.0,21.0,29.69911764705882,37.0,16.0,18.0,33.0,29.69911764705882,28.0,26.0,29.0,29.69911764705882,36.0,54.0,24.0,47.0,34.0,29.69911764705882,36.0,32.0,30.0,22.0,29.69911764705882,44.0,29.69911764705882,40.5,50.0,29.69911764705882,39.0,23.0,2.0,29.69911764705882,17.0,29.69911764705882,30.0,7.0,45.0,30.0,29.69911764705882,22.0,36.0,9.0,11.0,32.0,50.0,64.0,19.0,29.69911764705882,33.0,8.0,17.0,27.0,29.69911764705882,22.0,22.0,62.0,48.0,29.69911764705882,39.0,36.0,29.69911764705882,40.0,28.0,29.69911764705882,29.69911764705882,24.0,19.0,29.0,29.69911764705882,32.0,62.0,53.0,36.0,29.69911764705882,16.0,19.0,34.0,39.0,29.69911764705882,32.0,25.0,39.0,54.0,36.0,29.69911764705882,18.0,47.0,60.0,22.0,29.69911764705882,35.0,52.0,47.0,29.69911764705882,37.0,36.0,29.69911764705882,49.0,29.69911764705882,49.0,24.0,29.69911764705882,29.69911764705882,44.0,35.0,36.0,30.0,27.0,22.0,40.0,39.0,29.69911764705882,29.69911764705882,29.69911764705882,35.0,24.0,34.0,26.0,4.0,26.0,27.0,42.0,20.0,21.0,21.0,61.0,57.0,21.0,26.0,29.69911764705882,80.0,51.0,32.0,29.69911764705882,9.0,28.0,32.0,31.0,41.0,29.69911764705882,20.0,24.0,2.0,29.69911764705882,0.75,48.0,19.0,56.0,29.69911764705882,23.0,29.69911764705882,18.0,21.0,29.69911764705882,18.0,24.0,29.69911764705882,32.0,23.0,58.0,50.0,40.0,47.0,36.0,20.0,32.0,25.0,29.69911764705882,43.0,29.69911764705882,40.0,31.0,70.0,31.0,29.69911764705882,18.0,24.5,18.0,43.0,36.0,29.69911764705882,27.0,20.0,14.0,60.0,25.0,14.0,19.0,18.0,15.0,31.0,4.0,29.69911764705882,25.0,60.0,52.0,44.0,29.69911764705882,49.0,42.0,18.0,35.0,18.0,25.0,26.0,39.0,45.0,42.0,22.0,29.69911764705882,24.0,29.69911764705882,48.0,29.0,52.0,19.0,38.0,27.0,29.69911764705882,33.0,6.0,17.0,34.0,50.0,27.0,20.0,30.0,29.69911764705882,25.0,25.0,29.0,11.0,29.69911764705882,23.0,23.0,28.5,48.0,35.0,29.69911764705882,29.69911764705882,29.69911764705882,36.0,21.0,24.0,31.0,70.0,16.0,30.0,19.0,31.0,4.0,6.0,33.0,23.0,48.0,0.67,28.0,18.0,34.0,33.0,29.69911764705882,41.0,20.0,36.0,16.0,51.0,29.69911764705882,30.5,29.69911764705882,32.0,24.0,48.0,57.0,29.69911764705882,54.0,18.0,29.69911764705882,5.0,29.69911764705882,43.0,13.0,17.0,29.0,29.69911764705882,25.0,25.0,18.0,8.0,1.0,46.0,29.69911764705882,16.0,29.69911764705882,29.69911764705882,25.0,39.0,49.0,31.0,30.0,30.0,34.0,31.0,11.0,0.42,27.0,31.0,39.0,18.0,39.0,33.0,26.0,39.0,35.0,6.0,30.5,29.69911764705882,23.0,31.0,43.0,10.0,52.0,27.0,38.0,27.0,2.0,29.69911764705882,29.69911764705882,1.0,29.69911764705882,62.0,15.0,0.83,29.69911764705882,23.0,18.0,39.0,21.0,29.69911764705882,32.0,29.69911764705882,20.0,16.0,30.0,34.5,17.0,42.0,29.69911764705882,35.0,28.0,29.69911764705882,4.0,74.0,9.0,16.0,44.0,18.0,45.0,51.0,24.0,29.69911764705882,41.0,21.0,48.0,29.69911764705882,24.0,42.0,27.0,31.0,29.69911764705882,4.0,26.0,47.0,33.0,47.0,28.0,15.0,20.0,19.0,29.69911764705882,56.0,25.0,33.0,22.0,28.0,25.0,39.0,27.0,19.0,29.69911764705882,26.0,32.0],\"xaxis\":\"x\",\"yaxis\":\"y\",\"type\":\"histogram\"}],                        {\"template\":{\"data\":{\"bar\":[{\"error_x\":{\"color\":\"#2a3f5f\"},\"error_y\":{\"color\":\"#2a3f5f\"},\"marker\":{\"line\":{\"color\":\"#E5ECF6\",\"width\":0.5},\"pattern\":{\"fillmode\":\"overlay\",\"size\":10,\"solidity\":0.2}},\"type\":\"bar\"}],\"barpolar\":[{\"marker\":{\"line\":{\"color\":\"#E5ECF6\",\"width\":0.5},\"pattern\":{\"fillmode\":\"overlay\",\"size\":10,\"solidity\":0.2}},\"type\":\"barpolar\"}],\"carpet\":[{\"aaxis\":{\"endlinecolor\":\"#2a3f5f\",\"gridcolor\":\"white\",\"linecolor\":\"white\",\"minorgridcolor\":\"white\",\"startlinecolor\":\"#2a3f5f\"},\"baxis\":{\"endlinecolor\":\"#2a3f5f\",\"gridcolor\":\"white\",\"linecolor\":\"white\",\"minorgridcolor\":\"white\",\"startlinecolor\":\"#2a3f5f\"},\"type\":\"carpet\"}],\"choropleth\":[{\"colorbar\":{\"outlinewidth\":0,\"ticks\":\"\"},\"type\":\"choropleth\"}],\"contour\":[{\"colorbar\":{\"outlinewidth\":0,\"ticks\":\"\"},\"colorscale\":[[0.0,\"#0d0887\"],[0.1111111111111111,\"#46039f\"],[0.2222222222222222,\"#7201a8\"],[0.3333333333333333,\"#9c179e\"],[0.4444444444444444,\"#bd3786\"],[0.5555555555555556,\"#d8576b\"],[0.6666666666666666,\"#ed7953\"],[0.7777777777777778,\"#fb9f3a\"],[0.8888888888888888,\"#fdca26\"],[1.0,\"#f0f921\"]],\"type\":\"contour\"}],\"contourcarpet\":[{\"colorbar\":{\"outlinewidth\":0,\"ticks\":\"\"},\"type\":\"contourcarpet\"}],\"heatmap\":[{\"colorbar\":{\"outlinewidth\":0,\"ticks\":\"\"},\"colorscale\":[[0.0,\"#0d0887\"],[0.1111111111111111,\"#46039f\"],[0.2222222222222222,\"#7201a8\"],[0.3333333333333333,\"#9c179e\"],[0.4444444444444444,\"#bd3786\"],[0.5555555555555556,\"#d8576b\"],[0.6666666666666666,\"#ed7953\"],[0.7777777777777778,\"#fb9f3a\"],[0.8888888888888888,\"#fdca26\"],[1.0,\"#f0f921\"]],\"type\":\"heatmap\"}],\"heatmapgl\":[{\"colorbar\":{\"outlinewidth\":0,\"ticks\":\"\"},\"colorscale\":[[0.0,\"#0d0887\"],[0.1111111111111111,\"#46039f\"],[0.2222222222222222,\"#7201a8\"],[0.3333333333333333,\"#9c179e\"],[0.4444444444444444,\"#bd3786\"],[0.5555555555555556,\"#d8576b\"],[0.6666666666666666,\"#ed7953\"],[0.7777777777777778,\"#fb9f3a\"],[0.8888888888888888,\"#fdca26\"],[1.0,\"#f0f921\"]],\"type\":\"heatmapgl\"}],\"histogram\":[{\"marker\":{\"pattern\":{\"fillmode\":\"overlay\",\"size\":10,\"solidity\":0.2}},\"type\":\"histogram\"}],\"histogram2d\":[{\"colorbar\":{\"outlinewidth\":0,\"ticks\":\"\"},\"colorscale\":[[0.0,\"#0d0887\"],[0.1111111111111111,\"#46039f\"],[0.2222222222222222,\"#7201a8\"],[0.3333333333333333,\"#9c179e\"],[0.4444444444444444,\"#bd3786\"],[0.5555555555555556,\"#d8576b\"],[0.6666666666666666,\"#ed7953\"],[0.7777777777777778,\"#fb9f3a\"],[0.8888888888888888,\"#fdca26\"],[1.0,\"#f0f921\"]],\"type\":\"histogram2d\"}],\"histogram2dcontour\":[{\"colorbar\":{\"outlinewidth\":0,\"ticks\":\"\"},\"colorscale\":[[0.0,\"#0d0887\"],[0.1111111111111111,\"#46039f\"],[0.2222222222222222,\"#7201a8\"],[0.3333333333333333,\"#9c179e\"],[0.4444444444444444,\"#bd3786\"],[0.5555555555555556,\"#d8576b\"],[0.6666666666666666,\"#ed7953\"],[0.7777777777777778,\"#fb9f3a\"],[0.8888888888888888,\"#fdca26\"],[1.0,\"#f0f921\"]],\"type\":\"histogram2dcontour\"}],\"mesh3d\":[{\"colorbar\":{\"outlinewidth\":0,\"ticks\":\"\"},\"type\":\"mesh3d\"}],\"parcoords\":[{\"line\":{\"colorbar\":{\"outlinewidth\":0,\"ticks\":\"\"}},\"type\":\"parcoords\"}],\"pie\":[{\"automargin\":true,\"type\":\"pie\"}],\"scatter\":[{\"marker\":{\"colorbar\":{\"outlinewidth\":0,\"ticks\":\"\"}},\"type\":\"scatter\"}],\"scatter3d\":[{\"line\":{\"colorbar\":{\"outlinewidth\":0,\"ticks\":\"\"}},\"marker\":{\"colorbar\":{\"outlinewidth\":0,\"ticks\":\"\"}},\"type\":\"scatter3d\"}],\"scattercarpet\":[{\"marker\":{\"colorbar\":{\"outlinewidth\":0,\"ticks\":\"\"}},\"type\":\"scattercarpet\"}],\"scattergeo\":[{\"marker\":{\"colorbar\":{\"outlinewidth\":0,\"ticks\":\"\"}},\"type\":\"scattergeo\"}],\"scattergl\":[{\"marker\":{\"colorbar\":{\"outlinewidth\":0,\"ticks\":\"\"}},\"type\":\"scattergl\"}],\"scattermapbox\":[{\"marker\":{\"colorbar\":{\"outlinewidth\":0,\"ticks\":\"\"}},\"type\":\"scattermapbox\"}],\"scatterpolar\":[{\"marker\":{\"colorbar\":{\"outlinewidth\":0,\"ticks\":\"\"}},\"type\":\"scatterpolar\"}],\"scatterpolargl\":[{\"marker\":{\"colorbar\":{\"outlinewidth\":0,\"ticks\":\"\"}},\"type\":\"scatterpolargl\"}],\"scatterternary\":[{\"marker\":{\"colorbar\":{\"outlinewidth\":0,\"ticks\":\"\"}},\"type\":\"scatterternary\"}],\"surface\":[{\"colorbar\":{\"outlinewidth\":0,\"ticks\":\"\"},\"colorscale\":[[0.0,\"#0d0887\"],[0.1111111111111111,\"#46039f\"],[0.2222222222222222,\"#7201a8\"],[0.3333333333333333,\"#9c179e\"],[0.4444444444444444,\"#bd3786\"],[0.5555555555555556,\"#d8576b\"],[0.6666666666666666,\"#ed7953\"],[0.7777777777777778,\"#fb9f3a\"],[0.8888888888888888,\"#fdca26\"],[1.0,\"#f0f921\"]],\"type\":\"surface\"}],\"table\":[{\"cells\":{\"fill\":{\"color\":\"#EBF0F8\"},\"line\":{\"color\":\"white\"}},\"header\":{\"fill\":{\"color\":\"#C8D4E3\"},\"line\":{\"color\":\"white\"}},\"type\":\"table\"}]},\"layout\":{\"annotationdefaults\":{\"arrowcolor\":\"#2a3f5f\",\"arrowhead\":0,\"arrowwidth\":1},\"autotypenumbers\":\"strict\",\"coloraxis\":{\"colorbar\":{\"outlinewidth\":0,\"ticks\":\"\"}},\"colorscale\":{\"diverging\":[[0,\"#8e0152\"],[0.1,\"#c51b7d\"],[0.2,\"#de77ae\"],[0.3,\"#f1b6da\"],[0.4,\"#fde0ef\"],[0.5,\"#f7f7f7\"],[0.6,\"#e6f5d0\"],[0.7,\"#b8e186\"],[0.8,\"#7fbc41\"],[0.9,\"#4d9221\"],[1,\"#276419\"]],\"sequential\":[[0.0,\"#0d0887\"],[0.1111111111111111,\"#46039f\"],[0.2222222222222222,\"#7201a8\"],[0.3333333333333333,\"#9c179e\"],[0.4444444444444444,\"#bd3786\"],[0.5555555555555556,\"#d8576b\"],[0.6666666666666666,\"#ed7953\"],[0.7777777777777778,\"#fb9f3a\"],[0.8888888888888888,\"#fdca26\"],[1.0,\"#f0f921\"]],\"sequentialminus\":[[0.0,\"#0d0887\"],[0.1111111111111111,\"#46039f\"],[0.2222222222222222,\"#7201a8\"],[0.3333333333333333,\"#9c179e\"],[0.4444444444444444,\"#bd3786\"],[0.5555555555555556,\"#d8576b\"],[0.6666666666666666,\"#ed7953\"],[0.7777777777777778,\"#fb9f3a\"],[0.8888888888888888,\"#fdca26\"],[1.0,\"#f0f921\"]]},\"colorway\":[\"#636efa\",\"#EF553B\",\"#00cc96\",\"#ab63fa\",\"#FFA15A\",\"#19d3f3\",\"#FF6692\",\"#B6E880\",\"#FF97FF\",\"#FECB52\"],\"font\":{\"color\":\"#2a3f5f\"},\"geo\":{\"bgcolor\":\"white\",\"lakecolor\":\"white\",\"landcolor\":\"#E5ECF6\",\"showlakes\":true,\"showland\":true,\"subunitcolor\":\"white\"},\"hoverlabel\":{\"align\":\"left\"},\"hovermode\":\"closest\",\"mapbox\":{\"style\":\"light\"},\"paper_bgcolor\":\"white\",\"plot_bgcolor\":\"#E5ECF6\",\"polar\":{\"angularaxis\":{\"gridcolor\":\"white\",\"linecolor\":\"white\",\"ticks\":\"\"},\"bgcolor\":\"#E5ECF6\",\"radialaxis\":{\"gridcolor\":\"white\",\"linecolor\":\"white\",\"ticks\":\"\"}},\"scene\":{\"xaxis\":{\"backgroundcolor\":\"#E5ECF6\",\"gridcolor\":\"white\",\"gridwidth\":2,\"linecolor\":\"white\",\"showbackground\":true,\"ticks\":\"\",\"zerolinecolor\":\"white\"},\"yaxis\":{\"backgroundcolor\":\"#E5ECF6\",\"gridcolor\":\"white\",\"gridwidth\":2,\"linecolor\":\"white\",\"showbackground\":true,\"ticks\":\"\",\"zerolinecolor\":\"white\"},\"zaxis\":{\"backgroundcolor\":\"#E5ECF6\",\"gridcolor\":\"white\",\"gridwidth\":2,\"linecolor\":\"white\",\"showbackground\":true,\"ticks\":\"\",\"zerolinecolor\":\"white\"}},\"shapedefaults\":{\"line\":{\"color\":\"#2a3f5f\"}},\"ternary\":{\"aaxis\":{\"gridcolor\":\"white\",\"linecolor\":\"white\",\"ticks\":\"\"},\"baxis\":{\"gridcolor\":\"white\",\"linecolor\":\"white\",\"ticks\":\"\"},\"bgcolor\":\"#E5ECF6\",\"caxis\":{\"gridcolor\":\"white\",\"linecolor\":\"white\",\"ticks\":\"\"}},\"title\":{\"x\":0.05},\"xaxis\":{\"automargin\":true,\"gridcolor\":\"white\",\"linecolor\":\"white\",\"ticks\":\"\",\"title\":{\"standoff\":15},\"zerolinecolor\":\"white\",\"zerolinewidth\":2},\"yaxis\":{\"automargin\":true,\"gridcolor\":\"white\",\"linecolor\":\"white\",\"ticks\":\"\",\"title\":{\"standoff\":15},\"zerolinecolor\":\"white\",\"zerolinewidth\":2}}},\"xaxis\":{\"anchor\":\"y\",\"domain\":[0.0,1.0],\"title\":{\"text\":\"Age\"}},\"yaxis\":{\"anchor\":\"x\",\"domain\":[0.0,1.0],\"title\":{\"text\":\"count\"}},\"legend\":{\"tracegroupgap\":0},\"title\":{\"text\":\"Age distribution\"},\"barmode\":\"relative\"},                        {\"responsive\": true}                    ).then(function(){\n",
       "                            \n",
       "var gd = document.getElementById('ef9f7e37-3a9c-4815-b313-6a6bec18fe73');\n",
       "var x = new MutationObserver(function (mutations, observer) {{\n",
       "        var display = window.getComputedStyle(gd).display;\n",
       "        if (!display || display === 'none') {{\n",
       "            console.log([gd, 'removed!']);\n",
       "            Plotly.purge(gd);\n",
       "            observer.disconnect();\n",
       "        }}\n",
       "}});\n",
       "\n",
       "// Listen for the removal of the full notebook cells\n",
       "var notebookContainer = gd.closest('#notebook-container');\n",
       "if (notebookContainer) {{\n",
       "    x.observe(notebookContainer, {childList: true});\n",
       "}}\n",
       "\n",
       "// Listen for the clearing of the current output cell\n",
       "var outputEl = gd.closest('.output');\n",
       "if (outputEl) {{\n",
       "    x.observe(outputEl, {childList: true});\n",
       "}}\n",
       "\n",
       "                        })                };                });            </script>        </div>"
      ]
     },
     "metadata": {},
     "output_type": "display_data"
    }
   ],
   "source": [
    "# Show the age distribtion in the data using a histogram.\n",
    "\n",
    "fig = px.histogram(df, x=\"Age\", \n",
    "                   title ='Age distribution', \n",
    "                   labels= 'Age', nbins=20)\n",
    "\n",
    "#  show plot \n",
    "fig.show()\n"
   ]
  },
  {
   "cell_type": "code",
   "execution_count": 174,
   "id": "bb12dc9d",
   "metadata": {},
   "outputs": [
    {
     "data": {
      "application/vnd.plotly.v1+json": {
       "config": {
        "plotlyServerURL": "https://plot.ly"
       },
       "data": [
        {
         "alignmentgroup": "True",
         "bingroup": "x",
         "hovertemplate": "Sex=male<br>Age=%{x}<br>count=%{y}<extra></extra>",
         "legendgroup": "male",
         "marker": {
          "color": "#636efa",
          "pattern": {
           "shape": ""
          }
         },
         "name": "male",
         "nbinsx": 20,
         "offsetgroup": "male",
         "orientation": "v",
         "showlegend": true,
         "type": "histogram",
         "x": [
          22,
          35,
          29.69911764705882,
          54,
          2,
          20,
          39,
          2,
          29.69911764705882,
          35,
          34,
          28,
          29.69911764705882,
          19,
          29.69911764705882,
          40,
          66,
          28,
          42,
          29.69911764705882,
          21,
          29.69911764705882,
          29.69911764705882,
          29.69911764705882,
          29.69911764705882,
          7,
          21,
          65,
          29.69911764705882,
          28.5,
          11,
          22,
          45,
          4,
          29.69911764705882,
          29.69911764705882,
          19,
          26,
          32,
          21,
          26,
          32,
          25,
          29.69911764705882,
          29.69911764705882,
          0.83,
          22,
          29,
          28,
          16,
          29.69911764705882,
          24,
          29,
          20,
          46,
          26,
          59,
          29.69911764705882,
          71,
          23,
          34,
          29.69911764705882,
          21,
          33,
          37,
          28,
          29.69911764705882,
          38,
          47,
          22,
          21,
          70.5,
          29,
          24,
          21,
          29.69911764705882,
          32.5,
          54,
          12,
          29.69911764705882,
          24,
          45,
          33,
          20,
          25,
          23,
          37,
          16,
          24,
          19,
          18,
          19,
          27,
          36.5,
          42,
          51,
          55.5,
          40.5,
          29.69911764705882,
          51,
          30,
          29.69911764705882,
          29.69911764705882,
          44,
          26,
          17,
          1,
          9,
          29.69911764705882,
          28,
          61,
          4,
          21,
          56,
          18,
          29.69911764705882,
          30,
          36,
          29.69911764705882,
          9,
          1,
          29.69911764705882,
          45,
          40,
          36,
          19,
          3,
          29.69911764705882,
          42,
          28,
          29.69911764705882,
          34,
          45.5,
          18,
          32,
          26,
          40,
          24,
          22,
          30,
          29.69911764705882,
          42,
          30,
          16,
          27,
          51,
          29.69911764705882,
          38,
          22,
          19,
          20.5,
          18,
          29,
          59,
          24,
          44,
          19,
          33,
          29,
          22,
          30,
          44,
          37,
          54,
          29.69911764705882,
          62,
          30,
          29.69911764705882,
          3,
          52,
          40,
          36,
          16,
          25,
          29.69911764705882,
          25,
          37,
          29.69911764705882,
          7,
          65,
          28,
          16,
          19,
          29.69911764705882,
          33,
          30,
          22,
          42,
          36,
          24,
          29.69911764705882,
          23.5,
          29.69911764705882,
          29.69911764705882,
          19,
          29.69911764705882,
          0.92,
          30,
          28,
          43,
          54,
          22,
          27,
          29.69911764705882,
          61,
          45.5,
          38,
          16,
          29.69911764705882,
          29,
          45,
          45,
          2,
          28,
          25,
          36,
          3,
          42,
          23,
          29.69911764705882,
          15,
          25,
          29.69911764705882,
          28,
          40,
          29,
          35,
          29.69911764705882,
          30,
          25,
          18,
          19,
          22,
          27,
          20,
          19,
          32,
          29.69911764705882,
          18,
          1,
          29.69911764705882,
          36,
          21,
          28,
          22,
          46,
          23,
          39,
          26,
          28,
          34,
          51,
          3,
          21,
          29.69911764705882,
          29.69911764705882,
          29.69911764705882,
          44,
          30,
          29.69911764705882,
          21,
          29,
          18,
          29.69911764705882,
          29.69911764705882,
          32,
          28,
          17,
          50,
          64,
          31,
          20,
          25,
          29.69911764705882,
          4,
          34,
          52,
          36,
          29.69911764705882,
          30,
          49,
          29.69911764705882,
          29,
          65,
          29.69911764705882,
          48,
          34,
          47,
          48,
          29.69911764705882,
          38,
          29.69911764705882,
          56,
          29.69911764705882,
          29.69911764705882,
          38,
          29.69911764705882,
          34,
          29,
          22,
          9,
          29.69911764705882,
          50,
          25,
          58,
          30,
          9,
          29.69911764705882,
          21,
          55,
          71,
          21,
          29.69911764705882,
          29.69911764705882,
          24,
          17,
          18,
          29.69911764705882,
          28,
          26,
          29,
          29.69911764705882,
          36,
          24,
          47,
          29.69911764705882,
          32,
          22,
          29.69911764705882,
          29.69911764705882,
          40.5,
          29.69911764705882,
          39,
          23,
          29.69911764705882,
          17,
          45,
          29.69911764705882,
          32,
          50,
          64,
          29.69911764705882,
          33,
          8,
          17,
          27,
          29.69911764705882,
          22,
          62,
          29.69911764705882,
          29.69911764705882,
          40,
          28,
          29.69911764705882,
          24,
          19,
          29.69911764705882,
          32,
          62,
          36,
          16,
          19,
          32,
          54,
          36,
          29.69911764705882,
          47,
          60,
          22,
          29.69911764705882,
          35,
          47,
          37,
          36,
          49,
          29.69911764705882,
          49,
          29.69911764705882,
          29.69911764705882,
          44,
          35,
          36,
          30,
          27,
          29.69911764705882,
          29.69911764705882,
          35,
          34,
          26,
          27,
          42,
          20,
          21,
          21,
          61,
          57,
          26,
          29.69911764705882,
          80,
          51,
          32,
          29.69911764705882,
          32,
          31,
          29.69911764705882,
          20,
          29.69911764705882,
          48,
          19,
          56,
          29.69911764705882,
          29.69911764705882,
          21,
          24,
          29.69911764705882,
          23,
          58,
          50,
          40,
          47,
          36,
          20,
          32,
          25,
          29.69911764705882,
          43,
          31,
          70,
          31,
          29.69911764705882,
          18,
          24.5,
          36,
          27,
          20,
          14,
          60,
          25,
          14,
          19,
          18,
          31,
          29.69911764705882,
          25,
          60,
          52,
          44,
          49,
          42,
          35,
          25,
          26,
          39,
          42,
          29.69911764705882,
          29.69911764705882,
          48,
          29,
          52,
          19,
          29.69911764705882,
          33,
          17,
          34,
          50,
          27,
          20,
          25,
          11,
          29.69911764705882,
          23,
          23,
          28.5,
          35,
          29.69911764705882,
          29.69911764705882,
          29.69911764705882,
          36,
          24,
          31,
          70,
          16,
          19,
          31,
          6,
          33,
          23,
          0.67,
          28,
          18,
          34,
          29.69911764705882,
          41,
          20,
          16,
          29.69911764705882,
          29.69911764705882,
          32,
          24,
          48,
          29.69911764705882,
          18,
          29.69911764705882,
          29.69911764705882,
          29,
          29.69911764705882,
          25,
          25,
          8,
          1,
          46,
          29.69911764705882,
          16,
          29.69911764705882,
          25,
          39,
          30,
          34,
          11,
          0.42,
          27,
          31,
          39,
          39,
          26,
          39,
          35,
          30.5,
          29.69911764705882,
          31,
          43,
          10,
          27,
          38,
          2,
          29.69911764705882,
          29.69911764705882,
          1,
          29.69911764705882,
          0.83,
          29.69911764705882,
          23,
          18,
          21,
          29.69911764705882,
          32,
          29.69911764705882,
          20,
          16,
          34.5,
          17,
          42,
          29.69911764705882,
          35,
          28,
          4,
          74,
          51,
          29.69911764705882,
          41,
          21,
          24,
          31,
          29.69911764705882,
          4,
          26,
          33,
          47,
          20,
          19,
          29.69911764705882,
          33,
          28,
          25,
          27,
          26,
          32
         ],
         "xaxis": "x",
         "yaxis": "y"
        },
        {
         "alignmentgroup": "True",
         "bingroup": "x",
         "hovertemplate": "Sex=female<br>Age=%{x}<br>count=%{y}<extra></extra>",
         "legendgroup": "female",
         "marker": {
          "color": "#EF553B",
          "pattern": {
           "shape": ""
          }
         },
         "name": "female",
         "nbinsx": 20,
         "offsetgroup": "female",
         "orientation": "v",
         "showlegend": true,
         "type": "histogram",
         "x": [
          38,
          26,
          35,
          27,
          14,
          4,
          58,
          14,
          55,
          31,
          29.69911764705882,
          15,
          8,
          38,
          29.69911764705882,
          29.69911764705882,
          29.69911764705882,
          18,
          14,
          40,
          27,
          3,
          19,
          29.69911764705882,
          18,
          49,
          29,
          21,
          5,
          38,
          29,
          17,
          16,
          30,
          29.69911764705882,
          17,
          33,
          23,
          34,
          28,
          21,
          29.69911764705882,
          14.5,
          20,
          17,
          2,
          32.5,
          29.69911764705882,
          47,
          29,
          19,
          29.69911764705882,
          22,
          24,
          9,
          22,
          16,
          40,
          29.69911764705882,
          45,
          1,
          50,
          29.69911764705882,
          4,
          29.69911764705882,
          32,
          19,
          44,
          58,
          29.69911764705882,
          24,
          2,
          16,
          35,
          31,
          27,
          32,
          29.69911764705882,
          35,
          5,
          29.69911764705882,
          8,
          29.69911764705882,
          29.69911764705882,
          25,
          24,
          29,
          41,
          29,
          29.69911764705882,
          30,
          35,
          50,
          29.69911764705882,
          58,
          35,
          41,
          29.69911764705882,
          63,
          45,
          35,
          22,
          26,
          19,
          24,
          2,
          50,
          29.69911764705882,
          29.69911764705882,
          29.69911764705882,
          17,
          30,
          24,
          18,
          26,
          26,
          24,
          31,
          40,
          30,
          22,
          36,
          36,
          31,
          16,
          29.69911764705882,
          29.69911764705882,
          41,
          24,
          24,
          40,
          29.69911764705882,
          22,
          38,
          29.69911764705882,
          29.69911764705882,
          45,
          60,
          29.69911764705882,
          29.69911764705882,
          24,
          3,
          29.69911764705882,
          22,
          42,
          1,
          35,
          36,
          17,
          23,
          24,
          31,
          28,
          21,
          20,
          29.69911764705882,
          33,
          29.69911764705882,
          34,
          18,
          10,
          28,
          28,
          19,
          29.69911764705882,
          42,
          14,
          21,
          24,
          45,
          28,
          13,
          5,
          29.69911764705882,
          50,
          0.75,
          33,
          23,
          22,
          2,
          63,
          29.69911764705882,
          35,
          54,
          25,
          21,
          29.69911764705882,
          37,
          16,
          33,
          54,
          34,
          36,
          30,
          44,
          50,
          2,
          29.69911764705882,
          30,
          7,
          30,
          22,
          36,
          9,
          11,
          19,
          22,
          48,
          39,
          36,
          29.69911764705882,
          29,
          53,
          29.69911764705882,
          34,
          39,
          29.69911764705882,
          25,
          39,
          18,
          52,
          29.69911764705882,
          29.69911764705882,
          24,
          22,
          40,
          39,
          29.69911764705882,
          24,
          26,
          4,
          21,
          9,
          28,
          41,
          24,
          2,
          0.75,
          23,
          18,
          29.69911764705882,
          18,
          32,
          29.69911764705882,
          40,
          18,
          43,
          29.69911764705882,
          15,
          4,
          29.69911764705882,
          18,
          18,
          45,
          22,
          24,
          38,
          27,
          6,
          30,
          29.69911764705882,
          25,
          29,
          48,
          21,
          30,
          4,
          48,
          33,
          36,
          51,
          30.5,
          57,
          54,
          5,
          43,
          13,
          17,
          18,
          29.69911764705882,
          49,
          31,
          30,
          31,
          18,
          33,
          6,
          23,
          52,
          27,
          62,
          15,
          39,
          30,
          29.69911764705882,
          9,
          16,
          44,
          18,
          45,
          24,
          48,
          29.69911764705882,
          42,
          27,
          47,
          28,
          15,
          56,
          25,
          22,
          39,
          19,
          29.69911764705882
         ],
         "xaxis": "x",
         "yaxis": "y"
        }
       ],
       "layout": {
        "barmode": "relative",
        "legend": {
         "title": {
          "text": "Sex"
         },
         "tracegroupgap": 0
        },
        "template": {
         "data": {
          "bar": [
           {
            "error_x": {
             "color": "#2a3f5f"
            },
            "error_y": {
             "color": "#2a3f5f"
            },
            "marker": {
             "line": {
              "color": "#E5ECF6",
              "width": 0.5
             },
             "pattern": {
              "fillmode": "overlay",
              "size": 10,
              "solidity": 0.2
             }
            },
            "type": "bar"
           }
          ],
          "barpolar": [
           {
            "marker": {
             "line": {
              "color": "#E5ECF6",
              "width": 0.5
             },
             "pattern": {
              "fillmode": "overlay",
              "size": 10,
              "solidity": 0.2
             }
            },
            "type": "barpolar"
           }
          ],
          "carpet": [
           {
            "aaxis": {
             "endlinecolor": "#2a3f5f",
             "gridcolor": "white",
             "linecolor": "white",
             "minorgridcolor": "white",
             "startlinecolor": "#2a3f5f"
            },
            "baxis": {
             "endlinecolor": "#2a3f5f",
             "gridcolor": "white",
             "linecolor": "white",
             "minorgridcolor": "white",
             "startlinecolor": "#2a3f5f"
            },
            "type": "carpet"
           }
          ],
          "choropleth": [
           {
            "colorbar": {
             "outlinewidth": 0,
             "ticks": ""
            },
            "type": "choropleth"
           }
          ],
          "contour": [
           {
            "colorbar": {
             "outlinewidth": 0,
             "ticks": ""
            },
            "colorscale": [
             [
              0,
              "#0d0887"
             ],
             [
              0.1111111111111111,
              "#46039f"
             ],
             [
              0.2222222222222222,
              "#7201a8"
             ],
             [
              0.3333333333333333,
              "#9c179e"
             ],
             [
              0.4444444444444444,
              "#bd3786"
             ],
             [
              0.5555555555555556,
              "#d8576b"
             ],
             [
              0.6666666666666666,
              "#ed7953"
             ],
             [
              0.7777777777777778,
              "#fb9f3a"
             ],
             [
              0.8888888888888888,
              "#fdca26"
             ],
             [
              1,
              "#f0f921"
             ]
            ],
            "type": "contour"
           }
          ],
          "contourcarpet": [
           {
            "colorbar": {
             "outlinewidth": 0,
             "ticks": ""
            },
            "type": "contourcarpet"
           }
          ],
          "heatmap": [
           {
            "colorbar": {
             "outlinewidth": 0,
             "ticks": ""
            },
            "colorscale": [
             [
              0,
              "#0d0887"
             ],
             [
              0.1111111111111111,
              "#46039f"
             ],
             [
              0.2222222222222222,
              "#7201a8"
             ],
             [
              0.3333333333333333,
              "#9c179e"
             ],
             [
              0.4444444444444444,
              "#bd3786"
             ],
             [
              0.5555555555555556,
              "#d8576b"
             ],
             [
              0.6666666666666666,
              "#ed7953"
             ],
             [
              0.7777777777777778,
              "#fb9f3a"
             ],
             [
              0.8888888888888888,
              "#fdca26"
             ],
             [
              1,
              "#f0f921"
             ]
            ],
            "type": "heatmap"
           }
          ],
          "heatmapgl": [
           {
            "colorbar": {
             "outlinewidth": 0,
             "ticks": ""
            },
            "colorscale": [
             [
              0,
              "#0d0887"
             ],
             [
              0.1111111111111111,
              "#46039f"
             ],
             [
              0.2222222222222222,
              "#7201a8"
             ],
             [
              0.3333333333333333,
              "#9c179e"
             ],
             [
              0.4444444444444444,
              "#bd3786"
             ],
             [
              0.5555555555555556,
              "#d8576b"
             ],
             [
              0.6666666666666666,
              "#ed7953"
             ],
             [
              0.7777777777777778,
              "#fb9f3a"
             ],
             [
              0.8888888888888888,
              "#fdca26"
             ],
             [
              1,
              "#f0f921"
             ]
            ],
            "type": "heatmapgl"
           }
          ],
          "histogram": [
           {
            "marker": {
             "pattern": {
              "fillmode": "overlay",
              "size": 10,
              "solidity": 0.2
             }
            },
            "type": "histogram"
           }
          ],
          "histogram2d": [
           {
            "colorbar": {
             "outlinewidth": 0,
             "ticks": ""
            },
            "colorscale": [
             [
              0,
              "#0d0887"
             ],
             [
              0.1111111111111111,
              "#46039f"
             ],
             [
              0.2222222222222222,
              "#7201a8"
             ],
             [
              0.3333333333333333,
              "#9c179e"
             ],
             [
              0.4444444444444444,
              "#bd3786"
             ],
             [
              0.5555555555555556,
              "#d8576b"
             ],
             [
              0.6666666666666666,
              "#ed7953"
             ],
             [
              0.7777777777777778,
              "#fb9f3a"
             ],
             [
              0.8888888888888888,
              "#fdca26"
             ],
             [
              1,
              "#f0f921"
             ]
            ],
            "type": "histogram2d"
           }
          ],
          "histogram2dcontour": [
           {
            "colorbar": {
             "outlinewidth": 0,
             "ticks": ""
            },
            "colorscale": [
             [
              0,
              "#0d0887"
             ],
             [
              0.1111111111111111,
              "#46039f"
             ],
             [
              0.2222222222222222,
              "#7201a8"
             ],
             [
              0.3333333333333333,
              "#9c179e"
             ],
             [
              0.4444444444444444,
              "#bd3786"
             ],
             [
              0.5555555555555556,
              "#d8576b"
             ],
             [
              0.6666666666666666,
              "#ed7953"
             ],
             [
              0.7777777777777778,
              "#fb9f3a"
             ],
             [
              0.8888888888888888,
              "#fdca26"
             ],
             [
              1,
              "#f0f921"
             ]
            ],
            "type": "histogram2dcontour"
           }
          ],
          "mesh3d": [
           {
            "colorbar": {
             "outlinewidth": 0,
             "ticks": ""
            },
            "type": "mesh3d"
           }
          ],
          "parcoords": [
           {
            "line": {
             "colorbar": {
              "outlinewidth": 0,
              "ticks": ""
             }
            },
            "type": "parcoords"
           }
          ],
          "pie": [
           {
            "automargin": true,
            "type": "pie"
           }
          ],
          "scatter": [
           {
            "marker": {
             "colorbar": {
              "outlinewidth": 0,
              "ticks": ""
             }
            },
            "type": "scatter"
           }
          ],
          "scatter3d": [
           {
            "line": {
             "colorbar": {
              "outlinewidth": 0,
              "ticks": ""
             }
            },
            "marker": {
             "colorbar": {
              "outlinewidth": 0,
              "ticks": ""
             }
            },
            "type": "scatter3d"
           }
          ],
          "scattercarpet": [
           {
            "marker": {
             "colorbar": {
              "outlinewidth": 0,
              "ticks": ""
             }
            },
            "type": "scattercarpet"
           }
          ],
          "scattergeo": [
           {
            "marker": {
             "colorbar": {
              "outlinewidth": 0,
              "ticks": ""
             }
            },
            "type": "scattergeo"
           }
          ],
          "scattergl": [
           {
            "marker": {
             "colorbar": {
              "outlinewidth": 0,
              "ticks": ""
             }
            },
            "type": "scattergl"
           }
          ],
          "scattermapbox": [
           {
            "marker": {
             "colorbar": {
              "outlinewidth": 0,
              "ticks": ""
             }
            },
            "type": "scattermapbox"
           }
          ],
          "scatterpolar": [
           {
            "marker": {
             "colorbar": {
              "outlinewidth": 0,
              "ticks": ""
             }
            },
            "type": "scatterpolar"
           }
          ],
          "scatterpolargl": [
           {
            "marker": {
             "colorbar": {
              "outlinewidth": 0,
              "ticks": ""
             }
            },
            "type": "scatterpolargl"
           }
          ],
          "scatterternary": [
           {
            "marker": {
             "colorbar": {
              "outlinewidth": 0,
              "ticks": ""
             }
            },
            "type": "scatterternary"
           }
          ],
          "surface": [
           {
            "colorbar": {
             "outlinewidth": 0,
             "ticks": ""
            },
            "colorscale": [
             [
              0,
              "#0d0887"
             ],
             [
              0.1111111111111111,
              "#46039f"
             ],
             [
              0.2222222222222222,
              "#7201a8"
             ],
             [
              0.3333333333333333,
              "#9c179e"
             ],
             [
              0.4444444444444444,
              "#bd3786"
             ],
             [
              0.5555555555555556,
              "#d8576b"
             ],
             [
              0.6666666666666666,
              "#ed7953"
             ],
             [
              0.7777777777777778,
              "#fb9f3a"
             ],
             [
              0.8888888888888888,
              "#fdca26"
             ],
             [
              1,
              "#f0f921"
             ]
            ],
            "type": "surface"
           }
          ],
          "table": [
           {
            "cells": {
             "fill": {
              "color": "#EBF0F8"
             },
             "line": {
              "color": "white"
             }
            },
            "header": {
             "fill": {
              "color": "#C8D4E3"
             },
             "line": {
              "color": "white"
             }
            },
            "type": "table"
           }
          ]
         },
         "layout": {
          "annotationdefaults": {
           "arrowcolor": "#2a3f5f",
           "arrowhead": 0,
           "arrowwidth": 1
          },
          "autotypenumbers": "strict",
          "coloraxis": {
           "colorbar": {
            "outlinewidth": 0,
            "ticks": ""
           }
          },
          "colorscale": {
           "diverging": [
            [
             0,
             "#8e0152"
            ],
            [
             0.1,
             "#c51b7d"
            ],
            [
             0.2,
             "#de77ae"
            ],
            [
             0.3,
             "#f1b6da"
            ],
            [
             0.4,
             "#fde0ef"
            ],
            [
             0.5,
             "#f7f7f7"
            ],
            [
             0.6,
             "#e6f5d0"
            ],
            [
             0.7,
             "#b8e186"
            ],
            [
             0.8,
             "#7fbc41"
            ],
            [
             0.9,
             "#4d9221"
            ],
            [
             1,
             "#276419"
            ]
           ],
           "sequential": [
            [
             0,
             "#0d0887"
            ],
            [
             0.1111111111111111,
             "#46039f"
            ],
            [
             0.2222222222222222,
             "#7201a8"
            ],
            [
             0.3333333333333333,
             "#9c179e"
            ],
            [
             0.4444444444444444,
             "#bd3786"
            ],
            [
             0.5555555555555556,
             "#d8576b"
            ],
            [
             0.6666666666666666,
             "#ed7953"
            ],
            [
             0.7777777777777778,
             "#fb9f3a"
            ],
            [
             0.8888888888888888,
             "#fdca26"
            ],
            [
             1,
             "#f0f921"
            ]
           ],
           "sequentialminus": [
            [
             0,
             "#0d0887"
            ],
            [
             0.1111111111111111,
             "#46039f"
            ],
            [
             0.2222222222222222,
             "#7201a8"
            ],
            [
             0.3333333333333333,
             "#9c179e"
            ],
            [
             0.4444444444444444,
             "#bd3786"
            ],
            [
             0.5555555555555556,
             "#d8576b"
            ],
            [
             0.6666666666666666,
             "#ed7953"
            ],
            [
             0.7777777777777778,
             "#fb9f3a"
            ],
            [
             0.8888888888888888,
             "#fdca26"
            ],
            [
             1,
             "#f0f921"
            ]
           ]
          },
          "colorway": [
           "#636efa",
           "#EF553B",
           "#00cc96",
           "#ab63fa",
           "#FFA15A",
           "#19d3f3",
           "#FF6692",
           "#B6E880",
           "#FF97FF",
           "#FECB52"
          ],
          "font": {
           "color": "#2a3f5f"
          },
          "geo": {
           "bgcolor": "white",
           "lakecolor": "white",
           "landcolor": "#E5ECF6",
           "showlakes": true,
           "showland": true,
           "subunitcolor": "white"
          },
          "hoverlabel": {
           "align": "left"
          },
          "hovermode": "closest",
          "mapbox": {
           "style": "light"
          },
          "paper_bgcolor": "white",
          "plot_bgcolor": "#E5ECF6",
          "polar": {
           "angularaxis": {
            "gridcolor": "white",
            "linecolor": "white",
            "ticks": ""
           },
           "bgcolor": "#E5ECF6",
           "radialaxis": {
            "gridcolor": "white",
            "linecolor": "white",
            "ticks": ""
           }
          },
          "scene": {
           "xaxis": {
            "backgroundcolor": "#E5ECF6",
            "gridcolor": "white",
            "gridwidth": 2,
            "linecolor": "white",
            "showbackground": true,
            "ticks": "",
            "zerolinecolor": "white"
           },
           "yaxis": {
            "backgroundcolor": "#E5ECF6",
            "gridcolor": "white",
            "gridwidth": 2,
            "linecolor": "white",
            "showbackground": true,
            "ticks": "",
            "zerolinecolor": "white"
           },
           "zaxis": {
            "backgroundcolor": "#E5ECF6",
            "gridcolor": "white",
            "gridwidth": 2,
            "linecolor": "white",
            "showbackground": true,
            "ticks": "",
            "zerolinecolor": "white"
           }
          },
          "shapedefaults": {
           "line": {
            "color": "#2a3f5f"
           }
          },
          "ternary": {
           "aaxis": {
            "gridcolor": "white",
            "linecolor": "white",
            "ticks": ""
           },
           "baxis": {
            "gridcolor": "white",
            "linecolor": "white",
            "ticks": ""
           },
           "bgcolor": "#E5ECF6",
           "caxis": {
            "gridcolor": "white",
            "linecolor": "white",
            "ticks": ""
           }
          },
          "title": {
           "x": 0.05
          },
          "xaxis": {
           "automargin": true,
           "gridcolor": "white",
           "linecolor": "white",
           "ticks": "",
           "title": {
            "standoff": 15
           },
           "zerolinecolor": "white",
           "zerolinewidth": 2
          },
          "yaxis": {
           "automargin": true,
           "gridcolor": "white",
           "linecolor": "white",
           "ticks": "",
           "title": {
            "standoff": 15
           },
           "zerolinecolor": "white",
           "zerolinewidth": 2
          }
         }
        },
        "title": {
         "text": "Age and gender distribution"
        },
        "xaxis": {
         "anchor": "y",
         "domain": [
          0,
          1
         ],
         "title": {
          "text": "Age"
         }
        },
        "yaxis": {
         "anchor": "x",
         "domain": [
          0,
          1
         ],
         "title": {
          "text": "count"
         }
        }
       }
      },
      "text/html": [
       "<div>                            <div id=\"23f59f69-e9c4-4154-864a-f1e8c0c5aac9\" class=\"plotly-graph-div\" style=\"height:525px; width:100%;\"></div>            <script type=\"text/javascript\">                require([\"plotly\"], function(Plotly) {                    window.PLOTLYENV=window.PLOTLYENV || {};                                    if (document.getElementById(\"23f59f69-e9c4-4154-864a-f1e8c0c5aac9\")) {                    Plotly.newPlot(                        \"23f59f69-e9c4-4154-864a-f1e8c0c5aac9\",                        [{\"alignmentgroup\":\"True\",\"bingroup\":\"x\",\"hovertemplate\":\"Sex=male<br>Age=%{x}<br>count=%{y}<extra></extra>\",\"legendgroup\":\"male\",\"marker\":{\"color\":\"#636efa\",\"pattern\":{\"shape\":\"\"}},\"name\":\"male\",\"nbinsx\":20,\"offsetgroup\":\"male\",\"orientation\":\"v\",\"showlegend\":true,\"x\":[22.0,35.0,29.69911764705882,54.0,2.0,20.0,39.0,2.0,29.69911764705882,35.0,34.0,28.0,29.69911764705882,19.0,29.69911764705882,40.0,66.0,28.0,42.0,29.69911764705882,21.0,29.69911764705882,29.69911764705882,29.69911764705882,29.69911764705882,7.0,21.0,65.0,29.69911764705882,28.5,11.0,22.0,45.0,4.0,29.69911764705882,29.69911764705882,19.0,26.0,32.0,21.0,26.0,32.0,25.0,29.69911764705882,29.69911764705882,0.83,22.0,29.0,28.0,16.0,29.69911764705882,24.0,29.0,20.0,46.0,26.0,59.0,29.69911764705882,71.0,23.0,34.0,29.69911764705882,21.0,33.0,37.0,28.0,29.69911764705882,38.0,47.0,22.0,21.0,70.5,29.0,24.0,21.0,29.69911764705882,32.5,54.0,12.0,29.69911764705882,24.0,45.0,33.0,20.0,25.0,23.0,37.0,16.0,24.0,19.0,18.0,19.0,27.0,36.5,42.0,51.0,55.5,40.5,29.69911764705882,51.0,30.0,29.69911764705882,29.69911764705882,44.0,26.0,17.0,1.0,9.0,29.69911764705882,28.0,61.0,4.0,21.0,56.0,18.0,29.69911764705882,30.0,36.0,29.69911764705882,9.0,1.0,29.69911764705882,45.0,40.0,36.0,19.0,3.0,29.69911764705882,42.0,28.0,29.69911764705882,34.0,45.5,18.0,32.0,26.0,40.0,24.0,22.0,30.0,29.69911764705882,42.0,30.0,16.0,27.0,51.0,29.69911764705882,38.0,22.0,19.0,20.5,18.0,29.0,59.0,24.0,44.0,19.0,33.0,29.0,22.0,30.0,44.0,37.0,54.0,29.69911764705882,62.0,30.0,29.69911764705882,3.0,52.0,40.0,36.0,16.0,25.0,29.69911764705882,25.0,37.0,29.69911764705882,7.0,65.0,28.0,16.0,19.0,29.69911764705882,33.0,30.0,22.0,42.0,36.0,24.0,29.69911764705882,23.5,29.69911764705882,29.69911764705882,19.0,29.69911764705882,0.92,30.0,28.0,43.0,54.0,22.0,27.0,29.69911764705882,61.0,45.5,38.0,16.0,29.69911764705882,29.0,45.0,45.0,2.0,28.0,25.0,36.0,3.0,42.0,23.0,29.69911764705882,15.0,25.0,29.69911764705882,28.0,40.0,29.0,35.0,29.69911764705882,30.0,25.0,18.0,19.0,22.0,27.0,20.0,19.0,32.0,29.69911764705882,18.0,1.0,29.69911764705882,36.0,21.0,28.0,22.0,46.0,23.0,39.0,26.0,28.0,34.0,51.0,3.0,21.0,29.69911764705882,29.69911764705882,29.69911764705882,44.0,30.0,29.69911764705882,21.0,29.0,18.0,29.69911764705882,29.69911764705882,32.0,28.0,17.0,50.0,64.0,31.0,20.0,25.0,29.69911764705882,4.0,34.0,52.0,36.0,29.69911764705882,30.0,49.0,29.69911764705882,29.0,65.0,29.69911764705882,48.0,34.0,47.0,48.0,29.69911764705882,38.0,29.69911764705882,56.0,29.69911764705882,29.69911764705882,38.0,29.69911764705882,34.0,29.0,22.0,9.0,29.69911764705882,50.0,25.0,58.0,30.0,9.0,29.69911764705882,21.0,55.0,71.0,21.0,29.69911764705882,29.69911764705882,24.0,17.0,18.0,29.69911764705882,28.0,26.0,29.0,29.69911764705882,36.0,24.0,47.0,29.69911764705882,32.0,22.0,29.69911764705882,29.69911764705882,40.5,29.69911764705882,39.0,23.0,29.69911764705882,17.0,45.0,29.69911764705882,32.0,50.0,64.0,29.69911764705882,33.0,8.0,17.0,27.0,29.69911764705882,22.0,62.0,29.69911764705882,29.69911764705882,40.0,28.0,29.69911764705882,24.0,19.0,29.69911764705882,32.0,62.0,36.0,16.0,19.0,32.0,54.0,36.0,29.69911764705882,47.0,60.0,22.0,29.69911764705882,35.0,47.0,37.0,36.0,49.0,29.69911764705882,49.0,29.69911764705882,29.69911764705882,44.0,35.0,36.0,30.0,27.0,29.69911764705882,29.69911764705882,35.0,34.0,26.0,27.0,42.0,20.0,21.0,21.0,61.0,57.0,26.0,29.69911764705882,80.0,51.0,32.0,29.69911764705882,32.0,31.0,29.69911764705882,20.0,29.69911764705882,48.0,19.0,56.0,29.69911764705882,29.69911764705882,21.0,24.0,29.69911764705882,23.0,58.0,50.0,40.0,47.0,36.0,20.0,32.0,25.0,29.69911764705882,43.0,31.0,70.0,31.0,29.69911764705882,18.0,24.5,36.0,27.0,20.0,14.0,60.0,25.0,14.0,19.0,18.0,31.0,29.69911764705882,25.0,60.0,52.0,44.0,49.0,42.0,35.0,25.0,26.0,39.0,42.0,29.69911764705882,29.69911764705882,48.0,29.0,52.0,19.0,29.69911764705882,33.0,17.0,34.0,50.0,27.0,20.0,25.0,11.0,29.69911764705882,23.0,23.0,28.5,35.0,29.69911764705882,29.69911764705882,29.69911764705882,36.0,24.0,31.0,70.0,16.0,19.0,31.0,6.0,33.0,23.0,0.67,28.0,18.0,34.0,29.69911764705882,41.0,20.0,16.0,29.69911764705882,29.69911764705882,32.0,24.0,48.0,29.69911764705882,18.0,29.69911764705882,29.69911764705882,29.0,29.69911764705882,25.0,25.0,8.0,1.0,46.0,29.69911764705882,16.0,29.69911764705882,25.0,39.0,30.0,34.0,11.0,0.42,27.0,31.0,39.0,39.0,26.0,39.0,35.0,30.5,29.69911764705882,31.0,43.0,10.0,27.0,38.0,2.0,29.69911764705882,29.69911764705882,1.0,29.69911764705882,0.83,29.69911764705882,23.0,18.0,21.0,29.69911764705882,32.0,29.69911764705882,20.0,16.0,34.5,17.0,42.0,29.69911764705882,35.0,28.0,4.0,74.0,51.0,29.69911764705882,41.0,21.0,24.0,31.0,29.69911764705882,4.0,26.0,33.0,47.0,20.0,19.0,29.69911764705882,33.0,28.0,25.0,27.0,26.0,32.0],\"xaxis\":\"x\",\"yaxis\":\"y\",\"type\":\"histogram\"},{\"alignmentgroup\":\"True\",\"bingroup\":\"x\",\"hovertemplate\":\"Sex=female<br>Age=%{x}<br>count=%{y}<extra></extra>\",\"legendgroup\":\"female\",\"marker\":{\"color\":\"#EF553B\",\"pattern\":{\"shape\":\"\"}},\"name\":\"female\",\"nbinsx\":20,\"offsetgroup\":\"female\",\"orientation\":\"v\",\"showlegend\":true,\"x\":[38.0,26.0,35.0,27.0,14.0,4.0,58.0,14.0,55.0,31.0,29.69911764705882,15.0,8.0,38.0,29.69911764705882,29.69911764705882,29.69911764705882,18.0,14.0,40.0,27.0,3.0,19.0,29.69911764705882,18.0,49.0,29.0,21.0,5.0,38.0,29.0,17.0,16.0,30.0,29.69911764705882,17.0,33.0,23.0,34.0,28.0,21.0,29.69911764705882,14.5,20.0,17.0,2.0,32.5,29.69911764705882,47.0,29.0,19.0,29.69911764705882,22.0,24.0,9.0,22.0,16.0,40.0,29.69911764705882,45.0,1.0,50.0,29.69911764705882,4.0,29.69911764705882,32.0,19.0,44.0,58.0,29.69911764705882,24.0,2.0,16.0,35.0,31.0,27.0,32.0,29.69911764705882,35.0,5.0,29.69911764705882,8.0,29.69911764705882,29.69911764705882,25.0,24.0,29.0,41.0,29.0,29.69911764705882,30.0,35.0,50.0,29.69911764705882,58.0,35.0,41.0,29.69911764705882,63.0,45.0,35.0,22.0,26.0,19.0,24.0,2.0,50.0,29.69911764705882,29.69911764705882,29.69911764705882,17.0,30.0,24.0,18.0,26.0,26.0,24.0,31.0,40.0,30.0,22.0,36.0,36.0,31.0,16.0,29.69911764705882,29.69911764705882,41.0,24.0,24.0,40.0,29.69911764705882,22.0,38.0,29.69911764705882,29.69911764705882,45.0,60.0,29.69911764705882,29.69911764705882,24.0,3.0,29.69911764705882,22.0,42.0,1.0,35.0,36.0,17.0,23.0,24.0,31.0,28.0,21.0,20.0,29.69911764705882,33.0,29.69911764705882,34.0,18.0,10.0,28.0,28.0,19.0,29.69911764705882,42.0,14.0,21.0,24.0,45.0,28.0,13.0,5.0,29.69911764705882,50.0,0.75,33.0,23.0,22.0,2.0,63.0,29.69911764705882,35.0,54.0,25.0,21.0,29.69911764705882,37.0,16.0,33.0,54.0,34.0,36.0,30.0,44.0,50.0,2.0,29.69911764705882,30.0,7.0,30.0,22.0,36.0,9.0,11.0,19.0,22.0,48.0,39.0,36.0,29.69911764705882,29.0,53.0,29.69911764705882,34.0,39.0,29.69911764705882,25.0,39.0,18.0,52.0,29.69911764705882,29.69911764705882,24.0,22.0,40.0,39.0,29.69911764705882,24.0,26.0,4.0,21.0,9.0,28.0,41.0,24.0,2.0,0.75,23.0,18.0,29.69911764705882,18.0,32.0,29.69911764705882,40.0,18.0,43.0,29.69911764705882,15.0,4.0,29.69911764705882,18.0,18.0,45.0,22.0,24.0,38.0,27.0,6.0,30.0,29.69911764705882,25.0,29.0,48.0,21.0,30.0,4.0,48.0,33.0,36.0,51.0,30.5,57.0,54.0,5.0,43.0,13.0,17.0,18.0,29.69911764705882,49.0,31.0,30.0,31.0,18.0,33.0,6.0,23.0,52.0,27.0,62.0,15.0,39.0,30.0,29.69911764705882,9.0,16.0,44.0,18.0,45.0,24.0,48.0,29.69911764705882,42.0,27.0,47.0,28.0,15.0,56.0,25.0,22.0,39.0,19.0,29.69911764705882],\"xaxis\":\"x\",\"yaxis\":\"y\",\"type\":\"histogram\"}],                        {\"template\":{\"data\":{\"bar\":[{\"error_x\":{\"color\":\"#2a3f5f\"},\"error_y\":{\"color\":\"#2a3f5f\"},\"marker\":{\"line\":{\"color\":\"#E5ECF6\",\"width\":0.5},\"pattern\":{\"fillmode\":\"overlay\",\"size\":10,\"solidity\":0.2}},\"type\":\"bar\"}],\"barpolar\":[{\"marker\":{\"line\":{\"color\":\"#E5ECF6\",\"width\":0.5},\"pattern\":{\"fillmode\":\"overlay\",\"size\":10,\"solidity\":0.2}},\"type\":\"barpolar\"}],\"carpet\":[{\"aaxis\":{\"endlinecolor\":\"#2a3f5f\",\"gridcolor\":\"white\",\"linecolor\":\"white\",\"minorgridcolor\":\"white\",\"startlinecolor\":\"#2a3f5f\"},\"baxis\":{\"endlinecolor\":\"#2a3f5f\",\"gridcolor\":\"white\",\"linecolor\":\"white\",\"minorgridcolor\":\"white\",\"startlinecolor\":\"#2a3f5f\"},\"type\":\"carpet\"}],\"choropleth\":[{\"colorbar\":{\"outlinewidth\":0,\"ticks\":\"\"},\"type\":\"choropleth\"}],\"contour\":[{\"colorbar\":{\"outlinewidth\":0,\"ticks\":\"\"},\"colorscale\":[[0.0,\"#0d0887\"],[0.1111111111111111,\"#46039f\"],[0.2222222222222222,\"#7201a8\"],[0.3333333333333333,\"#9c179e\"],[0.4444444444444444,\"#bd3786\"],[0.5555555555555556,\"#d8576b\"],[0.6666666666666666,\"#ed7953\"],[0.7777777777777778,\"#fb9f3a\"],[0.8888888888888888,\"#fdca26\"],[1.0,\"#f0f921\"]],\"type\":\"contour\"}],\"contourcarpet\":[{\"colorbar\":{\"outlinewidth\":0,\"ticks\":\"\"},\"type\":\"contourcarpet\"}],\"heatmap\":[{\"colorbar\":{\"outlinewidth\":0,\"ticks\":\"\"},\"colorscale\":[[0.0,\"#0d0887\"],[0.1111111111111111,\"#46039f\"],[0.2222222222222222,\"#7201a8\"],[0.3333333333333333,\"#9c179e\"],[0.4444444444444444,\"#bd3786\"],[0.5555555555555556,\"#d8576b\"],[0.6666666666666666,\"#ed7953\"],[0.7777777777777778,\"#fb9f3a\"],[0.8888888888888888,\"#fdca26\"],[1.0,\"#f0f921\"]],\"type\":\"heatmap\"}],\"heatmapgl\":[{\"colorbar\":{\"outlinewidth\":0,\"ticks\":\"\"},\"colorscale\":[[0.0,\"#0d0887\"],[0.1111111111111111,\"#46039f\"],[0.2222222222222222,\"#7201a8\"],[0.3333333333333333,\"#9c179e\"],[0.4444444444444444,\"#bd3786\"],[0.5555555555555556,\"#d8576b\"],[0.6666666666666666,\"#ed7953\"],[0.7777777777777778,\"#fb9f3a\"],[0.8888888888888888,\"#fdca26\"],[1.0,\"#f0f921\"]],\"type\":\"heatmapgl\"}],\"histogram\":[{\"marker\":{\"pattern\":{\"fillmode\":\"overlay\",\"size\":10,\"solidity\":0.2}},\"type\":\"histogram\"}],\"histogram2d\":[{\"colorbar\":{\"outlinewidth\":0,\"ticks\":\"\"},\"colorscale\":[[0.0,\"#0d0887\"],[0.1111111111111111,\"#46039f\"],[0.2222222222222222,\"#7201a8\"],[0.3333333333333333,\"#9c179e\"],[0.4444444444444444,\"#bd3786\"],[0.5555555555555556,\"#d8576b\"],[0.6666666666666666,\"#ed7953\"],[0.7777777777777778,\"#fb9f3a\"],[0.8888888888888888,\"#fdca26\"],[1.0,\"#f0f921\"]],\"type\":\"histogram2d\"}],\"histogram2dcontour\":[{\"colorbar\":{\"outlinewidth\":0,\"ticks\":\"\"},\"colorscale\":[[0.0,\"#0d0887\"],[0.1111111111111111,\"#46039f\"],[0.2222222222222222,\"#7201a8\"],[0.3333333333333333,\"#9c179e\"],[0.4444444444444444,\"#bd3786\"],[0.5555555555555556,\"#d8576b\"],[0.6666666666666666,\"#ed7953\"],[0.7777777777777778,\"#fb9f3a\"],[0.8888888888888888,\"#fdca26\"],[1.0,\"#f0f921\"]],\"type\":\"histogram2dcontour\"}],\"mesh3d\":[{\"colorbar\":{\"outlinewidth\":0,\"ticks\":\"\"},\"type\":\"mesh3d\"}],\"parcoords\":[{\"line\":{\"colorbar\":{\"outlinewidth\":0,\"ticks\":\"\"}},\"type\":\"parcoords\"}],\"pie\":[{\"automargin\":true,\"type\":\"pie\"}],\"scatter\":[{\"marker\":{\"colorbar\":{\"outlinewidth\":0,\"ticks\":\"\"}},\"type\":\"scatter\"}],\"scatter3d\":[{\"line\":{\"colorbar\":{\"outlinewidth\":0,\"ticks\":\"\"}},\"marker\":{\"colorbar\":{\"outlinewidth\":0,\"ticks\":\"\"}},\"type\":\"scatter3d\"}],\"scattercarpet\":[{\"marker\":{\"colorbar\":{\"outlinewidth\":0,\"ticks\":\"\"}},\"type\":\"scattercarpet\"}],\"scattergeo\":[{\"marker\":{\"colorbar\":{\"outlinewidth\":0,\"ticks\":\"\"}},\"type\":\"scattergeo\"}],\"scattergl\":[{\"marker\":{\"colorbar\":{\"outlinewidth\":0,\"ticks\":\"\"}},\"type\":\"scattergl\"}],\"scattermapbox\":[{\"marker\":{\"colorbar\":{\"outlinewidth\":0,\"ticks\":\"\"}},\"type\":\"scattermapbox\"}],\"scatterpolar\":[{\"marker\":{\"colorbar\":{\"outlinewidth\":0,\"ticks\":\"\"}},\"type\":\"scatterpolar\"}],\"scatterpolargl\":[{\"marker\":{\"colorbar\":{\"outlinewidth\":0,\"ticks\":\"\"}},\"type\":\"scatterpolargl\"}],\"scatterternary\":[{\"marker\":{\"colorbar\":{\"outlinewidth\":0,\"ticks\":\"\"}},\"type\":\"scatterternary\"}],\"surface\":[{\"colorbar\":{\"outlinewidth\":0,\"ticks\":\"\"},\"colorscale\":[[0.0,\"#0d0887\"],[0.1111111111111111,\"#46039f\"],[0.2222222222222222,\"#7201a8\"],[0.3333333333333333,\"#9c179e\"],[0.4444444444444444,\"#bd3786\"],[0.5555555555555556,\"#d8576b\"],[0.6666666666666666,\"#ed7953\"],[0.7777777777777778,\"#fb9f3a\"],[0.8888888888888888,\"#fdca26\"],[1.0,\"#f0f921\"]],\"type\":\"surface\"}],\"table\":[{\"cells\":{\"fill\":{\"color\":\"#EBF0F8\"},\"line\":{\"color\":\"white\"}},\"header\":{\"fill\":{\"color\":\"#C8D4E3\"},\"line\":{\"color\":\"white\"}},\"type\":\"table\"}]},\"layout\":{\"annotationdefaults\":{\"arrowcolor\":\"#2a3f5f\",\"arrowhead\":0,\"arrowwidth\":1},\"autotypenumbers\":\"strict\",\"coloraxis\":{\"colorbar\":{\"outlinewidth\":0,\"ticks\":\"\"}},\"colorscale\":{\"diverging\":[[0,\"#8e0152\"],[0.1,\"#c51b7d\"],[0.2,\"#de77ae\"],[0.3,\"#f1b6da\"],[0.4,\"#fde0ef\"],[0.5,\"#f7f7f7\"],[0.6,\"#e6f5d0\"],[0.7,\"#b8e186\"],[0.8,\"#7fbc41\"],[0.9,\"#4d9221\"],[1,\"#276419\"]],\"sequential\":[[0.0,\"#0d0887\"],[0.1111111111111111,\"#46039f\"],[0.2222222222222222,\"#7201a8\"],[0.3333333333333333,\"#9c179e\"],[0.4444444444444444,\"#bd3786\"],[0.5555555555555556,\"#d8576b\"],[0.6666666666666666,\"#ed7953\"],[0.7777777777777778,\"#fb9f3a\"],[0.8888888888888888,\"#fdca26\"],[1.0,\"#f0f921\"]],\"sequentialminus\":[[0.0,\"#0d0887\"],[0.1111111111111111,\"#46039f\"],[0.2222222222222222,\"#7201a8\"],[0.3333333333333333,\"#9c179e\"],[0.4444444444444444,\"#bd3786\"],[0.5555555555555556,\"#d8576b\"],[0.6666666666666666,\"#ed7953\"],[0.7777777777777778,\"#fb9f3a\"],[0.8888888888888888,\"#fdca26\"],[1.0,\"#f0f921\"]]},\"colorway\":[\"#636efa\",\"#EF553B\",\"#00cc96\",\"#ab63fa\",\"#FFA15A\",\"#19d3f3\",\"#FF6692\",\"#B6E880\",\"#FF97FF\",\"#FECB52\"],\"font\":{\"color\":\"#2a3f5f\"},\"geo\":{\"bgcolor\":\"white\",\"lakecolor\":\"white\",\"landcolor\":\"#E5ECF6\",\"showlakes\":true,\"showland\":true,\"subunitcolor\":\"white\"},\"hoverlabel\":{\"align\":\"left\"},\"hovermode\":\"closest\",\"mapbox\":{\"style\":\"light\"},\"paper_bgcolor\":\"white\",\"plot_bgcolor\":\"#E5ECF6\",\"polar\":{\"angularaxis\":{\"gridcolor\":\"white\",\"linecolor\":\"white\",\"ticks\":\"\"},\"bgcolor\":\"#E5ECF6\",\"radialaxis\":{\"gridcolor\":\"white\",\"linecolor\":\"white\",\"ticks\":\"\"}},\"scene\":{\"xaxis\":{\"backgroundcolor\":\"#E5ECF6\",\"gridcolor\":\"white\",\"gridwidth\":2,\"linecolor\":\"white\",\"showbackground\":true,\"ticks\":\"\",\"zerolinecolor\":\"white\"},\"yaxis\":{\"backgroundcolor\":\"#E5ECF6\",\"gridcolor\":\"white\",\"gridwidth\":2,\"linecolor\":\"white\",\"showbackground\":true,\"ticks\":\"\",\"zerolinecolor\":\"white\"},\"zaxis\":{\"backgroundcolor\":\"#E5ECF6\",\"gridcolor\":\"white\",\"gridwidth\":2,\"linecolor\":\"white\",\"showbackground\":true,\"ticks\":\"\",\"zerolinecolor\":\"white\"}},\"shapedefaults\":{\"line\":{\"color\":\"#2a3f5f\"}},\"ternary\":{\"aaxis\":{\"gridcolor\":\"white\",\"linecolor\":\"white\",\"ticks\":\"\"},\"baxis\":{\"gridcolor\":\"white\",\"linecolor\":\"white\",\"ticks\":\"\"},\"bgcolor\":\"#E5ECF6\",\"caxis\":{\"gridcolor\":\"white\",\"linecolor\":\"white\",\"ticks\":\"\"}},\"title\":{\"x\":0.05},\"xaxis\":{\"automargin\":true,\"gridcolor\":\"white\",\"linecolor\":\"white\",\"ticks\":\"\",\"title\":{\"standoff\":15},\"zerolinecolor\":\"white\",\"zerolinewidth\":2},\"yaxis\":{\"automargin\":true,\"gridcolor\":\"white\",\"linecolor\":\"white\",\"ticks\":\"\",\"title\":{\"standoff\":15},\"zerolinecolor\":\"white\",\"zerolinewidth\":2}}},\"xaxis\":{\"anchor\":\"y\",\"domain\":[0.0,1.0],\"title\":{\"text\":\"Age\"}},\"yaxis\":{\"anchor\":\"x\",\"domain\":[0.0,1.0],\"title\":{\"text\":\"count\"}},\"legend\":{\"title\":{\"text\":\"Sex\"},\"tracegroupgap\":0},\"title\":{\"text\":\"Age and gender distribution\"},\"barmode\":\"relative\"},                        {\"responsive\": true}                    ).then(function(){\n",
       "                            \n",
       "var gd = document.getElementById('23f59f69-e9c4-4154-864a-f1e8c0c5aac9');\n",
       "var x = new MutationObserver(function (mutations, observer) {{\n",
       "        var display = window.getComputedStyle(gd).display;\n",
       "        if (!display || display === 'none') {{\n",
       "            console.log([gd, 'removed!']);\n",
       "            Plotly.purge(gd);\n",
       "            observer.disconnect();\n",
       "        }}\n",
       "}});\n",
       "\n",
       "// Listen for the removal of the full notebook cells\n",
       "var notebookContainer = gd.closest('#notebook-container');\n",
       "if (notebookContainer) {{\n",
       "    x.observe(notebookContainer, {childList: true});\n",
       "}}\n",
       "\n",
       "// Listen for the clearing of the current output cell\n",
       "var outputEl = gd.closest('.output');\n",
       "if (outputEl) {{\n",
       "    x.observe(outputEl, {childList: true});\n",
       "}}\n",
       "\n",
       "                        })                };                });            </script>        </div>"
      ]
     },
     "metadata": {},
     "output_type": "display_data"
    }
   ],
   "source": [
    "# Show the age distribution based on gender using a histogram.\n",
    "\n",
    "px.histogram(df, x = 'Age', \n",
    "             title ='Age and gender distribution', \n",
    "                   labels= 'Age', color = 'Sex',\n",
    "                   nbins=20)\n"
   ]
  },
  {
   "cell_type": "code",
   "execution_count": 175,
   "id": "6a20b095",
   "metadata": {},
   "outputs": [
    {
     "data": {
      "text/html": [
       "<style type=\"text/css\">\n",
       "#T_b327f_row0_col0, #T_b327f_row1_col1, #T_b327f_row2_col2, #T_b327f_row3_col3, #T_b327f_row4_col4, #T_b327f_row5_col5, #T_b327f_row6_col6, #T_b327f_row7_col7, #T_b327f_row8_col8, #T_b327f_row9_col9 {\n",
       "  background-color: #b40426;\n",
       "  color: #f1f1f1;\n",
       "}\n",
       "#T_b327f_row0_col1 {\n",
       "  background-color: #e2dad5;\n",
       "  color: #000000;\n",
       "}\n",
       "#T_b327f_row0_col2 {\n",
       "  background-color: #f2c9b4;\n",
       "  color: #000000;\n",
       "}\n",
       "#T_b327f_row0_col3, #T_b327f_row8_col6 {\n",
       "  background-color: #f6bfa6;\n",
       "  color: #000000;\n",
       "}\n",
       "#T_b327f_row0_col4 {\n",
       "  background-color: #c9d7f0;\n",
       "  color: #000000;\n",
       "}\n",
       "#T_b327f_row0_col5, #T_b327f_row0_col6, #T_b327f_row2_col3, #T_b327f_row2_col9, #T_b327f_row3_col2, #T_b327f_row4_col7, #T_b327f_row4_col8, #T_b327f_row6_col0, #T_b327f_row6_col1, #T_b327f_row8_col4 {\n",
       "  background-color: #3b4cc0;\n",
       "  color: #f1f1f1;\n",
       "}\n",
       "#T_b327f_row0_col7 {\n",
       "  background-color: #f7ba9f;\n",
       "  color: #000000;\n",
       "}\n",
       "#T_b327f_row0_col8 {\n",
       "  background-color: #5b7ae5;\n",
       "  color: #f1f1f1;\n",
       "}\n",
       "#T_b327f_row0_col9, #T_b327f_row5_col0 {\n",
       "  background-color: #9abbff;\n",
       "  color: #000000;\n",
       "}\n",
       "#T_b327f_row1_col0 {\n",
       "  background-color: #f4c5ad;\n",
       "  color: #000000;\n",
       "}\n",
       "#T_b327f_row1_col2 {\n",
       "  background-color: #6c8ff1;\n",
       "  color: #f1f1f1;\n",
       "}\n",
       "#T_b327f_row1_col3 {\n",
       "  background-color: #f7a688;\n",
       "  color: #000000;\n",
       "}\n",
       "#T_b327f_row1_col4 {\n",
       "  background-color: #7da0f9;\n",
       "  color: #f1f1f1;\n",
       "}\n",
       "#T_b327f_row1_col5 {\n",
       "  background-color: #dcdddd;\n",
       "  color: #000000;\n",
       "}\n",
       "#T_b327f_row1_col6 {\n",
       "  background-color: #80a3fa;\n",
       "  color: #f1f1f1;\n",
       "}\n",
       "#T_b327f_row1_col7 {\n",
       "  background-color: #f39475;\n",
       "  color: #000000;\n",
       "}\n",
       "#T_b327f_row1_col8 {\n",
       "  background-color: #e6d7cf;\n",
       "  color: #000000;\n",
       "}\n",
       "#T_b327f_row1_col9 {\n",
       "  background-color: #c5d6f2;\n",
       "  color: #000000;\n",
       "}\n",
       "#T_b327f_row2_col0, #T_b327f_row3_col7, #T_b327f_row7_col3 {\n",
       "  background-color: #f7bca1;\n",
       "  color: #000000;\n",
       "}\n",
       "#T_b327f_row2_col1, #T_b327f_row4_col1, #T_b327f_row7_col4 {\n",
       "  background-color: #4b64d5;\n",
       "  color: #f1f1f1;\n",
       "}\n",
       "#T_b327f_row2_col4, #T_b327f_row9_col8 {\n",
       "  background-color: #d6dce4;\n",
       "  color: #000000;\n",
       "}\n",
       "#T_b327f_row2_col5 {\n",
       "  background-color: #516ddb;\n",
       "  color: #f1f1f1;\n",
       "}\n",
       "#T_b327f_row2_col6 {\n",
       "  background-color: #b6cefa;\n",
       "  color: #000000;\n",
       "}\n",
       "#T_b327f_row2_col7, #T_b327f_row7_col2 {\n",
       "  background-color: #b1cbfc;\n",
       "  color: #000000;\n",
       "}\n",
       "#T_b327f_row2_col8 {\n",
       "  background-color: #5d7ce6;\n",
       "  color: #f1f1f1;\n",
       "}\n",
       "#T_b327f_row3_col0, #T_b327f_row3_col1 {\n",
       "  background-color: #f7b194;\n",
       "  color: #000000;\n",
       "}\n",
       "#T_b327f_row3_col4 {\n",
       "  background-color: #89acfd;\n",
       "  color: #000000;\n",
       "}\n",
       "#T_b327f_row3_col5 {\n",
       "  background-color: #3c4ec2;\n",
       "  color: #f1f1f1;\n",
       "}\n",
       "#T_b327f_row3_col6 {\n",
       "  background-color: #6788ee;\n",
       "  color: #f1f1f1;\n",
       "}\n",
       "#T_b327f_row3_col8 {\n",
       "  background-color: #ead5c9;\n",
       "  color: #000000;\n",
       "}\n",
       "#T_b327f_row3_col9 {\n",
       "  background-color: #f2cbb7;\n",
       "  color: #000000;\n",
       "}\n",
       "#T_b327f_row4_col0 {\n",
       "  background-color: #d3dbe7;\n",
       "  color: #000000;\n",
       "}\n",
       "#T_b327f_row4_col2 {\n",
       "  background-color: #cdd9ec;\n",
       "  color: #000000;\n",
       "}\n",
       "#T_b327f_row4_col3 {\n",
       "  background-color: #7a9df8;\n",
       "  color: #f1f1f1;\n",
       "}\n",
       "#T_b327f_row4_col5 {\n",
       "  background-color: #5a78e4;\n",
       "  color: #f1f1f1;\n",
       "}\n",
       "#T_b327f_row4_col6 {\n",
       "  background-color: #abc8fd;\n",
       "  color: #000000;\n",
       "}\n",
       "#T_b327f_row4_col9, #T_b327f_row7_col6 {\n",
       "  background-color: #6687ed;\n",
       "  color: #f1f1f1;\n",
       "}\n",
       "#T_b327f_row5_col1 {\n",
       "  background-color: #e9d5cb;\n",
       "  color: #000000;\n",
       "}\n",
       "#T_b327f_row5_col2 {\n",
       "  background-color: #8db0fe;\n",
       "  color: #000000;\n",
       "}\n",
       "#T_b327f_row5_col3 {\n",
       "  background-color: #799cf8;\n",
       "  color: #f1f1f1;\n",
       "}\n",
       "#T_b327f_row5_col4 {\n",
       "  background-color: #a3c2fe;\n",
       "  color: #000000;\n",
       "}\n",
       "#T_b327f_row5_col6, #T_b327f_row9_col1 {\n",
       "  background-color: #c1d4f4;\n",
       "  color: #000000;\n",
       "}\n",
       "#T_b327f_row5_col7, #T_b327f_row9_col7 {\n",
       "  background-color: #f4c6af;\n",
       "  color: #000000;\n",
       "}\n",
       "#T_b327f_row5_col8 {\n",
       "  background-color: #dfdbd9;\n",
       "  color: #000000;\n",
       "}\n",
       "#T_b327f_row5_col9 {\n",
       "  background-color: #aec9fc;\n",
       "  color: #000000;\n",
       "}\n",
       "#T_b327f_row6_col2 {\n",
       "  background-color: #98b9ff;\n",
       "  color: #000000;\n",
       "}\n",
       "#T_b327f_row6_col3 {\n",
       "  background-color: #4358cb;\n",
       "  color: #f1f1f1;\n",
       "}\n",
       "#T_b327f_row6_col4 {\n",
       "  background-color: #9bbcff;\n",
       "  color: #000000;\n",
       "}\n",
       "#T_b327f_row6_col5, #T_b327f_row8_col0 {\n",
       "  background-color: #6f92f3;\n",
       "  color: #f1f1f1;\n",
       "}\n",
       "#T_b327f_row6_col7 {\n",
       "  background-color: #3f53c6;\n",
       "  color: #f1f1f1;\n",
       "}\n",
       "#T_b327f_row6_col8, #T_b327f_row7_col8 {\n",
       "  background-color: #f3c7b1;\n",
       "  color: #000000;\n",
       "}\n",
       "#T_b327f_row6_col9 {\n",
       "  background-color: #4055c8;\n",
       "  color: #f1f1f1;\n",
       "}\n",
       "#T_b327f_row7_col0 {\n",
       "  background-color: #f7ad90;\n",
       "  color: #000000;\n",
       "}\n",
       "#T_b327f_row7_col1 {\n",
       "  background-color: #f59f80;\n",
       "  color: #000000;\n",
       "}\n",
       "#T_b327f_row7_col5 {\n",
       "  background-color: #e4d9d2;\n",
       "  color: #000000;\n",
       "}\n",
       "#T_b327f_row7_col9 {\n",
       "  background-color: #efcfbf;\n",
       "  color: #000000;\n",
       "}\n",
       "#T_b327f_row8_col1 {\n",
       "  background-color: #cfdaea;\n",
       "  color: #000000;\n",
       "}\n",
       "#T_b327f_row8_col2 {\n",
       "  background-color: #4c66d6;\n",
       "  color: #f1f1f1;\n",
       "}\n",
       "#T_b327f_row8_col3 {\n",
       "  background-color: #e3d9d3;\n",
       "  color: #000000;\n",
       "}\n",
       "#T_b327f_row8_col5 {\n",
       "  background-color: #b2ccfb;\n",
       "  color: #000000;\n",
       "}\n",
       "#T_b327f_row8_col7 {\n",
       "  background-color: #f1cdba;\n",
       "  color: #000000;\n",
       "}\n",
       "#T_b327f_row8_col9 {\n",
       "  background-color: #bbd1f8;\n",
       "  color: #000000;\n",
       "}\n",
       "#T_b327f_row9_col0 {\n",
       "  background-color: #cad8ef;\n",
       "  color: #000000;\n",
       "}\n",
       "#T_b327f_row9_col2 {\n",
       "  background-color: #5673e0;\n",
       "  color: #f1f1f1;\n",
       "}\n",
       "#T_b327f_row9_col3 {\n",
       "  background-color: #f5c0a7;\n",
       "  color: #000000;\n",
       "}\n",
       "#T_b327f_row9_col4 {\n",
       "  background-color: #92b4fe;\n",
       "  color: #000000;\n",
       "}\n",
       "#T_b327f_row9_col5 {\n",
       "  background-color: #93b5fe;\n",
       "  color: #000000;\n",
       "}\n",
       "#T_b327f_row9_col6 {\n",
       "  background-color: #81a4fb;\n",
       "  color: #f1f1f1;\n",
       "}\n",
       "</style>\n",
       "<table id=\"T_b327f\">\n",
       "  <thead>\n",
       "    <tr>\n",
       "      <th class=\"blank level0\" >&nbsp;</th>\n",
       "      <th id=\"T_b327f_level0_col0\" class=\"col_heading level0 col0\" >0</th>\n",
       "      <th id=\"T_b327f_level0_col1\" class=\"col_heading level0 col1\" >1</th>\n",
       "      <th id=\"T_b327f_level0_col2\" class=\"col_heading level0 col2\" >2</th>\n",
       "      <th id=\"T_b327f_level0_col3\" class=\"col_heading level0 col3\" >3</th>\n",
       "      <th id=\"T_b327f_level0_col4\" class=\"col_heading level0 col4\" >4</th>\n",
       "      <th id=\"T_b327f_level0_col5\" class=\"col_heading level0 col5\" >5</th>\n",
       "      <th id=\"T_b327f_level0_col6\" class=\"col_heading level0 col6\" >6</th>\n",
       "      <th id=\"T_b327f_level0_col7\" class=\"col_heading level0 col7\" >7</th>\n",
       "      <th id=\"T_b327f_level0_col8\" class=\"col_heading level0 col8\" >8</th>\n",
       "      <th id=\"T_b327f_level0_col9\" class=\"col_heading level0 col9\" >9</th>\n",
       "    </tr>\n",
       "  </thead>\n",
       "  <tbody>\n",
       "    <tr>\n",
       "      <th id=\"T_b327f_level0_row0\" class=\"row_heading level0 row0\" >0</th>\n",
       "      <td id=\"T_b327f_row0_col0\" class=\"data row0 col0\" >1.000000</td>\n",
       "      <td id=\"T_b327f_row0_col1\" class=\"data row0 col1\" >0.347533</td>\n",
       "      <td id=\"T_b327f_row0_col2\" class=\"data row0 col2\" >0.398948</td>\n",
       "      <td id=\"T_b327f_row0_col3\" class=\"data row0 col3\" >0.455743</td>\n",
       "      <td id=\"T_b327f_row0_col4\" class=\"data row0 col4\" >0.072914</td>\n",
       "      <td id=\"T_b327f_row0_col5\" class=\"data row0 col5\" >-0.233402</td>\n",
       "      <td id=\"T_b327f_row0_col6\" class=\"data row0 col6\" >-0.731222</td>\n",
       "      <td id=\"T_b327f_row0_col7\" class=\"data row0 col7\" >0.477978</td>\n",
       "      <td id=\"T_b327f_row0_col8\" class=\"data row0 col8\" >-0.442621</td>\n",
       "      <td id=\"T_b327f_row0_col9\" class=\"data row0 col9\" >0.015185</td>\n",
       "    </tr>\n",
       "    <tr>\n",
       "      <th id=\"T_b327f_level0_row1\" class=\"row_heading level0 row1\" >1</th>\n",
       "      <td id=\"T_b327f_row1_col0\" class=\"data row1 col0\" >0.347533</td>\n",
       "      <td id=\"T_b327f_row1_col1\" class=\"data row1 col1\" >1.000000</td>\n",
       "      <td id=\"T_b327f_row1_col2\" class=\"data row1 col2\" >-0.284056</td>\n",
       "      <td id=\"T_b327f_row1_col3\" class=\"data row1 col3\" >0.571003</td>\n",
       "      <td id=\"T_b327f_row1_col4\" class=\"data row1 col4\" >-0.285483</td>\n",
       "      <td id=\"T_b327f_row1_col5\" class=\"data row1 col5\" >0.382480</td>\n",
       "      <td id=\"T_b327f_row1_col6\" class=\"data row1 col6\" >-0.362842</td>\n",
       "      <td id=\"T_b327f_row1_col7\" class=\"data row1 col7\" >0.642578</td>\n",
       "      <td id=\"T_b327f_row1_col8\" class=\"data row1 col8\" >0.252556</td>\n",
       "      <td id=\"T_b327f_row1_col9\" class=\"data row1 col9\" >0.190047</td>\n",
       "    </tr>\n",
       "    <tr>\n",
       "      <th id=\"T_b327f_level0_row2\" class=\"row_heading level0 row2\" >2</th>\n",
       "      <td id=\"T_b327f_row2_col0\" class=\"data row2 col0\" >0.398948</td>\n",
       "      <td id=\"T_b327f_row2_col1\" class=\"data row2 col1\" >-0.284056</td>\n",
       "      <td id=\"T_b327f_row2_col2\" class=\"data row2 col2\" >1.000000</td>\n",
       "      <td id=\"T_b327f_row2_col3\" class=\"data row2 col3\" >-0.523649</td>\n",
       "      <td id=\"T_b327f_row2_col4\" class=\"data row2 col4\" >0.152937</td>\n",
       "      <td id=\"T_b327f_row2_col5\" class=\"data row2 col5\" >-0.139176</td>\n",
       "      <td id=\"T_b327f_row2_col6\" class=\"data row2 col6\" >-0.092895</td>\n",
       "      <td id=\"T_b327f_row2_col7\" class=\"data row2 col7\" >0.016266</td>\n",
       "      <td id=\"T_b327f_row2_col8\" class=\"data row2 col8\" >-0.434016</td>\n",
       "      <td id=\"T_b327f_row2_col9\" class=\"data row2 col9\" >-0.383585</td>\n",
       "    </tr>\n",
       "    <tr>\n",
       "      <th id=\"T_b327f_level0_row3\" class=\"row_heading level0 row3\" >3</th>\n",
       "      <td id=\"T_b327f_row3_col0\" class=\"data row3 col0\" >0.455743</td>\n",
       "      <td id=\"T_b327f_row3_col1\" class=\"data row3 col1\" >0.571003</td>\n",
       "      <td id=\"T_b327f_row3_col2\" class=\"data row3 col2\" >-0.523649</td>\n",
       "      <td id=\"T_b327f_row3_col3\" class=\"data row3 col3\" >1.000000</td>\n",
       "      <td id=\"T_b327f_row3_col4\" class=\"data row3 col4\" >-0.225343</td>\n",
       "      <td id=\"T_b327f_row3_col5\" class=\"data row3 col5\" >-0.227577</td>\n",
       "      <td id=\"T_b327f_row3_col6\" class=\"data row3 col6\" >-0.481548</td>\n",
       "      <td id=\"T_b327f_row3_col7\" class=\"data row3 col7\" >0.473286</td>\n",
       "      <td id=\"T_b327f_row3_col8\" class=\"data row3 col8\" >0.279258</td>\n",
       "      <td id=\"T_b327f_row3_col9\" class=\"data row3 col9\" >0.446650</td>\n",
       "    </tr>\n",
       "    <tr>\n",
       "      <th id=\"T_b327f_level0_row4\" class=\"row_heading level0 row4\" >4</th>\n",
       "      <td id=\"T_b327f_row4_col0\" class=\"data row4 col0\" >0.072914</td>\n",
       "      <td id=\"T_b327f_row4_col1\" class=\"data row4 col1\" >-0.285483</td>\n",
       "      <td id=\"T_b327f_row4_col2\" class=\"data row4 col2\" >0.152937</td>\n",
       "      <td id=\"T_b327f_row4_col3\" class=\"data row4 col3\" >-0.225343</td>\n",
       "      <td id=\"T_b327f_row4_col4\" class=\"data row4 col4\" >1.000000</td>\n",
       "      <td id=\"T_b327f_row4_col5\" class=\"data row4 col5\" >-0.104438</td>\n",
       "      <td id=\"T_b327f_row4_col6\" class=\"data row4 col6\" >-0.147477</td>\n",
       "      <td id=\"T_b327f_row4_col7\" class=\"data row4 col7\" >-0.523283</td>\n",
       "      <td id=\"T_b327f_row4_col8\" class=\"data row4 col8\" >-0.614603</td>\n",
       "      <td id=\"T_b327f_row4_col9\" class=\"data row4 col9\" >-0.189916</td>\n",
       "    </tr>\n",
       "    <tr>\n",
       "      <th id=\"T_b327f_level0_row5\" class=\"row_heading level0 row5\" >5</th>\n",
       "      <td id=\"T_b327f_row5_col0\" class=\"data row5 col0\" >-0.233402</td>\n",
       "      <td id=\"T_b327f_row5_col1\" class=\"data row5 col1\" >0.382480</td>\n",
       "      <td id=\"T_b327f_row5_col2\" class=\"data row5 col2\" >-0.139176</td>\n",
       "      <td id=\"T_b327f_row5_col3\" class=\"data row5 col3\" >-0.227577</td>\n",
       "      <td id=\"T_b327f_row5_col4\" class=\"data row5 col4\" >-0.104438</td>\n",
       "      <td id=\"T_b327f_row5_col5\" class=\"data row5 col5\" >1.000000</td>\n",
       "      <td id=\"T_b327f_row5_col6\" class=\"data row5 col6\" >-0.030252</td>\n",
       "      <td id=\"T_b327f_row5_col7\" class=\"data row5 col7\" >0.417640</td>\n",
       "      <td id=\"T_b327f_row5_col8\" class=\"data row5 col8\" >0.205851</td>\n",
       "      <td id=\"T_b327f_row5_col9\" class=\"data row5 col9\" >0.095084</td>\n",
       "    </tr>\n",
       "    <tr>\n",
       "      <th id=\"T_b327f_level0_row6\" class=\"row_heading level0 row6\" >6</th>\n",
       "      <td id=\"T_b327f_row6_col0\" class=\"data row6 col0\" >-0.731222</td>\n",
       "      <td id=\"T_b327f_row6_col1\" class=\"data row6 col1\" >-0.362842</td>\n",
       "      <td id=\"T_b327f_row6_col2\" class=\"data row6 col2\" >-0.092895</td>\n",
       "      <td id=\"T_b327f_row6_col3\" class=\"data row6 col3\" >-0.481548</td>\n",
       "      <td id=\"T_b327f_row6_col4\" class=\"data row6 col4\" >-0.147477</td>\n",
       "      <td id=\"T_b327f_row6_col5\" class=\"data row6 col5\" >-0.030252</td>\n",
       "      <td id=\"T_b327f_row6_col6\" class=\"data row6 col6\" >1.000000</td>\n",
       "      <td id=\"T_b327f_row6_col7\" class=\"data row6 col7\" >-0.494440</td>\n",
       "      <td id=\"T_b327f_row6_col8\" class=\"data row6 col8\" >0.381407</td>\n",
       "      <td id=\"T_b327f_row6_col9\" class=\"data row6 col9\" >-0.353652</td>\n",
       "    </tr>\n",
       "    <tr>\n",
       "      <th id=\"T_b327f_level0_row7\" class=\"row_heading level0 row7\" >7</th>\n",
       "      <td id=\"T_b327f_row7_col0\" class=\"data row7 col0\" >0.477978</td>\n",
       "      <td id=\"T_b327f_row7_col1\" class=\"data row7 col1\" >0.642578</td>\n",
       "      <td id=\"T_b327f_row7_col2\" class=\"data row7 col2\" >0.016266</td>\n",
       "      <td id=\"T_b327f_row7_col3\" class=\"data row7 col3\" >0.473286</td>\n",
       "      <td id=\"T_b327f_row7_col4\" class=\"data row7 col4\" >-0.523283</td>\n",
       "      <td id=\"T_b327f_row7_col5\" class=\"data row7 col5\" >0.417640</td>\n",
       "      <td id=\"T_b327f_row7_col6\" class=\"data row7 col6\" >-0.494440</td>\n",
       "      <td id=\"T_b327f_row7_col7\" class=\"data row7 col7\" >1.000000</td>\n",
       "      <td id=\"T_b327f_row7_col8\" class=\"data row7 col8\" >0.375873</td>\n",
       "      <td id=\"T_b327f_row7_col9\" class=\"data row7 col9\" >0.417863</td>\n",
       "    </tr>\n",
       "    <tr>\n",
       "      <th id=\"T_b327f_level0_row8\" class=\"row_heading level0 row8\" >8</th>\n",
       "      <td id=\"T_b327f_row8_col0\" class=\"data row8 col0\" >-0.442621</td>\n",
       "      <td id=\"T_b327f_row8_col1\" class=\"data row8 col1\" >0.252556</td>\n",
       "      <td id=\"T_b327f_row8_col2\" class=\"data row8 col2\" >-0.434016</td>\n",
       "      <td id=\"T_b327f_row8_col3\" class=\"data row8 col3\" >0.279258</td>\n",
       "      <td id=\"T_b327f_row8_col4\" class=\"data row8 col4\" >-0.614603</td>\n",
       "      <td id=\"T_b327f_row8_col5\" class=\"data row8 col5\" >0.205851</td>\n",
       "      <td id=\"T_b327f_row8_col6\" class=\"data row8 col6\" >0.381407</td>\n",
       "      <td id=\"T_b327f_row8_col7\" class=\"data row8 col7\" >0.375873</td>\n",
       "      <td id=\"T_b327f_row8_col8\" class=\"data row8 col8\" >1.000000</td>\n",
       "      <td id=\"T_b327f_row8_col9\" class=\"data row8 col9\" >0.150421</td>\n",
       "    </tr>\n",
       "    <tr>\n",
       "      <th id=\"T_b327f_level0_row9\" class=\"row_heading level0 row9\" >9</th>\n",
       "      <td id=\"T_b327f_row9_col0\" class=\"data row9 col0\" >0.015185</td>\n",
       "      <td id=\"T_b327f_row9_col1\" class=\"data row9 col1\" >0.190047</td>\n",
       "      <td id=\"T_b327f_row9_col2\" class=\"data row9 col2\" >-0.383585</td>\n",
       "      <td id=\"T_b327f_row9_col3\" class=\"data row9 col3\" >0.446650</td>\n",
       "      <td id=\"T_b327f_row9_col4\" class=\"data row9 col4\" >-0.189916</td>\n",
       "      <td id=\"T_b327f_row9_col5\" class=\"data row9 col5\" >0.095084</td>\n",
       "      <td id=\"T_b327f_row9_col6\" class=\"data row9 col6\" >-0.353652</td>\n",
       "      <td id=\"T_b327f_row9_col7\" class=\"data row9 col7\" >0.417863</td>\n",
       "      <td id=\"T_b327f_row9_col8\" class=\"data row9 col8\" >0.150421</td>\n",
       "      <td id=\"T_b327f_row9_col9\" class=\"data row9 col9\" >1.000000</td>\n",
       "    </tr>\n",
       "  </tbody>\n",
       "</table>\n"
      ],
      "text/plain": [
       "<pandas.io.formats.style.Styler at 0x1a5a74b1a90>"
      ]
     },
     "execution_count": 175,
     "metadata": {},
     "output_type": "execute_result"
    }
   ],
   "source": [
    "# Using the function df.corr() to identify the correlation within the data, represent its results using a form of a matrix plot.\n",
    "\n",
    "\n",
    "rs = np.random.RandomState(0)\n",
    "df = pd.DataFrame(rs.rand(10, 10))\n",
    "corr = df.corr()\n",
    "corr.style.background_gradient(cmap='coolwarm')\n",
    "# 'RdBu_r', 'BrBG_r', & PuOr_r are other good diverging colormaps"
   ]
  },
  {
   "cell_type": "code",
   "execution_count": 203,
   "id": "04ff3cc9",
   "metadata": {
    "scrolled": true
   },
   "outputs": [
    {
     "name": "stdout",
     "output_type": "stream",
     "text": [
      "<class 'pandas.core.frame.DataFrame'>\n",
      "RangeIndex: 891 entries, 0 to 890\n",
      "Data columns (total 10 columns):\n",
      " #   Column       Non-Null Count  Dtype  \n",
      "---  ------       --------------  -----  \n",
      " 0   PassengerId  891 non-null    int64  \n",
      " 1   Survived     891 non-null    int64  \n",
      " 2   Pclass       891 non-null    int64  \n",
      " 3   Name         891 non-null    object \n",
      " 4   Sex          891 non-null    object \n",
      " 5   Age          891 non-null    float64\n",
      " 6   SibSp        891 non-null    int64  \n",
      " 7   Parch        891 non-null    int64  \n",
      " 8   Fare         891 non-null    float64\n",
      " 9   Embarked     891 non-null    object \n",
      "dtypes: float64(2), int64(5), object(3)\n",
      "memory usage: 69.7+ KB\n"
     ]
    }
   ],
   "source": [
    "df = pd.read_csv('Titanic Data.csv')\n",
    "df['Age']=df['Age'].fillna((df['Age'].mean()))\n",
    "df['Embarked'].fillna('S', inplace=True)\n",
    "df = df.drop(['Cabin','Ticket'], axis=1)\n",
    "df.info()\n"
   ]
  },
  {
   "cell_type": "code",
   "execution_count": 204,
   "id": "14abe1e1",
   "metadata": {},
   "outputs": [
    {
     "data": {
      "text/html": [
       "<div>\n",
       "<style scoped>\n",
       "    .dataframe tbody tr th:only-of-type {\n",
       "        vertical-align: middle;\n",
       "    }\n",
       "\n",
       "    .dataframe tbody tr th {\n",
       "        vertical-align: top;\n",
       "    }\n",
       "\n",
       "    .dataframe thead th {\n",
       "        text-align: right;\n",
       "    }\n",
       "</style>\n",
       "<table border=\"1\" class=\"dataframe\">\n",
       "  <thead>\n",
       "    <tr style=\"text-align: right;\">\n",
       "      <th></th>\n",
       "      <th>PassengerId</th>\n",
       "      <th>Survived</th>\n",
       "      <th>Pclass</th>\n",
       "      <th>Name</th>\n",
       "      <th>Sex</th>\n",
       "      <th>Age</th>\n",
       "      <th>SibSp</th>\n",
       "      <th>Parch</th>\n",
       "      <th>Fare</th>\n",
       "      <th>Embarked</th>\n",
       "    </tr>\n",
       "  </thead>\n",
       "  <tbody>\n",
       "    <tr>\n",
       "      <th>0</th>\n",
       "      <td>1</td>\n",
       "      <td>0</td>\n",
       "      <td>3</td>\n",
       "      <td>Braund, Mr. Owen Harris</td>\n",
       "      <td>male</td>\n",
       "      <td>22.0</td>\n",
       "      <td>1</td>\n",
       "      <td>0</td>\n",
       "      <td>7.2500</td>\n",
       "      <td>S</td>\n",
       "    </tr>\n",
       "    <tr>\n",
       "      <th>1</th>\n",
       "      <td>2</td>\n",
       "      <td>1</td>\n",
       "      <td>1</td>\n",
       "      <td>Cumings, Mrs. John Bradley (Florence Briggs Th...</td>\n",
       "      <td>female</td>\n",
       "      <td>38.0</td>\n",
       "      <td>1</td>\n",
       "      <td>0</td>\n",
       "      <td>71.2833</td>\n",
       "      <td>C</td>\n",
       "    </tr>\n",
       "    <tr>\n",
       "      <th>2</th>\n",
       "      <td>3</td>\n",
       "      <td>1</td>\n",
       "      <td>3</td>\n",
       "      <td>Heikkinen, Miss. Laina</td>\n",
       "      <td>female</td>\n",
       "      <td>26.0</td>\n",
       "      <td>0</td>\n",
       "      <td>0</td>\n",
       "      <td>7.9250</td>\n",
       "      <td>S</td>\n",
       "    </tr>\n",
       "    <tr>\n",
       "      <th>3</th>\n",
       "      <td>4</td>\n",
       "      <td>1</td>\n",
       "      <td>1</td>\n",
       "      <td>Futrelle, Mrs. Jacques Heath (Lily May Peel)</td>\n",
       "      <td>female</td>\n",
       "      <td>35.0</td>\n",
       "      <td>1</td>\n",
       "      <td>0</td>\n",
       "      <td>53.1000</td>\n",
       "      <td>S</td>\n",
       "    </tr>\n",
       "    <tr>\n",
       "      <th>4</th>\n",
       "      <td>5</td>\n",
       "      <td>0</td>\n",
       "      <td>3</td>\n",
       "      <td>Allen, Mr. William Henry</td>\n",
       "      <td>male</td>\n",
       "      <td>35.0</td>\n",
       "      <td>0</td>\n",
       "      <td>0</td>\n",
       "      <td>8.0500</td>\n",
       "      <td>S</td>\n",
       "    </tr>\n",
       "  </tbody>\n",
       "</table>\n",
       "</div>"
      ],
      "text/plain": [
       "   PassengerId  Survived  Pclass  \\\n",
       "0            1         0       3   \n",
       "1            2         1       1   \n",
       "2            3         1       3   \n",
       "3            4         1       1   \n",
       "4            5         0       3   \n",
       "\n",
       "                                                Name     Sex   Age  SibSp  \\\n",
       "0                            Braund, Mr. Owen Harris    male  22.0      1   \n",
       "1  Cumings, Mrs. John Bradley (Florence Briggs Th...  female  38.0      1   \n",
       "2                             Heikkinen, Miss. Laina  female  26.0      0   \n",
       "3       Futrelle, Mrs. Jacques Heath (Lily May Peel)  female  35.0      1   \n",
       "4                           Allen, Mr. William Henry    male  35.0      0   \n",
       "\n",
       "   Parch     Fare Embarked  \n",
       "0      0   7.2500        S  \n",
       "1      0  71.2833        C  \n",
       "2      0   7.9250        S  \n",
       "3      0  53.1000        S  \n",
       "4      0   8.0500        S  "
      ]
     },
     "execution_count": 204,
     "metadata": {},
     "output_type": "execute_result"
    }
   ],
   "source": [
    "df.head()"
   ]
  },
  {
   "cell_type": "code",
   "execution_count": null,
   "id": "f9384069",
   "metadata": {},
   "outputs": [],
   "source": []
  },
  {
   "cell_type": "code",
   "execution_count": 188,
   "id": "314726e8",
   "metadata": {
    "scrolled": true
   },
   "outputs": [
    {
     "data": {
      "text/html": [
       "<div>\n",
       "<style scoped>\n",
       "    .dataframe tbody tr th:only-of-type {\n",
       "        vertical-align: middle;\n",
       "    }\n",
       "\n",
       "    .dataframe tbody tr th {\n",
       "        vertical-align: top;\n",
       "    }\n",
       "\n",
       "    .dataframe thead tr th {\n",
       "        text-align: left;\n",
       "    }\n",
       "\n",
       "    .dataframe thead tr:last-of-type th {\n",
       "        text-align: right;\n",
       "    }\n",
       "</style>\n",
       "<table border=\"1\" class=\"dataframe\">\n",
       "  <thead>\n",
       "    <tr>\n",
       "      <th></th>\n",
       "      <th colspan=\"3\" halign=\"left\">Fare</th>\n",
       "    </tr>\n",
       "    <tr>\n",
       "      <th>Pclass</th>\n",
       "      <th>1</th>\n",
       "      <th>2</th>\n",
       "      <th>3</th>\n",
       "    </tr>\n",
       "    <tr>\n",
       "      <th>Sex</th>\n",
       "      <th></th>\n",
       "      <th></th>\n",
       "      <th></th>\n",
       "    </tr>\n",
       "  </thead>\n",
       "  <tbody>\n",
       "    <tr>\n",
       "      <th>female</th>\n",
       "      <td>106.125798</td>\n",
       "      <td>21.970121</td>\n",
       "      <td>16.118810</td>\n",
       "    </tr>\n",
       "    <tr>\n",
       "      <th>male</th>\n",
       "      <td>67.226127</td>\n",
       "      <td>19.741782</td>\n",
       "      <td>12.661633</td>\n",
       "    </tr>\n",
       "  </tbody>\n",
       "</table>\n",
       "</div>"
      ],
      "text/plain": [
       "              Fare                      \n",
       "Pclass           1          2          3\n",
       "Sex                                     \n",
       "female  106.125798  21.970121  16.118810\n",
       "male     67.226127  19.741782  12.661633"
      ]
     },
     "execution_count": 188,
     "metadata": {},
     "output_type": "execute_result"
    }
   ],
   "source": [
    "# Pivot the data setting the column Pclass as the columns and Fare as the values. From the resulting structure, use a boxplot to show the distribution of the values in its 3 columns\n",
    "\n",
    "table = df.pivot_table(index=['Sex'], columns=['Pclass'],\n",
    "                       values= ['Fare'], aggfunc= 'mean')\n",
    "table"
   ]
  },
  {
   "cell_type": "code",
   "execution_count": 189,
   "id": "f5fb9004",
   "metadata": {},
   "outputs": [
    {
     "data": {
      "image/png": "[encoded data removed]",
      "text/plain": [
       "<Figure size 432x288 with 1 Axes>"
      ]
     },
     "metadata": {
      "needs_background": "light"
     },
     "output_type": "display_data"
    }
   ],
   "source": [
    "# table.plot(kind='box');"
   ]
  },
  {
   "cell_type": "markdown",
   "id": "196ea720",
   "metadata": {},
   "source": [
    "Graph the value counts of the number of passengers who \n",
    "survived and did not survive based on gender using a \n",
    "stacked bar graph."
   ]
  },
  {
   "cell_type": "code",
   "execution_count": 190,
   "id": "43e84ec3",
   "metadata": {
    "scrolled": true
   },
   "outputs": [
    {
     "data": {
      "text/html": [
       "<div>\n",
       "<style scoped>\n",
       "    .dataframe tbody tr th:only-of-type {\n",
       "        vertical-align: middle;\n",
       "    }\n",
       "\n",
       "    .dataframe tbody tr th {\n",
       "        vertical-align: top;\n",
       "    }\n",
       "\n",
       "    .dataframe thead th {\n",
       "        text-align: right;\n",
       "    }\n",
       "</style>\n",
       "<table border=\"1\" class=\"dataframe\">\n",
       "  <thead>\n",
       "    <tr style=\"text-align: right;\">\n",
       "      <th>Sex</th>\n",
       "      <th>female</th>\n",
       "      <th>male</th>\n",
       "    </tr>\n",
       "    <tr>\n",
       "      <th>Survived</th>\n",
       "      <th></th>\n",
       "      <th></th>\n",
       "    </tr>\n",
       "  </thead>\n",
       "  <tbody>\n",
       "    <tr>\n",
       "      <th>0</th>\n",
       "      <td>81</td>\n",
       "      <td>468</td>\n",
       "    </tr>\n",
       "    <tr>\n",
       "      <th>1</th>\n",
       "      <td>233</td>\n",
       "      <td>109</td>\n",
       "    </tr>\n",
       "  </tbody>\n",
       "</table>\n",
       "</div>"
      ],
      "text/plain": [
       "Sex       female  male\n",
       "Survived              \n",
       "0             81   468\n",
       "1            233   109"
      ]
     },
     "execution_count": 190,
     "metadata": {},
     "output_type": "execute_result"
    }
   ],
   "source": [
    "gender_survived = pd.crosstab(df['Survived'], df['Sex'])\n",
    "gender_survived"
   ]
  },
  {
   "cell_type": "code",
   "execution_count": 196,
   "id": "4ef90533",
   "metadata": {},
   "outputs": [
    {
     "data": {
      "text/plain": [
       "Sex     Survived\n",
       "female  1           233\n",
       "        0            81\n",
       "male    0           468\n",
       "        1           109\n",
       "Name: Survived, dtype: int64"
      ]
     },
     "execution_count": 196,
     "metadata": {},
     "output_type": "execute_result"
    }
   ],
   "source": [
    "df.groupby(['Sex'])['Survived'].value_counts()"
   ]
  },
  {
   "cell_type": "code",
   "execution_count": 195,
   "id": "01e8086a",
   "metadata": {},
   "outputs": [
    {
     "data": {
      "text/plain": [
       "<AxesSubplot:xlabel='Sex,Survived'>"
      ]
     },
     "execution_count": 195,
     "metadata": {},
     "output_type": "execute_result"
    },
    {
     "data": {
      "image/png": "[encoded data removed]",
      "text/plain": [
       "<Figure size 432x288 with 1 Axes>"
      ]
     },
     "metadata": {
      "needs_background": "light"
     },
     "output_type": "display_data"
    }
   ],
   "source": [
    "df.groupby(['Sex'])['Survived'].value_counts().plot.bar(stacked=True)"
   ]
  },
  {
   "cell_type": "markdown",
   "id": "598266b5",
   "metadata": {},
   "source": [
    "Using a scatter plot, plot the ages to the fare paid by the each passenger based on their\n",
    "gender."
   ]
  },
  {
   "cell_type": "code",
   "execution_count": 199,
   "id": "d9389e11",
   "metadata": {},
   "outputs": [
    {
     "data": {
      "application/vnd.plotly.v1+json": {
       "config": {
        "plotlyServerURL": "https://plot.ly"
       },
       "data": [
        {
         "hovertemplate": "Sex=male<br>Age=%{x}<br>Fare=%{y}<extra></extra>",
         "legendgroup": "male",
         "marker": {
          "color": "#636efa",
          "symbol": "circle"
         },
         "mode": "markers",
         "name": "male",
         "orientation": "v",
         "showlegend": true,
         "type": "scatter",
         "x": [
          22,
          35,
          29.69911764705882,
          54,
          2,
          20,
          39,
          2,
          29.69911764705882,
          35,
          34,
          28,
          29.69911764705882,
          19,
          29.69911764705882,
          40,
          66,
          28,
          42,
          29.69911764705882,
          21,
          29.69911764705882,
          29.69911764705882,
          29.69911764705882,
          29.69911764705882,
          7,
          21,
          65,
          29.69911764705882,
          28.5,
          11,
          22,
          45,
          4,
          29.69911764705882,
          29.69911764705882,
          19,
          26,
          32,
          21,
          26,
          32,
          25,
          29.69911764705882,
          29.69911764705882,
          0.83,
          22,
          29,
          28,
          16,
          29.69911764705882,
          24,
          29,
          20,
          46,
          26,
          59,
          29.69911764705882,
          71,
          23,
          34,
          29.69911764705882,
          21,
          33,
          37,
          28,
          29.69911764705882,
          38,
          47,
          22,
          21,
          70.5,
          29,
          24,
          21,
          29.69911764705882,
          32.5,
          54,
          12,
          29.69911764705882,
          24,
          45,
          33,
          20,
          25,
          23,
          37,
          16,
          24,
          19,
          18,
          19,
          27,
          36.5,
          42,
          51,
          55.5,
          40.5,
          29.69911764705882,
          51,
          30,
          29.69911764705882,
          29.69911764705882,
          44,
          26,
          17,
          1,
          9,
          29.69911764705882,
          28,
          61,
          4,
          21,
          56,
          18,
          29.69911764705882,
          30,
          36,
          29.69911764705882,
          9,
          1,
          29.69911764705882,
          45,
          40,
          36,
          19,
          3,
          29.69911764705882,
          42,
          28,
          29.69911764705882,
          34,
          45.5,
          18,
          32,
          26,
          40,
          24,
          22,
          30,
          29.69911764705882,
          42,
          30,
          16,
          27,
          51,
          29.69911764705882,
          38,
          22,
          19,
          20.5,
          18,
          29,
          59,
          24,
          44,
          19,
          33,
          29,
          22,
          30,
          44,
          37,
          54,
          29.69911764705882,
          62,
          30,
          29.69911764705882,
          3,
          52,
          40,
          36,
          16,
          25,
          29.69911764705882,
          25,
          37,
          29.69911764705882,
          7,
          65,
          28,
          16,
          19,
          29.69911764705882,
          33,
          30,
          22,
          42,
          36,
          24,
          29.69911764705882,
          23.5,
          29.69911764705882,
          29.69911764705882,
          19,
          29.69911764705882,
          0.92,
          30,
          28,
          43,
          54,
          22,
          27,
          29.69911764705882,
          61,
          45.5,
          38,
          16,
          29.69911764705882,
          29,
          45,
          45,
          2,
          28,
          25,
          36,
          3,
          42,
          23,
          29.69911764705882,
          15,
          25,
          29.69911764705882,
          28,
          40,
          29,
          35,
          29.69911764705882,
          30,
          25,
          18,
          19,
          22,
          27,
          20,
          19,
          32,
          29.69911764705882,
          18,
          1,
          29.69911764705882,
          36,
          21,
          28,
          22,
          46,
          23,
          39,
          26,
          28,
          34,
          51,
          3,
          21,
          29.69911764705882,
          29.69911764705882,
          29.69911764705882,
          44,
          30,
          29.69911764705882,
          21,
          29,
          18,
          29.69911764705882,
          29.69911764705882,
          32,
          28,
          17,
          50,
          64,
          31,
          20,
          25,
          29.69911764705882,
          4,
          34,
          52,
          36,
          29.69911764705882,
          30,
          49,
          29.69911764705882,
          29,
          65,
          29.69911764705882,
          48,
          34,
          47,
          48,
          29.69911764705882,
          38,
          29.69911764705882,
          56,
          29.69911764705882,
          29.69911764705882,
          38,
          29.69911764705882,
          34,
          29,
          22,
          9,
          29.69911764705882,
          50,
          25,
          58,
          30,
          9,
          29.69911764705882,
          21,
          55,
          71,
          21,
          29.69911764705882,
          29.69911764705882,
          24,
          17,
          18,
          29.69911764705882,
          28,
          26,
          29,
          29.69911764705882,
          36,
          24,
          47,
          29.69911764705882,
          32,
          22,
          29.69911764705882,
          29.69911764705882,
          40.5,
          29.69911764705882,
          39,
          23,
          29.69911764705882,
          17,
          45,
          29.69911764705882,
          32,
          50,
          64,
          29.69911764705882,
          33,
          8,
          17,
          27,
          29.69911764705882,
          22,
          62,
          29.69911764705882,
          29.69911764705882,
          40,
          28,
          29.69911764705882,
          24,
          19,
          29.69911764705882,
          32,
          62,
          36,
          16,
          19,
          32,
          54,
          36,
          29.69911764705882,
          47,
          60,
          22,
          29.69911764705882,
          35,
          47,
          37,
          36,
          49,
          29.69911764705882,
          49,
          29.69911764705882,
          29.69911764705882,
          44,
          35,
          36,
          30,
          27,
          29.69911764705882,
          29.69911764705882,
          35,
          34,
          26,
          27,
          42,
          20,
          21,
          21,
          61,
          57,
          26,
          29.69911764705882,
          80,
          51,
          32,
          29.69911764705882,
          32,
          31,
          29.69911764705882,
          20,
          29.69911764705882,
          48,
          19,
          56,
          29.69911764705882,
          29.69911764705882,
          21,
          24,
          29.69911764705882,
          23,
          58,
          50,
          40,
          47,
          36,
          20,
          32,
          25,
          29.69911764705882,
          43,
          31,
          70,
          31,
          29.69911764705882,
          18,
          24.5,
          36,
          27,
          20,
          14,
          60,
          25,
          14,
          19,
          18,
          31,
          29.69911764705882,
          25,
          60,
          52,
          44,
          49,
          42,
          35,
          25,
          26,
          39,
          42,
          29.69911764705882,
          29.69911764705882,
          48,
          29,
          52,
          19,
          29.69911764705882,
          33,
          17,
          34,
          50,
          27,
          20,
          25,
          11,
          29.69911764705882,
          23,
          23,
          28.5,
          35,
          29.69911764705882,
          29.69911764705882,
          29.69911764705882,
          36,
          24,
          31,
          70,
          16,
          19,
          31,
          6,
          33,
          23,
          0.67,
          28,
          18,
          34,
          29.69911764705882,
          41,
          20,
          16,
          29.69911764705882,
          29.69911764705882,
          32,
          24,
          48,
          29.69911764705882,
          18,
          29.69911764705882,
          29.69911764705882,
          29,
          29.69911764705882,
          25,
          25,
          8,
          1,
          46,
          29.69911764705882,
          16,
          29.69911764705882,
          25,
          39,
          30,
          34,
          11,
          0.42,
          27,
          31,
          39,
          39,
          26,
          39,
          35,
          30.5,
          29.69911764705882,
          31,
          43,
          10,
          27,
          38,
          2,
          29.69911764705882,
          29.69911764705882,
          1,
          29.69911764705882,
          0.83,
          29.69911764705882,
          23,
          18,
          21,
          29.69911764705882,
          32,
          29.69911764705882,
          20,
          16,
          34.5,
          17,
          42,
          29.69911764705882,
          35,
          28,
          4,
          74,
          51,
          29.69911764705882,
          41,
          21,
          24,
          31,
          29.69911764705882,
          4,
          26,
          33,
          47,
          20,
          19,
          29.69911764705882,
          33,
          28,
          25,
          27,
          26,
          32
         ],
         "xaxis": "x",
         "y": [
          7.25,
          8.05,
          8.4583,
          51.8625,
          21.075,
          8.05,
          31.275,
          29.125,
          13,
          26,
          13,
          35.5,
          7.225,
          263,
          7.8958,
          27.7208,
          10.5,
          82.1708,
          52,
          7.2292,
          8.05,
          7.8958,
          8.05,
          15.5,
          21.6792,
          39.6875,
          7.8,
          61.9792,
          35.5,
          7.2292,
          46.9,
          7.2292,
          83.475,
          27.9,
          27.7208,
          15.2458,
          8.1583,
          8.6625,
          10.5,
          73.5,
          14.4542,
          56.4958,
          7.65,
          7.8958,
          8.05,
          29,
          9,
          9.5,
          47.1,
          34.375,
          8.05,
          8.05,
          8.05,
          7.8542,
          61.175,
          20.575,
          7.25,
          8.05,
          34.6542,
          63.3583,
          26,
          7.8958,
          77.2875,
          8.6542,
          7.925,
          7.8958,
          7.775,
          7.8958,
          52,
          8.05,
          7.925,
          7.75,
          21,
          247.5208,
          73.5,
          8.05,
          30.0708,
          77.2875,
          11.2417,
          7.75,
          7.1417,
          6.975,
          7.8958,
          7.05,
          13,
          15.0458,
          53.1,
          9.2167,
          79.2,
          6.75,
          11.5,
          36.75,
          7.7958,
          26,
          13,
          12.525,
          8.05,
          14.5,
          7.3125,
          61.3792,
          8.05,
          8.6625,
          69.55,
          16.1,
          7.775,
          8.6625,
          39.6875,
          20.525,
          25.925,
          56.4958,
          33.5,
          29.125,
          7.925,
          30.6958,
          7.8542,
          25.4667,
          13,
          0,
          15.05,
          31.3875,
          39,
          50,
          26.55,
          15.5,
          7.8958,
          13,
          26,
          7.75,
          8.4042,
          9.5,
          69.55,
          6.4958,
          7.225,
          8.05,
          15.85,
          18.7875,
          31,
          7.05,
          7.25,
          13,
          7.75,
          27,
          10.5,
          8.05,
          13,
          8.05,
          7.8958,
          90,
          9.35,
          10.5,
          7.25,
          13,
          7.775,
          13.5,
          10.5,
          26,
          10.5,
          12.275,
          10.5,
          7.125,
          7.225,
          90,
          52.5542,
          26,
          7.25,
          26.55,
          16.1,
          7.75,
          31.3875,
          79.65,
          0,
          10.5,
          39.6875,
          7.775,
          31,
          0,
          29.7,
          0,
          29.125,
          7.75,
          7.8542,
          9.5,
          8.05,
          26,
          8.6625,
          9.5,
          7.8958,
          13,
          12.875,
          7.8958,
          27.7208,
          7.2292,
          30.5,
          23.25,
          0,
          8.05,
          151.55,
          24,
          7.8958,
          26.25,
          14,
          7.25,
          7.8958,
          69.55,
          6.2375,
          28.5,
          153.4625,
          18,
          7.8958,
          66.6,
          8.05,
          35.5,
          26,
          13,
          13,
          13,
          15.9,
          8.6625,
          9.225,
          35,
          7.2292,
          17.8,
          7.225,
          9.5,
          27.9,
          27.7208,
          7.05,
          15.5,
          7.25,
          55.4417,
          6.4958,
          8.05,
          135.6333,
          211.5,
          4.0125,
          7.775,
          7.925,
          7.8958,
          73.5,
          46.9,
          7.7292,
          120,
          7.7958,
          7.925,
          7.7958,
          26,
          10.5,
          7.925,
          8.05,
          15.85,
          21,
          7.75,
          18.75,
          7.775,
          7.8958,
          6.8583,
          0,
          7.925,
          13,
          7.8958,
          7.7333,
          7.875,
          20.2125,
          7.25,
          7.75,
          8.05,
          26.55,
          7.125,
          55.9,
          263,
          10.5,
          9.5,
          7.775,
          8.1125,
          81.8583,
          26.55,
          30.5,
          27.75,
          19.9667,
          27.75,
          89.1042,
          8.05,
          7.8958,
          26.55,
          7.75,
          26.55,
          8.05,
          38.5,
          13,
          8.05,
          7.05,
          0,
          26.55,
          7.725,
          7.25,
          8.6625,
          52,
          21,
          7.0458,
          7.5208,
          46.9,
          0,
          8.05,
          91.0792,
          29.7,
          8.05,
          15.9,
          19.9667,
          7.25,
          30.5,
          49.5042,
          8.05,
          14.4583,
          15.1,
          7.7958,
          8.6625,
          108.9,
          26.55,
          22.525,
          56.4958,
          7.75,
          8.05,
          26.2875,
          7.4958,
          34.0208,
          24.15,
          7.8958,
          7.8958,
          7.225,
          7.2292,
          7.75,
          221.7792,
          7.925,
          11.5,
          7.2292,
          7.2292,
          26.55,
          14.5,
          26,
          106.425,
          26,
          13.8625,
          20.525,
          36.75,
          110.8833,
          26,
          7.8292,
          7.225,
          26.55,
          227.525,
          7.75,
          7.8958,
          13.5,
          8.05,
          24.15,
          7.8958,
          7.2292,
          7.8542,
          10.5,
          26.3875,
          8.05,
          14.5,
          7.925,
          26,
          40.125,
          8.7125,
          15,
          79.2,
          8.05,
          8.05,
          7.125,
          7.25,
          26,
          24.15,
          0,
          7.225,
          56.9292,
          7.8958,
          42.4,
          8.05,
          26.55,
          15.55,
          7.8958,
          30.5,
          7.05,
          7.75,
          8.05,
          14.4,
          10.5,
          14.4542,
          52.5542,
          15.7417,
          7.8542,
          16.1,
          32.3208,
          12.35,
          7.8958,
          7.7333,
          30,
          7.0542,
          30.5,
          0,
          7.925,
          26.25,
          16.1,
          7.8542,
          56.4958,
          76.7292,
          7.8958,
          35.5,
          7.55,
          7.8958,
          8.4333,
          73.5,
          7.8958,
          13,
          113.275,
          133.65,
          7.225,
          25.5875,
          7.4958,
          7.925,
          73.5,
          13,
          7.775,
          8.05,
          52,
          10.5,
          13,
          0,
          7.775,
          8.05,
          512.3292,
          76.7292,
          9.225,
          46.9,
          39,
          41.5792,
          39.6875,
          10.1708,
          7.7958,
          57,
          56.4958,
          7.225,
          26.55,
          13.5,
          8.05,
          110.8833,
          7.65,
          26.2875,
          7.7417,
          7.8542,
          26,
          26.2875,
          15.2458,
          26.55,
          52,
          9.4833,
          13,
          7.65,
          15.5,
          7.775,
          7.0542,
          13,
          13,
          53.1,
          8.6625,
          26,
          18.7875,
          0,
          13,
          13,
          16.1,
          512.3292,
          7.8958,
          7.8958,
          30,
          78.85,
          16.1,
          7.925,
          71,
          20.25,
          53.1,
          7.75,
          12.475,
          9.5,
          7.8958,
          14.5,
          7.7958,
          11.5,
          8.05,
          14.5,
          7.125,
          7.2292,
          7.775,
          39.6,
          24.15,
          8.3625,
          9.5,
          7.8542,
          7.225,
          7.75,
          7.75,
          7.7375,
          30,
          23.45,
          7.05,
          7.25,
          29.125,
          20.575,
          79.2,
          7.75,
          26,
          30.6958,
          7.8958,
          13,
          7.2292,
          13,
          120,
          8.5167,
          6.975,
          7.775,
          0,
          13,
          7.8875,
          24.15,
          10.5,
          8.05,
          0,
          37.0042,
          6.45,
          27.9,
          8.6625,
          0,
          39.6875,
          6.95,
          56.4958,
          37.0042,
          7.75,
          18.75,
          7.2292,
          7.8542,
          8.3,
          8.6625,
          8.05,
          56.4958,
          29.7,
          7.925,
          10.5,
          6.4375,
          8.6625,
          7.55,
          69.55,
          7.8958,
          33,
          31.275,
          7.775,
          26.55,
          7.2292,
          14.1083,
          11.5,
          13,
          50.4958,
          9.5,
          11.1333,
          7.8958,
          5,
          9,
          9.8458,
          7.8958,
          7.8958,
          7.8958,
          10.5,
          7.05,
          13,
          30,
          7.75
         ],
         "yaxis": "y"
        },
        {
         "hovertemplate": "Sex=female<br>Age=%{x}<br>Fare=%{y}<extra></extra>",
         "legendgroup": "female",
         "marker": {
          "color": "#EF553B",
          "symbol": "circle"
         },
         "mode": "markers",
         "name": "female",
         "orientation": "v",
         "showlegend": true,
         "type": "scatter",
         "x": [
          38,
          26,
          35,
          27,
          14,
          4,
          58,
          14,
          55,
          31,
          29.69911764705882,
          15,
          8,
          38,
          29.69911764705882,
          29.69911764705882,
          29.69911764705882,
          18,
          14,
          40,
          27,
          3,
          19,
          29.69911764705882,
          18,
          49,
          29,
          21,
          5,
          38,
          29,
          17,
          16,
          30,
          29.69911764705882,
          17,
          33,
          23,
          34,
          28,
          21,
          29.69911764705882,
          14.5,
          20,
          17,
          2,
          32.5,
          29.69911764705882,
          47,
          29,
          19,
          29.69911764705882,
          22,
          24,
          9,
          22,
          16,
          40,
          29.69911764705882,
          45,
          1,
          50,
          29.69911764705882,
          4,
          29.69911764705882,
          32,
          19,
          44,
          58,
          29.69911764705882,
          24,
          2,
          16,
          35,
          31,
          27,
          32,
          29.69911764705882,
          35,
          5,
          29.69911764705882,
          8,
          29.69911764705882,
          29.69911764705882,
          25,
          24,
          29,
          41,
          29,
          29.69911764705882,
          30,
          35,
          50,
          29.69911764705882,
          58,
          35,
          41,
          29.69911764705882,
          63,
          45,
          35,
          22,
          26,
          19,
          24,
          2,
          50,
          29.69911764705882,
          29.69911764705882,
          29.69911764705882,
          17,
          30,
          24,
          18,
          26,
          26,
          24,
          31,
          40,
          30,
          22,
          36,
          36,
          31,
          16,
          29.69911764705882,
          29.69911764705882,
          41,
          24,
          24,
          40,
          29.69911764705882,
          22,
          38,
          29.69911764705882,
          29.69911764705882,
          45,
          60,
          29.69911764705882,
          29.69911764705882,
          24,
          3,
          29.69911764705882,
          22,
          42,
          1,
          35,
          36,
          17,
          23,
          24,
          31,
          28,
          21,
          20,
          29.69911764705882,
          33,
          29.69911764705882,
          34,
          18,
          10,
          28,
          28,
          19,
          29.69911764705882,
          42,
          14,
          21,
          24,
          45,
          28,
          13,
          5,
          29.69911764705882,
          50,
          0.75,
          33,
          23,
          22,
          2,
          63,
          29.69911764705882,
          35,
          54,
          25,
          21,
          29.69911764705882,
          37,
          16,
          33,
          54,
          34,
          36,
          30,
          44,
          50,
          2,
          29.69911764705882,
          30,
          7,
          30,
          22,
          36,
          9,
          11,
          19,
          22,
          48,
          39,
          36,
          29.69911764705882,
          29,
          53,
          29.69911764705882,
          34,
          39,
          29.69911764705882,
          25,
          39,
          18,
          52,
          29.69911764705882,
          29.69911764705882,
          24,
          22,
          40,
          39,
          29.69911764705882,
          24,
          26,
          4,
          21,
          9,
          28,
          41,
          24,
          2,
          0.75,
          23,
          18,
          29.69911764705882,
          18,
          32,
          29.69911764705882,
          40,
          18,
          43,
          29.69911764705882,
          15,
          4,
          29.69911764705882,
          18,
          18,
          45,
          22,
          24,
          38,
          27,
          6,
          30,
          29.69911764705882,
          25,
          29,
          48,
          21,
          30,
          4,
          48,
          33,
          36,
          51,
          30.5,
          57,
          54,
          5,
          43,
          13,
          17,
          18,
          29.69911764705882,
          49,
          31,
          30,
          31,
          18,
          33,
          6,
          23,
          52,
          27,
          62,
          15,
          39,
          30,
          29.69911764705882,
          9,
          16,
          44,
          18,
          45,
          24,
          48,
          29.69911764705882,
          42,
          27,
          47,
          28,
          15,
          56,
          25,
          22,
          39,
          19,
          29.69911764705882
         ],
         "xaxis": "x",
         "y": [
          71.2833,
          7.925,
          53.1,
          11.1333,
          30.0708,
          16.7,
          26.55,
          7.8542,
          16,
          18,
          7.225,
          8.0292,
          21.075,
          31.3875,
          7.8792,
          146.5208,
          7.75,
          18,
          11.2417,
          9.475,
          21,
          41.5792,
          7.8792,
          7.75,
          17.8,
          76.7292,
          26,
          10.5,
          27.75,
          80,
          10.5,
          7.925,
          46.9,
          12.475,
          7.7875,
          10.5,
          15.85,
          263,
          23,
          7.8958,
          7.65,
          24.15,
          14.4542,
          9.825,
          14.4583,
          31.275,
          13,
          22.3583,
          14.5,
          26,
          26.2833,
          15.2458,
          7.75,
          15.85,
          34.375,
          66.6,
          7.7333,
          15.75,
          55,
          27.9,
          11.1333,
          28.7125,
          69.55,
          22.025,
          15.5,
          13,
          7.8542,
          27.7208,
          146.5208,
          7.75,
          13,
          10.4625,
          7.75,
          21,
          113.275,
          7.925,
          76.2917,
          25.4667,
          83.475,
          31.3875,
          7.55,
          26.25,
          14.4542,
          15.5,
          7.775,
          14.5,
          10.4625,
          20.2125,
          15.2458,
          79.2,
          86.5,
          512.3292,
          26,
          7.75,
          153.4625,
          135.6333,
          19.5,
          7.75,
          77.9583,
          7.75,
          20.25,
          7.75,
          78.85,
          91.0792,
          8.85,
          151.55,
          247.5208,
          7.75,
          12.35,
          110.8833,
          108.9,
          56.9292,
          83.1583,
          262.375,
          26,
          7.8542,
          26,
          164.8667,
          134.5,
          12.35,
          29,
          135.6333,
          13,
          20.525,
          57.9792,
          23.25,
          133.65,
          134.5,
          263,
          13,
          13,
          16.1,
          55,
          13,
          7.8792,
          7.8792,
          14.4542,
          75.25,
          7.2292,
          7.75,
          69.3,
          21.075,
          82.1708,
          7.25,
          227.525,
          15.7417,
          52,
          13,
          12,
          113.275,
          16.7,
          7.8542,
          12.65,
          9.825,
          8.6625,
          25.4667,
          90,
          8.05,
          32.5,
          13,
          24.15,
          14.4,
          26,
          26,
          16.1,
          26,
          120,
          34.375,
          18.75,
          26.25,
          13,
          19.5,
          19.2583,
          51.8625,
          10.5,
          19.2583,
          27.75,
          13.7917,
          9.8375,
          12.2875,
          9.5875,
          25.4667,
          90,
          78.2667,
          151.55,
          7.75,
          7.6292,
          9.5875,
          86.5,
          26,
          59.4,
          10.5,
          26,
          93.5,
          57.9792,
          10.5,
          26,
          22.3583,
          8.6625,
          26.25,
          106.425,
          49.5,
          71,
          31.275,
          31.275,
          26,
          7.775,
          39.6,
          79.65,
          17.4,
          8.05,
          21.075,
          51.4792,
          7.75,
          13,
          55.9,
          14.4583,
          30,
          110.8833,
          79.65,
          78.2667,
          7.75,
          33,
          27,
          41.5792,
          153.4625,
          31.275,
          15.5,
          65,
          16.1,
          39,
          77.9583,
          27.9,
          13,
          39.6875,
          69.3,
          27.9,
          19.2583,
          7.55,
          23,
          7.8292,
          6.75,
          15.5,
          52,
          39,
          9.8417,
          46.9,
          8.1375,
          211.3375,
          13.4167,
          7.7333,
          227.525,
          14.4542,
          13.5,
          151.55,
          49.5042,
          227.525,
          10.5,
          33,
          21,
          7.7375,
          7.925,
          211.3375,
          34.375,
          262.375,
          13,
          23,
          65,
          86.5,
          120,
          77.9583,
          7.75,
          10.5,
          23,
          12.475,
          211.3375,
          7.2292,
          57,
          7.4958,
          69.55,
          25.9292,
          8.6833,
          24.15,
          26.25,
          7.775,
          53.1,
          31.275,
          7.925,
          93.5,
          12.475,
          80,
          14.4542,
          83.1583,
          31,
          89.1042,
          15.2458,
          39.4,
          26,
          9.35,
          164.8667,
          19.2583,
          25.9292,
          69.55,
          13,
          13.8583,
          52.5542,
          24,
          7.225,
          83.1583,
          26,
          10.5167,
          29.125,
          30,
          23.45
         ],
         "yaxis": "y"
        }
       ],
       "layout": {
        "legend": {
         "title": {
          "text": "Sex"
         },
         "tracegroupgap": 0
        },
        "margin": {
         "t": 60
        },
        "template": {
         "data": {
          "bar": [
           {
            "error_x": {
             "color": "#2a3f5f"
            },
            "error_y": {
             "color": "#2a3f5f"
            },
            "marker": {
             "line": {
              "color": "#E5ECF6",
              "width": 0.5
             },
             "pattern": {
              "fillmode": "overlay",
              "size": 10,
              "solidity": 0.2
             }
            },
            "type": "bar"
           }
          ],
          "barpolar": [
           {
            "marker": {
             "line": {
              "color": "#E5ECF6",
              "width": 0.5
             },
             "pattern": {
              "fillmode": "overlay",
              "size": 10,
              "solidity": 0.2
             }
            },
            "type": "barpolar"
           }
          ],
          "carpet": [
           {
            "aaxis": {
             "endlinecolor": "#2a3f5f",
             "gridcolor": "white",
             "linecolor": "white",
             "minorgridcolor": "white",
             "startlinecolor": "#2a3f5f"
            },
            "baxis": {
             "endlinecolor": "#2a3f5f",
             "gridcolor": "white",
             "linecolor": "white",
             "minorgridcolor": "white",
             "startlinecolor": "#2a3f5f"
            },
            "type": "carpet"
           }
          ],
          "choropleth": [
           {
            "colorbar": {
             "outlinewidth": 0,
             "ticks": ""
            },
            "type": "choropleth"
           }
          ],
          "contour": [
           {
            "colorbar": {
             "outlinewidth": 0,
             "ticks": ""
            },
            "colorscale": [
             [
              0,
              "#0d0887"
             ],
             [
              0.1111111111111111,
              "#46039f"
             ],
             [
              0.2222222222222222,
              "#7201a8"
             ],
             [
              0.3333333333333333,
              "#9c179e"
             ],
             [
              0.4444444444444444,
              "#bd3786"
             ],
             [
              0.5555555555555556,
              "#d8576b"
             ],
             [
              0.6666666666666666,
              "#ed7953"
             ],
             [
              0.7777777777777778,
              "#fb9f3a"
             ],
             [
              0.8888888888888888,
              "#fdca26"
             ],
             [
              1,
              "#f0f921"
             ]
            ],
            "type": "contour"
           }
          ],
          "contourcarpet": [
           {
            "colorbar": {
             "outlinewidth": 0,
             "ticks": ""
            },
            "type": "contourcarpet"
           }
          ],
          "heatmap": [
           {
            "colorbar": {
             "outlinewidth": 0,
             "ticks": ""
            },
            "colorscale": [
             [
              0,
              "#0d0887"
             ],
             [
              0.1111111111111111,
              "#46039f"
             ],
             [
              0.2222222222222222,
              "#7201a8"
             ],
             [
              0.3333333333333333,
              "#9c179e"
             ],
             [
              0.4444444444444444,
              "#bd3786"
             ],
             [
              0.5555555555555556,
              "#d8576b"
             ],
             [
              0.6666666666666666,
              "#ed7953"
             ],
             [
              0.7777777777777778,
              "#fb9f3a"
             ],
             [
              0.8888888888888888,
              "#fdca26"
             ],
             [
              1,
              "#f0f921"
             ]
            ],
            "type": "heatmap"
           }
          ],
          "heatmapgl": [
           {
            "colorbar": {
             "outlinewidth": 0,
             "ticks": ""
            },
            "colorscale": [
             [
              0,
              "#0d0887"
             ],
             [
              0.1111111111111111,
              "#46039f"
             ],
             [
              0.2222222222222222,
              "#7201a8"
             ],
             [
              0.3333333333333333,
              "#9c179e"
             ],
             [
              0.4444444444444444,
              "#bd3786"
             ],
             [
              0.5555555555555556,
              "#d8576b"
             ],
             [
              0.6666666666666666,
              "#ed7953"
             ],
             [
              0.7777777777777778,
              "#fb9f3a"
             ],
             [
              0.8888888888888888,
              "#fdca26"
             ],
             [
              1,
              "#f0f921"
             ]
            ],
            "type": "heatmapgl"
           }
          ],
          "histogram": [
           {
            "marker": {
             "pattern": {
              "fillmode": "overlay",
              "size": 10,
              "solidity": 0.2
             }
            },
            "type": "histogram"
           }
          ],
          "histogram2d": [
           {
            "colorbar": {
             "outlinewidth": 0,
             "ticks": ""
            },
            "colorscale": [
             [
              0,
              "#0d0887"
             ],
             [
              0.1111111111111111,
              "#46039f"
             ],
             [
              0.2222222222222222,
              "#7201a8"
             ],
             [
              0.3333333333333333,
              "#9c179e"
             ],
             [
              0.4444444444444444,
              "#bd3786"
             ],
             [
              0.5555555555555556,
              "#d8576b"
             ],
             [
              0.6666666666666666,
              "#ed7953"
             ],
             [
              0.7777777777777778,
              "#fb9f3a"
             ],
             [
              0.8888888888888888,
              "#fdca26"
             ],
             [
              1,
              "#f0f921"
             ]
            ],
            "type": "histogram2d"
           }
          ],
          "histogram2dcontour": [
           {
            "colorbar": {
             "outlinewidth": 0,
             "ticks": ""
            },
            "colorscale": [
             [
              0,
              "#0d0887"
             ],
             [
              0.1111111111111111,
              "#46039f"
             ],
             [
              0.2222222222222222,
              "#7201a8"
             ],
             [
              0.3333333333333333,
              "#9c179e"
             ],
             [
              0.4444444444444444,
              "#bd3786"
             ],
             [
              0.5555555555555556,
              "#d8576b"
             ],
             [
              0.6666666666666666,
              "#ed7953"
             ],
             [
              0.7777777777777778,
              "#fb9f3a"
             ],
             [
              0.8888888888888888,
              "#fdca26"
             ],
             [
              1,
              "#f0f921"
             ]
            ],
            "type": "histogram2dcontour"
           }
          ],
          "mesh3d": [
           {
            "colorbar": {
             "outlinewidth": 0,
             "ticks": ""
            },
            "type": "mesh3d"
           }
          ],
          "parcoords": [
           {
            "line": {
             "colorbar": {
              "outlinewidth": 0,
              "ticks": ""
             }
            },
            "type": "parcoords"
           }
          ],
          "pie": [
           {
            "automargin": true,
            "type": "pie"
           }
          ],
          "scatter": [
           {
            "marker": {
             "colorbar": {
              "outlinewidth": 0,
              "ticks": ""
             }
            },
            "type": "scatter"
           }
          ],
          "scatter3d": [
           {
            "line": {
             "colorbar": {
              "outlinewidth": 0,
              "ticks": ""
             }
            },
            "marker": {
             "colorbar": {
              "outlinewidth": 0,
              "ticks": ""
             }
            },
            "type": "scatter3d"
           }
          ],
          "scattercarpet": [
           {
            "marker": {
             "colorbar": {
              "outlinewidth": 0,
              "ticks": ""
             }
            },
            "type": "scattercarpet"
           }
          ],
          "scattergeo": [
           {
            "marker": {
             "colorbar": {
              "outlinewidth": 0,
              "ticks": ""
             }
            },
            "type": "scattergeo"
           }
          ],
          "scattergl": [
           {
            "marker": {
             "colorbar": {
              "outlinewidth": 0,
              "ticks": ""
             }
            },
            "type": "scattergl"
           }
          ],
          "scattermapbox": [
           {
            "marker": {
             "colorbar": {
              "outlinewidth": 0,
              "ticks": ""
             }
            },
            "type": "scattermapbox"
           }
          ],
          "scatterpolar": [
           {
            "marker": {
             "colorbar": {
              "outlinewidth": 0,
              "ticks": ""
             }
            },
            "type": "scatterpolar"
           }
          ],
          "scatterpolargl": [
           {
            "marker": {
             "colorbar": {
              "outlinewidth": 0,
              "ticks": ""
             }
            },
            "type": "scatterpolargl"
           }
          ],
          "scatterternary": [
           {
            "marker": {
             "colorbar": {
              "outlinewidth": 0,
              "ticks": ""
             }
            },
            "type": "scatterternary"
           }
          ],
          "surface": [
           {
            "colorbar": {
             "outlinewidth": 0,
             "ticks": ""
            },
            "colorscale": [
             [
              0,
              "#0d0887"
             ],
             [
              0.1111111111111111,
              "#46039f"
             ],
             [
              0.2222222222222222,
              "#7201a8"
             ],
             [
              0.3333333333333333,
              "#9c179e"
             ],
             [
              0.4444444444444444,
              "#bd3786"
             ],
             [
              0.5555555555555556,
              "#d8576b"
             ],
             [
              0.6666666666666666,
              "#ed7953"
             ],
             [
              0.7777777777777778,
              "#fb9f3a"
             ],
             [
              0.8888888888888888,
              "#fdca26"
             ],
             [
              1,
              "#f0f921"
             ]
            ],
            "type": "surface"
           }
          ],
          "table": [
           {
            "cells": {
             "fill": {
              "color": "#EBF0F8"
             },
             "line": {
              "color": "white"
             }
            },
            "header": {
             "fill": {
              "color": "#C8D4E3"
             },
             "line": {
              "color": "white"
             }
            },
            "type": "table"
           }
          ]
         },
         "layout": {
          "annotationdefaults": {
           "arrowcolor": "#2a3f5f",
           "arrowhead": 0,
           "arrowwidth": 1
          },
          "autotypenumbers": "strict",
          "coloraxis": {
           "colorbar": {
            "outlinewidth": 0,
            "ticks": ""
           }
          },
          "colorscale": {
           "diverging": [
            [
             0,
             "#8e0152"
            ],
            [
             0.1,
             "#c51b7d"
            ],
            [
             0.2,
             "#de77ae"
            ],
            [
             0.3,
             "#f1b6da"
            ],
            [
             0.4,
             "#fde0ef"
            ],
            [
             0.5,
             "#f7f7f7"
            ],
            [
             0.6,
             "#e6f5d0"
            ],
            [
             0.7,
             "#b8e186"
            ],
            [
             0.8,
             "#7fbc41"
            ],
            [
             0.9,
             "#4d9221"
            ],
            [
             1,
             "#276419"
            ]
           ],
           "sequential": [
            [
             0,
             "#0d0887"
            ],
            [
             0.1111111111111111,
             "#46039f"
            ],
            [
             0.2222222222222222,
             "#7201a8"
            ],
            [
             0.3333333333333333,
             "#9c179e"
            ],
            [
             0.4444444444444444,
             "#bd3786"
            ],
            [
             0.5555555555555556,
             "#d8576b"
            ],
            [
             0.6666666666666666,
             "#ed7953"
            ],
            [
             0.7777777777777778,
             "#fb9f3a"
            ],
            [
             0.8888888888888888,
             "#fdca26"
            ],
            [
             1,
             "#f0f921"
            ]
           ],
           "sequentialminus": [
            [
             0,
             "#0d0887"
            ],
            [
             0.1111111111111111,
             "#46039f"
            ],
            [
             0.2222222222222222,
             "#7201a8"
            ],
            [
             0.3333333333333333,
             "#9c179e"
            ],
            [
             0.4444444444444444,
             "#bd3786"
            ],
            [
             0.5555555555555556,
             "#d8576b"
            ],
            [
             0.6666666666666666,
             "#ed7953"
            ],
            [
             0.7777777777777778,
             "#fb9f3a"
            ],
            [
             0.8888888888888888,
             "#fdca26"
            ],
            [
             1,
             "#f0f921"
            ]
           ]
          },
          "colorway": [
           "#636efa",
           "#EF553B",
           "#00cc96",
           "#ab63fa",
           "#FFA15A",
           "#19d3f3",
           "#FF6692",
           "#B6E880",
           "#FF97FF",
           "#FECB52"
          ],
          "font": {
           "color": "#2a3f5f"
          },
          "geo": {
           "bgcolor": "white",
           "lakecolor": "white",
           "landcolor": "#E5ECF6",
           "showlakes": true,
           "showland": true,
           "subunitcolor": "white"
          },
          "hoverlabel": {
           "align": "left"
          },
          "hovermode": "closest",
          "mapbox": {
           "style": "light"
          },
          "paper_bgcolor": "white",
          "plot_bgcolor": "#E5ECF6",
          "polar": {
           "angularaxis": {
            "gridcolor": "white",
            "linecolor": "white",
            "ticks": ""
           },
           "bgcolor": "#E5ECF6",
           "radialaxis": {
            "gridcolor": "white",
            "linecolor": "white",
            "ticks": ""
           }
          },
          "scene": {
           "xaxis": {
            "backgroundcolor": "#E5ECF6",
            "gridcolor": "white",
            "gridwidth": 2,
            "linecolor": "white",
            "showbackground": true,
            "ticks": "",
            "zerolinecolor": "white"
           },
           "yaxis": {
            "backgroundcolor": "#E5ECF6",
            "gridcolor": "white",
            "gridwidth": 2,
            "linecolor": "white",
            "showbackground": true,
            "ticks": "",
            "zerolinecolor": "white"
           },
           "zaxis": {
            "backgroundcolor": "#E5ECF6",
            "gridcolor": "white",
            "gridwidth": 2,
            "linecolor": "white",
            "showbackground": true,
            "ticks": "",
            "zerolinecolor": "white"
           }
          },
          "shapedefaults": {
           "line": {
            "color": "#2a3f5f"
           }
          },
          "ternary": {
           "aaxis": {
            "gridcolor": "white",
            "linecolor": "white",
            "ticks": ""
           },
           "baxis": {
            "gridcolor": "white",
            "linecolor": "white",
            "ticks": ""
           },
           "bgcolor": "#E5ECF6",
           "caxis": {
            "gridcolor": "white",
            "linecolor": "white",
            "ticks": ""
           }
          },
          "title": {
           "x": 0.05
          },
          "xaxis": {
           "automargin": true,
           "gridcolor": "white",
           "linecolor": "white",
           "ticks": "",
           "title": {
            "standoff": 15
           },
           "zerolinecolor": "white",
           "zerolinewidth": 2
          },
          "yaxis": {
           "automargin": true,
           "gridcolor": "white",
           "linecolor": "white",
           "ticks": "",
           "title": {
            "standoff": 15
           },
           "zerolinecolor": "white",
           "zerolinewidth": 2
          }
         }
        },
        "xaxis": {
         "anchor": "y",
         "domain": [
          0,
          1
         ],
         "title": {
          "text": "Age"
         }
        },
        "yaxis": {
         "anchor": "x",
         "domain": [
          0,
          1
         ],
         "title": {
          "text": "Fare"
         }
        }
       }
      },
      "text/html": [
       "<div>                            <div id=\"bb7f92f6-336d-4cb1-8361-037f2b8688c8\" class=\"plotly-graph-div\" style=\"height:525px; width:100%;\"></div>            <script type=\"text/javascript\">                require([\"plotly\"], function(Plotly) {                    window.PLOTLYENV=window.PLOTLYENV || {};                                    if (document.getElementById(\"bb7f92f6-336d-4cb1-8361-037f2b8688c8\")) {                    Plotly.newPlot(                        \"bb7f92f6-336d-4cb1-8361-037f2b8688c8\",                        [{\"hovertemplate\":\"Sex=male<br>Age=%{x}<br>Fare=%{y}<extra></extra>\",\"legendgroup\":\"male\",\"marker\":{\"color\":\"#636efa\",\"symbol\":\"circle\"},\"mode\":\"markers\",\"name\":\"male\",\"orientation\":\"v\",\"showlegend\":true,\"x\":[22.0,35.0,29.69911764705882,54.0,2.0,20.0,39.0,2.0,29.69911764705882,35.0,34.0,28.0,29.69911764705882,19.0,29.69911764705882,40.0,66.0,28.0,42.0,29.69911764705882,21.0,29.69911764705882,29.69911764705882,29.69911764705882,29.69911764705882,7.0,21.0,65.0,29.69911764705882,28.5,11.0,22.0,45.0,4.0,29.69911764705882,29.69911764705882,19.0,26.0,32.0,21.0,26.0,32.0,25.0,29.69911764705882,29.69911764705882,0.83,22.0,29.0,28.0,16.0,29.69911764705882,24.0,29.0,20.0,46.0,26.0,59.0,29.69911764705882,71.0,23.0,34.0,29.69911764705882,21.0,33.0,37.0,28.0,29.69911764705882,38.0,47.0,22.0,21.0,70.5,29.0,24.0,21.0,29.69911764705882,32.5,54.0,12.0,29.69911764705882,24.0,45.0,33.0,20.0,25.0,23.0,37.0,16.0,24.0,19.0,18.0,19.0,27.0,36.5,42.0,51.0,55.5,40.5,29.69911764705882,51.0,30.0,29.69911764705882,29.69911764705882,44.0,26.0,17.0,1.0,9.0,29.69911764705882,28.0,61.0,4.0,21.0,56.0,18.0,29.69911764705882,30.0,36.0,29.69911764705882,9.0,1.0,29.69911764705882,45.0,40.0,36.0,19.0,3.0,29.69911764705882,42.0,28.0,29.69911764705882,34.0,45.5,18.0,32.0,26.0,40.0,24.0,22.0,30.0,29.69911764705882,42.0,30.0,16.0,27.0,51.0,29.69911764705882,38.0,22.0,19.0,20.5,18.0,29.0,59.0,24.0,44.0,19.0,33.0,29.0,22.0,30.0,44.0,37.0,54.0,29.69911764705882,62.0,30.0,29.69911764705882,3.0,52.0,40.0,36.0,16.0,25.0,29.69911764705882,25.0,37.0,29.69911764705882,7.0,65.0,28.0,16.0,19.0,29.69911764705882,33.0,30.0,22.0,42.0,36.0,24.0,29.69911764705882,23.5,29.69911764705882,29.69911764705882,19.0,29.69911764705882,0.92,30.0,28.0,43.0,54.0,22.0,27.0,29.69911764705882,61.0,45.5,38.0,16.0,29.69911764705882,29.0,45.0,45.0,2.0,28.0,25.0,36.0,3.0,42.0,23.0,29.69911764705882,15.0,25.0,29.69911764705882,28.0,40.0,29.0,35.0,29.69911764705882,30.0,25.0,18.0,19.0,22.0,27.0,20.0,19.0,32.0,29.69911764705882,18.0,1.0,29.69911764705882,36.0,21.0,28.0,22.0,46.0,23.0,39.0,26.0,28.0,34.0,51.0,3.0,21.0,29.69911764705882,29.69911764705882,29.69911764705882,44.0,30.0,29.69911764705882,21.0,29.0,18.0,29.69911764705882,29.69911764705882,32.0,28.0,17.0,50.0,64.0,31.0,20.0,25.0,29.69911764705882,4.0,34.0,52.0,36.0,29.69911764705882,30.0,49.0,29.69911764705882,29.0,65.0,29.69911764705882,48.0,34.0,47.0,48.0,29.69911764705882,38.0,29.69911764705882,56.0,29.69911764705882,29.69911764705882,38.0,29.69911764705882,34.0,29.0,22.0,9.0,29.69911764705882,50.0,25.0,58.0,30.0,9.0,29.69911764705882,21.0,55.0,71.0,21.0,29.69911764705882,29.69911764705882,24.0,17.0,18.0,29.69911764705882,28.0,26.0,29.0,29.69911764705882,36.0,24.0,47.0,29.69911764705882,32.0,22.0,29.69911764705882,29.69911764705882,40.5,29.69911764705882,39.0,23.0,29.69911764705882,17.0,45.0,29.69911764705882,32.0,50.0,64.0,29.69911764705882,33.0,8.0,17.0,27.0,29.69911764705882,22.0,62.0,29.69911764705882,29.69911764705882,40.0,28.0,29.69911764705882,24.0,19.0,29.69911764705882,32.0,62.0,36.0,16.0,19.0,32.0,54.0,36.0,29.69911764705882,47.0,60.0,22.0,29.69911764705882,35.0,47.0,37.0,36.0,49.0,29.69911764705882,49.0,29.69911764705882,29.69911764705882,44.0,35.0,36.0,30.0,27.0,29.69911764705882,29.69911764705882,35.0,34.0,26.0,27.0,42.0,20.0,21.0,21.0,61.0,57.0,26.0,29.69911764705882,80.0,51.0,32.0,29.69911764705882,32.0,31.0,29.69911764705882,20.0,29.69911764705882,48.0,19.0,56.0,29.69911764705882,29.69911764705882,21.0,24.0,29.69911764705882,23.0,58.0,50.0,40.0,47.0,36.0,20.0,32.0,25.0,29.69911764705882,43.0,31.0,70.0,31.0,29.69911764705882,18.0,24.5,36.0,27.0,20.0,14.0,60.0,25.0,14.0,19.0,18.0,31.0,29.69911764705882,25.0,60.0,52.0,44.0,49.0,42.0,35.0,25.0,26.0,39.0,42.0,29.69911764705882,29.69911764705882,48.0,29.0,52.0,19.0,29.69911764705882,33.0,17.0,34.0,50.0,27.0,20.0,25.0,11.0,29.69911764705882,23.0,23.0,28.5,35.0,29.69911764705882,29.69911764705882,29.69911764705882,36.0,24.0,31.0,70.0,16.0,19.0,31.0,6.0,33.0,23.0,0.67,28.0,18.0,34.0,29.69911764705882,41.0,20.0,16.0,29.69911764705882,29.69911764705882,32.0,24.0,48.0,29.69911764705882,18.0,29.69911764705882,29.69911764705882,29.0,29.69911764705882,25.0,25.0,8.0,1.0,46.0,29.69911764705882,16.0,29.69911764705882,25.0,39.0,30.0,34.0,11.0,0.42,27.0,31.0,39.0,39.0,26.0,39.0,35.0,30.5,29.69911764705882,31.0,43.0,10.0,27.0,38.0,2.0,29.69911764705882,29.69911764705882,1.0,29.69911764705882,0.83,29.69911764705882,23.0,18.0,21.0,29.69911764705882,32.0,29.69911764705882,20.0,16.0,34.5,17.0,42.0,29.69911764705882,35.0,28.0,4.0,74.0,51.0,29.69911764705882,41.0,21.0,24.0,31.0,29.69911764705882,4.0,26.0,33.0,47.0,20.0,19.0,29.69911764705882,33.0,28.0,25.0,27.0,26.0,32.0],\"xaxis\":\"x\",\"y\":[7.25,8.05,8.4583,51.8625,21.075,8.05,31.275,29.125,13.0,26.0,13.0,35.5,7.225,263.0,7.8958,27.7208,10.5,82.1708,52.0,7.2292,8.05,7.8958,8.05,15.5,21.6792,39.6875,7.8,61.9792,35.5,7.2292,46.9,7.2292,83.475,27.9,27.7208,15.2458,8.1583,8.6625,10.5,73.5,14.4542,56.4958,7.65,7.8958,8.05,29.0,9.0,9.5,47.1,34.375,8.05,8.05,8.05,7.8542,61.175,20.575,7.25,8.05,34.6542,63.3583,26.0,7.8958,77.2875,8.6542,7.925,7.8958,7.775,7.8958,52.0,8.05,7.925,7.75,21.0,247.5208,73.5,8.05,30.0708,77.2875,11.2417,7.75,7.1417,6.975,7.8958,7.05,13.0,15.0458,53.1,9.2167,79.2,6.75,11.5,36.75,7.7958,26.0,13.0,12.525,8.05,14.5,7.3125,61.3792,8.05,8.6625,69.55,16.1,7.775,8.6625,39.6875,20.525,25.925,56.4958,33.5,29.125,7.925,30.6958,7.8542,25.4667,13.0,0.0,15.05,31.3875,39.0,50.0,26.55,15.5,7.8958,13.0,26.0,7.75,8.4042,9.5,69.55,6.4958,7.225,8.05,15.85,18.7875,31.0,7.05,7.25,13.0,7.75,27.0,10.5,8.05,13.0,8.05,7.8958,90.0,9.35,10.5,7.25,13.0,7.775,13.5,10.5,26.0,10.5,12.275,10.5,7.125,7.225,90.0,52.5542,26.0,7.25,26.55,16.1,7.75,31.3875,79.65,0.0,10.5,39.6875,7.775,31.0,0.0,29.7,0.0,29.125,7.75,7.8542,9.5,8.05,26.0,8.6625,9.5,7.8958,13.0,12.875,7.8958,27.7208,7.2292,30.5,23.25,0.0,8.05,151.55,24.0,7.8958,26.25,14.0,7.25,7.8958,69.55,6.2375,28.5,153.4625,18.0,7.8958,66.6,8.05,35.5,26.0,13.0,13.0,13.0,15.9,8.6625,9.225,35.0,7.2292,17.8,7.225,9.5,27.9,27.7208,7.05,15.5,7.25,55.4417,6.4958,8.05,135.6333,211.5,4.0125,7.775,7.925,7.8958,73.5,46.9,7.7292,120.0,7.7958,7.925,7.7958,26.0,10.5,7.925,8.05,15.85,21.0,7.75,18.75,7.775,7.8958,6.8583,0.0,7.925,13.0,7.8958,7.7333,7.875,20.2125,7.25,7.75,8.05,26.55,7.125,55.9,263.0,10.5,9.5,7.775,8.1125,81.8583,26.55,30.5,27.75,19.9667,27.75,89.1042,8.05,7.8958,26.55,7.75,26.55,8.05,38.5,13.0,8.05,7.05,0.0,26.55,7.725,7.25,8.6625,52.0,21.0,7.0458,7.5208,46.9,0.0,8.05,91.0792,29.7,8.05,15.9,19.9667,7.25,30.5,49.5042,8.05,14.4583,15.1,7.7958,8.6625,108.9,26.55,22.525,56.4958,7.75,8.05,26.2875,7.4958,34.0208,24.15,7.8958,7.8958,7.225,7.2292,7.75,221.7792,7.925,11.5,7.2292,7.2292,26.55,14.5,26.0,106.425,26.0,13.8625,20.525,36.75,110.8833,26.0,7.8292,7.225,26.55,227.525,7.75,7.8958,13.5,8.05,24.15,7.8958,7.2292,7.8542,10.5,26.3875,8.05,14.5,7.925,26.0,40.125,8.7125,15.0,79.2,8.05,8.05,7.125,7.25,26.0,24.15,0.0,7.225,56.9292,7.8958,42.4,8.05,26.55,15.55,7.8958,30.5,7.05,7.75,8.05,14.4,10.5,14.4542,52.5542,15.7417,7.8542,16.1,32.3208,12.35,7.8958,7.7333,30.0,7.0542,30.5,0.0,7.925,26.25,16.1,7.8542,56.4958,76.7292,7.8958,35.5,7.55,7.8958,8.4333,73.5,7.8958,13.0,113.275,133.65,7.225,25.5875,7.4958,7.925,73.5,13.0,7.775,8.05,52.0,10.5,13.0,0.0,7.775,8.05,512.3292,76.7292,9.225,46.9,39.0,41.5792,39.6875,10.1708,7.7958,57.0,56.4958,7.225,26.55,13.5,8.05,110.8833,7.65,26.2875,7.7417,7.8542,26.0,26.2875,15.2458,26.55,52.0,9.4833,13.0,7.65,15.5,7.775,7.0542,13.0,13.0,53.1,8.6625,26.0,18.7875,0.0,13.0,13.0,16.1,512.3292,7.8958,7.8958,30.0,78.85,16.1,7.925,71.0,20.25,53.1,7.75,12.475,9.5,7.8958,14.5,7.7958,11.5,8.05,14.5,7.125,7.2292,7.775,39.6,24.15,8.3625,9.5,7.8542,7.225,7.75,7.75,7.7375,30.0,23.45,7.05,7.25,29.125,20.575,79.2,7.75,26.0,30.6958,7.8958,13.0,7.2292,13.0,120.0,8.5167,6.975,7.775,0.0,13.0,7.8875,24.15,10.5,8.05,0.0,37.0042,6.45,27.9,8.6625,0.0,39.6875,6.95,56.4958,37.0042,7.75,18.75,7.2292,7.8542,8.3,8.6625,8.05,56.4958,29.7,7.925,10.5,6.4375,8.6625,7.55,69.55,7.8958,33.0,31.275,7.775,26.55,7.2292,14.1083,11.5,13.0,50.4958,9.5,11.1333,7.8958,5.0,9.0,9.8458,7.8958,7.8958,7.8958,10.5,7.05,13.0,30.0,7.75],\"yaxis\":\"y\",\"type\":\"scatter\"},{\"hovertemplate\":\"Sex=female<br>Age=%{x}<br>Fare=%{y}<extra></extra>\",\"legendgroup\":\"female\",\"marker\":{\"color\":\"#EF553B\",\"symbol\":\"circle\"},\"mode\":\"markers\",\"name\":\"female\",\"orientation\":\"v\",\"showlegend\":true,\"x\":[38.0,26.0,35.0,27.0,14.0,4.0,58.0,14.0,55.0,31.0,29.69911764705882,15.0,8.0,38.0,29.69911764705882,29.69911764705882,29.69911764705882,18.0,14.0,40.0,27.0,3.0,19.0,29.69911764705882,18.0,49.0,29.0,21.0,5.0,38.0,29.0,17.0,16.0,30.0,29.69911764705882,17.0,33.0,23.0,34.0,28.0,21.0,29.69911764705882,14.5,20.0,17.0,2.0,32.5,29.69911764705882,47.0,29.0,19.0,29.69911764705882,22.0,24.0,9.0,22.0,16.0,40.0,29.69911764705882,45.0,1.0,50.0,29.69911764705882,4.0,29.69911764705882,32.0,19.0,44.0,58.0,29.69911764705882,24.0,2.0,16.0,35.0,31.0,27.0,32.0,29.69911764705882,35.0,5.0,29.69911764705882,8.0,29.69911764705882,29.69911764705882,25.0,24.0,29.0,41.0,29.0,29.69911764705882,30.0,35.0,50.0,29.69911764705882,58.0,35.0,41.0,29.69911764705882,63.0,45.0,35.0,22.0,26.0,19.0,24.0,2.0,50.0,29.69911764705882,29.69911764705882,29.69911764705882,17.0,30.0,24.0,18.0,26.0,26.0,24.0,31.0,40.0,30.0,22.0,36.0,36.0,31.0,16.0,29.69911764705882,29.69911764705882,41.0,24.0,24.0,40.0,29.69911764705882,22.0,38.0,29.69911764705882,29.69911764705882,45.0,60.0,29.69911764705882,29.69911764705882,24.0,3.0,29.69911764705882,22.0,42.0,1.0,35.0,36.0,17.0,23.0,24.0,31.0,28.0,21.0,20.0,29.69911764705882,33.0,29.69911764705882,34.0,18.0,10.0,28.0,28.0,19.0,29.69911764705882,42.0,14.0,21.0,24.0,45.0,28.0,13.0,5.0,29.69911764705882,50.0,0.75,33.0,23.0,22.0,2.0,63.0,29.69911764705882,35.0,54.0,25.0,21.0,29.69911764705882,37.0,16.0,33.0,54.0,34.0,36.0,30.0,44.0,50.0,2.0,29.69911764705882,30.0,7.0,30.0,22.0,36.0,9.0,11.0,19.0,22.0,48.0,39.0,36.0,29.69911764705882,29.0,53.0,29.69911764705882,34.0,39.0,29.69911764705882,25.0,39.0,18.0,52.0,29.69911764705882,29.69911764705882,24.0,22.0,40.0,39.0,29.69911764705882,24.0,26.0,4.0,21.0,9.0,28.0,41.0,24.0,2.0,0.75,23.0,18.0,29.69911764705882,18.0,32.0,29.69911764705882,40.0,18.0,43.0,29.69911764705882,15.0,4.0,29.69911764705882,18.0,18.0,45.0,22.0,24.0,38.0,27.0,6.0,30.0,29.69911764705882,25.0,29.0,48.0,21.0,30.0,4.0,48.0,33.0,36.0,51.0,30.5,57.0,54.0,5.0,43.0,13.0,17.0,18.0,29.69911764705882,49.0,31.0,30.0,31.0,18.0,33.0,6.0,23.0,52.0,27.0,62.0,15.0,39.0,30.0,29.69911764705882,9.0,16.0,44.0,18.0,45.0,24.0,48.0,29.69911764705882,42.0,27.0,47.0,28.0,15.0,56.0,25.0,22.0,39.0,19.0,29.69911764705882],\"xaxis\":\"x\",\"y\":[71.2833,7.925,53.1,11.1333,30.0708,16.7,26.55,7.8542,16.0,18.0,7.225,8.0292,21.075,31.3875,7.8792,146.5208,7.75,18.0,11.2417,9.475,21.0,41.5792,7.8792,7.75,17.8,76.7292,26.0,10.5,27.75,80.0,10.5,7.925,46.9,12.475,7.7875,10.5,15.85,263.0,23.0,7.8958,7.65,24.15,14.4542,9.825,14.4583,31.275,13.0,22.3583,14.5,26.0,26.2833,15.2458,7.75,15.85,34.375,66.6,7.7333,15.75,55.0,27.9,11.1333,28.7125,69.55,22.025,15.5,13.0,7.8542,27.7208,146.5208,7.75,13.0,10.4625,7.75,21.0,113.275,7.925,76.2917,25.4667,83.475,31.3875,7.55,26.25,14.4542,15.5,7.775,14.5,10.4625,20.2125,15.2458,79.2,86.5,512.3292,26.0,7.75,153.4625,135.6333,19.5,7.75,77.9583,7.75,20.25,7.75,78.85,91.0792,8.85,151.55,247.5208,7.75,12.35,110.8833,108.9,56.9292,83.1583,262.375,26.0,7.8542,26.0,164.8667,134.5,12.35,29.0,135.6333,13.0,20.525,57.9792,23.25,133.65,134.5,263.0,13.0,13.0,16.1,55.0,13.0,7.8792,7.8792,14.4542,75.25,7.2292,7.75,69.3,21.075,82.1708,7.25,227.525,15.7417,52.0,13.0,12.0,113.275,16.7,7.8542,12.65,9.825,8.6625,25.4667,90.0,8.05,32.5,13.0,24.15,14.4,26.0,26.0,16.1,26.0,120.0,34.375,18.75,26.25,13.0,19.5,19.2583,51.8625,10.5,19.2583,27.75,13.7917,9.8375,12.2875,9.5875,25.4667,90.0,78.2667,151.55,7.75,7.6292,9.5875,86.5,26.0,59.4,10.5,26.0,93.5,57.9792,10.5,26.0,22.3583,8.6625,26.25,106.425,49.5,71.0,31.275,31.275,26.0,7.775,39.6,79.65,17.4,8.05,21.075,51.4792,7.75,13.0,55.9,14.4583,30.0,110.8833,79.65,78.2667,7.75,33.0,27.0,41.5792,153.4625,31.275,15.5,65.0,16.1,39.0,77.9583,27.9,13.0,39.6875,69.3,27.9,19.2583,7.55,23.0,7.8292,6.75,15.5,52.0,39.0,9.8417,46.9,8.1375,211.3375,13.4167,7.7333,227.525,14.4542,13.5,151.55,49.5042,227.525,10.5,33.0,21.0,7.7375,7.925,211.3375,34.375,262.375,13.0,23.0,65.0,86.5,120.0,77.9583,7.75,10.5,23.0,12.475,211.3375,7.2292,57.0,7.4958,69.55,25.9292,8.6833,24.15,26.25,7.775,53.1,31.275,7.925,93.5,12.475,80.0,14.4542,83.1583,31.0,89.1042,15.2458,39.4,26.0,9.35,164.8667,19.2583,25.9292,69.55,13.0,13.8583,52.5542,24.0,7.225,83.1583,26.0,10.5167,29.125,30.0,23.45],\"yaxis\":\"y\",\"type\":\"scatter\"}],                        {\"template\":{\"data\":{\"bar\":[{\"error_x\":{\"color\":\"#2a3f5f\"},\"error_y\":{\"color\":\"#2a3f5f\"},\"marker\":{\"line\":{\"color\":\"#E5ECF6\",\"width\":0.5},\"pattern\":{\"fillmode\":\"overlay\",\"size\":10,\"solidity\":0.2}},\"type\":\"bar\"}],\"barpolar\":[{\"marker\":{\"line\":{\"color\":\"#E5ECF6\",\"width\":0.5},\"pattern\":{\"fillmode\":\"overlay\",\"size\":10,\"solidity\":0.2}},\"type\":\"barpolar\"}],\"carpet\":[{\"aaxis\":{\"endlinecolor\":\"#2a3f5f\",\"gridcolor\":\"white\",\"linecolor\":\"white\",\"minorgridcolor\":\"white\",\"startlinecolor\":\"#2a3f5f\"},\"baxis\":{\"endlinecolor\":\"#2a3f5f\",\"gridcolor\":\"white\",\"linecolor\":\"white\",\"minorgridcolor\":\"white\",\"startlinecolor\":\"#2a3f5f\"},\"type\":\"carpet\"}],\"choropleth\":[{\"colorbar\":{\"outlinewidth\":0,\"ticks\":\"\"},\"type\":\"choropleth\"}],\"contour\":[{\"colorbar\":{\"outlinewidth\":0,\"ticks\":\"\"},\"colorscale\":[[0.0,\"#0d0887\"],[0.1111111111111111,\"#46039f\"],[0.2222222222222222,\"#7201a8\"],[0.3333333333333333,\"#9c179e\"],[0.4444444444444444,\"#bd3786\"],[0.5555555555555556,\"#d8576b\"],[0.6666666666666666,\"#ed7953\"],[0.7777777777777778,\"#fb9f3a\"],[0.8888888888888888,\"#fdca26\"],[1.0,\"#f0f921\"]],\"type\":\"contour\"}],\"contourcarpet\":[{\"colorbar\":{\"outlinewidth\":0,\"ticks\":\"\"},\"type\":\"contourcarpet\"}],\"heatmap\":[{\"colorbar\":{\"outlinewidth\":0,\"ticks\":\"\"},\"colorscale\":[[0.0,\"#0d0887\"],[0.1111111111111111,\"#46039f\"],[0.2222222222222222,\"#7201a8\"],[0.3333333333333333,\"#9c179e\"],[0.4444444444444444,\"#bd3786\"],[0.5555555555555556,\"#d8576b\"],[0.6666666666666666,\"#ed7953\"],[0.7777777777777778,\"#fb9f3a\"],[0.8888888888888888,\"#fdca26\"],[1.0,\"#f0f921\"]],\"type\":\"heatmap\"}],\"heatmapgl\":[{\"colorbar\":{\"outlinewidth\":0,\"ticks\":\"\"},\"colorscale\":[[0.0,\"#0d0887\"],[0.1111111111111111,\"#46039f\"],[0.2222222222222222,\"#7201a8\"],[0.3333333333333333,\"#9c179e\"],[0.4444444444444444,\"#bd3786\"],[0.5555555555555556,\"#d8576b\"],[0.6666666666666666,\"#ed7953\"],[0.7777777777777778,\"#fb9f3a\"],[0.8888888888888888,\"#fdca26\"],[1.0,\"#f0f921\"]],\"type\":\"heatmapgl\"}],\"histogram\":[{\"marker\":{\"pattern\":{\"fillmode\":\"overlay\",\"size\":10,\"solidity\":0.2}},\"type\":\"histogram\"}],\"histogram2d\":[{\"colorbar\":{\"outlinewidth\":0,\"ticks\":\"\"},\"colorscale\":[[0.0,\"#0d0887\"],[0.1111111111111111,\"#46039f\"],[0.2222222222222222,\"#7201a8\"],[0.3333333333333333,\"#9c179e\"],[0.4444444444444444,\"#bd3786\"],[0.5555555555555556,\"#d8576b\"],[0.6666666666666666,\"#ed7953\"],[0.7777777777777778,\"#fb9f3a\"],[0.8888888888888888,\"#fdca26\"],[1.0,\"#f0f921\"]],\"type\":\"histogram2d\"}],\"histogram2dcontour\":[{\"colorbar\":{\"outlinewidth\":0,\"ticks\":\"\"},\"colorscale\":[[0.0,\"#0d0887\"],[0.1111111111111111,\"#46039f\"],[0.2222222222222222,\"#7201a8\"],[0.3333333333333333,\"#9c179e\"],[0.4444444444444444,\"#bd3786\"],[0.5555555555555556,\"#d8576b\"],[0.6666666666666666,\"#ed7953\"],[0.7777777777777778,\"#fb9f3a\"],[0.8888888888888888,\"#fdca26\"],[1.0,\"#f0f921\"]],\"type\":\"histogram2dcontour\"}],\"mesh3d\":[{\"colorbar\":{\"outlinewidth\":0,\"ticks\":\"\"},\"type\":\"mesh3d\"}],\"parcoords\":[{\"line\":{\"colorbar\":{\"outlinewidth\":0,\"ticks\":\"\"}},\"type\":\"parcoords\"}],\"pie\":[{\"automargin\":true,\"type\":\"pie\"}],\"scatter\":[{\"marker\":{\"colorbar\":{\"outlinewidth\":0,\"ticks\":\"\"}},\"type\":\"scatter\"}],\"scatter3d\":[{\"line\":{\"colorbar\":{\"outlinewidth\":0,\"ticks\":\"\"}},\"marker\":{\"colorbar\":{\"outlinewidth\":0,\"ticks\":\"\"}},\"type\":\"scatter3d\"}],\"scattercarpet\":[{\"marker\":{\"colorbar\":{\"outlinewidth\":0,\"ticks\":\"\"}},\"type\":\"scattercarpet\"}],\"scattergeo\":[{\"marker\":{\"colorbar\":{\"outlinewidth\":0,\"ticks\":\"\"}},\"type\":\"scattergeo\"}],\"scattergl\":[{\"marker\":{\"colorbar\":{\"outlinewidth\":0,\"ticks\":\"\"}},\"type\":\"scattergl\"}],\"scattermapbox\":[{\"marker\":{\"colorbar\":{\"outlinewidth\":0,\"ticks\":\"\"}},\"type\":\"scattermapbox\"}],\"scatterpolar\":[{\"marker\":{\"colorbar\":{\"outlinewidth\":0,\"ticks\":\"\"}},\"type\":\"scatterpolar\"}],\"scatterpolargl\":[{\"marker\":{\"colorbar\":{\"outlinewidth\":0,\"ticks\":\"\"}},\"type\":\"scatterpolargl\"}],\"scatterternary\":[{\"marker\":{\"colorbar\":{\"outlinewidth\":0,\"ticks\":\"\"}},\"type\":\"scatterternary\"}],\"surface\":[{\"colorbar\":{\"outlinewidth\":0,\"ticks\":\"\"},\"colorscale\":[[0.0,\"#0d0887\"],[0.1111111111111111,\"#46039f\"],[0.2222222222222222,\"#7201a8\"],[0.3333333333333333,\"#9c179e\"],[0.4444444444444444,\"#bd3786\"],[0.5555555555555556,\"#d8576b\"],[0.6666666666666666,\"#ed7953\"],[0.7777777777777778,\"#fb9f3a\"],[0.8888888888888888,\"#fdca26\"],[1.0,\"#f0f921\"]],\"type\":\"surface\"}],\"table\":[{\"cells\":{\"fill\":{\"color\":\"#EBF0F8\"},\"line\":{\"color\":\"white\"}},\"header\":{\"fill\":{\"color\":\"#C8D4E3\"},\"line\":{\"color\":\"white\"}},\"type\":\"table\"}]},\"layout\":{\"annotationdefaults\":{\"arrowcolor\":\"#2a3f5f\",\"arrowhead\":0,\"arrowwidth\":1},\"autotypenumbers\":\"strict\",\"coloraxis\":{\"colorbar\":{\"outlinewidth\":0,\"ticks\":\"\"}},\"colorscale\":{\"diverging\":[[0,\"#8e0152\"],[0.1,\"#c51b7d\"],[0.2,\"#de77ae\"],[0.3,\"#f1b6da\"],[0.4,\"#fde0ef\"],[0.5,\"#f7f7f7\"],[0.6,\"#e6f5d0\"],[0.7,\"#b8e186\"],[0.8,\"#7fbc41\"],[0.9,\"#4d9221\"],[1,\"#276419\"]],\"sequential\":[[0.0,\"#0d0887\"],[0.1111111111111111,\"#46039f\"],[0.2222222222222222,\"#7201a8\"],[0.3333333333333333,\"#9c179e\"],[0.4444444444444444,\"#bd3786\"],[0.5555555555555556,\"#d8576b\"],[0.6666666666666666,\"#ed7953\"],[0.7777777777777778,\"#fb9f3a\"],[0.8888888888888888,\"#fdca26\"],[1.0,\"#f0f921\"]],\"sequentialminus\":[[0.0,\"#0d0887\"],[0.1111111111111111,\"#46039f\"],[0.2222222222222222,\"#7201a8\"],[0.3333333333333333,\"#9c179e\"],[0.4444444444444444,\"#bd3786\"],[0.5555555555555556,\"#d8576b\"],[0.6666666666666666,\"#ed7953\"],[0.7777777777777778,\"#fb9f3a\"],[0.8888888888888888,\"#fdca26\"],[1.0,\"#f0f921\"]]},\"colorway\":[\"#636efa\",\"#EF553B\",\"#00cc96\",\"#ab63fa\",\"#FFA15A\",\"#19d3f3\",\"#FF6692\",\"#B6E880\",\"#FF97FF\",\"#FECB52\"],\"font\":{\"color\":\"#2a3f5f\"},\"geo\":{\"bgcolor\":\"white\",\"lakecolor\":\"white\",\"landcolor\":\"#E5ECF6\",\"showlakes\":true,\"showland\":true,\"subunitcolor\":\"white\"},\"hoverlabel\":{\"align\":\"left\"},\"hovermode\":\"closest\",\"mapbox\":{\"style\":\"light\"},\"paper_bgcolor\":\"white\",\"plot_bgcolor\":\"#E5ECF6\",\"polar\":{\"angularaxis\":{\"gridcolor\":\"white\",\"linecolor\":\"white\",\"ticks\":\"\"},\"bgcolor\":\"#E5ECF6\",\"radialaxis\":{\"gridcolor\":\"white\",\"linecolor\":\"white\",\"ticks\":\"\"}},\"scene\":{\"xaxis\":{\"backgroundcolor\":\"#E5ECF6\",\"gridcolor\":\"white\",\"gridwidth\":2,\"linecolor\":\"white\",\"showbackground\":true,\"ticks\":\"\",\"zerolinecolor\":\"white\"},\"yaxis\":{\"backgroundcolor\":\"#E5ECF6\",\"gridcolor\":\"white\",\"gridwidth\":2,\"linecolor\":\"white\",\"showbackground\":true,\"ticks\":\"\",\"zerolinecolor\":\"white\"},\"zaxis\":{\"backgroundcolor\":\"#E5ECF6\",\"gridcolor\":\"white\",\"gridwidth\":2,\"linecolor\":\"white\",\"showbackground\":true,\"ticks\":\"\",\"zerolinecolor\":\"white\"}},\"shapedefaults\":{\"line\":{\"color\":\"#2a3f5f\"}},\"ternary\":{\"aaxis\":{\"gridcolor\":\"white\",\"linecolor\":\"white\",\"ticks\":\"\"},\"baxis\":{\"gridcolor\":\"white\",\"linecolor\":\"white\",\"ticks\":\"\"},\"bgcolor\":\"#E5ECF6\",\"caxis\":{\"gridcolor\":\"white\",\"linecolor\":\"white\",\"ticks\":\"\"}},\"title\":{\"x\":0.05},\"xaxis\":{\"automargin\":true,\"gridcolor\":\"white\",\"linecolor\":\"white\",\"ticks\":\"\",\"title\":{\"standoff\":15},\"zerolinecolor\":\"white\",\"zerolinewidth\":2},\"yaxis\":{\"automargin\":true,\"gridcolor\":\"white\",\"linecolor\":\"white\",\"ticks\":\"\",\"title\":{\"standoff\":15},\"zerolinecolor\":\"white\",\"zerolinewidth\":2}}},\"xaxis\":{\"anchor\":\"y\",\"domain\":[0.0,1.0],\"title\":{\"text\":\"Age\"}},\"yaxis\":{\"anchor\":\"x\",\"domain\":[0.0,1.0],\"title\":{\"text\":\"Fare\"}},\"legend\":{\"title\":{\"text\":\"Sex\"},\"tracegroupgap\":0},\"margin\":{\"t\":60}},                        {\"responsive\": true}                    ).then(function(){\n",
       "                            \n",
       "var gd = document.getElementById('bb7f92f6-336d-4cb1-8361-037f2b8688c8');\n",
       "var x = new MutationObserver(function (mutations, observer) {{\n",
       "        var display = window.getComputedStyle(gd).display;\n",
       "        if (!display || display === 'none') {{\n",
       "            console.log([gd, 'removed!']);\n",
       "            Plotly.purge(gd);\n",
       "            observer.disconnect();\n",
       "        }}\n",
       "}});\n",
       "\n",
       "// Listen for the removal of the full notebook cells\n",
       "var notebookContainer = gd.closest('#notebook-container');\n",
       "if (notebookContainer) {{\n",
       "    x.observe(notebookContainer, {childList: true});\n",
       "}}\n",
       "\n",
       "// Listen for the clearing of the current output cell\n",
       "var outputEl = gd.closest('.output');\n",
       "if (outputEl) {{\n",
       "    x.observe(outputEl, {childList: true});\n",
       "}}\n",
       "\n",
       "                        })                };                });            </script>        </div>"
      ]
     },
     "metadata": {},
     "output_type": "display_data"
    }
   ],
   "source": [
    "fig = px.scatter(df, x=\"Age\", y=\"Fare\", color=\"Sex\")\n",
    "fig.show()"
   ]
  },
  {
   "cell_type": "markdown",
   "id": "9c11263f",
   "metadata": {},
   "source": [
    "Plot a bubble plot of the ages to the fare paid by each passenger categorizing whether they survived or not. The size of each bubble should be determined by the passenger class and the name of each individual as the hover name"
   ]
  },
  {
   "cell_type": "code",
   "execution_count": 205,
   "id": "cf9a9527",
   "metadata": {},
   "outputs": [
    {
     "data": {
      "application/vnd.plotly.v1+json": {
       "config": {
        "plotlyServerURL": "https://plot.ly"
       },
       "data": [
        {
         "customdata": [
          [
           "Braund, Mr. Owen Harris"
          ],
          [
           "Cumings, Mrs. John Bradley (Florence Briggs Thayer)"
          ],
          [
           "Heikkinen, Miss. Laina"
          ],
          [
           "Futrelle, Mrs. Jacques Heath (Lily May Peel)"
          ],
          [
           "Allen, Mr. William Henry"
          ],
          [
           "Moran, Mr. James"
          ],
          [
           "McCarthy, Mr. Timothy J"
          ],
          [
           "Palsson, Master. Gosta Leonard"
          ],
          [
           "Johnson, Mrs. Oscar W (Elisabeth Vilhelmina Berg)"
          ],
          [
           "Nasser, Mrs. Nicholas (Adele Achem)"
          ],
          [
           "Sandstrom, Miss. Marguerite Rut"
          ],
          [
           "Bonnell, Miss. Elizabeth"
          ],
          [
           "Saundercock, Mr. William Henry"
          ],
          [
           "Andersson, Mr. Anders Johan"
          ],
          [
           "Vestrom, Miss. Hulda Amanda Adolfina"
          ],
          [
           "Hewlett, Mrs. (Mary D Kingcome) "
          ],
          [
           "Rice, Master. Eugene"
          ],
          [
           "Williams, Mr. Charles Eugene"
          ],
          [
           "Vander Planke, Mrs. Julius (Emelia Maria Vandemoortele)"
          ],
          [
           "Masselmani, Mrs. Fatima"
          ],
          [
           "Fynney, Mr. Joseph J"
          ],
          [
           "Beesley, Mr. Lawrence"
          ],
          [
           "McGowan, Miss. Anna \"Annie\""
          ],
          [
           "Sloper, Mr. William Thompson"
          ],
          [
           "Palsson, Miss. Torborg Danira"
          ],
          [
           "Asplund, Mrs. Carl Oscar (Selma Augusta Emilia Johansson)"
          ],
          [
           "Emir, Mr. Farred Chehab"
          ],
          [
           "Fortune, Mr. Charles Alexander"
          ],
          [
           "O'Dwyer, Miss. Ellen \"Nellie\""
          ],
          [
           "Todoroff, Mr. Lalio"
          ],
          [
           "Uruchurtu, Don. Manuel E"
          ],
          [
           "Spencer, Mrs. William Augustus (Marie Eugenie)"
          ],
          [
           "Glynn, Miss. Mary Agatha"
          ],
          [
           "Wheadon, Mr. Edward H"
          ],
          [
           "Meyer, Mr. Edgar Joseph"
          ],
          [
           "Holverson, Mr. Alexander Oskar"
          ],
          [
           "Mamee, Mr. Hanna"
          ],
          [
           "Cann, Mr. Ernest Charles"
          ],
          [
           "Vander Planke, Miss. Augusta Maria"
          ],
          [
           "Nicola-Yarred, Miss. Jamila"
          ],
          [
           "Ahlin, Mrs. Johan (Johanna Persdotter Larsson)"
          ],
          [
           "Turpin, Mrs. William John Robert (Dorothy Ann Wonnacott)"
          ],
          [
           "Kraeff, Mr. Theodor"
          ],
          [
           "Laroche, Miss. Simonne Marie Anne Andree"
          ],
          [
           "Devaney, Miss. Margaret Delia"
          ],
          [
           "Rogers, Mr. William John"
          ],
          [
           "Lennon, Mr. Denis"
          ],
          [
           "O'Driscoll, Miss. Bridget"
          ],
          [
           "Samaan, Mr. Youssef"
          ],
          [
           "Arnold-Franchi, Mrs. Josef (Josefine Franchi)"
          ],
          [
           "Panula, Master. Juha Niilo"
          ],
          [
           "Nosworthy, Mr. Richard Cater"
          ],
          [
           "Harper, Mrs. Henry Sleeper (Myna Haxtun)"
          ],
          [
           "Faunthorpe, Mrs. Lizzie (Elizabeth Anne Wilkinson)"
          ],
          [
           "Ostby, Mr. Engelhart Cornelius"
          ],
          [
           "Woolner, Mr. Hugh"
          ],
          [
           "Rugg, Miss. Emily"
          ],
          [
           "Novel, Mr. Mansouer"
          ],
          [
           "West, Miss. Constance Mirium"
          ],
          [
           "Goodwin, Master. William Frederick"
          ],
          [
           "Sirayanian, Mr. Orsen"
          ],
          [
           "Icard, Miss. Amelie"
          ],
          [
           "Harris, Mr. Henry Birkhardt"
          ],
          [
           "Skoog, Master. Harald"
          ],
          [
           "Stewart, Mr. Albert A"
          ],
          [
           "Moubarek, Master. Gerios"
          ],
          [
           "Nye, Mrs. (Elizabeth Ramell)"
          ],
          [
           "Crease, Mr. Ernest James"
          ],
          [
           "Andersson, Miss. Erna Alexandra"
          ],
          [
           "Kink, Mr. Vincenz"
          ],
          [
           "Jenkin, Mr. Stephen Curnow"
          ],
          [
           "Goodwin, Miss. Lillian Amy"
          ],
          [
           "Hood, Mr. Ambrose Jr"
          ],
          [
           "Chronopoulos, Mr. Apostolos"
          ],
          [
           "Bing, Mr. Lee"
          ],
          [
           "Moen, Mr. Sigurd Hansen"
          ],
          [
           "Staneff, Mr. Ivan"
          ],
          [
           "Moutal, Mr. Rahamin Haim"
          ],
          [
           "Caldwell, Master. Alden Gates"
          ],
          [
           "Dowdell, Miss. Elizabeth"
          ],
          [
           "Waelens, Mr. Achille"
          ],
          [
           "Sheerlinck, Mr. Jan Baptist"
          ],
          [
           "McDermott, Miss. Brigdet Delia"
          ],
          [
           "Carrau, Mr. Francisco M"
          ],
          [
           "Ilett, Miss. Bertha"
          ],
          [
           "Backstrom, Mrs. Karl Alfred (Maria Mathilda Gustafsson)"
          ],
          [
           "Ford, Mr. William Neal"
          ],
          [
           "Slocovski, Mr. Selman Francis"
          ],
          [
           "Fortune, Miss. Mabel Helen"
          ],
          [
           "Celotti, Mr. Francesco"
          ],
          [
           "Christmann, Mr. Emil"
          ],
          [
           "Andreasson, Mr. Paul Edvin"
          ],
          [
           "Chaffee, Mr. Herbert Fuller"
          ],
          [
           "Dean, Mr. Bertram Frank"
          ],
          [
           "Coxon, Mr. Daniel"
          ],
          [
           "Shorney, Mr. Charles Joseph"
          ],
          [
           "Goldschmidt, Mr. George B"
          ],
          [
           "Greenfield, Mr. William Bertram"
          ],
          [
           "Doling, Mrs. John T (Ada Julia Bone)"
          ],
          [
           "Kantor, Mr. Sinai"
          ],
          [
           "Petranec, Miss. Matilda"
          ],
          [
           "Petroff, Mr. Pastcho (\"Pentcho\")"
          ],
          [
           "White, Mr. Richard Frasar"
          ],
          [
           "Johansson, Mr. Gustaf Joel"
          ],
          [
           "Gustafsson, Mr. Anders Vilhelm"
          ],
          [
           "Mionoff, Mr. Stoytcho"
          ],
          [
           "Salkjelsvik, Miss. Anna Kristine"
          ],
          [
           "Moss, Mr. Albert Johan"
          ],
          [
           "Rekic, Mr. Tido"
          ],
          [
           "Moran, Miss. Bertha"
          ],
          [
           "Porter, Mr. Walter Chamberlain"
          ],
          [
           "Zabour, Miss. Hileni"
          ],
          [
           "Barton, Mr. David John"
          ],
          [
           "Jussila, Miss. Katriina"
          ],
          [
           "Attalah, Miss. Malake"
          ],
          [
           "Pekoniemi, Mr. Edvard"
          ],
          [
           "Connors, Mr. Patrick"
          ],
          [
           "Turpin, Mr. William John Robert"
          ],
          [
           "Baxter, Mr. Quigg Edmond"
          ],
          [
           "Andersson, Miss. Ellis Anna Maria"
          ],
          [
           "Hickman, Mr. Stanley George"
          ],
          [
           "Moore, Mr. Leonard Charles"
          ],
          [
           "Nasser, Mr. Nicholas"
          ],
          [
           "Webber, Miss. Susan"
          ],
          [
           "White, Mr. Percival Wayland"
          ],
          [
           "Nicola-Yarred, Master. Elias"
          ],
          [
           "McMahon, Mr. Martin"
          ],
          [
           "Madsen, Mr. Fridtjof Arne"
          ],
          [
           "Peter, Miss. Anna"
          ],
          [
           "Ekstrom, Mr. Johan"
          ],
          [
           "Drazenoic, Mr. Jozef"
          ],
          [
           "Coelho, Mr. Domingos Fernandeo"
          ],
          [
           "Robins, Mrs. Alexander A (Grace Charity Laury)"
          ],
          [
           "Weisz, Mrs. Leopold (Mathilde Francoise Pede)"
          ],
          [
           "Sobey, Mr. Samuel James Hayden"
          ],
          [
           "Richard, Mr. Emile"
          ],
          [
           "Newsom, Miss. Helen Monypeny"
          ],
          [
           "Futrelle, Mr. Jacques Heath"
          ],
          [
           "Osen, Mr. Olaf Elon"
          ],
          [
           "Giglio, Mr. Victor"
          ],
          [
           "Boulos, Mrs. Joseph (Sultana)"
          ],
          [
           "Nysten, Miss. Anna Sofia"
          ],
          [
           "Hakkarainen, Mrs. Pekka Pietari (Elin Matilda Dolck)"
          ],
          [
           "Burke, Mr. Jeremiah"
          ],
          [
           "Andrew, Mr. Edgardo Samuel"
          ],
          [
           "Nicholls, Mr. Joseph Charles"
          ],
          [
           "Andersson, Mr. August Edvard (\"Wennerstrom\")"
          ],
          [
           "Ford, Miss. Robina Maggie \"Ruby\""
          ],
          [
           "Navratil, Mr. Michel (\"Louis M Hoffman\")"
          ],
          [
           "Byles, Rev. Thomas Roussel Davids"
          ],
          [
           "Bateman, Rev. Robert James"
          ],
          [
           "Pears, Mrs. Thomas (Edith Wearne)"
          ],
          [
           "Meo, Mr. Alfonzo"
          ],
          [
           "van Billiard, Mr. Austin Blyler"
          ],
          [
           "Olsen, Mr. Ole Martin"
          ],
          [
           "Williams, Mr. Charles Duane"
          ],
          [
           "Gilnagh, Miss. Katherine \"Katie\""
          ],
          [
           "Corn, Mr. Harry"
          ],
          [
           "Smiljanic, Mr. Mile"
          ],
          [
           "Sage, Master. Thomas Henry"
          ],
          [
           "Cribb, Mr. John Hatfield"
          ],
          [
           "Watt, Mrs. James (Elizabeth \"Bessie\" Inglis Milne)"
          ],
          [
           "Bengtsson, Mr. John Viktor"
          ],
          [
           "Calic, Mr. Jovo"
          ],
          [
           "Panula, Master. Eino Viljami"
          ],
          [
           "Goldsmith, Master. Frank John William \"Frankie\""
          ],
          [
           "Chibnall, Mrs. (Edith Martha Bowerman)"
          ],
          [
           "Skoog, Mrs. William (Anna Bernhardina Karlsson)"
          ],
          [
           "Baumann, Mr. John D"
          ],
          [
           "Ling, Mr. Lee"
          ],
          [
           "Van der hoef, Mr. Wyckoff"
          ],
          [
           "Rice, Master. Arthur"
          ],
          [
           "Johnson, Miss. Eleanor Ileen"
          ],
          [
           "Sivola, Mr. Antti Wilhelm"
          ],
          [
           "Smith, Mr. James Clinch"
          ],
          [
           "Klasen, Mr. Klas Albin"
          ],
          [
           "Lefebre, Master. Henry Forbes"
          ],
          [
           "Isham, Miss. Ann Elizabeth"
          ],
          [
           "Hale, Mr. Reginald"
          ],
          [
           "Leonard, Mr. Lionel"
          ],
          [
           "Sage, Miss. Constance Gladys"
          ],
          [
           "Pernot, Mr. Rene"
          ],
          [
           "Asplund, Master. Clarence Gustaf Hugo"
          ],
          [
           "Becker, Master. Richard F"
          ],
          [
           "Kink-Heilmann, Miss. Luise Gretchen"
          ],
          [
           "Rood, Mr. Hugh Roscoe"
          ],
          [
           "O'Brien, Mrs. Thomas (Johanna \"Hannah\" Godfrey)"
          ],
          [
           "Romaine, Mr. Charles Hallace (\"Mr C Rolmane\")"
          ],
          [
           "Bourke, Mr. John"
          ],
          [
           "Turcin, Mr. Stjepan"
          ],
          [
           "Pinsky, Mrs. (Rosa)"
          ],
          [
           "Carbines, Mr. William"
          ],
          [
           "Andersen-Jensen, Miss. Carla Christine Nielsine"
          ],
          [
           "Navratil, Master. Michel M"
          ],
          [
           "Brown, Mrs. James Joseph (Margaret Tobin)"
          ],
          [
           "Lurette, Miss. Elise"
          ],
          [
           "Mernagh, Mr. Robert"
          ],
          [
           "Olsen, Mr. Karl Siegwart Andreas"
          ],
          [
           "Madigan, Miss. Margaret \"Maggie\""
          ],
          [
           "Yrois, Miss. Henriette (\"Mrs Harbeck\")"
          ],
          [
           "Vande Walle, Mr. Nestor Cyriel"
          ],
          [
           "Sage, Mr. Frederick"
          ],
          [
           "Johanson, Mr. Jakob Alfred"
          ],
          [
           "Youseff, Mr. Gerious"
          ],
          [
           "Cohen, Mr. Gurshon \"Gus\""
          ],
          [
           "Strom, Miss. Telma Matilda"
          ],
          [
           "Backstrom, Mr. Karl Alfred"
          ],
          [
           "Albimona, Mr. Nassef Cassem"
          ],
          [
           "Carr, Miss. Helen \"Ellen\""
          ],
          [
           "Blank, Mr. Henry"
          ],
          [
           "Ali, Mr. Ahmed"
          ],
          [
           "Cameron, Miss. Clear Annie"
          ],
          [
           "Perkin, Mr. John Henry"
          ],
          [
           "Givard, Mr. Hans Kristensen"
          ],
          [
           "Kiernan, Mr. Philip"
          ],
          [
           "Newell, Miss. Madeleine"
          ],
          [
           "Honkanen, Miss. Eliina"
          ],
          [
           "Jacobsohn, Mr. Sidney Samuel"
          ],
          [
           "Bazzani, Miss. Albina"
          ],
          [
           "Harris, Mr. Walter"
          ],
          [
           "Sunderland, Mr. Victor Francis"
          ],
          [
           "Bracken, Mr. James H"
          ],
          [
           "Green, Mr. George Henry"
          ],
          [
           "Nenkoff, Mr. Christo"
          ],
          [
           "Hoyt, Mr. Frederick Maxfield"
          ],
          [
           "Berglund, Mr. Karl Ivar Sven"
          ],
          [
           "Mellors, Mr. William John"
          ],
          [
           "Lovell, Mr. John Hall (\"Henry\")"
          ],
          [
           "Fahlstrom, Mr. Arne Jonas"
          ],
          [
           "Lefebre, Miss. Mathilde"
          ],
          [
           "Harris, Mrs. Henry Birkhardt (Irene Wallach)"
          ],
          [
           "Larsson, Mr. Bengt Edvin"
          ],
          [
           "Sjostedt, Mr. Ernst Adolf"
          ],
          [
           "Asplund, Miss. Lillian Gertrud"
          ],
          [
           "Leyson, Mr. Robert William Norman"
          ],
          [
           "Harknett, Miss. Alice Phoebe"
          ],
          [
           "Hold, Mr. Stephen"
          ],
          [
           "Collyer, Miss. Marjorie \"Lottie\""
          ],
          [
           "Pengelly, Mr. Frederick William"
          ],
          [
           "Hunt, Mr. George Henry"
          ],
          [
           "Zabour, Miss. Thamine"
          ],
          [
           "Murphy, Miss. Katherine \"Kate\""
          ],
          [
           "Coleridge, Mr. Reginald Charles"
          ],
          [
           "Maenpaa, Mr. Matti Alexanteri"
          ],
          [
           "Attalah, Mr. Sleiman"
          ],
          [
           "Minahan, Dr. William Edward"
          ],
          [
           "Lindahl, Miss. Agda Thorilda Viktoria"
          ],
          [
           "Hamalainen, Mrs. William (Anna)"
          ],
          [
           "Beckwith, Mr. Richard Leonard"
          ],
          [
           "Carter, Rev. Ernest Courtenay"
          ],
          [
           "Reed, Mr. James George"
          ],
          [
           "Strom, Mrs. Wilhelm (Elna Matilda Persson)"
          ],
          [
           "Stead, Mr. William Thomas"
          ],
          [
           "Lobb, Mr. William Arthur"
          ],
          [
           "Rosblom, Mrs. Viktor (Helena Wilhelmina)"
          ],
          [
           "Touma, Mrs. Darwis (Hanne Youssef Razi)"
          ],
          [
           "Thorne, Mrs. Gertrude Maybelle"
          ],
          [
           "Cherry, Miss. Gladys"
          ],
          [
           "Ward, Miss. Anna"
          ],
          [
           "Parrish, Mrs. (Lutie Davis)"
          ],
          [
           "Smith, Mr. Thomas"
          ],
          [
           "Asplund, Master. Edvin Rojj Felix"
          ],
          [
           "Taussig, Mr. Emil"
          ],
          [
           "Harrison, Mr. William"
          ],
          [
           "Henry, Miss. Delia"
          ],
          [
           "Reeves, Mr. David"
          ],
          [
           "Panula, Mr. Ernesti Arvid"
          ],
          [
           "Persson, Mr. Ernst Ulrik"
          ],
          [
           "Graham, Mrs. William Thompson (Edith Junkins)"
          ],
          [
           "Bissette, Miss. Amelia"
          ],
          [
           "Cairns, Mr. Alexander"
          ],
          [
           "Tornquist, Mr. William Henry"
          ],
          [
           "Mellinger, Mrs. (Elizabeth Anne Maidment)"
          ],
          [
           "Natsch, Mr. Charles H"
          ],
          [
           "Healy, Miss. Hanora \"Nora\""
          ],
          [
           "Andrews, Miss. Kornelia Theodosia"
          ],
          [
           "Lindblom, Miss. Augusta Charlotta"
          ],
          [
           "Parkes, Mr. Francis \"Frank\""
          ],
          [
           "Rice, Master. Eric"
          ],
          [
           "Abbott, Mrs. Stanton (Rosa Hunt)"
          ],
          [
           "Duane, Mr. Frank"
          ],
          [
           "Olsson, Mr. Nils Johan Goransson"
          ],
          [
           "de Pelsmaeker, Mr. Alfons"
          ],
          [
           "Dorking, Mr. Edward Arthur"
          ],
          [
           "Smith, Mr. Richard William"
          ],
          [
           "Stankovic, Mr. Ivan"
          ],
          [
           "de Mulder, Mr. Theodore"
          ],
          [
           "Naidenoff, Mr. Penko"
          ],
          [
           "Hosono, Mr. Masabumi"
          ],
          [
           "Connolly, Miss. Kate"
          ],
          [
           "Barber, Miss. Ellen \"Nellie\""
          ],
          [
           "Bishop, Mrs. Dickinson H (Helen Walton)"
          ],
          [
           "Levy, Mr. Rene Jacques"
          ],
          [
           "Haas, Miss. Aloisia"
          ],
          [
           "Mineff, Mr. Ivan"
          ],
          [
           "Lewy, Mr. Ervin G"
          ],
          [
           "Hanna, Mr. Mansour"
          ],
          [
           "Allison, Miss. Helen Loraine"
          ],
          [
           "Saalfeld, Mr. Adolphe"
          ],
          [
           "Baxter, Mrs. James (Helene DeLaudeniere Chaput)"
          ],
          [
           "Kelly, Miss. Anna Katherine \"Annie Kate\""
          ],
          [
           "McCoy, Mr. Bernard"
          ],
          [
           "Johnson, Mr. William Cahoone Jr"
          ],
          [
           "Keane, Miss. Nora A"
          ],
          [
           "Williams, Mr. Howard Hugh \"Harry\""
          ],
          [
           "Allison, Master. Hudson Trevor"
          ],
          [
           "Fleming, Miss. Margaret"
          ],
          [
           "Penasco y Castellana, Mrs. Victor de Satode (Maria Josefa Perez de Soto y Vallejo)"
          ],
          [
           "Abelson, Mr. Samuel"
          ],
          [
           "Francatelli, Miss. Laura Mabel"
          ],
          [
           "Hays, Miss. Margaret Bechstein"
          ],
          [
           "Ryerson, Miss. Emily Borie"
          ],
          [
           "Lahtinen, Mrs. William (Anna Sylfven)"
          ],
          [
           "Hendekovic, Mr. Ignjac"
          ],
          [
           "Hart, Mr. Benjamin"
          ],
          [
           "Nilsson, Miss. Helmina Josefina"
          ],
          [
           "Kantor, Mrs. Sinai (Miriam Sternin)"
          ],
          [
           "Moraweck, Dr. Ernest"
          ],
          [
           "Wick, Miss. Mary Natalie"
          ],
          [
           "Spedden, Mrs. Frederic Oakley (Margaretta Corning Stone)"
          ],
          [
           "Dennis, Mr. Samuel"
          ],
          [
           "Danoff, Mr. Yoto"
          ],
          [
           "Slayter, Miss. Hilda Mary"
          ],
          [
           "Caldwell, Mrs. Albert Francis (Sylvia Mae Harbaugh)"
          ],
          [
           "Sage, Mr. George John Jr"
          ],
          [
           "Young, Miss. Marie Grice"
          ],
          [
           "Nysveen, Mr. Johan Hansen"
          ],
          [
           "Ball, Mrs. (Ada E Hall)"
          ],
          [
           "Goldsmith, Mrs. Frank John (Emily Alice Brown)"
          ],
          [
           "Hippach, Miss. Jean Gertrude"
          ],
          [
           "McCoy, Miss. Agnes"
          ],
          [
           "Partner, Mr. Austen"
          ],
          [
           "Graham, Mr. George Edward"
          ],
          [
           "Vander Planke, Mr. Leo Edmondus"
          ],
          [
           "Frauenthal, Mrs. Henry William (Clara Heinsheimer)"
          ],
          [
           "Denkoff, Mr. Mitto"
          ],
          [
           "Pears, Mr. Thomas Clinton"
          ],
          [
           "Burns, Miss. Elizabeth Margaret"
          ],
          [
           "Dahl, Mr. Karl Edwart"
          ],
          [
           "Blackwell, Mr. Stephen Weart"
          ],
          [
           "Navratil, Master. Edmond Roger"
          ],
          [
           "Fortune, Miss. Alice Elizabeth"
          ],
          [
           "Collander, Mr. Erik Gustaf"
          ],
          [
           "Sedgwick, Mr. Charles Frederick Waddington"
          ],
          [
           "Fox, Mr. Stanley Hubert"
          ],
          [
           "Brown, Miss. Amelia \"Mildred\""
          ],
          [
           "Smith, Miss. Marion Elsie"
          ],
          [
           "Davison, Mrs. Thomas Henry (Mary E Finck)"
          ],
          [
           "Coutts, Master. William Loch \"William\""
          ],
          [
           "Dimic, Mr. Jovan"
          ],
          [
           "Odahl, Mr. Nils Martin"
          ],
          [
           "Williams-Lambert, Mr. Fletcher Fellows"
          ],
          [
           "Elias, Mr. Tannous"
          ],
          [
           "Arnold-Franchi, Mr. Josef"
          ],
          [
           "Yousif, Mr. Wazli"
          ],
          [
           "Vanden Steen, Mr. Leo Peter"
          ],
          [
           "Bowerman, Miss. Elsie Edith"
          ],
          [
           "Funk, Miss. Annie Clemmer"
          ],
          [
           "McGovern, Miss. Mary"
          ],
          [
           "Mockler, Miss. Helen Mary \"Ellie\""
          ],
          [
           "Skoog, Mr. Wilhelm"
          ],
          [
           "del Carlo, Mr. Sebastiano"
          ],
          [
           "Barbara, Mrs. (Catherine David)"
          ],
          [
           "Asim, Mr. Adola"
          ],
          [
           "O'Brien, Mr. Thomas"
          ],
          [
           "Adahl, Mr. Mauritz Nils Martin"
          ],
          [
           "Warren, Mrs. Frank Manley (Anna Sophia Atkinson)"
          ],
          [
           "Moussa, Mrs. (Mantoura Boulos)"
          ],
          [
           "Jermyn, Miss. Annie"
          ],
          [
           "Aubart, Mme. Leontine Pauline"
          ],
          [
           "Harder, Mr. George Achilles"
          ],
          [
           "Wiklund, Mr. Jakob Alfred"
          ],
          [
           "Beavan, Mr. William Thomas"
          ],
          [
           "Ringhini, Mr. Sante"
          ],
          [
           "Palsson, Miss. Stina Viola"
          ],
          [
           "Meyer, Mrs. Edgar Joseph (Leila Saks)"
          ],
          [
           "Landergren, Miss. Aurora Adelia"
          ],
          [
           "Widener, Mr. Harry Elkins"
          ],
          [
           "Betros, Mr. Tannous"
          ],
          [
           "Gustafsson, Mr. Karl Gideon"
          ],
          [
           "Bidois, Miss. Rosalie"
          ],
          [
           "Nakid, Miss. Maria (\"Mary\")"
          ],
          [
           "Tikkanen, Mr. Juho"
          ],
          [
           "Holverson, Mrs. Alexander Oskar (Mary Aline Towner)"
          ],
          [
           "Plotcharsky, Mr. Vasil"
          ],
          [
           "Davies, Mr. Charles Henry"
          ],
          [
           "Goodwin, Master. Sidney Leonard"
          ],
          [
           "Buss, Miss. Kate"
          ],
          [
           "Sadlier, Mr. Matthew"
          ],
          [
           "Lehmann, Miss. Bertha"
          ],
          [
           "Carter, Mr. William Ernest"
          ],
          [
           "Jansson, Mr. Carl Olof"
          ],
          [
           "Gustafsson, Mr. Johan Birger"
          ],
          [
           "Newell, Miss. Marjorie"
          ],
          [
           "Sandstrom, Mrs. Hjalmar (Agnes Charlotta Bengtsson)"
          ],
          [
           "Johansson, Mr. Erik"
          ],
          [
           "Olsson, Miss. Elina"
          ],
          [
           "McKane, Mr. Peter David"
          ],
          [
           "Pain, Dr. Alfred"
          ],
          [
           "Trout, Mrs. William H (Jessie L)"
          ],
          [
           "Niskanen, Mr. Juha"
          ],
          [
           "Adams, Mr. John"
          ],
          [
           "Jussila, Miss. Mari Aina"
          ],
          [
           "Hakkarainen, Mr. Pekka Pietari"
          ],
          [
           "Oreskovic, Miss. Marija"
          ],
          [
           "Gale, Mr. Shadrach"
          ],
          [
           "Widegren, Mr. Carl/Charles Peter"
          ],
          [
           "Richards, Master. William Rowe"
          ],
          [
           "Birkeland, Mr. Hans Martin Monsen"
          ],
          [
           "Lefebre, Miss. Ida"
          ],
          [
           "Sdycoff, Mr. Todor"
          ],
          [
           "Hart, Mr. Henry"
          ],
          [
           "Minahan, Miss. Daisy E"
          ],
          [
           "Cunningham, Mr. Alfred Fleming"
          ],
          [
           "Sundman, Mr. Johan Julian"
          ],
          [
           "Meek, Mrs. Thomas (Annie Louise Rowley)"
          ],
          [
           "Drew, Mrs. James Vivian (Lulu Thorne Christian)"
          ],
          [
           "Silven, Miss. Lyyli Karoliina"
          ],
          [
           "Matthews, Mr. William John"
          ],
          [
           "Van Impe, Miss. Catharina"
          ],
          [
           "Gheorgheff, Mr. Stanio"
          ],
          [
           "Charters, Mr. David"
          ],
          [
           "Zimmerman, Mr. Leo"
          ],
          [
           "Danbom, Mrs. Ernst Gilbert (Anna Sigrid Maria Brogren)"
          ],
          [
           "Rosblom, Mr. Viktor Richard"
          ],
          [
           "Wiseman, Mr. Phillippe"
          ],
          [
           "Clarke, Mrs. Charles V (Ada Maria Winfield)"
          ],
          [
           "Phillips, Miss. Kate Florence (\"Mrs Kate Louise Phillips Marshall\")"
          ],
          [
           "Flynn, Mr. James"
          ],
          [
           "Pickard, Mr. Berk (Berk Trembisky)"
          ],
          [
           "Bjornstrom-Steffansson, Mr. Mauritz Hakan"
          ],
          [
           "Thorneycroft, Mrs. Percival (Florence Kate White)"
          ],
          [
           "Louch, Mrs. Charles Alexander (Alice Adelaide Slow)"
          ],
          [
           "Kallio, Mr. Nikolai Erland"
          ],
          [
           "Silvey, Mr. William Baird"
          ],
          [
           "Carter, Miss. Lucile Polk"
          ],
          [
           "Ford, Miss. Doolina Margaret \"Daisy\""
          ],
          [
           "Richards, Mrs. Sidney (Emily Hocking)"
          ],
          [
           "Fortune, Mr. Mark"
          ],
          [
           "Kvillner, Mr. Johan Henrik Johannesson"
          ],
          [
           "Hart, Mrs. Benjamin (Esther Ada Bloomfield)"
          ],
          [
           "Hampe, Mr. Leon"
          ],
          [
           "Petterson, Mr. Johan Emil"
          ],
          [
           "Reynaldo, Ms. Encarnacion"
          ],
          [
           "Johannesen-Bratthammer, Mr. Bernt"
          ],
          [
           "Dodge, Master. Washington"
          ],
          [
           "Mellinger, Miss. Madeleine Violet"
          ],
          [
           "Seward, Mr. Frederic Kimber"
          ],
          [
           "Baclini, Miss. Marie Catherine"
          ],
          [
           "Peuchen, Major. Arthur Godfrey"
          ],
          [
           "West, Mr. Edwy Arthur"
          ],
          [
           "Hagland, Mr. Ingvald Olai Olsen"
          ],
          [
           "Foreman, Mr. Benjamin Laventall"
          ],
          [
           "Goldenberg, Mr. Samuel L"
          ],
          [
           "Peduzzi, Mr. Joseph"
          ],
          [
           "Jalsevac, Mr. Ivan"
          ],
          [
           "Millet, Mr. Francis Davis"
          ],
          [
           "Kenyon, Mrs. Frederick R (Marion)"
          ],
          [
           "Toomey, Miss. Ellen"
          ],
          [
           "O'Connor, Mr. Maurice"
          ],
          [
           "Anderson, Mr. Harry"
          ],
          [
           "Morley, Mr. William"
          ],
          [
           "Gee, Mr. Arthur H"
          ],
          [
           "Milling, Mr. Jacob Christian"
          ],
          [
           "Maisner, Mr. Simon"
          ],
          [
           "Goncalves, Mr. Manuel Estanslas"
          ],
          [
           "Campbell, Mr. William"
          ],
          [
           "Smart, Mr. John Montgomery"
          ],
          [
           "Scanlan, Mr. James"
          ],
          [
           "Baclini, Miss. Helene Barbara"
          ],
          [
           "Keefe, Mr. Arthur"
          ],
          [
           "Cacic, Mr. Luka"
          ],
          [
           "West, Mrs. Edwy Arthur (Ada Mary Worth)"
          ],
          [
           "Jerwan, Mrs. Amin S (Marie Marthe Thuillard)"
          ],
          [
           "Strandberg, Miss. Ida Sofia"
          ],
          [
           "Clifford, Mr. George Quincy"
          ],
          [
           "Renouf, Mr. Peter Henry"
          ],
          [
           "Braund, Mr. Lewis Richard"
          ],
          [
           "Karlsson, Mr. Nils August"
          ],
          [
           "Hirvonen, Miss. Hildur E"
          ],
          [
           "Goodwin, Master. Harold Victor"
          ],
          [
           "Frost, Mr. Anthony Wood \"Archie\""
          ],
          [
           "Rouse, Mr. Richard Henry"
          ],
          [
           "Turkula, Mrs. (Hedwig)"
          ],
          [
           "Bishop, Mr. Dickinson H"
          ],
          [
           "Lefebre, Miss. Jeannie"
          ],
          [
           "Hoyt, Mrs. Frederick Maxfield (Jane Anne Forby)"
          ],
          [
           "Kent, Mr. Edward Austin"
          ],
          [
           "Somerton, Mr. Francis William"
          ],
          [
           "Coutts, Master. Eden Leslie \"Neville\""
          ],
          [
           "Hagland, Mr. Konrad Mathias Reiersen"
          ],
          [
           "Windelov, Mr. Einar"
          ],
          [
           "Molson, Mr. Harry Markland"
          ],
          [
           "Artagaveytia, Mr. Ramon"
          ],
          [
           "Stanley, Mr. Edward Roland"
          ],
          [
           "Yousseff, Mr. Gerious"
          ],
          [
           "Eustis, Miss. Elizabeth Mussey"
          ],
          [
           "Shellard, Mr. Frederick William"
          ],
          [
           "Allison, Mrs. Hudson J C (Bessie Waldo Daniels)"
          ],
          [
           "Svensson, Mr. Olof"
          ],
          [
           "Calic, Mr. Petar"
          ],
          [
           "Canavan, Miss. Mary"
          ],
          [
           "O'Sullivan, Miss. Bridget Mary"
          ],
          [
           "Laitinen, Miss. Kristina Sofia"
          ],
          [
           "Maioni, Miss. Roberta"
          ],
          [
           "Penasco y Castellana, Mr. Victor de Satode"
          ],
          [
           "Quick, Mrs. Frederick Charles (Jane Richards)"
          ],
          [
           "Bradley, Mr. George (\"George Arthur Brayton\")"
          ],
          [
           "Olsen, Mr. Henry Margido"
          ],
          [
           "Lang, Mr. Fang"
          ],
          [
           "Daly, Mr. Eugene Patrick"
          ],
          [
           "Webber, Mr. James"
          ],
          [
           "McGough, Mr. James Robert"
          ],
          [
           "Rothschild, Mrs. Martin (Elizabeth L. Barrett)"
          ],
          [
           "Coleff, Mr. Satio"
          ],
          [
           "Walker, Mr. William Anderson"
          ],
          [
           "Lemore, Mrs. (Amelia Milley)"
          ],
          [
           "Ryan, Mr. Patrick"
          ],
          [
           "Angle, Mrs. William A (Florence \"Mary\" Agnes Hughes)"
          ],
          [
           "Pavlovic, Mr. Stefo"
          ],
          [
           "Perreault, Miss. Anne"
          ],
          [
           "Vovk, Mr. Janko"
          ],
          [
           "Lahoud, Mr. Sarkis"
          ],
          [
           "Hippach, Mrs. Louis Albert (Ida Sophia Fischer)"
          ],
          [
           "Kassem, Mr. Fared"
          ],
          [
           "Farrell, Mr. James"
          ],
          [
           "Ridsdale, Miss. Lucy"
          ],
          [
           "Farthing, Mr. John"
          ],
          [
           "Salonen, Mr. Johan Werner"
          ],
          [
           "Hocking, Mr. Richard George"
          ],
          [
           "Quick, Miss. Phyllis May"
          ],
          [
           "Toufik, Mr. Nakli"
          ],
          [
           "Elias, Mr. Joseph Jr"
          ],
          [
           "Peter, Mrs. Catherine (Catherine Rizk)"
          ],
          [
           "Cacic, Miss. Marija"
          ],
          [
           "Hart, Miss. Eva Miriam"
          ],
          [
           "Butt, Major. Archibald Willingham"
          ],
          [
           "LeRoy, Miss. Bertha"
          ],
          [
           "Risien, Mr. Samuel Beard"
          ],
          [
           "Frolicher, Miss. Hedwig Margaritha"
          ],
          [
           "Crosby, Miss. Harriet R"
          ],
          [
           "Andersson, Miss. Ingeborg Constanzia"
          ],
          [
           "Andersson, Miss. Sigrid Elisabeth"
          ],
          [
           "Beane, Mr. Edward"
          ],
          [
           "Douglas, Mr. Walter Donald"
          ],
          [
           "Nicholson, Mr. Arthur Ernest"
          ],
          [
           "Beane, Mrs. Edward (Ethel Clarke)"
          ],
          [
           "Padro y Manent, Mr. Julian"
          ],
          [
           "Goldsmith, Mr. Frank John"
          ],
          [
           "Davies, Master. John Morgan Jr"
          ],
          [
           "Thayer, Mr. John Borland Jr"
          ],
          [
           "Sharp, Mr. Percival James R"
          ],
          [
           "O'Brien, Mr. Timothy"
          ],
          [
           "Leeni, Mr. Fahim (\"Philip Zenni\")"
          ],
          [
           "Ohman, Miss. Velin"
          ],
          [
           "Wright, Mr. George"
          ],
          [
           "Duff Gordon, Lady. (Lucille Christiana Sutherland) (\"Mrs Morgan\")"
          ],
          [
           "Robbins, Mr. Victor"
          ],
          [
           "Taussig, Mrs. Emil (Tillie Mandelbaum)"
          ],
          [
           "de Messemaeker, Mrs. Guillaume Joseph (Emma)"
          ],
          [
           "Morrow, Mr. Thomas Rowan"
          ],
          [
           "Sivic, Mr. Husein"
          ],
          [
           "Norman, Mr. Robert Douglas"
          ],
          [
           "Simmons, Mr. John"
          ],
          [
           "Meanwell, Miss. (Marion Ogden)"
          ],
          [
           "Davies, Mr. Alfred J"
          ],
          [
           "Stoytcheff, Mr. Ilia"
          ],
          [
           "Palsson, Mrs. Nils (Alma Cornelia Berglund)"
          ],
          [
           "Doharr, Mr. Tannous"
          ],
          [
           "Jonsson, Mr. Carl"
          ],
          [
           "Harris, Mr. George"
          ],
          [
           "Appleton, Mrs. Edward Dale (Charlotte Lamson)"
          ],
          [
           "Flynn, Mr. John Irwin (\"Irving\")"
          ],
          [
           "Kelly, Miss. Mary"
          ],
          [
           "Rush, Mr. Alfred George John"
          ],
          [
           "Patchett, Mr. George"
          ],
          [
           "Garside, Miss. Ethel"
          ],
          [
           "Silvey, Mrs. William Baird (Alice Munger)"
          ],
          [
           "Caram, Mrs. Joseph (Maria Elias)"
          ],
          [
           "Jussila, Mr. Eiriik"
          ],
          [
           "Christy, Miss. Julie Rachel"
          ],
          [
           "Thayer, Mrs. John Borland (Marian Longstreth Morris)"
          ],
          [
           "Downton, Mr. William James"
          ],
          [
           "Ross, Mr. John Hugo"
          ],
          [
           "Paulner, Mr. Uscher"
          ],
          [
           "Taussig, Miss. Ruth"
          ],
          [
           "Jarvis, Mr. John Denzil"
          ],
          [
           "Frolicher-Stehli, Mr. Maxmillian"
          ],
          [
           "Gilinski, Mr. Eliezer"
          ],
          [
           "Murdlin, Mr. Joseph"
          ],
          [
           "Rintamaki, Mr. Matti"
          ],
          [
           "Stephenson, Mrs. Walter Bertram (Martha Eustis)"
          ],
          [
           "Elsbury, Mr. William James"
          ],
          [
           "Bourke, Miss. Mary"
          ],
          [
           "Chapman, Mr. John Henry"
          ],
          [
           "Van Impe, Mr. Jean Baptiste"
          ],
          [
           "Leitch, Miss. Jessie Wills"
          ],
          [
           "Johnson, Mr. Alfred"
          ],
          [
           "Boulos, Mr. Hanna"
          ],
          [
           "Duff Gordon, Sir. Cosmo Edmund (\"Mr Morgan\")"
          ],
          [
           "Jacobsohn, Mrs. Sidney Samuel (Amy Frances Christy)"
          ],
          [
           "Slabenoff, Mr. Petco"
          ],
          [
           "Harrington, Mr. Charles H"
          ],
          [
           "Torber, Mr. Ernst William"
          ],
          [
           "Homer, Mr. Harry (\"Mr E Haven\")"
          ],
          [
           "Lindell, Mr. Edvard Bengtsson"
          ],
          [
           "Karaic, Mr. Milan"
          ],
          [
           "Daniel, Mr. Robert Williams"
          ],
          [
           "Laroche, Mrs. Joseph (Juliette Marie Louise Lafargue)"
          ],
          [
           "Shutes, Miss. Elizabeth W"
          ],
          [
           "Andersson, Mrs. Anders Johan (Alfrida Konstantia Brogren)"
          ],
          [
           "Jardin, Mr. Jose Neto"
          ],
          [
           "Murphy, Miss. Margaret Jane"
          ],
          [
           "Horgan, Mr. John"
          ],
          [
           "Brocklebank, Mr. William Alfred"
          ],
          [
           "Herman, Miss. Alice"
          ],
          [
           "Danbom, Mr. Ernst Gilbert"
          ],
          [
           "Lobb, Mrs. William Arthur (Cordelia K Stanlick)"
          ],
          [
           "Becker, Miss. Marion Louise"
          ],
          [
           "Gavey, Mr. Lawrence"
          ],
          [
           "Yasbeck, Mr. Antoni"
          ],
          [
           "Kimball, Mr. Edwin Nelson Jr"
          ],
          [
           "Nakid, Mr. Sahid"
          ],
          [
           "Hansen, Mr. Henry Damsgaard"
          ],
          [
           "Bowen, Mr. David John \"Dai\""
          ],
          [
           "Sutton, Mr. Frederick"
          ],
          [
           "Kirkland, Rev. Charles Leonard"
          ],
          [
           "Longley, Miss. Gretchen Fiske"
          ],
          [
           "Bostandyeff, Mr. Guentcho"
          ],
          [
           "O'Connell, Mr. Patrick D"
          ],
          [
           "Barkworth, Mr. Algernon Henry Wilson"
          ],
          [
           "Lundahl, Mr. Johan Svensson"
          ],
          [
           "Stahelin-Maeglin, Dr. Max"
          ],
          [
           "Parr, Mr. William Henry Marsh"
          ],
          [
           "Skoog, Miss. Mabel"
          ],
          [
           "Davis, Miss. Mary"
          ],
          [
           "Leinonen, Mr. Antti Gustaf"
          ],
          [
           "Collyer, Mr. Harvey"
          ],
          [
           "Panula, Mrs. Juha (Maria Emilia Ojala)"
          ],
          [
           "Thorneycroft, Mr. Percival"
          ],
          [
           "Jensen, Mr. Hans Peder"
          ],
          [
           "Sagesser, Mlle. Emma"
          ],
          [
           "Skoog, Miss. Margit Elizabeth"
          ],
          [
           "Foo, Mr. Choong"
          ],
          [
           "Baclini, Miss. Eugenie"
          ],
          [
           "Harper, Mr. Henry Sleeper"
          ],
          [
           "Cor, Mr. Liudevit"
          ],
          [
           "Simonius-Blumer, Col. Oberst Alfons"
          ],
          [
           "Willey, Mr. Edward"
          ],
          [
           "Stanley, Miss. Amy Zillah Elsie"
          ],
          [
           "Mitkoff, Mr. Mito"
          ],
          [
           "Doling, Miss. Elsie"
          ],
          [
           "Kalvik, Mr. Johannes Halvorsen"
          ],
          [
           "O'Leary, Miss. Hanora \"Norah\""
          ],
          [
           "Hegarty, Miss. Hanora \"Nora\""
          ],
          [
           "Hickman, Mr. Leonard Mark"
          ],
          [
           "Radeff, Mr. Alexander"
          ],
          [
           "Bourke, Mrs. John (Catherine)"
          ],
          [
           "Eitemiller, Mr. George Floyd"
          ],
          [
           "Newell, Mr. Arthur Webster"
          ],
          [
           "Frauenthal, Dr. Henry William"
          ],
          [
           "Badt, Mr. Mohamed"
          ],
          [
           "Colley, Mr. Edward Pomeroy"
          ],
          [
           "Coleff, Mr. Peju"
          ],
          [
           "Lindqvist, Mr. Eino William"
          ],
          [
           "Hickman, Mr. Lewis"
          ],
          [
           "Butler, Mr. Reginald Fenton"
          ],
          [
           "Rommetvedt, Mr. Knud Paust"
          ],
          [
           "Cook, Mr. Jacob"
          ],
          [
           "Taylor, Mrs. Elmer Zebley (Juliet Cummins Wright)"
          ],
          [
           "Brown, Mrs. Thomas William Solomon (Elizabeth Catherine Ford)"
          ],
          [
           "Davidson, Mr. Thornton"
          ],
          [
           "Mitchell, Mr. Henry Michael"
          ],
          [
           "Wilhelms, Mr. Charles"
          ],
          [
           "Watson, Mr. Ennis Hastings"
          ],
          [
           "Edvardsson, Mr. Gustaf Hjalmar"
          ],
          [
           "Sawyer, Mr. Frederick Charles"
          ],
          [
           "Turja, Miss. Anna Sofia"
          ],
          [
           "Goodwin, Mrs. Frederick (Augusta Tyler)"
          ],
          [
           "Cardeza, Mr. Thomas Drake Martinez"
          ],
          [
           "Peters, Miss. Katie"
          ],
          [
           "Hassab, Mr. Hammad"
          ],
          [
           "Olsvigen, Mr. Thor Anderson"
          ],
          [
           "Goodwin, Mr. Charles Edward"
          ],
          [
           "Brown, Mr. Thomas William Solomon"
          ],
          [
           "Laroche, Mr. Joseph Philippe Lemercier"
          ],
          [
           "Panula, Mr. Jaako Arnold"
          ],
          [
           "Dakic, Mr. Branko"
          ],
          [
           "Fischer, Mr. Eberhard Thelander"
          ],
          [
           "Madill, Miss. Georgette Alexandra"
          ],
          [
           "Dick, Mr. Albert Adrian"
          ],
          [
           "Karun, Miss. Manca"
          ],
          [
           "Lam, Mr. Ali"
          ],
          [
           "Saad, Mr. Khalil"
          ],
          [
           "Weir, Col. John"
          ],
          [
           "Chapman, Mr. Charles Henry"
          ],
          [
           "Kelly, Mr. James"
          ],
          [
           "Mullens, Miss. Katherine \"Katie\""
          ],
          [
           "Thayer, Mr. John Borland"
          ],
          [
           "Humblen, Mr. Adolf Mathias Nicolai Olsen"
          ],
          [
           "Astor, Mrs. John Jacob (Madeleine Talmadge Force)"
          ],
          [
           "Silverthorne, Mr. Spencer Victor"
          ],
          [
           "Barbara, Miss. Saiide"
          ],
          [
           "Gallagher, Mr. Martin"
          ],
          [
           "Hansen, Mr. Henrik Juul"
          ],
          [
           "Morley, Mr. Henry Samuel (\"Mr Henry Marshall\")"
          ],
          [
           "Kelly, Mrs. Florence \"Fannie\""
          ],
          [
           "Calderhead, Mr. Edward Pennington"
          ],
          [
           "Cleaver, Miss. Alice"
          ],
          [
           "Moubarek, Master. Halim Gonios (\"William George\")"
          ],
          [
           "Mayne, Mlle. Berthe Antonine (\"Mrs de Villiers\")"
          ],
          [
           "Klaber, Mr. Herman"
          ],
          [
           "Taylor, Mr. Elmer Zebley"
          ],
          [
           "Larsson, Mr. August Viktor"
          ],
          [
           "Greenberg, Mr. Samuel"
          ],
          [
           "Soholt, Mr. Peter Andreas Lauritz Andersen"
          ],
          [
           "Endres, Miss. Caroline Louise"
          ],
          [
           "Troutt, Miss. Edwina Celia \"Winnie\""
          ],
          [
           "McEvoy, Mr. Michael"
          ],
          [
           "Johnson, Mr. Malkolm Joackim"
          ],
          [
           "Harper, Miss. Annie Jessie \"Nina\""
          ],
          [
           "Jensen, Mr. Svend Lauritz"
          ],
          [
           "Gillespie, Mr. William Henry"
          ],
          [
           "Hodges, Mr. Henry Price"
          ],
          [
           "Chambers, Mr. Norman Campbell"
          ],
          [
           "Oreskovic, Mr. Luka"
          ],
          [
           "Renouf, Mrs. Peter Henry (Lillian Jefferys)"
          ],
          [
           "Mannion, Miss. Margareth"
          ],
          [
           "Bryhl, Mr. Kurt Arnold Gottfrid"
          ],
          [
           "Ilmakangas, Miss. Pieta Sofia"
          ],
          [
           "Allen, Miss. Elisabeth Walton"
          ],
          [
           "Hassan, Mr. Houssein G N"
          ],
          [
           "Knight, Mr. Robert J"
          ],
          [
           "Berriman, Mr. William John"
          ],
          [
           "Troupiansky, Mr. Moses Aaron"
          ],
          [
           "Williams, Mr. Leslie"
          ],
          [
           "Ford, Mrs. Edward (Margaret Ann Watson)"
          ],
          [
           "Lesurer, Mr. Gustave J"
          ],
          [
           "Ivanoff, Mr. Kanio"
          ],
          [
           "Nankoff, Mr. Minko"
          ],
          [
           "Hawksford, Mr. Walter James"
          ],
          [
           "Cavendish, Mr. Tyrell William"
          ],
          [
           "Ryerson, Miss. Susan Parker \"Suzette\""
          ],
          [
           "McNamee, Mr. Neal"
          ],
          [
           "Stranden, Mr. Juho"
          ],
          [
           "Crosby, Capt. Edward Gifford"
          ],
          [
           "Abbott, Mr. Rossmore Edward"
          ],
          [
           "Sinkkonen, Miss. Anna"
          ],
          [
           "Marvin, Mr. Daniel Warner"
          ],
          [
           "Connaghton, Mr. Michael"
          ],
          [
           "Wells, Miss. Joan"
          ],
          [
           "Moor, Master. Meier"
          ],
          [
           "Vande Velde, Mr. Johannes Joseph"
          ],
          [
           "Jonkoff, Mr. Lalio"
          ],
          [
           "Herman, Mrs. Samuel (Jane Laver)"
          ],
          [
           "Hamalainen, Master. Viljo"
          ],
          [
           "Carlsson, Mr. August Sigfrid"
          ],
          [
           "Bailey, Mr. Percy Andrew"
          ],
          [
           "Theobald, Mr. Thomas Leonard"
          ],
          [
           "Rothes, the Countess. of (Lucy Noel Martha Dyer-Edwards)"
          ],
          [
           "Garfirth, Mr. John"
          ],
          [
           "Nirva, Mr. Iisakki Antino Aijo"
          ],
          [
           "Barah, Mr. Hanna Assi"
          ],
          [
           "Carter, Mrs. William Ernest (Lucile Polk)"
          ],
          [
           "Eklund, Mr. Hans Linus"
          ],
          [
           "Hogeboom, Mrs. John C (Anna Andrews)"
          ],
          [
           "Brewe, Dr. Arthur Jackson"
          ],
          [
           "Mangan, Miss. Mary"
          ],
          [
           "Moran, Mr. Daniel J"
          ],
          [
           "Gronnestad, Mr. Daniel Danielsen"
          ],
          [
           "Lievens, Mr. Rene Aime"
          ],
          [
           "Jensen, Mr. Niels Peder"
          ],
          [
           "Mack, Mrs. (Mary)"
          ],
          [
           "Elias, Mr. Dibo"
          ],
          [
           "Hocking, Mrs. Elizabeth (Eliza Needs)"
          ],
          [
           "Myhrman, Mr. Pehr Fabian Oliver Malkolm"
          ],
          [
           "Tobin, Mr. Roger"
          ],
          [
           "Emanuel, Miss. Virginia Ethel"
          ],
          [
           "Kilgannon, Mr. Thomas J"
          ],
          [
           "Robert, Mrs. Edward Scott (Elisabeth Walton McMillan)"
          ],
          [
           "Ayoub, Miss. Banoura"
          ],
          [
           "Dick, Mrs. Albert Adrian (Vera Gillespie)"
          ],
          [
           "Long, Mr. Milton Clyde"
          ],
          [
           "Johnston, Mr. Andrew G"
          ],
          [
           "Ali, Mr. William"
          ],
          [
           "Harmer, Mr. Abraham (David Lishin)"
          ],
          [
           "Sjoblom, Miss. Anna Sofia"
          ],
          [
           "Rice, Master. George Hugh"
          ],
          [
           "Dean, Master. Bertram Vere"
          ],
          [
           "Guggenheim, Mr. Benjamin"
          ],
          [
           "Keane, Mr. Andrew \"Andy\""
          ],
          [
           "Gaskell, Mr. Alfred"
          ],
          [
           "Sage, Miss. Stella Anna"
          ],
          [
           "Hoyt, Mr. William Fisher"
          ],
          [
           "Dantcheff, Mr. Ristiu"
          ],
          [
           "Otter, Mr. Richard"
          ],
          [
           "Leader, Dr. Alice (Farnham)"
          ],
          [
           "Osman, Mrs. Mara"
          ],
          [
           "Ibrahim Shawah, Mr. Yousseff"
          ],
          [
           "Van Impe, Mrs. Jean Baptiste (Rosalie Paula Govaert)"
          ],
          [
           "Ponesell, Mr. Martin"
          ],
          [
           "Collyer, Mrs. Harvey (Charlotte Annie Tate)"
          ],
          [
           "Carter, Master. William Thornton II"
          ],
          [
           "Thomas, Master. Assad Alexander"
          ],
          [
           "Hedman, Mr. Oskar Arvid"
          ],
          [
           "Johansson, Mr. Karl Johan"
          ],
          [
           "Andrews, Mr. Thomas Jr"
          ],
          [
           "Pettersson, Miss. Ellen Natalia"
          ],
          [
           "Meyer, Mr. August"
          ],
          [
           "Chambers, Mrs. Norman Campbell (Bertha Griggs)"
          ],
          [
           "Alexander, Mr. William"
          ],
          [
           "Lester, Mr. James"
          ],
          [
           "Slemen, Mr. Richard James"
          ],
          [
           "Andersson, Miss. Ebba Iris Alfrida"
          ],
          [
           "Tomlin, Mr. Ernest Portage"
          ],
          [
           "Fry, Mr. Richard"
          ],
          [
           "Heininen, Miss. Wendla Maria"
          ],
          [
           "Mallet, Mr. Albert"
          ],
          [
           "Holm, Mr. John Fredrik Alexander"
          ],
          [
           "Skoog, Master. Karl Thorsten"
          ],
          [
           "Hays, Mrs. Charles Melville (Clara Jennings Gregg)"
          ],
          [
           "Lulic, Mr. Nikola"
          ],
          [
           "Reuchlin, Jonkheer. John George"
          ],
          [
           "Moor, Mrs. (Beila)"
          ],
          [
           "Panula, Master. Urho Abraham"
          ],
          [
           "Flynn, Mr. John"
          ],
          [
           "Lam, Mr. Len"
          ],
          [
           "Mallet, Master. Andre"
          ],
          [
           "McCormack, Mr. Thomas Joseph"
          ],
          [
           "Stone, Mrs. George Nelson (Martha Evelyn)"
          ],
          [
           "Yasbeck, Mrs. Antoni (Selini Alexander)"
          ],
          [
           "Richards, Master. George Sibley"
          ],
          [
           "Saad, Mr. Amin"
          ],
          [
           "Augustsson, Mr. Albert"
          ],
          [
           "Allum, Mr. Owen George"
          ],
          [
           "Compton, Miss. Sara Rebecca"
          ],
          [
           "Pasic, Mr. Jakob"
          ],
          [
           "Sirota, Mr. Maurice"
          ],
          [
           "Chip, Mr. Chang"
          ],
          [
           "Marechal, Mr. Pierre"
          ],
          [
           "Alhomaki, Mr. Ilmari Rudolf"
          ],
          [
           "Mudd, Mr. Thomas Charles"
          ],
          [
           "Serepeca, Miss. Augusta"
          ],
          [
           "Lemberopolous, Mr. Peter L"
          ],
          [
           "Culumovic, Mr. Jeso"
          ],
          [
           "Abbing, Mr. Anthony"
          ],
          [
           "Sage, Mr. Douglas Bullen"
          ],
          [
           "Markoff, Mr. Marin"
          ],
          [
           "Harper, Rev. John"
          ],
          [
           "Goldenberg, Mrs. Samuel L (Edwiga Grabowska)"
          ],
          [
           "Andersson, Master. Sigvard Harald Elias"
          ],
          [
           "Svensson, Mr. Johan"
          ],
          [
           "Boulos, Miss. Nourelain"
          ],
          [
           "Lines, Miss. Mary Conover"
          ],
          [
           "Carter, Mrs. Ernest Courtenay (Lilian Hughes)"
          ],
          [
           "Aks, Mrs. Sam (Leah Rosen)"
          ],
          [
           "Wick, Mrs. George Dennick (Mary Hitchcock)"
          ],
          [
           "Daly, Mr. Peter Denis "
          ],
          [
           "Baclini, Mrs. Solomon (Latifa Qurban)"
          ],
          [
           "Razi, Mr. Raihed"
          ],
          [
           "Hansen, Mr. Claus Peter"
          ],
          [
           "Giles, Mr. Frederick Edward"
          ],
          [
           "Swift, Mrs. Frederick Joel (Margaret Welles Barron)"
          ],
          [
           "Sage, Miss. Dorothy Edith \"Dolly\""
          ],
          [
           "Gill, Mr. John William"
          ],
          [
           "Bystrom, Mrs. (Karolina)"
          ],
          [
           "Duran y More, Miss. Asuncion"
          ],
          [
           "Roebling, Mr. Washington Augustus II"
          ],
          [
           "van Melkebeke, Mr. Philemon"
          ],
          [
           "Johnson, Master. Harold Theodor"
          ],
          [
           "Balkic, Mr. Cerin"
          ],
          [
           "Beckwith, Mrs. Richard Leonard (Sallie Monypeny)"
          ],
          [
           "Carlsson, Mr. Frans Olof"
          ],
          [
           "Vander Cruyssen, Mr. Victor"
          ],
          [
           "Abelson, Mrs. Samuel (Hannah Wizosky)"
          ],
          [
           "Najib, Miss. Adele Kiamie \"Jane\""
          ],
          [
           "Gustafsson, Mr. Alfred Ossian"
          ],
          [
           "Petroff, Mr. Nedelio"
          ],
          [
           "Laleff, Mr. Kristo"
          ],
          [
           "Potter, Mrs. Thomas Jr (Lily Alexenia Wilson)"
          ],
          [
           "Shelley, Mrs. William (Imanita Parrish Hall)"
          ],
          [
           "Markun, Mr. Johann"
          ],
          [
           "Dahlberg, Miss. Gerda Ulrika"
          ],
          [
           "Banfield, Mr. Frederick James"
          ],
          [
           "Sutehall, Mr. Henry Jr"
          ],
          [
           "Rice, Mrs. William (Margaret Norton)"
          ],
          [
           "Montvila, Rev. Juozas"
          ],
          [
           "Graham, Miss. Margaret Edith"
          ],
          [
           "Johnston, Miss. Catherine Helen \"Carrie\""
          ],
          [
           "Behr, Mr. Karl Howell"
          ],
          [
           "Dooley, Mr. Patrick"
          ]
         ],
         "hovertemplate": "Age=%{x}<br>Fare=%{y}<br>Pclass=%{marker.size}<br>Name=%{customdata[0]}<br>Survived=%{marker.color}<extra></extra>",
         "legendgroup": "",
         "marker": {
          "color": [
           0,
           1,
           1,
           1,
           0,
           0,
           0,
           0,
           1,
           1,
           1,
           1,
           0,
           0,
           0,
           1,
           0,
           1,
           0,
           1,
           0,
           1,
           1,
           1,
           0,
           1,
           0,
           0,
           1,
           0,
           0,
           1,
           1,
           0,
           0,
           0,
           1,
           0,
           0,
           1,
           0,
           0,
           0,
           1,
           1,
           0,
           0,
           1,
           0,
           0,
           0,
           0,
           1,
           1,
           0,
           1,
           1,
           0,
           1,
           0,
           0,
           1,
           0,
           0,
           0,
           1,
           1,
           0,
           1,
           0,
           0,
           0,
           0,
           0,
           1,
           0,
           0,
           0,
           1,
           1,
           0,
           1,
           1,
           0,
           1,
           1,
           0,
           0,
           1,
           0,
           0,
           0,
           0,
           0,
           0,
           0,
           0,
           1,
           1,
           0,
           0,
           0,
           0,
           0,
           0,
           0,
           1,
           1,
           0,
           1,
           0,
           0,
           0,
           0,
           0,
           0,
           0,
           0,
           0,
           0,
           0,
           0,
           0,
           1,
           0,
           1,
           0,
           1,
           1,
           0,
           0,
           0,
           0,
           1,
           0,
           0,
           1,
           0,
           0,
           0,
           0,
           1,
           1,
           0,
           0,
           0,
           1,
           0,
           0,
           0,
           0,
           1,
           0,
           0,
           0,
           0,
           1,
           0,
           0,
           0,
           0,
           1,
           0,
           0,
           0,
           1,
           1,
           0,
           0,
           0,
           0,
           0,
           1,
           0,
           0,
           0,
           0,
           0,
           0,
           0,
           0,
           0,
           0,
           1,
           1,
           0,
           1,
           1,
           0,
           0,
           1,
           0,
           1,
           1,
           1,
           1,
           0,
           0,
           1,
           0,
           0,
           0,
           0,
           0,
           1,
           0,
           0,
           1,
           1,
           1,
           0,
           1,
           0,
           0,
           0,
           1,
           1,
           0,
           1,
           0,
           1,
           0,
           0,
           0,
           1,
           0,
           1,
           0,
           0,
           0,
           1,
           0,
           0,
           1,
           0,
           0,
           0,
           1,
           0,
           0,
           0,
           1,
           0,
           0,
           0,
           0,
           0,
           1,
           1,
           0,
           0,
           0,
           0,
           0,
           0,
           1,
           1,
           1,
           1,
           1,
           0,
           1,
           0,
           0,
           0,
           0,
           0,
           1,
           1,
           1,
           0,
           1,
           1,
           0,
           1,
           1,
           0,
           0,
           0,
           1,
           0,
           0,
           0,
           1,
           0,
           0,
           1,
           0,
           1,
           1,
           1,
           1,
           0,
           0,
           0,
           0,
           0,
           0,
           1,
           1,
           1,
           1,
           0,
           1,
           0,
           1,
           1,
           1,
           0,
           1,
           1,
           1,
           0,
           0,
           0,
           1,
           1,
           0,
           1,
           1,
           0,
           0,
           1,
           1,
           0,
           1,
           0,
           1,
           1,
           1,
           1,
           0,
           0,
           0,
           1,
           0,
           0,
           1,
           1,
           0,
           1,
           1,
           0,
           0,
           0,
           1,
           1,
           1,
           1,
           0,
           0,
           0,
           0,
           0,
           0,
           0,
           1,
           0,
           1,
           1,
           0,
           0,
           0,
           0,
           0,
           0,
           1,
           1,
           1,
           1,
           1,
           0,
           0,
           0,
           0,
           1,
           1,
           0,
           0,
           0,
           1,
           1,
           0,
           1,
           0,
           0,
           0,
           1,
           0,
           1,
           1,
           1,
           0,
           1,
           1,
           0,
           0,
           0,
           0,
           1,
           1,
           0,
           0,
           0,
           0,
           0,
           0,
           1,
           0,
           0,
           0,
           0,
           1,
           0,
           1,
           0,
           1,
           1,
           0,
           0,
           0,
           0,
           0,
           0,
           0,
           0,
           1,
           1,
           0,
           1,
           1,
           1,
           1,
           0,
           0,
           1,
           0,
           1,
           0,
           0,
           1,
           0,
           0,
           1,
           1,
           1,
           1,
           1,
           1,
           1,
           0,
           0,
           0,
           1,
           0,
           1,
           0,
           1,
           1,
           0,
           1,
           0,
           0,
           0,
           0,
           0,
           0,
           0,
           0,
           1,
           0,
           0,
           1,
           1,
           0,
           0,
           0,
           0,
           0,
           1,
           0,
           0,
           0,
           1,
           1,
           0,
           1,
           0,
           0,
           1,
           0,
           0,
           0,
           0,
           0,
           0,
           1,
           0,
           0,
           0,
           0,
           0,
           0,
           0,
           1,
           0,
           1,
           1,
           0,
           1,
           1,
           0,
           1,
           1,
           0,
           0,
           1,
           0,
           1,
           0,
           1,
           0,
           0,
           1,
           0,
           0,
           1,
           0,
           0,
           0,
           1,
           0,
           0,
           1,
           0,
           1,
           0,
           1,
           0,
           1,
           1,
           0,
           0,
           1,
           0,
           0,
           1,
           1,
           0,
           1,
           1,
           0,
           0,
           1,
           1,
           0,
           1,
           0,
           1,
           1,
           0,
           0,
           0,
           0,
           0,
           0,
           0,
           0,
           0,
           1,
           1,
           1,
           1,
           1,
           0,
           0,
           1,
           1,
           0,
           1,
           1,
           1,
           0,
           0,
           0,
           1,
           0,
           1,
           0,
           0,
           0,
           1,
           0,
           0,
           0,
           0,
           1,
           0,
           0,
           1,
           1,
           0,
           0,
           0,
           1,
           0,
           0,
           1,
           1,
           1,
           0,
           0,
           1,
           0,
           0,
           1,
           0,
           0,
           1,
           0,
           0,
           1,
           1,
           0,
           0,
           0,
           0,
           1,
           0,
           0,
           1,
           0,
           1,
           0,
           0,
           1,
           0,
           0,
           0,
           0,
           0,
           1,
           0,
           1,
           1,
           1,
           0,
           1,
           0,
           1,
           0,
           1,
           0,
           1,
           0,
           0,
           0,
           0,
           0,
           0,
           1,
           0,
           0,
           0,
           1,
           0,
           0,
           0,
           0,
           1,
           1,
           0,
           0,
           1,
           0,
           0,
           0,
           1,
           0,
           1,
           0,
           1,
           0,
           0,
           0,
           0,
           0,
           0,
           0,
           1,
           1,
           1,
           1,
           0,
           0,
           0,
           0,
           1,
           0,
           0,
           1,
           1,
           0,
           0,
           0,
           0,
           1,
           1,
           1,
           1,
           1,
           0,
           1,
           0,
           0,
           0,
           1,
           1,
           0,
           0,
           1,
           0,
           0,
           0,
           1,
           0,
           1,
           1,
           0,
           0,
           1,
           0,
           0,
           0,
           0,
           0,
           0,
           1,
           0,
           0,
           1,
           0,
           1,
           0,
           1,
           0,
           0,
           1,
           0,
           0,
           1,
           1,
           0,
           0,
           1,
           1,
           0,
           0,
           0,
           1,
           0,
           0,
           1,
           1,
           0,
           1,
           0,
           0,
           0,
           0,
           0,
           0,
           0,
           0,
           1,
           0,
           0,
           1,
           0,
           1,
           1,
           1,
           0,
           0,
           0,
           0,
           1,
           0,
           1,
           0,
           0,
           0,
           0,
           0,
           0,
           0,
           1,
           1,
           0,
           0,
           0,
           1,
           1,
           1,
           1,
           0,
           0,
           0,
           0,
           1,
           0,
           0,
           0,
           0,
           0,
           0,
           0,
           0,
           0,
           0,
           1,
           1,
           0,
           1,
           0,
           0,
           0,
           1,
           1,
           1,
           1,
           1,
           0,
           0,
           0,
           1,
           0,
           0,
           1,
           1,
           0,
           0,
           1,
           0,
           0,
           0,
           0,
           0,
           0,
           1,
           0,
           0,
           0,
           1,
           0,
           1,
           1,
           1,
           1,
           0,
           0,
           0,
           1,
           0,
           0,
           1,
           1,
           0,
           0,
           1,
           0,
           1,
           0,
           0,
           1,
           1,
           0,
           0,
           0,
           1,
           1,
           0,
           0,
           0,
           0,
           0,
           0,
           1,
           0,
           1,
           0
          ],
          "coloraxis": "coloraxis",
          "size": [
           3,
           1,
           3,
           1,
           3,
           3,
           1,
           3,
           3,
           2,
           3,
           1,
           3,
           3,
           3,
           2,
           3,
           2,
           3,
           3,
           2,
           2,
           3,
           1,
           3,
           3,
           3,
           1,
           3,
           3,
           1,
           1,
           3,
           2,
           1,
           1,
           3,
           3,
           3,
           3,
           3,
           2,
           3,
           2,
           3,
           3,
           3,
           3,
           3,
           3,
           3,
           3,
           1,
           2,
           1,
           1,
           2,
           3,
           2,
           3,
           3,
           1,
           1,
           3,
           1,
           3,
           2,
           3,
           3,
           3,
           2,
           3,
           2,
           3,
           3,
           3,
           3,
           3,
           2,
           3,
           3,
           3,
           3,
           1,
           2,
           3,
           3,
           3,
           1,
           3,
           3,
           3,
           1,
           3,
           3,
           3,
           1,
           1,
           2,
           2,
           3,
           3,
           1,
           3,
           3,
           3,
           3,
           3,
           3,
           3,
           1,
           3,
           3,
           3,
           3,
           3,
           3,
           2,
           1,
           3,
           2,
           3,
           2,
           2,
           1,
           3,
           3,
           3,
           3,
           3,
           3,
           3,
           3,
           2,
           2,
           2,
           1,
           1,
           3,
           1,
           3,
           3,
           3,
           3,
           2,
           2,
           3,
           3,
           2,
           2,
           2,
           1,
           3,
           3,
           3,
           1,
           3,
           3,
           3,
           3,
           3,
           2,
           3,
           3,
           3,
           3,
           1,
           3,
           1,
           3,
           1,
           3,
           3,
           3,
           1,
           3,
           3,
           1,
           2,
           3,
           3,
           2,
           3,
           2,
           3,
           1,
           3,
           1,
           3,
           3,
           2,
           2,
           3,
           2,
           1,
           1,
           3,
           3,
           3,
           2,
           3,
           3,
           3,
           3,
           3,
           3,
           3,
           3,
           3,
           1,
           3,
           2,
           3,
           2,
           3,
           1,
           3,
           2,
           1,
           2,
           3,
           2,
           3,
           3,
           1,
           3,
           2,
           3,
           2,
           3,
           1,
           3,
           2,
           3,
           2,
           3,
           2,
           2,
           2,
           2,
           3,
           3,
           2,
           3,
           3,
           1,
           3,
           2,
           1,
           2,
           3,
           3,
           1,
           3,
           3,
           3,
           1,
           1,
           1,
           2,
           3,
           3,
           1,
           1,
           3,
           2,
           3,
           3,
           1,
           1,
           1,
           3,
           2,
           1,
           3,
           1,
           3,
           2,
           3,
           3,
           3,
           3,
           3,
           3,
           1,
           3,
           3,
           3,
           2,
           3,
           1,
           1,
           2,
           3,
           3,
           1,
           3,
           1,
           1,
           1,
           3,
           3,
           3,
           2,
           3,
           1,
           1,
           1,
           2,
           1,
           1,
           1,
           2,
           3,
           2,
           3,
           2,
           2,
           1,
           1,
           3,
           3,
           2,
           2,
           3,
           1,
           3,
           2,
           3,
           1,
           3,
           1,
           1,
           3,
           1,
           3,
           1,
           1,
           3,
           1,
           2,
           1,
           2,
           2,
           2,
           2,
           2,
           3,
           3,
           3,
           3,
           1,
           3,
           3,
           3,
           3,
           1,
           2,
           3,
           3,
           3,
           2,
           3,
           3,
           3,
           3,
           1,
           3,
           3,
           1,
           1,
           3,
           3,
           1,
           3,
           1,
           3,
           1,
           3,
           3,
           1,
           3,
           3,
           1,
           3,
           2,
           3,
           2,
           3,
           2,
           1,
           3,
           3,
           1,
           3,
           3,
           3,
           2,
           2,
           2,
           3,
           3,
           3,
           3,
           3,
           2,
           3,
           2,
           3,
           3,
           3,
           3,
           1,
           2,
           3,
           3,
           2,
           2,
           2,
           3,
           3,
           3,
           3,
           3,
           3,
           3,
           2,
           2,
           3,
           3,
           1,
           3,
           2,
           3,
           1,
           1,
           3,
           2,
           1,
           2,
           2,
           3,
           3,
           2,
           3,
           1,
           2,
           1,
           3,
           1,
           2,
           3,
           1,
           1,
           3,
           3,
           1,
           1,
           2,
           3,
           1,
           3,
           1,
           2,
           3,
           3,
           2,
           1,
           3,
           3,
           3,
           3,
           2,
           2,
           3,
           1,
           2,
           3,
           3,
           3,
           3,
           2,
           3,
           3,
           1,
           3,
           1,
           1,
           3,
           3,
           3,
           3,
           1,
           1,
           3,
           3,
           1,
           3,
           1,
           3,
           3,
           3,
           3,
           3,
           1,
           1,
           2,
           1,
           3,
           3,
           3,
           3,
           1,
           1,
           3,
           1,
           2,
           3,
           2,
           3,
           1,
           3,
           3,
           1,
           3,
           3,
           2,
           1,
           3,
           2,
           2,
           3,
           3,
           3,
           3,
           2,
           1,
           1,
           3,
           1,
           1,
           3,
           3,
           2,
           1,
           1,
           2,
           2,
           3,
           2,
           1,
           2,
           3,
           3,
           3,
           1,
           1,
           1,
           1,
           3,
           3,
           3,
           2,
           3,
           3,
           3,
           3,
           3,
           3,
           3,
           2,
           1,
           1,
           3,
           3,
           3,
           2,
           1,
           3,
           3,
           2,
           1,
           2,
           1,
           3,
           1,
           2,
           1,
           3,
           3,
           3,
           1,
           3,
           3,
           2,
           3,
           2,
           3,
           3,
           1,
           2,
           3,
           1,
           3,
           1,
           3,
           3,
           1,
           2,
           1,
           3,
           3,
           3,
           3,
           3,
           2,
           3,
           3,
           2,
           2,
           3,
           1,
           3,
           3,
           3,
           1,
           2,
           1,
           3,
           3,
           1,
           3,
           1,
           1,
           3,
           2,
           3,
           2,
           3,
           3,
           3,
           1,
           3,
           3,
           3,
           1,
           3,
           1,
           3,
           3,
           3,
           2,
           3,
           3,
           3,
           2,
           3,
           3,
           2,
           1,
           1,
           3,
           1,
           3,
           3,
           2,
           2,
           3,
           3,
           1,
           2,
           1,
           2,
           2,
           2,
           3,
           3,
           3,
           3,
           1,
           3,
           1,
           3,
           3,
           2,
           2,
           3,
           3,
           3,
           1,
           1,
           3,
           3,
           3,
           1,
           2,
           3,
           3,
           1,
           3,
           1,
           1,
           3,
           3,
           3,
           2,
           2,
           1,
           1,
           3,
           1,
           1,
           1,
           3,
           2,
           3,
           1,
           2,
           3,
           3,
           2,
           3,
           2,
           2,
           1,
           3,
           2,
           3,
           2,
           3,
           1,
           3,
           2,
           2,
           2,
           3,
           3,
           1,
           3,
           3,
           1,
           1,
           1,
           3,
           3,
           1,
           3,
           2,
           1,
           3,
           2,
           3,
           3,
           3,
           2,
           2,
           3,
           2,
           3,
           1,
           3,
           3,
           3,
           1,
           3,
           1,
           1,
           3,
           3,
           3,
           3,
           3,
           2,
           3,
           2,
           3,
           3,
           3,
           3,
           1,
           3,
           1,
           1,
           3,
           3,
           3,
           3,
           3,
           3,
           1,
           3,
           2,
           3,
           1,
           3,
           2,
           1,
           3,
           3,
           3,
           2,
           2,
           1,
           3,
           3,
           3,
           1,
           3,
           2,
           1,
           3,
           3,
           2,
           3,
           3,
           1,
           3,
           2,
           3,
           3,
           1,
           3,
           1,
           3,
           3,
           3,
           3,
           2,
           3,
           1,
           3,
           2,
           3,
           3,
           3,
           1,
           3,
           3,
           3,
           1,
           3,
           2,
           1,
           3,
           3,
           3,
           3,
           3,
           2,
           1,
           3,
           3,
           3,
           1,
           2,
           3,
           1,
           1,
           3,
           3,
           3,
           2,
           1,
           3,
           2,
           2,
           2,
           1,
           3,
           3,
           3,
           1,
           1,
           3,
           2,
           3,
           3,
           3,
           3,
           1,
           2,
           3,
           3,
           2,
           3,
           3,
           2,
           1,
           3,
           1,
           3
          ],
          "sizemode": "area",
          "sizeref": 0.0075,
          "symbol": "circle"
         },
         "mode": "markers",
         "name": "",
         "orientation": "v",
         "showlegend": false,
         "type": "scatter",
         "x": [
          22,
          38,
          26,
          35,
          35,
          29.69911764705882,
          54,
          2,
          27,
          14,
          4,
          58,
          20,
          39,
          14,
          55,
          2,
          29.69911764705882,
          31,
          29.69911764705882,
          35,
          34,
          15,
          28,
          8,
          38,
          29.69911764705882,
          19,
          29.69911764705882,
          29.69911764705882,
          40,
          29.69911764705882,
          29.69911764705882,
          66,
          28,
          42,
          29.69911764705882,
          21,
          18,
          14,
          40,
          27,
          29.69911764705882,
          3,
          19,
          29.69911764705882,
          29.69911764705882,
          29.69911764705882,
          29.69911764705882,
          18,
          7,
          21,
          49,
          29,
          65,
          29.69911764705882,
          21,
          28.5,
          5,
          11,
          22,
          38,
          45,
          4,
          29.69911764705882,
          29.69911764705882,
          29,
          19,
          17,
          26,
          32,
          16,
          21,
          26,
          32,
          25,
          29.69911764705882,
          29.69911764705882,
          0.83,
          30,
          22,
          29,
          29.69911764705882,
          28,
          17,
          33,
          16,
          29.69911764705882,
          23,
          24,
          29,
          20,
          46,
          26,
          59,
          29.69911764705882,
          71,
          23,
          34,
          34,
          28,
          29.69911764705882,
          21,
          33,
          37,
          28,
          21,
          29.69911764705882,
          38,
          29.69911764705882,
          47,
          14.5,
          22,
          20,
          17,
          21,
          70.5,
          29,
          24,
          2,
          21,
          29.69911764705882,
          32.5,
          32.5,
          54,
          12,
          29.69911764705882,
          24,
          29.69911764705882,
          45,
          33,
          20,
          47,
          29,
          25,
          23,
          19,
          37,
          16,
          24,
          29.69911764705882,
          22,
          24,
          19,
          18,
          19,
          27,
          9,
          36.5,
          42,
          51,
          22,
          55.5,
          40.5,
          29.69911764705882,
          51,
          16,
          30,
          29.69911764705882,
          29.69911764705882,
          44,
          40,
          26,
          17,
          1,
          9,
          29.69911764705882,
          45,
          29.69911764705882,
          28,
          61,
          4,
          1,
          21,
          56,
          18,
          29.69911764705882,
          50,
          30,
          36,
          29.69911764705882,
          29.69911764705882,
          9,
          1,
          4,
          29.69911764705882,
          29.69911764705882,
          45,
          40,
          36,
          32,
          19,
          19,
          3,
          44,
          58,
          29.69911764705882,
          42,
          29.69911764705882,
          24,
          28,
          29.69911764705882,
          34,
          45.5,
          18,
          2,
          32,
          26,
          16,
          40,
          24,
          35,
          22,
          30,
          29.69911764705882,
          31,
          27,
          42,
          32,
          30,
          16,
          27,
          51,
          29.69911764705882,
          38,
          22,
          19,
          20.5,
          18,
          29.69911764705882,
          35,
          29,
          59,
          5,
          24,
          29.69911764705882,
          44,
          8,
          19,
          33,
          29.69911764705882,
          29.69911764705882,
          29,
          22,
          30,
          44,
          25,
          24,
          37,
          54,
          29.69911764705882,
          29,
          62,
          30,
          41,
          29,
          29.69911764705882,
          30,
          35,
          50,
          29.69911764705882,
          3,
          52,
          40,
          29.69911764705882,
          36,
          16,
          25,
          58,
          35,
          29.69911764705882,
          25,
          41,
          37,
          29.69911764705882,
          63,
          45,
          29.69911764705882,
          7,
          35,
          65,
          28,
          16,
          19,
          29.69911764705882,
          33,
          30,
          22,
          42,
          22,
          26,
          19,
          36,
          24,
          24,
          29.69911764705882,
          23.5,
          2,
          29.69911764705882,
          50,
          29.69911764705882,
          29.69911764705882,
          19,
          29.69911764705882,
          29.69911764705882,
          0.92,
          29.69911764705882,
          17,
          30,
          30,
          24,
          18,
          26,
          28,
          43,
          26,
          24,
          54,
          31,
          40,
          22,
          27,
          30,
          22,
          29.69911764705882,
          36,
          61,
          36,
          31,
          16,
          29.69911764705882,
          45.5,
          38,
          16,
          29.69911764705882,
          29.69911764705882,
          29,
          41,
          45,
          45,
          2,
          24,
          28,
          25,
          36,
          24,
          40,
          29.69911764705882,
          3,
          42,
          23,
          29.69911764705882,
          15,
          25,
          29.69911764705882,
          28,
          22,
          38,
          29.69911764705882,
          29.69911764705882,
          40,
          29,
          45,
          35,
          29.69911764705882,
          30,
          60,
          29.69911764705882,
          29.69911764705882,
          24,
          25,
          18,
          19,
          22,
          3,
          29.69911764705882,
          22,
          27,
          20,
          19,
          42,
          1,
          32,
          35,
          29.69911764705882,
          18,
          1,
          36,
          29.69911764705882,
          17,
          36,
          21,
          28,
          23,
          24,
          22,
          31,
          46,
          23,
          28,
          39,
          26,
          21,
          28,
          20,
          34,
          51,
          3,
          21,
          29.69911764705882,
          29.69911764705882,
          29.69911764705882,
          33,
          29.69911764705882,
          44,
          29.69911764705882,
          34,
          18,
          30,
          10,
          29.69911764705882,
          21,
          29,
          28,
          18,
          29.69911764705882,
          28,
          19,
          29.69911764705882,
          32,
          28,
          29.69911764705882,
          42,
          17,
          50,
          14,
          21,
          24,
          64,
          31,
          45,
          20,
          25,
          28,
          29.69911764705882,
          4,
          13,
          34,
          5,
          52,
          36,
          29.69911764705882,
          30,
          49,
          29.69911764705882,
          29,
          65,
          29.69911764705882,
          50,
          29.69911764705882,
          48,
          34,
          47,
          48,
          29.69911764705882,
          38,
          29.69911764705882,
          56,
          29.69911764705882,
          0.75,
          29.69911764705882,
          38,
          33,
          23,
          22,
          29.69911764705882,
          34,
          29,
          22,
          2,
          9,
          29.69911764705882,
          50,
          63,
          25,
          29.69911764705882,
          35,
          58,
          30,
          9,
          29.69911764705882,
          21,
          55,
          71,
          21,
          29.69911764705882,
          54,
          29.69911764705882,
          25,
          24,
          17,
          21,
          29.69911764705882,
          37,
          16,
          18,
          33,
          29.69911764705882,
          28,
          26,
          29,
          29.69911764705882,
          36,
          54,
          24,
          47,
          34,
          29.69911764705882,
          36,
          32,
          30,
          22,
          29.69911764705882,
          44,
          29.69911764705882,
          40.5,
          50,
          29.69911764705882,
          39,
          23,
          2,
          29.69911764705882,
          17,
          29.69911764705882,
          30,
          7,
          45,
          30,
          29.69911764705882,
          22,
          36,
          9,
          11,
          32,
          50,
          64,
          19,
          29.69911764705882,
          33,
          8,
          17,
          27,
          29.69911764705882,
          22,
          22,
          62,
          48,
          29.69911764705882,
          39,
          36,
          29.69911764705882,
          40,
          28,
          29.69911764705882,
          29.69911764705882,
          24,
          19,
          29,
          29.69911764705882,
          32,
          62,
          53,
          36,
          29.69911764705882,
          16,
          19,
          34,
          39,
          29.69911764705882,
          32,
          25,
          39,
          54,
          36,
          29.69911764705882,
          18,
          47,
          60,
          22,
          29.69911764705882,
          35,
          52,
          47,
          29.69911764705882,
          37,
          36,
          29.69911764705882,
          49,
          29.69911764705882,
          49,
          24,
          29.69911764705882,
          29.69911764705882,
          44,
          35,
          36,
          30,
          27,
          22,
          40,
          39,
          29.69911764705882,
          29.69911764705882,
          29.69911764705882,
          35,
          24,
          34,
          26,
          4,
          26,
          27,
          42,
          20,
          21,
          21,
          61,
          57,
          21,
          26,
          29.69911764705882,
          80,
          51,
          32,
          29.69911764705882,
          9,
          28,
          32,
          31,
          41,
          29.69911764705882,
          20,
          24,
          2,
          29.69911764705882,
          0.75,
          48,
          19,
          56,
          29.69911764705882,
          23,
          29.69911764705882,
          18,
          21,
          29.69911764705882,
          18,
          24,
          29.69911764705882,
          32,
          23,
          58,
          50,
          40,
          47,
          36,
          20,
          32,
          25,
          29.69911764705882,
          43,
          29.69911764705882,
          40,
          31,
          70,
          31,
          29.69911764705882,
          18,
          24.5,
          18,
          43,
          36,
          29.69911764705882,
          27,
          20,
          14,
          60,
          25,
          14,
          19,
          18,
          15,
          31,
          4,
          29.69911764705882,
          25,
          60,
          52,
          44,
          29.69911764705882,
          49,
          42,
          18,
          35,
          18,
          25,
          26,
          39,
          45,
          42,
          22,
          29.69911764705882,
          24,
          29.69911764705882,
          48,
          29,
          52,
          19,
          38,
          27,
          29.69911764705882,
          33,
          6,
          17,
          34,
          50,
          27,
          20,
          30,
          29.69911764705882,
          25,
          25,
          29,
          11,
          29.69911764705882,
          23,
          23,
          28.5,
          48,
          35,
          29.69911764705882,
          29.69911764705882,
          29.69911764705882,
          36,
          21,
          24,
          31,
          70,
          16,
          30,
          19,
          31,
          4,
          6,
          33,
          23,
          48,
          0.67,
          28,
          18,
          34,
          33,
          29.69911764705882,
          41,
          20,
          36,
          16,
          51,
          29.69911764705882,
          30.5,
          29.69911764705882,
          32,
          24,
          48,
          57,
          29.69911764705882,
          54,
          18,
          29.69911764705882,
          5,
          29.69911764705882,
          43,
          13,
          17,
          29,
          29.69911764705882,
          25,
          25,
          18,
          8,
          1,
          46,
          29.69911764705882,
          16,
          29.69911764705882,
          29.69911764705882,
          25,
          39,
          49,
          31,
          30,
          30,
          34,
          31,
          11,
          0.42,
          27,
          31,
          39,
          18,
          39,
          33,
          26,
          39,
          35,
          6,
          30.5,
          29.69911764705882,
          23,
          31,
          43,
          10,
          52,
          27,
          38,
          27,
          2,
          29.69911764705882,
          29.69911764705882,
          1,
          29.69911764705882,
          62,
          15,
          0.83,
          29.69911764705882,
          23,
          18,
          39,
          21,
          29.69911764705882,
          32,
          29.69911764705882,
          20,
          16,
          30,
          34.5,
          17,
          42,
          29.69911764705882,
          35,
          28,
          29.69911764705882,
          4,
          74,
          9,
          16,
          44,
          18,
          45,
          51,
          24,
          29.69911764705882,
          41,
          21,
          48,
          29.69911764705882,
          24,
          42,
          27,
          31,
          29.69911764705882,
          4,
          26,
          47,
          33,
          47,
          28,
          15,
          20,
          19,
          29.69911764705882,
          56,
          25,
          33,
          22,
          28,
          25,
          39,
          27,
          19,
          29.69911764705882,
          26,
          32
         ],
         "xaxis": "x",
         "y": [
          7.25,
          71.2833,
          7.925,
          53.1,
          8.05,
          8.4583,
          51.8625,
          21.075,
          11.1333,
          30.0708,
          16.7,
          26.55,
          8.05,
          31.275,
          7.8542,
          16,
          29.125,
          13,
          18,
          7.225,
          26,
          13,
          8.0292,
          35.5,
          21.075,
          31.3875,
          7.225,
          263,
          7.8792,
          7.8958,
          27.7208,
          146.5208,
          7.75,
          10.5,
          82.1708,
          52,
          7.2292,
          8.05,
          18,
          11.2417,
          9.475,
          21,
          7.8958,
          41.5792,
          7.8792,
          8.05,
          15.5,
          7.75,
          21.6792,
          17.8,
          39.6875,
          7.8,
          76.7292,
          26,
          61.9792,
          35.5,
          10.5,
          7.2292,
          27.75,
          46.9,
          7.2292,
          80,
          83.475,
          27.9,
          27.7208,
          15.2458,
          10.5,
          8.1583,
          7.925,
          8.6625,
          10.5,
          46.9,
          73.5,
          14.4542,
          56.4958,
          7.65,
          7.8958,
          8.05,
          29,
          12.475,
          9,
          9.5,
          7.7875,
          47.1,
          10.5,
          15.85,
          34.375,
          8.05,
          263,
          8.05,
          8.05,
          7.8542,
          61.175,
          20.575,
          7.25,
          8.05,
          34.6542,
          63.3583,
          23,
          26,
          7.8958,
          7.8958,
          77.2875,
          8.6542,
          7.925,
          7.8958,
          7.65,
          7.775,
          7.8958,
          24.15,
          52,
          14.4542,
          8.05,
          9.825,
          14.4583,
          7.925,
          7.75,
          21,
          247.5208,
          31.275,
          73.5,
          8.05,
          30.0708,
          13,
          77.2875,
          11.2417,
          7.75,
          7.1417,
          22.3583,
          6.975,
          7.8958,
          7.05,
          14.5,
          26,
          13,
          15.0458,
          26.2833,
          53.1,
          9.2167,
          79.2,
          15.2458,
          7.75,
          15.85,
          6.75,
          11.5,
          36.75,
          7.7958,
          34.375,
          26,
          13,
          12.525,
          66.6,
          8.05,
          14.5,
          7.3125,
          61.3792,
          7.7333,
          8.05,
          8.6625,
          69.55,
          16.1,
          15.75,
          7.775,
          8.6625,
          39.6875,
          20.525,
          55,
          27.9,
          25.925,
          56.4958,
          33.5,
          29.125,
          11.1333,
          7.925,
          30.6958,
          7.8542,
          25.4667,
          28.7125,
          13,
          0,
          69.55,
          15.05,
          31.3875,
          39,
          22.025,
          50,
          15.5,
          26.55,
          15.5,
          7.8958,
          13,
          13,
          7.8542,
          26,
          27.7208,
          146.5208,
          7.75,
          8.4042,
          7.75,
          13,
          9.5,
          69.55,
          6.4958,
          7.225,
          8.05,
          10.4625,
          15.85,
          18.7875,
          7.75,
          31,
          7.05,
          21,
          7.25,
          13,
          7.75,
          113.275,
          7.925,
          27,
          76.2917,
          10.5,
          8.05,
          13,
          8.05,
          7.8958,
          90,
          9.35,
          10.5,
          7.25,
          13,
          25.4667,
          83.475,
          7.775,
          13.5,
          31.3875,
          10.5,
          7.55,
          26,
          26.25,
          10.5,
          12.275,
          14.4542,
          15.5,
          10.5,
          7.125,
          7.225,
          90,
          7.775,
          14.5,
          52.5542,
          26,
          7.25,
          10.4625,
          26.55,
          16.1,
          20.2125,
          15.2458,
          79.2,
          86.5,
          512.3292,
          26,
          7.75,
          31.3875,
          79.65,
          0,
          7.75,
          10.5,
          39.6875,
          7.775,
          153.4625,
          135.6333,
          31,
          0,
          19.5,
          29.7,
          7.75,
          77.9583,
          7.75,
          0,
          29.125,
          20.25,
          7.75,
          7.8542,
          9.5,
          8.05,
          26,
          8.6625,
          9.5,
          7.8958,
          13,
          7.75,
          78.85,
          91.0792,
          12.875,
          8.85,
          7.8958,
          27.7208,
          7.2292,
          151.55,
          30.5,
          247.5208,
          7.75,
          23.25,
          0,
          12.35,
          8.05,
          151.55,
          110.8833,
          108.9,
          24,
          56.9292,
          83.1583,
          262.375,
          26,
          7.8958,
          26.25,
          7.8542,
          26,
          14,
          164.8667,
          134.5,
          7.25,
          7.8958,
          12.35,
          29,
          69.55,
          135.6333,
          6.2375,
          13,
          20.525,
          57.9792,
          23.25,
          28.5,
          153.4625,
          18,
          133.65,
          7.8958,
          66.6,
          134.5,
          8.05,
          35.5,
          26,
          263,
          13,
          13,
          13,
          13,
          13,
          16.1,
          15.9,
          8.6625,
          9.225,
          35,
          7.2292,
          17.8,
          7.225,
          9.5,
          55,
          13,
          7.8792,
          7.8792,
          27.9,
          27.7208,
          14.4542,
          7.05,
          15.5,
          7.25,
          75.25,
          7.2292,
          7.75,
          69.3,
          55.4417,
          6.4958,
          8.05,
          135.6333,
          21.075,
          82.1708,
          7.25,
          211.5,
          4.0125,
          7.775,
          227.525,
          15.7417,
          7.925,
          52,
          7.8958,
          73.5,
          46.9,
          13,
          7.7292,
          12,
          120,
          7.7958,
          7.925,
          113.275,
          16.7,
          7.7958,
          7.8542,
          26,
          10.5,
          12.65,
          7.925,
          8.05,
          9.825,
          15.85,
          8.6625,
          21,
          7.75,
          18.75,
          7.775,
          25.4667,
          7.8958,
          6.8583,
          90,
          0,
          7.925,
          8.05,
          32.5,
          13,
          13,
          24.15,
          7.8958,
          7.7333,
          7.875,
          14.4,
          20.2125,
          7.25,
          26,
          26,
          7.75,
          8.05,
          26.55,
          16.1,
          26,
          7.125,
          55.9,
          120,
          34.375,
          18.75,
          263,
          10.5,
          26.25,
          9.5,
          7.775,
          13,
          8.1125,
          81.8583,
          19.5,
          26.55,
          19.2583,
          30.5,
          27.75,
          19.9667,
          27.75,
          89.1042,
          8.05,
          7.8958,
          26.55,
          51.8625,
          10.5,
          7.75,
          26.55,
          8.05,
          38.5,
          13,
          8.05,
          7.05,
          0,
          26.55,
          7.725,
          19.2583,
          7.25,
          8.6625,
          27.75,
          13.7917,
          9.8375,
          52,
          21,
          7.0458,
          7.5208,
          12.2875,
          46.9,
          0,
          8.05,
          9.5875,
          91.0792,
          25.4667,
          90,
          29.7,
          8.05,
          15.9,
          19.9667,
          7.25,
          30.5,
          49.5042,
          8.05,
          14.4583,
          78.2667,
          15.1,
          151.55,
          7.7958,
          8.6625,
          7.75,
          7.6292,
          9.5875,
          86.5,
          108.9,
          26,
          26.55,
          22.525,
          56.4958,
          7.75,
          8.05,
          26.2875,
          59.4,
          7.4958,
          34.0208,
          10.5,
          24.15,
          26,
          7.8958,
          93.5,
          7.8958,
          7.225,
          57.9792,
          7.2292,
          7.75,
          10.5,
          221.7792,
          7.925,
          11.5,
          26,
          7.2292,
          7.2292,
          22.3583,
          8.6625,
          26.25,
          26.55,
          106.425,
          14.5,
          49.5,
          71,
          31.275,
          31.275,
          26,
          106.425,
          26,
          26,
          13.8625,
          20.525,
          36.75,
          110.8833,
          26,
          7.8292,
          7.225,
          7.775,
          26.55,
          39.6,
          227.525,
          79.65,
          17.4,
          7.75,
          7.8958,
          13.5,
          8.05,
          8.05,
          24.15,
          7.8958,
          21.075,
          7.2292,
          7.8542,
          10.5,
          51.4792,
          26.3875,
          7.75,
          8.05,
          14.5,
          13,
          55.9,
          14.4583,
          7.925,
          30,
          110.8833,
          26,
          40.125,
          8.7125,
          79.65,
          15,
          79.2,
          8.05,
          8.05,
          7.125,
          78.2667,
          7.25,
          7.75,
          26,
          24.15,
          33,
          0,
          7.225,
          56.9292,
          27,
          7.8958,
          42.4,
          8.05,
          26.55,
          15.55,
          7.8958,
          30.5,
          41.5792,
          153.4625,
          31.275,
          7.05,
          15.5,
          7.75,
          8.05,
          65,
          14.4,
          16.1,
          39,
          10.5,
          14.4542,
          52.5542,
          15.7417,
          7.8542,
          16.1,
          32.3208,
          12.35,
          77.9583,
          7.8958,
          7.7333,
          30,
          7.0542,
          30.5,
          0,
          27.9,
          13,
          7.925,
          26.25,
          39.6875,
          16.1,
          7.8542,
          69.3,
          27.9,
          56.4958,
          19.2583,
          76.7292,
          7.8958,
          35.5,
          7.55,
          7.55,
          7.8958,
          23,
          8.4333,
          7.8292,
          6.75,
          73.5,
          7.8958,
          15.5,
          13,
          113.275,
          133.65,
          7.225,
          25.5875,
          7.4958,
          7.925,
          73.5,
          13,
          7.775,
          8.05,
          52,
          39,
          52,
          10.5,
          13,
          0,
          7.775,
          8.05,
          9.8417,
          46.9,
          512.3292,
          8.1375,
          76.7292,
          9.225,
          46.9,
          39,
          41.5792,
          39.6875,
          10.1708,
          7.7958,
          211.3375,
          57,
          13.4167,
          56.4958,
          7.225,
          26.55,
          13.5,
          8.05,
          7.7333,
          110.8833,
          7.65,
          227.525,
          26.2875,
          14.4542,
          7.7417,
          7.8542,
          26,
          13.5,
          26.2875,
          151.55,
          15.2458,
          49.5042,
          26.55,
          52,
          9.4833,
          13,
          7.65,
          227.525,
          10.5,
          15.5,
          7.775,
          33,
          7.0542,
          13,
          13,
          53.1,
          8.6625,
          21,
          7.7375,
          26,
          7.925,
          211.3375,
          18.7875,
          0,
          13,
          13,
          16.1,
          34.375,
          512.3292,
          7.8958,
          7.8958,
          30,
          78.85,
          262.375,
          16.1,
          7.925,
          71,
          20.25,
          13,
          53.1,
          7.75,
          23,
          12.475,
          9.5,
          7.8958,
          65,
          14.5,
          7.7958,
          11.5,
          8.05,
          86.5,
          14.5,
          7.125,
          7.2292,
          120,
          7.775,
          77.9583,
          39.6,
          7.75,
          24.15,
          8.3625,
          9.5,
          7.8542,
          10.5,
          7.225,
          23,
          7.75,
          7.75,
          12.475,
          7.7375,
          211.3375,
          7.2292,
          57,
          30,
          23.45,
          7.05,
          7.25,
          7.4958,
          29.125,
          20.575,
          79.2,
          7.75,
          26,
          69.55,
          30.6958,
          7.8958,
          13,
          25.9292,
          8.6833,
          7.2292,
          24.15,
          13,
          26.25,
          120,
          8.5167,
          6.975,
          7.775,
          0,
          7.775,
          13,
          53.1,
          7.8875,
          24.15,
          10.5,
          31.275,
          8.05,
          0,
          7.925,
          37.0042,
          6.45,
          27.9,
          93.5,
          8.6625,
          0,
          12.475,
          39.6875,
          6.95,
          56.4958,
          37.0042,
          7.75,
          80,
          14.4542,
          18.75,
          7.2292,
          7.8542,
          8.3,
          83.1583,
          8.6625,
          8.05,
          56.4958,
          29.7,
          7.925,
          10.5,
          31,
          6.4375,
          8.6625,
          7.55,
          69.55,
          7.8958,
          33,
          89.1042,
          31.275,
          7.775,
          15.2458,
          39.4,
          26,
          9.35,
          164.8667,
          26.55,
          19.2583,
          7.2292,
          14.1083,
          11.5,
          25.9292,
          69.55,
          13,
          13,
          13.8583,
          50.4958,
          9.5,
          11.1333,
          7.8958,
          52.5542,
          5,
          9,
          24,
          7.225,
          9.8458,
          7.8958,
          7.8958,
          83.1583,
          26,
          7.8958,
          10.5167,
          10.5,
          7.05,
          29.125,
          13,
          30,
          23.45,
          30,
          7.75
         ],
         "yaxis": "y"
        }
       ],
       "layout": {
        "coloraxis": {
         "colorbar": {
          "title": {
           "text": "Survived"
          }
         },
         "colorscale": [
          [
           0,
           "#0d0887"
          ],
          [
           0.1111111111111111,
           "#46039f"
          ],
          [
           0.2222222222222222,
           "#7201a8"
          ],
          [
           0.3333333333333333,
           "#9c179e"
          ],
          [
           0.4444444444444444,
           "#bd3786"
          ],
          [
           0.5555555555555556,
           "#d8576b"
          ],
          [
           0.6666666666666666,
           "#ed7953"
          ],
          [
           0.7777777777777778,
           "#fb9f3a"
          ],
          [
           0.8888888888888888,
           "#fdca26"
          ],
          [
           1,
           "#f0f921"
          ]
         ]
        },
        "legend": {
         "itemsizing": "constant",
         "tracegroupgap": 0
        },
        "margin": {
         "t": 60
        },
        "template": {
         "data": {
          "bar": [
           {
            "error_x": {
             "color": "#2a3f5f"
            },
            "error_y": {
             "color": "#2a3f5f"
            },
            "marker": {
             "line": {
              "color": "#E5ECF6",
              "width": 0.5
             },
             "pattern": {
              "fillmode": "overlay",
              "size": 10,
              "solidity": 0.2
             }
            },
            "type": "bar"
           }
          ],
          "barpolar": [
           {
            "marker": {
             "line": {
              "color": "#E5ECF6",
              "width": 0.5
             },
             "pattern": {
              "fillmode": "overlay",
              "size": 10,
              "solidity": 0.2
             }
            },
            "type": "barpolar"
           }
          ],
          "carpet": [
           {
            "aaxis": {
             "endlinecolor": "#2a3f5f",
             "gridcolor": "white",
             "linecolor": "white",
             "minorgridcolor": "white",
             "startlinecolor": "#2a3f5f"
            },
            "baxis": {
             "endlinecolor": "#2a3f5f",
             "gridcolor": "white",
             "linecolor": "white",
             "minorgridcolor": "white",
             "startlinecolor": "#2a3f5f"
            },
            "type": "carpet"
           }
          ],
          "choropleth": [
           {
            "colorbar": {
             "outlinewidth": 0,
             "ticks": ""
            },
            "type": "choropleth"
           }
          ],
          "contour": [
           {
            "colorbar": {
             "outlinewidth": 0,
             "ticks": ""
            },
            "colorscale": [
             [
              0,
              "#0d0887"
             ],
             [
              0.1111111111111111,
              "#46039f"
             ],
             [
              0.2222222222222222,
              "#7201a8"
             ],
             [
              0.3333333333333333,
              "#9c179e"
             ],
             [
              0.4444444444444444,
              "#bd3786"
             ],
             [
              0.5555555555555556,
              "#d8576b"
             ],
             [
              0.6666666666666666,
              "#ed7953"
             ],
             [
              0.7777777777777778,
              "#fb9f3a"
             ],
             [
              0.8888888888888888,
              "#fdca26"
             ],
             [
              1,
              "#f0f921"
             ]
            ],
            "type": "contour"
           }
          ],
          "contourcarpet": [
           {
            "colorbar": {
             "outlinewidth": 0,
             "ticks": ""
            },
            "type": "contourcarpet"
           }
          ],
          "heatmap": [
           {
            "colorbar": {
             "outlinewidth": 0,
             "ticks": ""
            },
            "colorscale": [
             [
              0,
              "#0d0887"
             ],
             [
              0.1111111111111111,
              "#46039f"
             ],
             [
              0.2222222222222222,
              "#7201a8"
             ],
             [
              0.3333333333333333,
              "#9c179e"
             ],
             [
              0.4444444444444444,
              "#bd3786"
             ],
             [
              0.5555555555555556,
              "#d8576b"
             ],
             [
              0.6666666666666666,
              "#ed7953"
             ],
             [
              0.7777777777777778,
              "#fb9f3a"
             ],
             [
              0.8888888888888888,
              "#fdca26"
             ],
             [
              1,
              "#f0f921"
             ]
            ],
            "type": "heatmap"
           }
          ],
          "heatmapgl": [
           {
            "colorbar": {
             "outlinewidth": 0,
             "ticks": ""
            },
            "colorscale": [
             [
              0,
              "#0d0887"
             ],
             [
              0.1111111111111111,
              "#46039f"
             ],
             [
              0.2222222222222222,
              "#7201a8"
             ],
             [
              0.3333333333333333,
              "#9c179e"
             ],
             [
              0.4444444444444444,
              "#bd3786"
             ],
             [
              0.5555555555555556,
              "#d8576b"
             ],
             [
              0.6666666666666666,
              "#ed7953"
             ],
             [
              0.7777777777777778,
              "#fb9f3a"
             ],
             [
              0.8888888888888888,
              "#fdca26"
             ],
             [
              1,
              "#f0f921"
             ]
            ],
            "type": "heatmapgl"
           }
          ],
          "histogram": [
           {
            "marker": {
             "pattern": {
              "fillmode": "overlay",
              "size": 10,
              "solidity": 0.2
             }
            },
            "type": "histogram"
           }
          ],
          "histogram2d": [
           {
            "colorbar": {
             "outlinewidth": 0,
             "ticks": ""
            },
            "colorscale": [
             [
              0,
              "#0d0887"
             ],
             [
              0.1111111111111111,
              "#46039f"
             ],
             [
              0.2222222222222222,
              "#7201a8"
             ],
             [
              0.3333333333333333,
              "#9c179e"
             ],
             [
              0.4444444444444444,
              "#bd3786"
             ],
             [
              0.5555555555555556,
              "#d8576b"
             ],
             [
              0.6666666666666666,
              "#ed7953"
             ],
             [
              0.7777777777777778,
              "#fb9f3a"
             ],
             [
              0.8888888888888888,
              "#fdca26"
             ],
             [
              1,
              "#f0f921"
             ]
            ],
            "type": "histogram2d"
           }
          ],
          "histogram2dcontour": [
           {
            "colorbar": {
             "outlinewidth": 0,
             "ticks": ""
            },
            "colorscale": [
             [
              0,
              "#0d0887"
             ],
             [
              0.1111111111111111,
              "#46039f"
             ],
             [
              0.2222222222222222,
              "#7201a8"
             ],
             [
              0.3333333333333333,
              "#9c179e"
             ],
             [
              0.4444444444444444,
              "#bd3786"
             ],
             [
              0.5555555555555556,
              "#d8576b"
             ],
             [
              0.6666666666666666,
              "#ed7953"
             ],
             [
              0.7777777777777778,
              "#fb9f3a"
             ],
             [
              0.8888888888888888,
              "#fdca26"
             ],
             [
              1,
              "#f0f921"
             ]
            ],
            "type": "histogram2dcontour"
           }
          ],
          "mesh3d": [
           {
            "colorbar": {
             "outlinewidth": 0,
             "ticks": ""
            },
            "type": "mesh3d"
           }
          ],
          "parcoords": [
           {
            "line": {
             "colorbar": {
              "outlinewidth": 0,
              "ticks": ""
             }
            },
            "type": "parcoords"
           }
          ],
          "pie": [
           {
            "automargin": true,
            "type": "pie"
           }
          ],
          "scatter": [
           {
            "marker": {
             "colorbar": {
              "outlinewidth": 0,
              "ticks": ""
             }
            },
            "type": "scatter"
           }
          ],
          "scatter3d": [
           {
            "line": {
             "colorbar": {
              "outlinewidth": 0,
              "ticks": ""
             }
            },
            "marker": {
             "colorbar": {
              "outlinewidth": 0,
              "ticks": ""
             }
            },
            "type": "scatter3d"
           }
          ],
          "scattercarpet": [
           {
            "marker": {
             "colorbar": {
              "outlinewidth": 0,
              "ticks": ""
             }
            },
            "type": "scattercarpet"
           }
          ],
          "scattergeo": [
           {
            "marker": {
             "colorbar": {
              "outlinewidth": 0,
              "ticks": ""
             }
            },
            "type": "scattergeo"
           }
          ],
          "scattergl": [
           {
            "marker": {
             "colorbar": {
              "outlinewidth": 0,
              "ticks": ""
             }
            },
            "type": "scattergl"
           }
          ],
          "scattermapbox": [
           {
            "marker": {
             "colorbar": {
              "outlinewidth": 0,
              "ticks": ""
             }
            },
            "type": "scattermapbox"
           }
          ],
          "scatterpolar": [
           {
            "marker": {
             "colorbar": {
              "outlinewidth": 0,
              "ticks": ""
             }
            },
            "type": "scatterpolar"
           }
          ],
          "scatterpolargl": [
           {
            "marker": {
             "colorbar": {
              "outlinewidth": 0,
              "ticks": ""
             }
            },
            "type": "scatterpolargl"
           }
          ],
          "scatterternary": [
           {
            "marker": {
             "colorbar": {
              "outlinewidth": 0,
              "ticks": ""
             }
            },
            "type": "scatterternary"
           }
          ],
          "surface": [
           {
            "colorbar": {
             "outlinewidth": 0,
             "ticks": ""
            },
            "colorscale": [
             [
              0,
              "#0d0887"
             ],
             [
              0.1111111111111111,
              "#46039f"
             ],
             [
              0.2222222222222222,
              "#7201a8"
             ],
             [
              0.3333333333333333,
              "#9c179e"
             ],
             [
              0.4444444444444444,
              "#bd3786"
             ],
             [
              0.5555555555555556,
              "#d8576b"
             ],
             [
              0.6666666666666666,
              "#ed7953"
             ],
             [
              0.7777777777777778,
              "#fb9f3a"
             ],
             [
              0.8888888888888888,
              "#fdca26"
             ],
             [
              1,
              "#f0f921"
             ]
            ],
            "type": "surface"
           }
          ],
          "table": [
           {
            "cells": {
             "fill": {
              "color": "#EBF0F8"
             },
             "line": {
              "color": "white"
             }
            },
            "header": {
             "fill": {
              "color": "#C8D4E3"
             },
             "line": {
              "color": "white"
             }
            },
            "type": "table"
           }
          ]
         },
         "layout": {
          "annotationdefaults": {
           "arrowcolor": "#2a3f5f",
           "arrowhead": 0,
           "arrowwidth": 1
          },
          "autotypenumbers": "strict",
          "coloraxis": {
           "colorbar": {
            "outlinewidth": 0,
            "ticks": ""
           }
          },
          "colorscale": {
           "diverging": [
            [
             0,
             "#8e0152"
            ],
            [
             0.1,
             "#c51b7d"
            ],
            [
             0.2,
             "#de77ae"
            ],
            [
             0.3,
             "#f1b6da"
            ],
            [
             0.4,
             "#fde0ef"
            ],
            [
             0.5,
             "#f7f7f7"
            ],
            [
             0.6,
             "#e6f5d0"
            ],
            [
             0.7,
             "#b8e186"
            ],
            [
             0.8,
             "#7fbc41"
            ],
            [
             0.9,
             "#4d9221"
            ],
            [
             1,
             "#276419"
            ]
           ],
           "sequential": [
            [
             0,
             "#0d0887"
            ],
            [
             0.1111111111111111,
             "#46039f"
            ],
            [
             0.2222222222222222,
             "#7201a8"
            ],
            [
             0.3333333333333333,
             "#9c179e"
            ],
            [
             0.4444444444444444,
             "#bd3786"
            ],
            [
             0.5555555555555556,
             "#d8576b"
            ],
            [
             0.6666666666666666,
             "#ed7953"
            ],
            [
             0.7777777777777778,
             "#fb9f3a"
            ],
            [
             0.8888888888888888,
             "#fdca26"
            ],
            [
             1,
             "#f0f921"
            ]
           ],
           "sequentialminus": [
            [
             0,
             "#0d0887"
            ],
            [
             0.1111111111111111,
             "#46039f"
            ],
            [
             0.2222222222222222,
             "#7201a8"
            ],
            [
             0.3333333333333333,
             "#9c179e"
            ],
            [
             0.4444444444444444,
             "#bd3786"
            ],
            [
             0.5555555555555556,
             "#d8576b"
            ],
            [
             0.6666666666666666,
             "#ed7953"
            ],
            [
             0.7777777777777778,
             "#fb9f3a"
            ],
            [
             0.8888888888888888,
             "#fdca26"
            ],
            [
             1,
             "#f0f921"
            ]
           ]
          },
          "colorway": [
           "#636efa",
           "#EF553B",
           "#00cc96",
           "#ab63fa",
           "#FFA15A",
           "#19d3f3",
           "#FF6692",
           "#B6E880",
           "#FF97FF",
           "#FECB52"
          ],
          "font": {
           "color": "#2a3f5f"
          },
          "geo": {
           "bgcolor": "white",
           "lakecolor": "white",
           "landcolor": "#E5ECF6",
           "showlakes": true,
           "showland": true,
           "subunitcolor": "white"
          },
          "hoverlabel": {
           "align": "left"
          },
          "hovermode": "closest",
          "mapbox": {
           "style": "light"
          },
          "paper_bgcolor": "white",
          "plot_bgcolor": "#E5ECF6",
          "polar": {
           "angularaxis": {
            "gridcolor": "white",
            "linecolor": "white",
            "ticks": ""
           },
           "bgcolor": "#E5ECF6",
           "radialaxis": {
            "gridcolor": "white",
            "linecolor": "white",
            "ticks": ""
           }
          },
          "scene": {
           "xaxis": {
            "backgroundcolor": "#E5ECF6",
            "gridcolor": "white",
            "gridwidth": 2,
            "linecolor": "white",
            "showbackground": true,
            "ticks": "",
            "zerolinecolor": "white"
           },
           "yaxis": {
            "backgroundcolor": "#E5ECF6",
            "gridcolor": "white",
            "gridwidth": 2,
            "linecolor": "white",
            "showbackground": true,
            "ticks": "",
            "zerolinecolor": "white"
           },
           "zaxis": {
            "backgroundcolor": "#E5ECF6",
            "gridcolor": "white",
            "gridwidth": 2,
            "linecolor": "white",
            "showbackground": true,
            "ticks": "",
            "zerolinecolor": "white"
           }
          },
          "shapedefaults": {
           "line": {
            "color": "#2a3f5f"
           }
          },
          "ternary": {
           "aaxis": {
            "gridcolor": "white",
            "linecolor": "white",
            "ticks": ""
           },
           "baxis": {
            "gridcolor": "white",
            "linecolor": "white",
            "ticks": ""
           },
           "bgcolor": "#E5ECF6",
           "caxis": {
            "gridcolor": "white",
            "linecolor": "white",
            "ticks": ""
           }
          },
          "title": {
           "x": 0.05
          },
          "xaxis": {
           "automargin": true,
           "gridcolor": "white",
           "linecolor": "white",
           "ticks": "",
           "title": {
            "standoff": 15
           },
           "zerolinecolor": "white",
           "zerolinewidth": 2
          },
          "yaxis": {
           "automargin": true,
           "gridcolor": "white",
           "linecolor": "white",
           "ticks": "",
           "title": {
            "standoff": 15
           },
           "zerolinecolor": "white",
           "zerolinewidth": 2
          }
         }
        },
        "xaxis": {
         "anchor": "y",
         "domain": [
          0,
          1
         ],
         "title": {
          "text": "Age"
         }
        },
        "yaxis": {
         "anchor": "x",
         "domain": [
          0,
          1
         ],
         "title": {
          "text": "Fare"
         }
        }
       }
      },
      "text/html": [
       "<div>                            <div id=\"ebfac06e-c108-457c-ac1c-63d46b2dd008\" class=\"plotly-graph-div\" style=\"height:525px; width:100%;\"></div>            <script type=\"text/javascript\">                require([\"plotly\"], function(Plotly) {                    window.PLOTLYENV=window.PLOTLYENV || {};                                    if (document.getElementById(\"ebfac06e-c108-457c-ac1c-63d46b2dd008\")) {                    Plotly.newPlot(                        \"ebfac06e-c108-457c-ac1c-63d46b2dd008\",                        [{\"customdata\":[[\"Braund, Mr. Owen Harris\"],[\"Cumings, Mrs. John Bradley (Florence Briggs Thayer)\"],[\"Heikkinen, Miss. Laina\"],[\"Futrelle, Mrs. Jacques Heath (Lily May Peel)\"],[\"Allen, Mr. William Henry\"],[\"Moran, Mr. James\"],[\"McCarthy, Mr. Timothy J\"],[\"Palsson, Master. Gosta Leonard\"],[\"Johnson, Mrs. Oscar W (Elisabeth Vilhelmina Berg)\"],[\"Nasser, Mrs. Nicholas (Adele Achem)\"],[\"Sandstrom, Miss. Marguerite Rut\"],[\"Bonnell, Miss. Elizabeth\"],[\"Saundercock, Mr. William Henry\"],[\"Andersson, Mr. Anders Johan\"],[\"Vestrom, Miss. Hulda Amanda Adolfina\"],[\"Hewlett, Mrs. (Mary D Kingcome) \"],[\"Rice, Master. Eugene\"],[\"Williams, Mr. Charles Eugene\"],[\"Vander Planke, Mrs. Julius (Emelia Maria Vandemoortele)\"],[\"Masselmani, Mrs. Fatima\"],[\"Fynney, Mr. Joseph J\"],[\"Beesley, Mr. Lawrence\"],[\"McGowan, Miss. Anna \\\"Annie\\\"\"],[\"Sloper, Mr. William Thompson\"],[\"Palsson, Miss. Torborg Danira\"],[\"Asplund, Mrs. Carl Oscar (Selma Augusta Emilia Johansson)\"],[\"Emir, Mr. Farred Chehab\"],[\"Fortune, Mr. Charles Alexander\"],[\"O'Dwyer, Miss. Ellen \\\"Nellie\\\"\"],[\"Todoroff, Mr. Lalio\"],[\"Uruchurtu, Don. Manuel E\"],[\"Spencer, Mrs. William Augustus (Marie Eugenie)\"],[\"Glynn, Miss. Mary Agatha\"],[\"Wheadon, Mr. Edward H\"],[\"Meyer, Mr. Edgar Joseph\"],[\"Holverson, Mr. Alexander Oskar\"],[\"Mamee, Mr. Hanna\"],[\"Cann, Mr. Ernest Charles\"],[\"Vander Planke, Miss. Augusta Maria\"],[\"Nicola-Yarred, Miss. Jamila\"],[\"Ahlin, Mrs. Johan (Johanna Persdotter Larsson)\"],[\"Turpin, Mrs. William John Robert (Dorothy Ann Wonnacott)\"],[\"Kraeff, Mr. Theodor\"],[\"Laroche, Miss. Simonne Marie Anne Andree\"],[\"Devaney, Miss. Margaret Delia\"],[\"Rogers, Mr. William John\"],[\"Lennon, Mr. Denis\"],[\"O'Driscoll, Miss. Bridget\"],[\"Samaan, Mr. Youssef\"],[\"Arnold-Franchi, Mrs. Josef (Josefine Franchi)\"],[\"Panula, Master. Juha Niilo\"],[\"Nosworthy, Mr. Richard Cater\"],[\"Harper, Mrs. Henry Sleeper (Myna Haxtun)\"],[\"Faunthorpe, Mrs. Lizzie (Elizabeth Anne Wilkinson)\"],[\"Ostby, Mr. Engelhart Cornelius\"],[\"Woolner, Mr. Hugh\"],[\"Rugg, Miss. Emily\"],[\"Novel, Mr. Mansouer\"],[\"West, Miss. Constance Mirium\"],[\"Goodwin, Master. William Frederick\"],[\"Sirayanian, Mr. Orsen\"],[\"Icard, Miss. Amelie\"],[\"Harris, Mr. Henry Birkhardt\"],[\"Skoog, Master. Harald\"],[\"Stewart, Mr. Albert A\"],[\"Moubarek, Master. Gerios\"],[\"Nye, Mrs. (Elizabeth Ramell)\"],[\"Crease, Mr. Ernest James\"],[\"Andersson, Miss. Erna Alexandra\"],[\"Kink, Mr. Vincenz\"],[\"Jenkin, Mr. Stephen Curnow\"],[\"Goodwin, Miss. Lillian Amy\"],[\"Hood, Mr. Ambrose Jr\"],[\"Chronopoulos, Mr. Apostolos\"],[\"Bing, Mr. Lee\"],[\"Moen, Mr. Sigurd Hansen\"],[\"Staneff, Mr. Ivan\"],[\"Moutal, Mr. Rahamin Haim\"],[\"Caldwell, Master. Alden Gates\"],[\"Dowdell, Miss. Elizabeth\"],[\"Waelens, Mr. Achille\"],[\"Sheerlinck, Mr. Jan Baptist\"],[\"McDermott, Miss. Brigdet Delia\"],[\"Carrau, Mr. Francisco M\"],[\"Ilett, Miss. Bertha\"],[\"Backstrom, Mrs. Karl Alfred (Maria Mathilda Gustafsson)\"],[\"Ford, Mr. William Neal\"],[\"Slocovski, Mr. Selman Francis\"],[\"Fortune, Miss. Mabel Helen\"],[\"Celotti, Mr. Francesco\"],[\"Christmann, Mr. Emil\"],[\"Andreasson, Mr. Paul Edvin\"],[\"Chaffee, Mr. Herbert Fuller\"],[\"Dean, Mr. Bertram Frank\"],[\"Coxon, Mr. Daniel\"],[\"Shorney, Mr. Charles Joseph\"],[\"Goldschmidt, Mr. George B\"],[\"Greenfield, Mr. William Bertram\"],[\"Doling, Mrs. John T (Ada Julia Bone)\"],[\"Kantor, Mr. Sinai\"],[\"Petranec, Miss. Matilda\"],[\"Petroff, Mr. Pastcho (\\\"Pentcho\\\")\"],[\"White, Mr. Richard Frasar\"],[\"Johansson, Mr. Gustaf Joel\"],[\"Gustafsson, Mr. Anders Vilhelm\"],[\"Mionoff, Mr. Stoytcho\"],[\"Salkjelsvik, Miss. Anna Kristine\"],[\"Moss, Mr. Albert Johan\"],[\"Rekic, Mr. Tido\"],[\"Moran, Miss. Bertha\"],[\"Porter, Mr. Walter Chamberlain\"],[\"Zabour, Miss. Hileni\"],[\"Barton, Mr. David John\"],[\"Jussila, Miss. Katriina\"],[\"Attalah, Miss. Malake\"],[\"Pekoniemi, Mr. Edvard\"],[\"Connors, Mr. Patrick\"],[\"Turpin, Mr. William John Robert\"],[\"Baxter, Mr. Quigg Edmond\"],[\"Andersson, Miss. Ellis Anna Maria\"],[\"Hickman, Mr. Stanley George\"],[\"Moore, Mr. Leonard Charles\"],[\"Nasser, Mr. Nicholas\"],[\"Webber, Miss. Susan\"],[\"White, Mr. Percival Wayland\"],[\"Nicola-Yarred, Master. Elias\"],[\"McMahon, Mr. Martin\"],[\"Madsen, Mr. Fridtjof Arne\"],[\"Peter, Miss. Anna\"],[\"Ekstrom, Mr. Johan\"],[\"Drazenoic, Mr. Jozef\"],[\"Coelho, Mr. Domingos Fernandeo\"],[\"Robins, Mrs. Alexander A (Grace Charity Laury)\"],[\"Weisz, Mrs. Leopold (Mathilde Francoise Pede)\"],[\"Sobey, Mr. Samuel James Hayden\"],[\"Richard, Mr. Emile\"],[\"Newsom, Miss. Helen Monypeny\"],[\"Futrelle, Mr. Jacques Heath\"],[\"Osen, Mr. Olaf Elon\"],[\"Giglio, Mr. Victor\"],[\"Boulos, Mrs. Joseph (Sultana)\"],[\"Nysten, Miss. Anna Sofia\"],[\"Hakkarainen, Mrs. Pekka Pietari (Elin Matilda Dolck)\"],[\"Burke, Mr. Jeremiah\"],[\"Andrew, Mr. Edgardo Samuel\"],[\"Nicholls, Mr. Joseph Charles\"],[\"Andersson, Mr. August Edvard (\\\"Wennerstrom\\\")\"],[\"Ford, Miss. Robina Maggie \\\"Ruby\\\"\"],[\"Navratil, Mr. Michel (\\\"Louis M Hoffman\\\")\"],[\"Byles, Rev. Thomas Roussel Davids\"],[\"Bateman, Rev. Robert James\"],[\"Pears, Mrs. Thomas (Edith Wearne)\"],[\"Meo, Mr. Alfonzo\"],[\"van Billiard, Mr. Austin Blyler\"],[\"Olsen, Mr. Ole Martin\"],[\"Williams, Mr. Charles Duane\"],[\"Gilnagh, Miss. Katherine \\\"Katie\\\"\"],[\"Corn, Mr. Harry\"],[\"Smiljanic, Mr. Mile\"],[\"Sage, Master. Thomas Henry\"],[\"Cribb, Mr. John Hatfield\"],[\"Watt, Mrs. James (Elizabeth \\\"Bessie\\\" Inglis Milne)\"],[\"Bengtsson, Mr. John Viktor\"],[\"Calic, Mr. Jovo\"],[\"Panula, Master. Eino Viljami\"],[\"Goldsmith, Master. Frank John William \\\"Frankie\\\"\"],[\"Chibnall, Mrs. (Edith Martha Bowerman)\"],[\"Skoog, Mrs. William (Anna Bernhardina Karlsson)\"],[\"Baumann, Mr. John D\"],[\"Ling, Mr. Lee\"],[\"Van der hoef, Mr. Wyckoff\"],[\"Rice, Master. Arthur\"],[\"Johnson, Miss. Eleanor Ileen\"],[\"Sivola, Mr. Antti Wilhelm\"],[\"Smith, Mr. James Clinch\"],[\"Klasen, Mr. Klas Albin\"],[\"Lefebre, Master. Henry Forbes\"],[\"Isham, Miss. Ann Elizabeth\"],[\"Hale, Mr. Reginald\"],[\"Leonard, Mr. Lionel\"],[\"Sage, Miss. Constance Gladys\"],[\"Pernot, Mr. Rene\"],[\"Asplund, Master. Clarence Gustaf Hugo\"],[\"Becker, Master. Richard F\"],[\"Kink-Heilmann, Miss. Luise Gretchen\"],[\"Rood, Mr. Hugh Roscoe\"],[\"O'Brien, Mrs. Thomas (Johanna \\\"Hannah\\\" Godfrey)\"],[\"Romaine, Mr. Charles Hallace (\\\"Mr C Rolmane\\\")\"],[\"Bourke, Mr. John\"],[\"Turcin, Mr. Stjepan\"],[\"Pinsky, Mrs. (Rosa)\"],[\"Carbines, Mr. William\"],[\"Andersen-Jensen, Miss. Carla Christine Nielsine\"],[\"Navratil, Master. Michel M\"],[\"Brown, Mrs. James Joseph (Margaret Tobin)\"],[\"Lurette, Miss. Elise\"],[\"Mernagh, Mr. Robert\"],[\"Olsen, Mr. Karl Siegwart Andreas\"],[\"Madigan, Miss. Margaret \\\"Maggie\\\"\"],[\"Yrois, Miss. Henriette (\\\"Mrs Harbeck\\\")\"],[\"Vande Walle, Mr. Nestor Cyriel\"],[\"Sage, Mr. Frederick\"],[\"Johanson, Mr. Jakob Alfred\"],[\"Youseff, Mr. Gerious\"],[\"Cohen, Mr. Gurshon \\\"Gus\\\"\"],[\"Strom, Miss. Telma Matilda\"],[\"Backstrom, Mr. Karl Alfred\"],[\"Albimona, Mr. Nassef Cassem\"],[\"Carr, Miss. Helen \\\"Ellen\\\"\"],[\"Blank, Mr. Henry\"],[\"Ali, Mr. Ahmed\"],[\"Cameron, Miss. Clear Annie\"],[\"Perkin, Mr. John Henry\"],[\"Givard, Mr. Hans Kristensen\"],[\"Kiernan, Mr. Philip\"],[\"Newell, Miss. Madeleine\"],[\"Honkanen, Miss. Eliina\"],[\"Jacobsohn, Mr. Sidney Samuel\"],[\"Bazzani, Miss. Albina\"],[\"Harris, Mr. Walter\"],[\"Sunderland, Mr. Victor Francis\"],[\"Bracken, Mr. James H\"],[\"Green, Mr. George Henry\"],[\"Nenkoff, Mr. Christo\"],[\"Hoyt, Mr. Frederick Maxfield\"],[\"Berglund, Mr. Karl Ivar Sven\"],[\"Mellors, Mr. William John\"],[\"Lovell, Mr. John Hall (\\\"Henry\\\")\"],[\"Fahlstrom, Mr. Arne Jonas\"],[\"Lefebre, Miss. Mathilde\"],[\"Harris, Mrs. Henry Birkhardt (Irene Wallach)\"],[\"Larsson, Mr. Bengt Edvin\"],[\"Sjostedt, Mr. Ernst Adolf\"],[\"Asplund, Miss. Lillian Gertrud\"],[\"Leyson, Mr. Robert William Norman\"],[\"Harknett, Miss. Alice Phoebe\"],[\"Hold, Mr. Stephen\"],[\"Collyer, Miss. Marjorie \\\"Lottie\\\"\"],[\"Pengelly, Mr. Frederick William\"],[\"Hunt, Mr. George Henry\"],[\"Zabour, Miss. Thamine\"],[\"Murphy, Miss. Katherine \\\"Kate\\\"\"],[\"Coleridge, Mr. Reginald Charles\"],[\"Maenpaa, Mr. Matti Alexanteri\"],[\"Attalah, Mr. Sleiman\"],[\"Minahan, Dr. William Edward\"],[\"Lindahl, Miss. Agda Thorilda Viktoria\"],[\"Hamalainen, Mrs. William (Anna)\"],[\"Beckwith, Mr. Richard Leonard\"],[\"Carter, Rev. Ernest Courtenay\"],[\"Reed, Mr. James George\"],[\"Strom, Mrs. Wilhelm (Elna Matilda Persson)\"],[\"Stead, Mr. William Thomas\"],[\"Lobb, Mr. William Arthur\"],[\"Rosblom, Mrs. Viktor (Helena Wilhelmina)\"],[\"Touma, Mrs. Darwis (Hanne Youssef Razi)\"],[\"Thorne, Mrs. Gertrude Maybelle\"],[\"Cherry, Miss. Gladys\"],[\"Ward, Miss. Anna\"],[\"Parrish, Mrs. (Lutie Davis)\"],[\"Smith, Mr. Thomas\"],[\"Asplund, Master. Edvin Rojj Felix\"],[\"Taussig, Mr. Emil\"],[\"Harrison, Mr. William\"],[\"Henry, Miss. Delia\"],[\"Reeves, Mr. David\"],[\"Panula, Mr. Ernesti Arvid\"],[\"Persson, Mr. Ernst Ulrik\"],[\"Graham, Mrs. William Thompson (Edith Junkins)\"],[\"Bissette, Miss. Amelia\"],[\"Cairns, Mr. Alexander\"],[\"Tornquist, Mr. William Henry\"],[\"Mellinger, Mrs. (Elizabeth Anne Maidment)\"],[\"Natsch, Mr. Charles H\"],[\"Healy, Miss. Hanora \\\"Nora\\\"\"],[\"Andrews, Miss. Kornelia Theodosia\"],[\"Lindblom, Miss. Augusta Charlotta\"],[\"Parkes, Mr. Francis \\\"Frank\\\"\"],[\"Rice, Master. Eric\"],[\"Abbott, Mrs. Stanton (Rosa Hunt)\"],[\"Duane, Mr. Frank\"],[\"Olsson, Mr. Nils Johan Goransson\"],[\"de Pelsmaeker, Mr. Alfons\"],[\"Dorking, Mr. Edward Arthur\"],[\"Smith, Mr. Richard William\"],[\"Stankovic, Mr. Ivan\"],[\"de Mulder, Mr. Theodore\"],[\"Naidenoff, Mr. Penko\"],[\"Hosono, Mr. Masabumi\"],[\"Connolly, Miss. Kate\"],[\"Barber, Miss. Ellen \\\"Nellie\\\"\"],[\"Bishop, Mrs. Dickinson H (Helen Walton)\"],[\"Levy, Mr. Rene Jacques\"],[\"Haas, Miss. Aloisia\"],[\"Mineff, Mr. Ivan\"],[\"Lewy, Mr. Ervin G\"],[\"Hanna, Mr. Mansour\"],[\"Allison, Miss. Helen Loraine\"],[\"Saalfeld, Mr. Adolphe\"],[\"Baxter, Mrs. James (Helene DeLaudeniere Chaput)\"],[\"Kelly, Miss. Anna Katherine \\\"Annie Kate\\\"\"],[\"McCoy, Mr. Bernard\"],[\"Johnson, Mr. William Cahoone Jr\"],[\"Keane, Miss. Nora A\"],[\"Williams, Mr. Howard Hugh \\\"Harry\\\"\"],[\"Allison, Master. Hudson Trevor\"],[\"Fleming, Miss. Margaret\"],[\"Penasco y Castellana, Mrs. Victor de Satode (Maria Josefa Perez de Soto y Vallejo)\"],[\"Abelson, Mr. Samuel\"],[\"Francatelli, Miss. Laura Mabel\"],[\"Hays, Miss. Margaret Bechstein\"],[\"Ryerson, Miss. Emily Borie\"],[\"Lahtinen, Mrs. William (Anna Sylfven)\"],[\"Hendekovic, Mr. Ignjac\"],[\"Hart, Mr. Benjamin\"],[\"Nilsson, Miss. Helmina Josefina\"],[\"Kantor, Mrs. Sinai (Miriam Sternin)\"],[\"Moraweck, Dr. Ernest\"],[\"Wick, Miss. Mary Natalie\"],[\"Spedden, Mrs. Frederic Oakley (Margaretta Corning Stone)\"],[\"Dennis, Mr. Samuel\"],[\"Danoff, Mr. Yoto\"],[\"Slayter, Miss. Hilda Mary\"],[\"Caldwell, Mrs. Albert Francis (Sylvia Mae Harbaugh)\"],[\"Sage, Mr. George John Jr\"],[\"Young, Miss. Marie Grice\"],[\"Nysveen, Mr. Johan Hansen\"],[\"Ball, Mrs. (Ada E Hall)\"],[\"Goldsmith, Mrs. Frank John (Emily Alice Brown)\"],[\"Hippach, Miss. Jean Gertrude\"],[\"McCoy, Miss. Agnes\"],[\"Partner, Mr. Austen\"],[\"Graham, Mr. George Edward\"],[\"Vander Planke, Mr. Leo Edmondus\"],[\"Frauenthal, Mrs. Henry William (Clara Heinsheimer)\"],[\"Denkoff, Mr. Mitto\"],[\"Pears, Mr. Thomas Clinton\"],[\"Burns, Miss. Elizabeth Margaret\"],[\"Dahl, Mr. Karl Edwart\"],[\"Blackwell, Mr. Stephen Weart\"],[\"Navratil, Master. Edmond Roger\"],[\"Fortune, Miss. Alice Elizabeth\"],[\"Collander, Mr. Erik Gustaf\"],[\"Sedgwick, Mr. Charles Frederick Waddington\"],[\"Fox, Mr. Stanley Hubert\"],[\"Brown, Miss. Amelia \\\"Mildred\\\"\"],[\"Smith, Miss. Marion Elsie\"],[\"Davison, Mrs. Thomas Henry (Mary E Finck)\"],[\"Coutts, Master. William Loch \\\"William\\\"\"],[\"Dimic, Mr. Jovan\"],[\"Odahl, Mr. Nils Martin\"],[\"Williams-Lambert, Mr. Fletcher Fellows\"],[\"Elias, Mr. Tannous\"],[\"Arnold-Franchi, Mr. Josef\"],[\"Yousif, Mr. Wazli\"],[\"Vanden Steen, Mr. Leo Peter\"],[\"Bowerman, Miss. Elsie Edith\"],[\"Funk, Miss. Annie Clemmer\"],[\"McGovern, Miss. Mary\"],[\"Mockler, Miss. Helen Mary \\\"Ellie\\\"\"],[\"Skoog, Mr. Wilhelm\"],[\"del Carlo, Mr. Sebastiano\"],[\"Barbara, Mrs. (Catherine David)\"],[\"Asim, Mr. Adola\"],[\"O'Brien, Mr. Thomas\"],[\"Adahl, Mr. Mauritz Nils Martin\"],[\"Warren, Mrs. Frank Manley (Anna Sophia Atkinson)\"],[\"Moussa, Mrs. (Mantoura Boulos)\"],[\"Jermyn, Miss. Annie\"],[\"Aubart, Mme. Leontine Pauline\"],[\"Harder, Mr. George Achilles\"],[\"Wiklund, Mr. Jakob Alfred\"],[\"Beavan, Mr. William Thomas\"],[\"Ringhini, Mr. Sante\"],[\"Palsson, Miss. Stina Viola\"],[\"Meyer, Mrs. Edgar Joseph (Leila Saks)\"],[\"Landergren, Miss. Aurora Adelia\"],[\"Widener, Mr. Harry Elkins\"],[\"Betros, Mr. Tannous\"],[\"Gustafsson, Mr. Karl Gideon\"],[\"Bidois, Miss. Rosalie\"],[\"Nakid, Miss. Maria (\\\"Mary\\\")\"],[\"Tikkanen, Mr. Juho\"],[\"Holverson, Mrs. Alexander Oskar (Mary Aline Towner)\"],[\"Plotcharsky, Mr. Vasil\"],[\"Davies, Mr. Charles Henry\"],[\"Goodwin, Master. Sidney Leonard\"],[\"Buss, Miss. Kate\"],[\"Sadlier, Mr. Matthew\"],[\"Lehmann, Miss. Bertha\"],[\"Carter, Mr. William Ernest\"],[\"Jansson, Mr. Carl Olof\"],[\"Gustafsson, Mr. Johan Birger\"],[\"Newell, Miss. Marjorie\"],[\"Sandstrom, Mrs. Hjalmar (Agnes Charlotta Bengtsson)\"],[\"Johansson, Mr. Erik\"],[\"Olsson, Miss. Elina\"],[\"McKane, Mr. Peter David\"],[\"Pain, Dr. Alfred\"],[\"Trout, Mrs. William H (Jessie L)\"],[\"Niskanen, Mr. Juha\"],[\"Adams, Mr. John\"],[\"Jussila, Miss. Mari Aina\"],[\"Hakkarainen, Mr. Pekka Pietari\"],[\"Oreskovic, Miss. Marija\"],[\"Gale, Mr. Shadrach\"],[\"Widegren, Mr. Carl/Charles Peter\"],[\"Richards, Master. William Rowe\"],[\"Birkeland, Mr. Hans Martin Monsen\"],[\"Lefebre, Miss. Ida\"],[\"Sdycoff, Mr. Todor\"],[\"Hart, Mr. Henry\"],[\"Minahan, Miss. Daisy E\"],[\"Cunningham, Mr. Alfred Fleming\"],[\"Sundman, Mr. Johan Julian\"],[\"Meek, Mrs. Thomas (Annie Louise Rowley)\"],[\"Drew, Mrs. James Vivian (Lulu Thorne Christian)\"],[\"Silven, Miss. Lyyli Karoliina\"],[\"Matthews, Mr. William John\"],[\"Van Impe, Miss. Catharina\"],[\"Gheorgheff, Mr. Stanio\"],[\"Charters, Mr. David\"],[\"Zimmerman, Mr. Leo\"],[\"Danbom, Mrs. Ernst Gilbert (Anna Sigrid Maria Brogren)\"],[\"Rosblom, Mr. Viktor Richard\"],[\"Wiseman, Mr. Phillippe\"],[\"Clarke, Mrs. Charles V (Ada Maria Winfield)\"],[\"Phillips, Miss. Kate Florence (\\\"Mrs Kate Louise Phillips Marshall\\\")\"],[\"Flynn, Mr. James\"],[\"Pickard, Mr. Berk (Berk Trembisky)\"],[\"Bjornstrom-Steffansson, Mr. Mauritz Hakan\"],[\"Thorneycroft, Mrs. Percival (Florence Kate White)\"],[\"Louch, Mrs. Charles Alexander (Alice Adelaide Slow)\"],[\"Kallio, Mr. Nikolai Erland\"],[\"Silvey, Mr. William Baird\"],[\"Carter, Miss. Lucile Polk\"],[\"Ford, Miss. Doolina Margaret \\\"Daisy\\\"\"],[\"Richards, Mrs. Sidney (Emily Hocking)\"],[\"Fortune, Mr. Mark\"],[\"Kvillner, Mr. Johan Henrik Johannesson\"],[\"Hart, Mrs. Benjamin (Esther Ada Bloomfield)\"],[\"Hampe, Mr. Leon\"],[\"Petterson, Mr. Johan Emil\"],[\"Reynaldo, Ms. Encarnacion\"],[\"Johannesen-Bratthammer, Mr. Bernt\"],[\"Dodge, Master. Washington\"],[\"Mellinger, Miss. Madeleine Violet\"],[\"Seward, Mr. Frederic Kimber\"],[\"Baclini, Miss. Marie Catherine\"],[\"Peuchen, Major. Arthur Godfrey\"],[\"West, Mr. Edwy Arthur\"],[\"Hagland, Mr. Ingvald Olai Olsen\"],[\"Foreman, Mr. Benjamin Laventall\"],[\"Goldenberg, Mr. Samuel L\"],[\"Peduzzi, Mr. Joseph\"],[\"Jalsevac, Mr. Ivan\"],[\"Millet, Mr. Francis Davis\"],[\"Kenyon, Mrs. Frederick R (Marion)\"],[\"Toomey, Miss. Ellen\"],[\"O'Connor, Mr. Maurice\"],[\"Anderson, Mr. Harry\"],[\"Morley, Mr. William\"],[\"Gee, Mr. Arthur H\"],[\"Milling, Mr. Jacob Christian\"],[\"Maisner, Mr. Simon\"],[\"Goncalves, Mr. Manuel Estanslas\"],[\"Campbell, Mr. William\"],[\"Smart, Mr. John Montgomery\"],[\"Scanlan, Mr. James\"],[\"Baclini, Miss. Helene Barbara\"],[\"Keefe, Mr. Arthur\"],[\"Cacic, Mr. Luka\"],[\"West, Mrs. Edwy Arthur (Ada Mary Worth)\"],[\"Jerwan, Mrs. Amin S (Marie Marthe Thuillard)\"],[\"Strandberg, Miss. Ida Sofia\"],[\"Clifford, Mr. George Quincy\"],[\"Renouf, Mr. Peter Henry\"],[\"Braund, Mr. Lewis Richard\"],[\"Karlsson, Mr. Nils August\"],[\"Hirvonen, Miss. Hildur E\"],[\"Goodwin, Master. Harold Victor\"],[\"Frost, Mr. Anthony Wood \\\"Archie\\\"\"],[\"Rouse, Mr. Richard Henry\"],[\"Turkula, Mrs. (Hedwig)\"],[\"Bishop, Mr. Dickinson H\"],[\"Lefebre, Miss. Jeannie\"],[\"Hoyt, Mrs. Frederick Maxfield (Jane Anne Forby)\"],[\"Kent, Mr. Edward Austin\"],[\"Somerton, Mr. Francis William\"],[\"Coutts, Master. Eden Leslie \\\"Neville\\\"\"],[\"Hagland, Mr. Konrad Mathias Reiersen\"],[\"Windelov, Mr. Einar\"],[\"Molson, Mr. Harry Markland\"],[\"Artagaveytia, Mr. Ramon\"],[\"Stanley, Mr. Edward Roland\"],[\"Yousseff, Mr. Gerious\"],[\"Eustis, Miss. Elizabeth Mussey\"],[\"Shellard, Mr. Frederick William\"],[\"Allison, Mrs. Hudson J C (Bessie Waldo Daniels)\"],[\"Svensson, Mr. Olof\"],[\"Calic, Mr. Petar\"],[\"Canavan, Miss. Mary\"],[\"O'Sullivan, Miss. Bridget Mary\"],[\"Laitinen, Miss. Kristina Sofia\"],[\"Maioni, Miss. Roberta\"],[\"Penasco y Castellana, Mr. Victor de Satode\"],[\"Quick, Mrs. Frederick Charles (Jane Richards)\"],[\"Bradley, Mr. George (\\\"George Arthur Brayton\\\")\"],[\"Olsen, Mr. Henry Margido\"],[\"Lang, Mr. Fang\"],[\"Daly, Mr. Eugene Patrick\"],[\"Webber, Mr. James\"],[\"McGough, Mr. James Robert\"],[\"Rothschild, Mrs. Martin (Elizabeth L. Barrett)\"],[\"Coleff, Mr. Satio\"],[\"Walker, Mr. William Anderson\"],[\"Lemore, Mrs. (Amelia Milley)\"],[\"Ryan, Mr. Patrick\"],[\"Angle, Mrs. William A (Florence \\\"Mary\\\" Agnes Hughes)\"],[\"Pavlovic, Mr. Stefo\"],[\"Perreault, Miss. Anne\"],[\"Vovk, Mr. Janko\"],[\"Lahoud, Mr. Sarkis\"],[\"Hippach, Mrs. Louis Albert (Ida Sophia Fischer)\"],[\"Kassem, Mr. Fared\"],[\"Farrell, Mr. James\"],[\"Ridsdale, Miss. Lucy\"],[\"Farthing, Mr. John\"],[\"Salonen, Mr. Johan Werner\"],[\"Hocking, Mr. Richard George\"],[\"Quick, Miss. Phyllis May\"],[\"Toufik, Mr. Nakli\"],[\"Elias, Mr. Joseph Jr\"],[\"Peter, Mrs. Catherine (Catherine Rizk)\"],[\"Cacic, Miss. Marija\"],[\"Hart, Miss. Eva Miriam\"],[\"Butt, Major. Archibald Willingham\"],[\"LeRoy, Miss. Bertha\"],[\"Risien, Mr. Samuel Beard\"],[\"Frolicher, Miss. Hedwig Margaritha\"],[\"Crosby, Miss. Harriet R\"],[\"Andersson, Miss. Ingeborg Constanzia\"],[\"Andersson, Miss. Sigrid Elisabeth\"],[\"Beane, Mr. Edward\"],[\"Douglas, Mr. Walter Donald\"],[\"Nicholson, Mr. Arthur Ernest\"],[\"Beane, Mrs. Edward (Ethel Clarke)\"],[\"Padro y Manent, Mr. Julian\"],[\"Goldsmith, Mr. Frank John\"],[\"Davies, Master. John Morgan Jr\"],[\"Thayer, Mr. John Borland Jr\"],[\"Sharp, Mr. Percival James R\"],[\"O'Brien, Mr. Timothy\"],[\"Leeni, Mr. Fahim (\\\"Philip Zenni\\\")\"],[\"Ohman, Miss. Velin\"],[\"Wright, Mr. George\"],[\"Duff Gordon, Lady. (Lucille Christiana Sutherland) (\\\"Mrs Morgan\\\")\"],[\"Robbins, Mr. Victor\"],[\"Taussig, Mrs. Emil (Tillie Mandelbaum)\"],[\"de Messemaeker, Mrs. Guillaume Joseph (Emma)\"],[\"Morrow, Mr. Thomas Rowan\"],[\"Sivic, Mr. Husein\"],[\"Norman, Mr. Robert Douglas\"],[\"Simmons, Mr. John\"],[\"Meanwell, Miss. (Marion Ogden)\"],[\"Davies, Mr. Alfred J\"],[\"Stoytcheff, Mr. Ilia\"],[\"Palsson, Mrs. Nils (Alma Cornelia Berglund)\"],[\"Doharr, Mr. Tannous\"],[\"Jonsson, Mr. Carl\"],[\"Harris, Mr. George\"],[\"Appleton, Mrs. Edward Dale (Charlotte Lamson)\"],[\"Flynn, Mr. John Irwin (\\\"Irving\\\")\"],[\"Kelly, Miss. Mary\"],[\"Rush, Mr. Alfred George John\"],[\"Patchett, Mr. George\"],[\"Garside, Miss. Ethel\"],[\"Silvey, Mrs. William Baird (Alice Munger)\"],[\"Caram, Mrs. Joseph (Maria Elias)\"],[\"Jussila, Mr. Eiriik\"],[\"Christy, Miss. Julie Rachel\"],[\"Thayer, Mrs. John Borland (Marian Longstreth Morris)\"],[\"Downton, Mr. William James\"],[\"Ross, Mr. John Hugo\"],[\"Paulner, Mr. Uscher\"],[\"Taussig, Miss. Ruth\"],[\"Jarvis, Mr. John Denzil\"],[\"Frolicher-Stehli, Mr. Maxmillian\"],[\"Gilinski, Mr. Eliezer\"],[\"Murdlin, Mr. Joseph\"],[\"Rintamaki, Mr. Matti\"],[\"Stephenson, Mrs. Walter Bertram (Martha Eustis)\"],[\"Elsbury, Mr. William James\"],[\"Bourke, Miss. Mary\"],[\"Chapman, Mr. John Henry\"],[\"Van Impe, Mr. Jean Baptiste\"],[\"Leitch, Miss. Jessie Wills\"],[\"Johnson, Mr. Alfred\"],[\"Boulos, Mr. Hanna\"],[\"Duff Gordon, Sir. Cosmo Edmund (\\\"Mr Morgan\\\")\"],[\"Jacobsohn, Mrs. Sidney Samuel (Amy Frances Christy)\"],[\"Slabenoff, Mr. Petco\"],[\"Harrington, Mr. Charles H\"],[\"Torber, Mr. Ernst William\"],[\"Homer, Mr. Harry (\\\"Mr E Haven\\\")\"],[\"Lindell, Mr. Edvard Bengtsson\"],[\"Karaic, Mr. Milan\"],[\"Daniel, Mr. Robert Williams\"],[\"Laroche, Mrs. Joseph (Juliette Marie Louise Lafargue)\"],[\"Shutes, Miss. Elizabeth W\"],[\"Andersson, Mrs. Anders Johan (Alfrida Konstantia Brogren)\"],[\"Jardin, Mr. Jose Neto\"],[\"Murphy, Miss. Margaret Jane\"],[\"Horgan, Mr. John\"],[\"Brocklebank, Mr. William Alfred\"],[\"Herman, Miss. Alice\"],[\"Danbom, Mr. Ernst Gilbert\"],[\"Lobb, Mrs. William Arthur (Cordelia K Stanlick)\"],[\"Becker, Miss. Marion Louise\"],[\"Gavey, Mr. Lawrence\"],[\"Yasbeck, Mr. Antoni\"],[\"Kimball, Mr. Edwin Nelson Jr\"],[\"Nakid, Mr. Sahid\"],[\"Hansen, Mr. Henry Damsgaard\"],[\"Bowen, Mr. David John \\\"Dai\\\"\"],[\"Sutton, Mr. Frederick\"],[\"Kirkland, Rev. Charles Leonard\"],[\"Longley, Miss. Gretchen Fiske\"],[\"Bostandyeff, Mr. Guentcho\"],[\"O'Connell, Mr. Patrick D\"],[\"Barkworth, Mr. Algernon Henry Wilson\"],[\"Lundahl, Mr. Johan Svensson\"],[\"Stahelin-Maeglin, Dr. Max\"],[\"Parr, Mr. William Henry Marsh\"],[\"Skoog, Miss. Mabel\"],[\"Davis, Miss. Mary\"],[\"Leinonen, Mr. Antti Gustaf\"],[\"Collyer, Mr. Harvey\"],[\"Panula, Mrs. Juha (Maria Emilia Ojala)\"],[\"Thorneycroft, Mr. Percival\"],[\"Jensen, Mr. Hans Peder\"],[\"Sagesser, Mlle. Emma\"],[\"Skoog, Miss. Margit Elizabeth\"],[\"Foo, Mr. Choong\"],[\"Baclini, Miss. Eugenie\"],[\"Harper, Mr. Henry Sleeper\"],[\"Cor, Mr. Liudevit\"],[\"Simonius-Blumer, Col. Oberst Alfons\"],[\"Willey, Mr. Edward\"],[\"Stanley, Miss. Amy Zillah Elsie\"],[\"Mitkoff, Mr. Mito\"],[\"Doling, Miss. Elsie\"],[\"Kalvik, Mr. Johannes Halvorsen\"],[\"O'Leary, Miss. Hanora \\\"Norah\\\"\"],[\"Hegarty, Miss. Hanora \\\"Nora\\\"\"],[\"Hickman, Mr. Leonard Mark\"],[\"Radeff, Mr. Alexander\"],[\"Bourke, Mrs. John (Catherine)\"],[\"Eitemiller, Mr. George Floyd\"],[\"Newell, Mr. Arthur Webster\"],[\"Frauenthal, Dr. Henry William\"],[\"Badt, Mr. Mohamed\"],[\"Colley, Mr. Edward Pomeroy\"],[\"Coleff, Mr. Peju\"],[\"Lindqvist, Mr. Eino William\"],[\"Hickman, Mr. Lewis\"],[\"Butler, Mr. Reginald Fenton\"],[\"Rommetvedt, Mr. Knud Paust\"],[\"Cook, Mr. Jacob\"],[\"Taylor, Mrs. Elmer Zebley (Juliet Cummins Wright)\"],[\"Brown, Mrs. Thomas William Solomon (Elizabeth Catherine Ford)\"],[\"Davidson, Mr. Thornton\"],[\"Mitchell, Mr. Henry Michael\"],[\"Wilhelms, Mr. Charles\"],[\"Watson, Mr. Ennis Hastings\"],[\"Edvardsson, Mr. Gustaf Hjalmar\"],[\"Sawyer, Mr. Frederick Charles\"],[\"Turja, Miss. Anna Sofia\"],[\"Goodwin, Mrs. Frederick (Augusta Tyler)\"],[\"Cardeza, Mr. Thomas Drake Martinez\"],[\"Peters, Miss. Katie\"],[\"Hassab, Mr. Hammad\"],[\"Olsvigen, Mr. Thor Anderson\"],[\"Goodwin, Mr. Charles Edward\"],[\"Brown, Mr. Thomas William Solomon\"],[\"Laroche, Mr. Joseph Philippe Lemercier\"],[\"Panula, Mr. Jaako Arnold\"],[\"Dakic, Mr. Branko\"],[\"Fischer, Mr. Eberhard Thelander\"],[\"Madill, Miss. Georgette Alexandra\"],[\"Dick, Mr. Albert Adrian\"],[\"Karun, Miss. Manca\"],[\"Lam, Mr. Ali\"],[\"Saad, Mr. Khalil\"],[\"Weir, Col. John\"],[\"Chapman, Mr. Charles Henry\"],[\"Kelly, Mr. James\"],[\"Mullens, Miss. Katherine \\\"Katie\\\"\"],[\"Thayer, Mr. John Borland\"],[\"Humblen, Mr. Adolf Mathias Nicolai Olsen\"],[\"Astor, Mrs. John Jacob (Madeleine Talmadge Force)\"],[\"Silverthorne, Mr. Spencer Victor\"],[\"Barbara, Miss. Saiide\"],[\"Gallagher, Mr. Martin\"],[\"Hansen, Mr. Henrik Juul\"],[\"Morley, Mr. Henry Samuel (\\\"Mr Henry Marshall\\\")\"],[\"Kelly, Mrs. Florence \\\"Fannie\\\"\"],[\"Calderhead, Mr. Edward Pennington\"],[\"Cleaver, Miss. Alice\"],[\"Moubarek, Master. Halim Gonios (\\\"William George\\\")\"],[\"Mayne, Mlle. Berthe Antonine (\\\"Mrs de Villiers\\\")\"],[\"Klaber, Mr. Herman\"],[\"Taylor, Mr. Elmer Zebley\"],[\"Larsson, Mr. August Viktor\"],[\"Greenberg, Mr. Samuel\"],[\"Soholt, Mr. Peter Andreas Lauritz Andersen\"],[\"Endres, Miss. Caroline Louise\"],[\"Troutt, Miss. Edwina Celia \\\"Winnie\\\"\"],[\"McEvoy, Mr. Michael\"],[\"Johnson, Mr. Malkolm Joackim\"],[\"Harper, Miss. Annie Jessie \\\"Nina\\\"\"],[\"Jensen, Mr. Svend Lauritz\"],[\"Gillespie, Mr. William Henry\"],[\"Hodges, Mr. Henry Price\"],[\"Chambers, Mr. Norman Campbell\"],[\"Oreskovic, Mr. Luka\"],[\"Renouf, Mrs. Peter Henry (Lillian Jefferys)\"],[\"Mannion, Miss. Margareth\"],[\"Bryhl, Mr. Kurt Arnold Gottfrid\"],[\"Ilmakangas, Miss. Pieta Sofia\"],[\"Allen, Miss. Elisabeth Walton\"],[\"Hassan, Mr. Houssein G N\"],[\"Knight, Mr. Robert J\"],[\"Berriman, Mr. William John\"],[\"Troupiansky, Mr. Moses Aaron\"],[\"Williams, Mr. Leslie\"],[\"Ford, Mrs. Edward (Margaret Ann Watson)\"],[\"Lesurer, Mr. Gustave J\"],[\"Ivanoff, Mr. Kanio\"],[\"Nankoff, Mr. Minko\"],[\"Hawksford, Mr. Walter James\"],[\"Cavendish, Mr. Tyrell William\"],[\"Ryerson, Miss. Susan Parker \\\"Suzette\\\"\"],[\"McNamee, Mr. Neal\"],[\"Stranden, Mr. Juho\"],[\"Crosby, Capt. Edward Gifford\"],[\"Abbott, Mr. Rossmore Edward\"],[\"Sinkkonen, Miss. Anna\"],[\"Marvin, Mr. Daniel Warner\"],[\"Connaghton, Mr. Michael\"],[\"Wells, Miss. Joan\"],[\"Moor, Master. Meier\"],[\"Vande Velde, Mr. Johannes Joseph\"],[\"Jonkoff, Mr. Lalio\"],[\"Herman, Mrs. Samuel (Jane Laver)\"],[\"Hamalainen, Master. Viljo\"],[\"Carlsson, Mr. August Sigfrid\"],[\"Bailey, Mr. Percy Andrew\"],[\"Theobald, Mr. Thomas Leonard\"],[\"Rothes, the Countess. of (Lucy Noel Martha Dyer-Edwards)\"],[\"Garfirth, Mr. John\"],[\"Nirva, Mr. Iisakki Antino Aijo\"],[\"Barah, Mr. Hanna Assi\"],[\"Carter, Mrs. William Ernest (Lucile Polk)\"],[\"Eklund, Mr. Hans Linus\"],[\"Hogeboom, Mrs. John C (Anna Andrews)\"],[\"Brewe, Dr. Arthur Jackson\"],[\"Mangan, Miss. Mary\"],[\"Moran, Mr. Daniel J\"],[\"Gronnestad, Mr. Daniel Danielsen\"],[\"Lievens, Mr. Rene Aime\"],[\"Jensen, Mr. Niels Peder\"],[\"Mack, Mrs. (Mary)\"],[\"Elias, Mr. Dibo\"],[\"Hocking, Mrs. Elizabeth (Eliza Needs)\"],[\"Myhrman, Mr. Pehr Fabian Oliver Malkolm\"],[\"Tobin, Mr. Roger\"],[\"Emanuel, Miss. Virginia Ethel\"],[\"Kilgannon, Mr. Thomas J\"],[\"Robert, Mrs. Edward Scott (Elisabeth Walton McMillan)\"],[\"Ayoub, Miss. Banoura\"],[\"Dick, Mrs. Albert Adrian (Vera Gillespie)\"],[\"Long, Mr. Milton Clyde\"],[\"Johnston, Mr. Andrew G\"],[\"Ali, Mr. William\"],[\"Harmer, Mr. Abraham (David Lishin)\"],[\"Sjoblom, Miss. Anna Sofia\"],[\"Rice, Master. George Hugh\"],[\"Dean, Master. Bertram Vere\"],[\"Guggenheim, Mr. Benjamin\"],[\"Keane, Mr. Andrew \\\"Andy\\\"\"],[\"Gaskell, Mr. Alfred\"],[\"Sage, Miss. Stella Anna\"],[\"Hoyt, Mr. William Fisher\"],[\"Dantcheff, Mr. Ristiu\"],[\"Otter, Mr. Richard\"],[\"Leader, Dr. Alice (Farnham)\"],[\"Osman, Mrs. Mara\"],[\"Ibrahim Shawah, Mr. Yousseff\"],[\"Van Impe, Mrs. Jean Baptiste (Rosalie Paula Govaert)\"],[\"Ponesell, Mr. Martin\"],[\"Collyer, Mrs. Harvey (Charlotte Annie Tate)\"],[\"Carter, Master. William Thornton II\"],[\"Thomas, Master. Assad Alexander\"],[\"Hedman, Mr. Oskar Arvid\"],[\"Johansson, Mr. Karl Johan\"],[\"Andrews, Mr. Thomas Jr\"],[\"Pettersson, Miss. Ellen Natalia\"],[\"Meyer, Mr. August\"],[\"Chambers, Mrs. Norman Campbell (Bertha Griggs)\"],[\"Alexander, Mr. William\"],[\"Lester, Mr. James\"],[\"Slemen, Mr. Richard James\"],[\"Andersson, Miss. Ebba Iris Alfrida\"],[\"Tomlin, Mr. Ernest Portage\"],[\"Fry, Mr. Richard\"],[\"Heininen, Miss. Wendla Maria\"],[\"Mallet, Mr. Albert\"],[\"Holm, Mr. John Fredrik Alexander\"],[\"Skoog, Master. Karl Thorsten\"],[\"Hays, Mrs. Charles Melville (Clara Jennings Gregg)\"],[\"Lulic, Mr. Nikola\"],[\"Reuchlin, Jonkheer. John George\"],[\"Moor, Mrs. (Beila)\"],[\"Panula, Master. Urho Abraham\"],[\"Flynn, Mr. John\"],[\"Lam, Mr. Len\"],[\"Mallet, Master. Andre\"],[\"McCormack, Mr. Thomas Joseph\"],[\"Stone, Mrs. George Nelson (Martha Evelyn)\"],[\"Yasbeck, Mrs. Antoni (Selini Alexander)\"],[\"Richards, Master. George Sibley\"],[\"Saad, Mr. Amin\"],[\"Augustsson, Mr. Albert\"],[\"Allum, Mr. Owen George\"],[\"Compton, Miss. Sara Rebecca\"],[\"Pasic, Mr. Jakob\"],[\"Sirota, Mr. Maurice\"],[\"Chip, Mr. Chang\"],[\"Marechal, Mr. Pierre\"],[\"Alhomaki, Mr. Ilmari Rudolf\"],[\"Mudd, Mr. Thomas Charles\"],[\"Serepeca, Miss. Augusta\"],[\"Lemberopolous, Mr. Peter L\"],[\"Culumovic, Mr. Jeso\"],[\"Abbing, Mr. Anthony\"],[\"Sage, Mr. Douglas Bullen\"],[\"Markoff, Mr. Marin\"],[\"Harper, Rev. John\"],[\"Goldenberg, Mrs. Samuel L (Edwiga Grabowska)\"],[\"Andersson, Master. Sigvard Harald Elias\"],[\"Svensson, Mr. Johan\"],[\"Boulos, Miss. Nourelain\"],[\"Lines, Miss. Mary Conover\"],[\"Carter, Mrs. Ernest Courtenay (Lilian Hughes)\"],[\"Aks, Mrs. Sam (Leah Rosen)\"],[\"Wick, Mrs. George Dennick (Mary Hitchcock)\"],[\"Daly, Mr. Peter Denis \"],[\"Baclini, Mrs. Solomon (Latifa Qurban)\"],[\"Razi, Mr. Raihed\"],[\"Hansen, Mr. Claus Peter\"],[\"Giles, Mr. Frederick Edward\"],[\"Swift, Mrs. Frederick Joel (Margaret Welles Barron)\"],[\"Sage, Miss. Dorothy Edith \\\"Dolly\\\"\"],[\"Gill, Mr. John William\"],[\"Bystrom, Mrs. (Karolina)\"],[\"Duran y More, Miss. Asuncion\"],[\"Roebling, Mr. Washington Augustus II\"],[\"van Melkebeke, Mr. Philemon\"],[\"Johnson, Master. Harold Theodor\"],[\"Balkic, Mr. Cerin\"],[\"Beckwith, Mrs. Richard Leonard (Sallie Monypeny)\"],[\"Carlsson, Mr. Frans Olof\"],[\"Vander Cruyssen, Mr. Victor\"],[\"Abelson, Mrs. Samuel (Hannah Wizosky)\"],[\"Najib, Miss. Adele Kiamie \\\"Jane\\\"\"],[\"Gustafsson, Mr. Alfred Ossian\"],[\"Petroff, Mr. Nedelio\"],[\"Laleff, Mr. Kristo\"],[\"Potter, Mrs. Thomas Jr (Lily Alexenia Wilson)\"],[\"Shelley, Mrs. William (Imanita Parrish Hall)\"],[\"Markun, Mr. Johann\"],[\"Dahlberg, Miss. Gerda Ulrika\"],[\"Banfield, Mr. Frederick James\"],[\"Sutehall, Mr. Henry Jr\"],[\"Rice, Mrs. William (Margaret Norton)\"],[\"Montvila, Rev. Juozas\"],[\"Graham, Miss. Margaret Edith\"],[\"Johnston, Miss. Catherine Helen \\\"Carrie\\\"\"],[\"Behr, Mr. Karl Howell\"],[\"Dooley, Mr. Patrick\"]],\"hovertemplate\":\"Age=%{x}<br>Fare=%{y}<br>Pclass=%{marker.size}<br>Name=%{customdata[0]}<br>Survived=%{marker.color}<extra></extra>\",\"legendgroup\":\"\",\"marker\":{\"color\":[0,1,1,1,0,0,0,0,1,1,1,1,0,0,0,1,0,1,0,1,0,1,1,1,0,1,0,0,1,0,0,1,1,0,0,0,1,0,0,1,0,0,0,1,1,0,0,1,0,0,0,0,1,1,0,1,1,0,1,0,0,1,0,0,0,1,1,0,1,0,0,0,0,0,1,0,0,0,1,1,0,1,1,0,1,1,0,0,1,0,0,0,0,0,0,0,0,1,1,0,0,0,0,0,0,0,1,1,0,1,0,0,0,0,0,0,0,0,0,0,0,0,0,1,0,1,0,1,1,0,0,0,0,1,0,0,1,0,0,0,0,1,1,0,0,0,1,0,0,0,0,1,0,0,0,0,1,0,0,0,0,1,0,0,0,1,1,0,0,0,0,0,1,0,0,0,0,0,0,0,0,0,0,1,1,0,1,1,0,0,1,0,1,1,1,1,0,0,1,0,0,0,0,0,1,0,0,1,1,1,0,1,0,0,0,1,1,0,1,0,1,0,0,0,1,0,1,0,0,0,1,0,0,1,0,0,0,1,0,0,0,1,0,0,0,0,0,1,1,0,0,0,0,0,0,1,1,1,1,1,0,1,0,0,0,0,0,1,1,1,0,1,1,0,1,1,0,0,0,1,0,0,0,1,0,0,1,0,1,1,1,1,0,0,0,0,0,0,1,1,1,1,0,1,0,1,1,1,0,1,1,1,0,0,0,1,1,0,1,1,0,0,1,1,0,1,0,1,1,1,1,0,0,0,1,0,0,1,1,0,1,1,0,0,0,1,1,1,1,0,0,0,0,0,0,0,1,0,1,1,0,0,0,0,0,0,1,1,1,1,1,0,0,0,0,1,1,0,0,0,1,1,0,1,0,0,0,1,0,1,1,1,0,1,1,0,0,0,0,1,1,0,0,0,0,0,0,1,0,0,0,0,1,0,1,0,1,1,0,0,0,0,0,0,0,0,1,1,0,1,1,1,1,0,0,1,0,1,0,0,1,0,0,1,1,1,1,1,1,1,0,0,0,1,0,1,0,1,1,0,1,0,0,0,0,0,0,0,0,1,0,0,1,1,0,0,0,0,0,1,0,0,0,1,1,0,1,0,0,1,0,0,0,0,0,0,1,0,0,0,0,0,0,0,1,0,1,1,0,1,1,0,1,1,0,0,1,0,1,0,1,0,0,1,0,0,1,0,0,0,1,0,0,1,0,1,0,1,0,1,1,0,0,1,0,0,1,1,0,1,1,0,0,1,1,0,1,0,1,1,0,0,0,0,0,0,0,0,0,1,1,1,1,1,0,0,1,1,0,1,1,1,0,0,0,1,0,1,0,0,0,1,0,0,0,0,1,0,0,1,1,0,0,0,1,0,0,1,1,1,0,0,1,0,0,1,0,0,1,0,0,1,1,0,0,0,0,1,0,0,1,0,1,0,0,1,0,0,0,0,0,1,0,1,1,1,0,1,0,1,0,1,0,1,0,0,0,0,0,0,1,0,0,0,1,0,0,0,0,1,1,0,0,1,0,0,0,1,0,1,0,1,0,0,0,0,0,0,0,1,1,1,1,0,0,0,0,1,0,0,1,1,0,0,0,0,1,1,1,1,1,0,1,0,0,0,1,1,0,0,1,0,0,0,1,0,1,1,0,0,1,0,0,0,0,0,0,1,0,0,1,0,1,0,1,0,0,1,0,0,1,1,0,0,1,1,0,0,0,1,0,0,1,1,0,1,0,0,0,0,0,0,0,0,1,0,0,1,0,1,1,1,0,0,0,0,1,0,1,0,0,0,0,0,0,0,1,1,0,0,0,1,1,1,1,0,0,0,0,1,0,0,0,0,0,0,0,0,0,0,1,1,0,1,0,0,0,1,1,1,1,1,0,0,0,1,0,0,1,1,0,0,1,0,0,0,0,0,0,1,0,0,0,1,0,1,1,1,1,0,0,0,1,0,0,1,1,0,0,1,0,1,0,0,1,1,0,0,0,1,1,0,0,0,0,0,0,1,0,1,0],\"coloraxis\":\"coloraxis\",\"size\":[3,1,3,1,3,3,1,3,3,2,3,1,3,3,3,2,3,2,3,3,2,2,3,1,3,3,3,1,3,3,1,1,3,2,1,1,3,3,3,3,3,2,3,2,3,3,3,3,3,3,3,3,1,2,1,1,2,3,2,3,3,1,1,3,1,3,2,3,3,3,2,3,2,3,3,3,3,3,2,3,3,3,3,1,2,3,3,3,1,3,3,3,1,3,3,3,1,1,2,2,3,3,1,3,3,3,3,3,3,3,1,3,3,3,3,3,3,2,1,3,2,3,2,2,1,3,3,3,3,3,3,3,3,2,2,2,1,1,3,1,3,3,3,3,2,2,3,3,2,2,2,1,3,3,3,1,3,3,3,3,3,2,3,3,3,3,1,3,1,3,1,3,3,3,1,3,3,1,2,3,3,2,3,2,3,1,3,1,3,3,2,2,3,2,1,1,3,3,3,2,3,3,3,3,3,3,3,3,3,1,3,2,3,2,3,1,3,2,1,2,3,2,3,3,1,3,2,3,2,3,1,3,2,3,2,3,2,2,2,2,3,3,2,3,3,1,3,2,1,2,3,3,1,3,3,3,1,1,1,2,3,3,1,1,3,2,3,3,1,1,1,3,2,1,3,1,3,2,3,3,3,3,3,3,1,3,3,3,2,3,1,1,2,3,3,1,3,1,1,1,3,3,3,2,3,1,1,1,2,1,1,1,2,3,2,3,2,2,1,1,3,3,2,2,3,1,3,2,3,1,3,1,1,3,1,3,1,1,3,1,2,1,2,2,2,2,2,3,3,3,3,1,3,3,3,3,1,2,3,3,3,2,3,3,3,3,1,3,3,1,1,3,3,1,3,1,3,1,3,3,1,3,3,1,3,2,3,2,3,2,1,3,3,1,3,3,3,2,2,2,3,3,3,3,3,2,3,2,3,3,3,3,1,2,3,3,2,2,2,3,3,3,3,3,3,3,2,2,3,3,1,3,2,3,1,1,3,2,1,2,2,3,3,2,3,1,2,1,3,1,2,3,1,1,3,3,1,1,2,3,1,3,1,2,3,3,2,1,3,3,3,3,2,2,3,1,2,3,3,3,3,2,3,3,1,3,1,1,3,3,3,3,1,1,3,3,1,3,1,3,3,3,3,3,1,1,2,1,3,3,3,3,1,1,3,1,2,3,2,3,1,3,3,1,3,3,2,1,3,2,2,3,3,3,3,2,1,1,3,1,1,3,3,2,1,1,2,2,3,2,1,2,3,3,3,1,1,1,1,3,3,3,2,3,3,3,3,3,3,3,2,1,1,3,3,3,2,1,3,3,2,1,2,1,3,1,2,1,3,3,3,1,3,3,2,3,2,3,3,1,2,3,1,3,1,3,3,1,2,1,3,3,3,3,3,2,3,3,2,2,3,1,3,3,3,1,2,1,3,3,1,3,1,1,3,2,3,2,3,3,3,1,3,3,3,1,3,1,3,3,3,2,3,3,3,2,3,3,2,1,1,3,1,3,3,2,2,3,3,1,2,1,2,2,2,3,3,3,3,1,3,1,3,3,2,2,3,3,3,1,1,3,3,3,1,2,3,3,1,3,1,1,3,3,3,2,2,1,1,3,1,1,1,3,2,3,1,2,3,3,2,3,2,2,1,3,2,3,2,3,1,3,2,2,2,3,3,1,3,3,1,1,1,3,3,1,3,2,1,3,2,3,3,3,2,2,3,2,3,1,3,3,3,1,3,1,1,3,3,3,3,3,2,3,2,3,3,3,3,1,3,1,1,3,3,3,3,3,3,1,3,2,3,1,3,2,1,3,3,3,2,2,1,3,3,3,1,3,2,1,3,3,2,3,3,1,3,2,3,3,1,3,1,3,3,3,3,2,3,1,3,2,3,3,3,1,3,3,3,1,3,2,1,3,3,3,3,3,2,1,3,3,3,1,2,3,1,1,3,3,3,2,1,3,2,2,2,1,3,3,3,1,1,3,2,3,3,3,3,1,2,3,3,2,3,3,2,1,3,1,3],\"sizemode\":\"area\",\"sizeref\":0.0075,\"symbol\":\"circle\"},\"mode\":\"markers\",\"name\":\"\",\"orientation\":\"v\",\"showlegend\":false,\"x\":[22.0,38.0,26.0,35.0,35.0,29.69911764705882,54.0,2.0,27.0,14.0,4.0,58.0,20.0,39.0,14.0,55.0,2.0,29.69911764705882,31.0,29.69911764705882,35.0,34.0,15.0,28.0,8.0,38.0,29.69911764705882,19.0,29.69911764705882,29.69911764705882,40.0,29.69911764705882,29.69911764705882,66.0,28.0,42.0,29.69911764705882,21.0,18.0,14.0,40.0,27.0,29.69911764705882,3.0,19.0,29.69911764705882,29.69911764705882,29.69911764705882,29.69911764705882,18.0,7.0,21.0,49.0,29.0,65.0,29.69911764705882,21.0,28.5,5.0,11.0,22.0,38.0,45.0,4.0,29.69911764705882,29.69911764705882,29.0,19.0,17.0,26.0,32.0,16.0,21.0,26.0,32.0,25.0,29.69911764705882,29.69911764705882,0.83,30.0,22.0,29.0,29.69911764705882,28.0,17.0,33.0,16.0,29.69911764705882,23.0,24.0,29.0,20.0,46.0,26.0,59.0,29.69911764705882,71.0,23.0,34.0,34.0,28.0,29.69911764705882,21.0,33.0,37.0,28.0,21.0,29.69911764705882,38.0,29.69911764705882,47.0,14.5,22.0,20.0,17.0,21.0,70.5,29.0,24.0,2.0,21.0,29.69911764705882,32.5,32.5,54.0,12.0,29.69911764705882,24.0,29.69911764705882,45.0,33.0,20.0,47.0,29.0,25.0,23.0,19.0,37.0,16.0,24.0,29.69911764705882,22.0,24.0,19.0,18.0,19.0,27.0,9.0,36.5,42.0,51.0,22.0,55.5,40.5,29.69911764705882,51.0,16.0,30.0,29.69911764705882,29.69911764705882,44.0,40.0,26.0,17.0,1.0,9.0,29.69911764705882,45.0,29.69911764705882,28.0,61.0,4.0,1.0,21.0,56.0,18.0,29.69911764705882,50.0,30.0,36.0,29.69911764705882,29.69911764705882,9.0,1.0,4.0,29.69911764705882,29.69911764705882,45.0,40.0,36.0,32.0,19.0,19.0,3.0,44.0,58.0,29.69911764705882,42.0,29.69911764705882,24.0,28.0,29.69911764705882,34.0,45.5,18.0,2.0,32.0,26.0,16.0,40.0,24.0,35.0,22.0,30.0,29.69911764705882,31.0,27.0,42.0,32.0,30.0,16.0,27.0,51.0,29.69911764705882,38.0,22.0,19.0,20.5,18.0,29.69911764705882,35.0,29.0,59.0,5.0,24.0,29.69911764705882,44.0,8.0,19.0,33.0,29.69911764705882,29.69911764705882,29.0,22.0,30.0,44.0,25.0,24.0,37.0,54.0,29.69911764705882,29.0,62.0,30.0,41.0,29.0,29.69911764705882,30.0,35.0,50.0,29.69911764705882,3.0,52.0,40.0,29.69911764705882,36.0,16.0,25.0,58.0,35.0,29.69911764705882,25.0,41.0,37.0,29.69911764705882,63.0,45.0,29.69911764705882,7.0,35.0,65.0,28.0,16.0,19.0,29.69911764705882,33.0,30.0,22.0,42.0,22.0,26.0,19.0,36.0,24.0,24.0,29.69911764705882,23.5,2.0,29.69911764705882,50.0,29.69911764705882,29.69911764705882,19.0,29.69911764705882,29.69911764705882,0.92,29.69911764705882,17.0,30.0,30.0,24.0,18.0,26.0,28.0,43.0,26.0,24.0,54.0,31.0,40.0,22.0,27.0,30.0,22.0,29.69911764705882,36.0,61.0,36.0,31.0,16.0,29.69911764705882,45.5,38.0,16.0,29.69911764705882,29.69911764705882,29.0,41.0,45.0,45.0,2.0,24.0,28.0,25.0,36.0,24.0,40.0,29.69911764705882,3.0,42.0,23.0,29.69911764705882,15.0,25.0,29.69911764705882,28.0,22.0,38.0,29.69911764705882,29.69911764705882,40.0,29.0,45.0,35.0,29.69911764705882,30.0,60.0,29.69911764705882,29.69911764705882,24.0,25.0,18.0,19.0,22.0,3.0,29.69911764705882,22.0,27.0,20.0,19.0,42.0,1.0,32.0,35.0,29.69911764705882,18.0,1.0,36.0,29.69911764705882,17.0,36.0,21.0,28.0,23.0,24.0,22.0,31.0,46.0,23.0,28.0,39.0,26.0,21.0,28.0,20.0,34.0,51.0,3.0,21.0,29.69911764705882,29.69911764705882,29.69911764705882,33.0,29.69911764705882,44.0,29.69911764705882,34.0,18.0,30.0,10.0,29.69911764705882,21.0,29.0,28.0,18.0,29.69911764705882,28.0,19.0,29.69911764705882,32.0,28.0,29.69911764705882,42.0,17.0,50.0,14.0,21.0,24.0,64.0,31.0,45.0,20.0,25.0,28.0,29.69911764705882,4.0,13.0,34.0,5.0,52.0,36.0,29.69911764705882,30.0,49.0,29.69911764705882,29.0,65.0,29.69911764705882,50.0,29.69911764705882,48.0,34.0,47.0,48.0,29.69911764705882,38.0,29.69911764705882,56.0,29.69911764705882,0.75,29.69911764705882,38.0,33.0,23.0,22.0,29.69911764705882,34.0,29.0,22.0,2.0,9.0,29.69911764705882,50.0,63.0,25.0,29.69911764705882,35.0,58.0,30.0,9.0,29.69911764705882,21.0,55.0,71.0,21.0,29.69911764705882,54.0,29.69911764705882,25.0,24.0,17.0,21.0,29.69911764705882,37.0,16.0,18.0,33.0,29.69911764705882,28.0,26.0,29.0,29.69911764705882,36.0,54.0,24.0,47.0,34.0,29.69911764705882,36.0,32.0,30.0,22.0,29.69911764705882,44.0,29.69911764705882,40.5,50.0,29.69911764705882,39.0,23.0,2.0,29.69911764705882,17.0,29.69911764705882,30.0,7.0,45.0,30.0,29.69911764705882,22.0,36.0,9.0,11.0,32.0,50.0,64.0,19.0,29.69911764705882,33.0,8.0,17.0,27.0,29.69911764705882,22.0,22.0,62.0,48.0,29.69911764705882,39.0,36.0,29.69911764705882,40.0,28.0,29.69911764705882,29.69911764705882,24.0,19.0,29.0,29.69911764705882,32.0,62.0,53.0,36.0,29.69911764705882,16.0,19.0,34.0,39.0,29.69911764705882,32.0,25.0,39.0,54.0,36.0,29.69911764705882,18.0,47.0,60.0,22.0,29.69911764705882,35.0,52.0,47.0,29.69911764705882,37.0,36.0,29.69911764705882,49.0,29.69911764705882,49.0,24.0,29.69911764705882,29.69911764705882,44.0,35.0,36.0,30.0,27.0,22.0,40.0,39.0,29.69911764705882,29.69911764705882,29.69911764705882,35.0,24.0,34.0,26.0,4.0,26.0,27.0,42.0,20.0,21.0,21.0,61.0,57.0,21.0,26.0,29.69911764705882,80.0,51.0,32.0,29.69911764705882,9.0,28.0,32.0,31.0,41.0,29.69911764705882,20.0,24.0,2.0,29.69911764705882,0.75,48.0,19.0,56.0,29.69911764705882,23.0,29.69911764705882,18.0,21.0,29.69911764705882,18.0,24.0,29.69911764705882,32.0,23.0,58.0,50.0,40.0,47.0,36.0,20.0,32.0,25.0,29.69911764705882,43.0,29.69911764705882,40.0,31.0,70.0,31.0,29.69911764705882,18.0,24.5,18.0,43.0,36.0,29.69911764705882,27.0,20.0,14.0,60.0,25.0,14.0,19.0,18.0,15.0,31.0,4.0,29.69911764705882,25.0,60.0,52.0,44.0,29.69911764705882,49.0,42.0,18.0,35.0,18.0,25.0,26.0,39.0,45.0,42.0,22.0,29.69911764705882,24.0,29.69911764705882,48.0,29.0,52.0,19.0,38.0,27.0,29.69911764705882,33.0,6.0,17.0,34.0,50.0,27.0,20.0,30.0,29.69911764705882,25.0,25.0,29.0,11.0,29.69911764705882,23.0,23.0,28.5,48.0,35.0,29.69911764705882,29.69911764705882,29.69911764705882,36.0,21.0,24.0,31.0,70.0,16.0,30.0,19.0,31.0,4.0,6.0,33.0,23.0,48.0,0.67,28.0,18.0,34.0,33.0,29.69911764705882,41.0,20.0,36.0,16.0,51.0,29.69911764705882,30.5,29.69911764705882,32.0,24.0,48.0,57.0,29.69911764705882,54.0,18.0,29.69911764705882,5.0,29.69911764705882,43.0,13.0,17.0,29.0,29.69911764705882,25.0,25.0,18.0,8.0,1.0,46.0,29.69911764705882,16.0,29.69911764705882,29.69911764705882,25.0,39.0,49.0,31.0,30.0,30.0,34.0,31.0,11.0,0.42,27.0,31.0,39.0,18.0,39.0,33.0,26.0,39.0,35.0,6.0,30.5,29.69911764705882,23.0,31.0,43.0,10.0,52.0,27.0,38.0,27.0,2.0,29.69911764705882,29.69911764705882,1.0,29.69911764705882,62.0,15.0,0.83,29.69911764705882,23.0,18.0,39.0,21.0,29.69911764705882,32.0,29.69911764705882,20.0,16.0,30.0,34.5,17.0,42.0,29.69911764705882,35.0,28.0,29.69911764705882,4.0,74.0,9.0,16.0,44.0,18.0,45.0,51.0,24.0,29.69911764705882,41.0,21.0,48.0,29.69911764705882,24.0,42.0,27.0,31.0,29.69911764705882,4.0,26.0,47.0,33.0,47.0,28.0,15.0,20.0,19.0,29.69911764705882,56.0,25.0,33.0,22.0,28.0,25.0,39.0,27.0,19.0,29.69911764705882,26.0,32.0],\"xaxis\":\"x\",\"y\":[7.25,71.2833,7.925,53.1,8.05,8.4583,51.8625,21.075,11.1333,30.0708,16.7,26.55,8.05,31.275,7.8542,16.0,29.125,13.0,18.0,7.225,26.0,13.0,8.0292,35.5,21.075,31.3875,7.225,263.0,7.8792,7.8958,27.7208,146.5208,7.75,10.5,82.1708,52.0,7.2292,8.05,18.0,11.2417,9.475,21.0,7.8958,41.5792,7.8792,8.05,15.5,7.75,21.6792,17.8,39.6875,7.8,76.7292,26.0,61.9792,35.5,10.5,7.2292,27.75,46.9,7.2292,80.0,83.475,27.9,27.7208,15.2458,10.5,8.1583,7.925,8.6625,10.5,46.9,73.5,14.4542,56.4958,7.65,7.8958,8.05,29.0,12.475,9.0,9.5,7.7875,47.1,10.5,15.85,34.375,8.05,263.0,8.05,8.05,7.8542,61.175,20.575,7.25,8.05,34.6542,63.3583,23.0,26.0,7.8958,7.8958,77.2875,8.6542,7.925,7.8958,7.65,7.775,7.8958,24.15,52.0,14.4542,8.05,9.825,14.4583,7.925,7.75,21.0,247.5208,31.275,73.5,8.05,30.0708,13.0,77.2875,11.2417,7.75,7.1417,22.3583,6.975,7.8958,7.05,14.5,26.0,13.0,15.0458,26.2833,53.1,9.2167,79.2,15.2458,7.75,15.85,6.75,11.5,36.75,7.7958,34.375,26.0,13.0,12.525,66.6,8.05,14.5,7.3125,61.3792,7.7333,8.05,8.6625,69.55,16.1,15.75,7.775,8.6625,39.6875,20.525,55.0,27.9,25.925,56.4958,33.5,29.125,11.1333,7.925,30.6958,7.8542,25.4667,28.7125,13.0,0.0,69.55,15.05,31.3875,39.0,22.025,50.0,15.5,26.55,15.5,7.8958,13.0,13.0,7.8542,26.0,27.7208,146.5208,7.75,8.4042,7.75,13.0,9.5,69.55,6.4958,7.225,8.05,10.4625,15.85,18.7875,7.75,31.0,7.05,21.0,7.25,13.0,7.75,113.275,7.925,27.0,76.2917,10.5,8.05,13.0,8.05,7.8958,90.0,9.35,10.5,7.25,13.0,25.4667,83.475,7.775,13.5,31.3875,10.5,7.55,26.0,26.25,10.5,12.275,14.4542,15.5,10.5,7.125,7.225,90.0,7.775,14.5,52.5542,26.0,7.25,10.4625,26.55,16.1,20.2125,15.2458,79.2,86.5,512.3292,26.0,7.75,31.3875,79.65,0.0,7.75,10.5,39.6875,7.775,153.4625,135.6333,31.0,0.0,19.5,29.7,7.75,77.9583,7.75,0.0,29.125,20.25,7.75,7.8542,9.5,8.05,26.0,8.6625,9.5,7.8958,13.0,7.75,78.85,91.0792,12.875,8.85,7.8958,27.7208,7.2292,151.55,30.5,247.5208,7.75,23.25,0.0,12.35,8.05,151.55,110.8833,108.9,24.0,56.9292,83.1583,262.375,26.0,7.8958,26.25,7.8542,26.0,14.0,164.8667,134.5,7.25,7.8958,12.35,29.0,69.55,135.6333,6.2375,13.0,20.525,57.9792,23.25,28.5,153.4625,18.0,133.65,7.8958,66.6,134.5,8.05,35.5,26.0,263.0,13.0,13.0,13.0,13.0,13.0,16.1,15.9,8.6625,9.225,35.0,7.2292,17.8,7.225,9.5,55.0,13.0,7.8792,7.8792,27.9,27.7208,14.4542,7.05,15.5,7.25,75.25,7.2292,7.75,69.3,55.4417,6.4958,8.05,135.6333,21.075,82.1708,7.25,211.5,4.0125,7.775,227.525,15.7417,7.925,52.0,7.8958,73.5,46.9,13.0,7.7292,12.0,120.0,7.7958,7.925,113.275,16.7,7.7958,7.8542,26.0,10.5,12.65,7.925,8.05,9.825,15.85,8.6625,21.0,7.75,18.75,7.775,25.4667,7.8958,6.8583,90.0,0.0,7.925,8.05,32.5,13.0,13.0,24.15,7.8958,7.7333,7.875,14.4,20.2125,7.25,26.0,26.0,7.75,8.05,26.55,16.1,26.0,7.125,55.9,120.0,34.375,18.75,263.0,10.5,26.25,9.5,7.775,13.0,8.1125,81.8583,19.5,26.55,19.2583,30.5,27.75,19.9667,27.75,89.1042,8.05,7.8958,26.55,51.8625,10.5,7.75,26.55,8.05,38.5,13.0,8.05,7.05,0.0,26.55,7.725,19.2583,7.25,8.6625,27.75,13.7917,9.8375,52.0,21.0,7.0458,7.5208,12.2875,46.9,0.0,8.05,9.5875,91.0792,25.4667,90.0,29.7,8.05,15.9,19.9667,7.25,30.5,49.5042,8.05,14.4583,78.2667,15.1,151.55,7.7958,8.6625,7.75,7.6292,9.5875,86.5,108.9,26.0,26.55,22.525,56.4958,7.75,8.05,26.2875,59.4,7.4958,34.0208,10.5,24.15,26.0,7.8958,93.5,7.8958,7.225,57.9792,7.2292,7.75,10.5,221.7792,7.925,11.5,26.0,7.2292,7.2292,22.3583,8.6625,26.25,26.55,106.425,14.5,49.5,71.0,31.275,31.275,26.0,106.425,26.0,26.0,13.8625,20.525,36.75,110.8833,26.0,7.8292,7.225,7.775,26.55,39.6,227.525,79.65,17.4,7.75,7.8958,13.5,8.05,8.05,24.15,7.8958,21.075,7.2292,7.8542,10.5,51.4792,26.3875,7.75,8.05,14.5,13.0,55.9,14.4583,7.925,30.0,110.8833,26.0,40.125,8.7125,79.65,15.0,79.2,8.05,8.05,7.125,78.2667,7.25,7.75,26.0,24.15,33.0,0.0,7.225,56.9292,27.0,7.8958,42.4,8.05,26.55,15.55,7.8958,30.5,41.5792,153.4625,31.275,7.05,15.5,7.75,8.05,65.0,14.4,16.1,39.0,10.5,14.4542,52.5542,15.7417,7.8542,16.1,32.3208,12.35,77.9583,7.8958,7.7333,30.0,7.0542,30.5,0.0,27.9,13.0,7.925,26.25,39.6875,16.1,7.8542,69.3,27.9,56.4958,19.2583,76.7292,7.8958,35.5,7.55,7.55,7.8958,23.0,8.4333,7.8292,6.75,73.5,7.8958,15.5,13.0,113.275,133.65,7.225,25.5875,7.4958,7.925,73.5,13.0,7.775,8.05,52.0,39.0,52.0,10.5,13.0,0.0,7.775,8.05,9.8417,46.9,512.3292,8.1375,76.7292,9.225,46.9,39.0,41.5792,39.6875,10.1708,7.7958,211.3375,57.0,13.4167,56.4958,7.225,26.55,13.5,8.05,7.7333,110.8833,7.65,227.525,26.2875,14.4542,7.7417,7.8542,26.0,13.5,26.2875,151.55,15.2458,49.5042,26.55,52.0,9.4833,13.0,7.65,227.525,10.5,15.5,7.775,33.0,7.0542,13.0,13.0,53.1,8.6625,21.0,7.7375,26.0,7.925,211.3375,18.7875,0.0,13.0,13.0,16.1,34.375,512.3292,7.8958,7.8958,30.0,78.85,262.375,16.1,7.925,71.0,20.25,13.0,53.1,7.75,23.0,12.475,9.5,7.8958,65.0,14.5,7.7958,11.5,8.05,86.5,14.5,7.125,7.2292,120.0,7.775,77.9583,39.6,7.75,24.15,8.3625,9.5,7.8542,10.5,7.225,23.0,7.75,7.75,12.475,7.7375,211.3375,7.2292,57.0,30.0,23.45,7.05,7.25,7.4958,29.125,20.575,79.2,7.75,26.0,69.55,30.6958,7.8958,13.0,25.9292,8.6833,7.2292,24.15,13.0,26.25,120.0,8.5167,6.975,7.775,0.0,7.775,13.0,53.1,7.8875,24.15,10.5,31.275,8.05,0.0,7.925,37.0042,6.45,27.9,93.5,8.6625,0.0,12.475,39.6875,6.95,56.4958,37.0042,7.75,80.0,14.4542,18.75,7.2292,7.8542,8.3,83.1583,8.6625,8.05,56.4958,29.7,7.925,10.5,31.0,6.4375,8.6625,7.55,69.55,7.8958,33.0,89.1042,31.275,7.775,15.2458,39.4,26.0,9.35,164.8667,26.55,19.2583,7.2292,14.1083,11.5,25.9292,69.55,13.0,13.0,13.8583,50.4958,9.5,11.1333,7.8958,52.5542,5.0,9.0,24.0,7.225,9.8458,7.8958,7.8958,83.1583,26.0,7.8958,10.5167,10.5,7.05,29.125,13.0,30.0,23.45,30.0,7.75],\"yaxis\":\"y\",\"type\":\"scatter\"}],                        {\"template\":{\"data\":{\"bar\":[{\"error_x\":{\"color\":\"#2a3f5f\"},\"error_y\":{\"color\":\"#2a3f5f\"},\"marker\":{\"line\":{\"color\":\"#E5ECF6\",\"width\":0.5},\"pattern\":{\"fillmode\":\"overlay\",\"size\":10,\"solidity\":0.2}},\"type\":\"bar\"}],\"barpolar\":[{\"marker\":{\"line\":{\"color\":\"#E5ECF6\",\"width\":0.5},\"pattern\":{\"fillmode\":\"overlay\",\"size\":10,\"solidity\":0.2}},\"type\":\"barpolar\"}],\"carpet\":[{\"aaxis\":{\"endlinecolor\":\"#2a3f5f\",\"gridcolor\":\"white\",\"linecolor\":\"white\",\"minorgridcolor\":\"white\",\"startlinecolor\":\"#2a3f5f\"},\"baxis\":{\"endlinecolor\":\"#2a3f5f\",\"gridcolor\":\"white\",\"linecolor\":\"white\",\"minorgridcolor\":\"white\",\"startlinecolor\":\"#2a3f5f\"},\"type\":\"carpet\"}],\"choropleth\":[{\"colorbar\":{\"outlinewidth\":0,\"ticks\":\"\"},\"type\":\"choropleth\"}],\"contour\":[{\"colorbar\":{\"outlinewidth\":0,\"ticks\":\"\"},\"colorscale\":[[0.0,\"#0d0887\"],[0.1111111111111111,\"#46039f\"],[0.2222222222222222,\"#7201a8\"],[0.3333333333333333,\"#9c179e\"],[0.4444444444444444,\"#bd3786\"],[0.5555555555555556,\"#d8576b\"],[0.6666666666666666,\"#ed7953\"],[0.7777777777777778,\"#fb9f3a\"],[0.8888888888888888,\"#fdca26\"],[1.0,\"#f0f921\"]],\"type\":\"contour\"}],\"contourcarpet\":[{\"colorbar\":{\"outlinewidth\":0,\"ticks\":\"\"},\"type\":\"contourcarpet\"}],\"heatmap\":[{\"colorbar\":{\"outlinewidth\":0,\"ticks\":\"\"},\"colorscale\":[[0.0,\"#0d0887\"],[0.1111111111111111,\"#46039f\"],[0.2222222222222222,\"#7201a8\"],[0.3333333333333333,\"#9c179e\"],[0.4444444444444444,\"#bd3786\"],[0.5555555555555556,\"#d8576b\"],[0.6666666666666666,\"#ed7953\"],[0.7777777777777778,\"#fb9f3a\"],[0.8888888888888888,\"#fdca26\"],[1.0,\"#f0f921\"]],\"type\":\"heatmap\"}],\"heatmapgl\":[{\"colorbar\":{\"outlinewidth\":0,\"ticks\":\"\"},\"colorscale\":[[0.0,\"#0d0887\"],[0.1111111111111111,\"#46039f\"],[0.2222222222222222,\"#7201a8\"],[0.3333333333333333,\"#9c179e\"],[0.4444444444444444,\"#bd3786\"],[0.5555555555555556,\"#d8576b\"],[0.6666666666666666,\"#ed7953\"],[0.7777777777777778,\"#fb9f3a\"],[0.8888888888888888,\"#fdca26\"],[1.0,\"#f0f921\"]],\"type\":\"heatmapgl\"}],\"histogram\":[{\"marker\":{\"pattern\":{\"fillmode\":\"overlay\",\"size\":10,\"solidity\":0.2}},\"type\":\"histogram\"}],\"histogram2d\":[{\"colorbar\":{\"outlinewidth\":0,\"ticks\":\"\"},\"colorscale\":[[0.0,\"#0d0887\"],[0.1111111111111111,\"#46039f\"],[0.2222222222222222,\"#7201a8\"],[0.3333333333333333,\"#9c179e\"],[0.4444444444444444,\"#bd3786\"],[0.5555555555555556,\"#d8576b\"],[0.6666666666666666,\"#ed7953\"],[0.7777777777777778,\"#fb9f3a\"],[0.8888888888888888,\"#fdca26\"],[1.0,\"#f0f921\"]],\"type\":\"histogram2d\"}],\"histogram2dcontour\":[{\"colorbar\":{\"outlinewidth\":0,\"ticks\":\"\"},\"colorscale\":[[0.0,\"#0d0887\"],[0.1111111111111111,\"#46039f\"],[0.2222222222222222,\"#7201a8\"],[0.3333333333333333,\"#9c179e\"],[0.4444444444444444,\"#bd3786\"],[0.5555555555555556,\"#d8576b\"],[0.6666666666666666,\"#ed7953\"],[0.7777777777777778,\"#fb9f3a\"],[0.8888888888888888,\"#fdca26\"],[1.0,\"#f0f921\"]],\"type\":\"histogram2dcontour\"}],\"mesh3d\":[{\"colorbar\":{\"outlinewidth\":0,\"ticks\":\"\"},\"type\":\"mesh3d\"}],\"parcoords\":[{\"line\":{\"colorbar\":{\"outlinewidth\":0,\"ticks\":\"\"}},\"type\":\"parcoords\"}],\"pie\":[{\"automargin\":true,\"type\":\"pie\"}],\"scatter\":[{\"marker\":{\"colorbar\":{\"outlinewidth\":0,\"ticks\":\"\"}},\"type\":\"scatter\"}],\"scatter3d\":[{\"line\":{\"colorbar\":{\"outlinewidth\":0,\"ticks\":\"\"}},\"marker\":{\"colorbar\":{\"outlinewidth\":0,\"ticks\":\"\"}},\"type\":\"scatter3d\"}],\"scattercarpet\":[{\"marker\":{\"colorbar\":{\"outlinewidth\":0,\"ticks\":\"\"}},\"type\":\"scattercarpet\"}],\"scattergeo\":[{\"marker\":{\"colorbar\":{\"outlinewidth\":0,\"ticks\":\"\"}},\"type\":\"scattergeo\"}],\"scattergl\":[{\"marker\":{\"colorbar\":{\"outlinewidth\":0,\"ticks\":\"\"}},\"type\":\"scattergl\"}],\"scattermapbox\":[{\"marker\":{\"colorbar\":{\"outlinewidth\":0,\"ticks\":\"\"}},\"type\":\"scattermapbox\"}],\"scatterpolar\":[{\"marker\":{\"colorbar\":{\"outlinewidth\":0,\"ticks\":\"\"}},\"type\":\"scatterpolar\"}],\"scatterpolargl\":[{\"marker\":{\"colorbar\":{\"outlinewidth\":0,\"ticks\":\"\"}},\"type\":\"scatterpolargl\"}],\"scatterternary\":[{\"marker\":{\"colorbar\":{\"outlinewidth\":0,\"ticks\":\"\"}},\"type\":\"scatterternary\"}],\"surface\":[{\"colorbar\":{\"outlinewidth\":0,\"ticks\":\"\"},\"colorscale\":[[0.0,\"#0d0887\"],[0.1111111111111111,\"#46039f\"],[0.2222222222222222,\"#7201a8\"],[0.3333333333333333,\"#9c179e\"],[0.4444444444444444,\"#bd3786\"],[0.5555555555555556,\"#d8576b\"],[0.6666666666666666,\"#ed7953\"],[0.7777777777777778,\"#fb9f3a\"],[0.8888888888888888,\"#fdca26\"],[1.0,\"#f0f921\"]],\"type\":\"surface\"}],\"table\":[{\"cells\":{\"fill\":{\"color\":\"#EBF0F8\"},\"line\":{\"color\":\"white\"}},\"header\":{\"fill\":{\"color\":\"#C8D4E3\"},\"line\":{\"color\":\"white\"}},\"type\":\"table\"}]},\"layout\":{\"annotationdefaults\":{\"arrowcolor\":\"#2a3f5f\",\"arrowhead\":0,\"arrowwidth\":1},\"autotypenumbers\":\"strict\",\"coloraxis\":{\"colorbar\":{\"outlinewidth\":0,\"ticks\":\"\"}},\"colorscale\":{\"diverging\":[[0,\"#8e0152\"],[0.1,\"#c51b7d\"],[0.2,\"#de77ae\"],[0.3,\"#f1b6da\"],[0.4,\"#fde0ef\"],[0.5,\"#f7f7f7\"],[0.6,\"#e6f5d0\"],[0.7,\"#b8e186\"],[0.8,\"#7fbc41\"],[0.9,\"#4d9221\"],[1,\"#276419\"]],\"sequential\":[[0.0,\"#0d0887\"],[0.1111111111111111,\"#46039f\"],[0.2222222222222222,\"#7201a8\"],[0.3333333333333333,\"#9c179e\"],[0.4444444444444444,\"#bd3786\"],[0.5555555555555556,\"#d8576b\"],[0.6666666666666666,\"#ed7953\"],[0.7777777777777778,\"#fb9f3a\"],[0.8888888888888888,\"#fdca26\"],[1.0,\"#f0f921\"]],\"sequentialminus\":[[0.0,\"#0d0887\"],[0.1111111111111111,\"#46039f\"],[0.2222222222222222,\"#7201a8\"],[0.3333333333333333,\"#9c179e\"],[0.4444444444444444,\"#bd3786\"],[0.5555555555555556,\"#d8576b\"],[0.6666666666666666,\"#ed7953\"],[0.7777777777777778,\"#fb9f3a\"],[0.8888888888888888,\"#fdca26\"],[1.0,\"#f0f921\"]]},\"colorway\":[\"#636efa\",\"#EF553B\",\"#00cc96\",\"#ab63fa\",\"#FFA15A\",\"#19d3f3\",\"#FF6692\",\"#B6E880\",\"#FF97FF\",\"#FECB52\"],\"font\":{\"color\":\"#2a3f5f\"},\"geo\":{\"bgcolor\":\"white\",\"lakecolor\":\"white\",\"landcolor\":\"#E5ECF6\",\"showlakes\":true,\"showland\":true,\"subunitcolor\":\"white\"},\"hoverlabel\":{\"align\":\"left\"},\"hovermode\":\"closest\",\"mapbox\":{\"style\":\"light\"},\"paper_bgcolor\":\"white\",\"plot_bgcolor\":\"#E5ECF6\",\"polar\":{\"angularaxis\":{\"gridcolor\":\"white\",\"linecolor\":\"white\",\"ticks\":\"\"},\"bgcolor\":\"#E5ECF6\",\"radialaxis\":{\"gridcolor\":\"white\",\"linecolor\":\"white\",\"ticks\":\"\"}},\"scene\":{\"xaxis\":{\"backgroundcolor\":\"#E5ECF6\",\"gridcolor\":\"white\",\"gridwidth\":2,\"linecolor\":\"white\",\"showbackground\":true,\"ticks\":\"\",\"zerolinecolor\":\"white\"},\"yaxis\":{\"backgroundcolor\":\"#E5ECF6\",\"gridcolor\":\"white\",\"gridwidth\":2,\"linecolor\":\"white\",\"showbackground\":true,\"ticks\":\"\",\"zerolinecolor\":\"white\"},\"zaxis\":{\"backgroundcolor\":\"#E5ECF6\",\"gridcolor\":\"white\",\"gridwidth\":2,\"linecolor\":\"white\",\"showbackground\":true,\"ticks\":\"\",\"zerolinecolor\":\"white\"}},\"shapedefaults\":{\"line\":{\"color\":\"#2a3f5f\"}},\"ternary\":{\"aaxis\":{\"gridcolor\":\"white\",\"linecolor\":\"white\",\"ticks\":\"\"},\"baxis\":{\"gridcolor\":\"white\",\"linecolor\":\"white\",\"ticks\":\"\"},\"bgcolor\":\"#E5ECF6\",\"caxis\":{\"gridcolor\":\"white\",\"linecolor\":\"white\",\"ticks\":\"\"}},\"title\":{\"x\":0.05},\"xaxis\":{\"automargin\":true,\"gridcolor\":\"white\",\"linecolor\":\"white\",\"ticks\":\"\",\"title\":{\"standoff\":15},\"zerolinecolor\":\"white\",\"zerolinewidth\":2},\"yaxis\":{\"automargin\":true,\"gridcolor\":\"white\",\"linecolor\":\"white\",\"ticks\":\"\",\"title\":{\"standoff\":15},\"zerolinecolor\":\"white\",\"zerolinewidth\":2}}},\"xaxis\":{\"anchor\":\"y\",\"domain\":[0.0,1.0],\"title\":{\"text\":\"Age\"}},\"yaxis\":{\"anchor\":\"x\",\"domain\":[0.0,1.0],\"title\":{\"text\":\"Fare\"}},\"coloraxis\":{\"colorbar\":{\"title\":{\"text\":\"Survived\"}},\"colorscale\":[[0.0,\"#0d0887\"],[0.1111111111111111,\"#46039f\"],[0.2222222222222222,\"#7201a8\"],[0.3333333333333333,\"#9c179e\"],[0.4444444444444444,\"#bd3786\"],[0.5555555555555556,\"#d8576b\"],[0.6666666666666666,\"#ed7953\"],[0.7777777777777778,\"#fb9f3a\"],[0.8888888888888888,\"#fdca26\"],[1.0,\"#f0f921\"]]},\"legend\":{\"tracegroupgap\":0,\"itemsizing\":\"constant\"},\"margin\":{\"t\":60}},                        {\"responsive\": true}                    ).then(function(){\n",
       "                            \n",
       "var gd = document.getElementById('ebfac06e-c108-457c-ac1c-63d46b2dd008');\n",
       "var x = new MutationObserver(function (mutations, observer) {{\n",
       "        var display = window.getComputedStyle(gd).display;\n",
       "        if (!display || display === 'none') {{\n",
       "            console.log([gd, 'removed!']);\n",
       "            Plotly.purge(gd);\n",
       "            observer.disconnect();\n",
       "        }}\n",
       "}});\n",
       "\n",
       "// Listen for the removal of the full notebook cells\n",
       "var notebookContainer = gd.closest('#notebook-container');\n",
       "if (notebookContainer) {{\n",
       "    x.observe(notebookContainer, {childList: true});\n",
       "}}\n",
       "\n",
       "// Listen for the clearing of the current output cell\n",
       "var outputEl = gd.closest('.output');\n",
       "if (outputEl) {{\n",
       "    x.observe(outputEl, {childList: true});\n",
       "}}\n",
       "\n",
       "                        })                };                });            </script>        </div>"
      ]
     },
     "metadata": {},
     "output_type": "display_data"
    }
   ],
   "source": [
    "fig = px.scatter(df, x=\"Age\", y=\"Fare\", color=\"Survived\",\n",
    "                 size='Pclass', hover_data=['Name'])\n",
    "fig.show()"
   ]
  },
  {
   "cell_type": "code",
   "execution_count": null,
   "id": "9be295f3",
   "metadata": {},
   "outputs": [],
   "source": []
  }
 ],
 "metadata": {
  "kernelspec": {
   "display_name": "Python 3 (ipykernel)",
   "language": "python",
   "name": "python3"
  },
  "language_info": {
   "codemirror_mode": {
    "name": "ipython",
    "version": 3
   },
   "file_extension": ".py",
   "mimetype": "text/x-python",
   "name": "python",
   "nbconvert_exporter": "python",
   "pygments_lexer": "ipython3",
   "version": "3.9.12"
  }
 },
 "nbformat": 4,
 "nbformat_minor": 5
}
